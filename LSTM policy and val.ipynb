{
 "cells": [
  {
   "cell_type": "code",
   "execution_count": 1,
   "metadata": {},
   "outputs": [],
   "source": [
    "import tensorflow as tf\n",
    "import numpy as np"
   ]
  },
  {
   "cell_type": "code",
   "execution_count": 2,
   "metadata": {},
   "outputs": [],
   "source": [
    "from sklearn.model_selection import train_test_split\n",
    "from matplotlib import pyplot as plt\n",
    "from sklearn.utils import shuffle"
   ]
  },
  {
   "cell_type": "code",
   "execution_count": 3,
   "metadata": {},
   "outputs": [],
   "source": [
    "def pad_and_concat(sequences):  # sequences shape: [batch_size, len, dims...] -> ([batch_size, maxlen, dims...], [len])\n",
    "    arrays = [np.asarray(seq) for seq in sequences]\n",
    "    lengths = np.asarray([array.shape[0] for array in arrays], dtype=np.int32)\n",
    "    maxlen = np.max(lengths)\n",
    "    arrays = [np.pad(array, [(0, maxlen - array.shape[0]), (0, 0)], 'constant', constant_values=0) for array in arrays]\n",
    "    return np.asarray(arrays), lengths\n",
    "    "
   ]
  },
  {
   "cell_type": "code",
   "execution_count": 4,
   "metadata": {},
   "outputs": [],
   "source": [
    "SAMPLE = 10000\n",
    "VARIABLE_NUM = 4\n",
    "EMBEDDING_SIZE = 8\n",
    "CLAUSE_SIZE = 3\n",
    "CLAUSE_NUM = 30\n",
    "LSTM_STATE_SIZE = 8\n",
    "batch_size = 6\n",
    "POLICY_LOSS_WEIGHT = 1\n",
    "SAT_LOSS_WEIGHT = 1"
   ]
  },
  {
   "cell_type": "code",
   "execution_count": 5,
   "metadata": {},
   "outputs": [],
   "source": [
    "def assert_shape(matrix, shape: list):\n",
    "    act_shape = matrix.get_shape().as_list()\n",
    "    assert act_shape == shape, \"got shape {}, expected {}\".format(act_shape, shape)"
   ]
  },
  {
   "cell_type": "code",
   "execution_count": 6,
   "metadata": {
    "scrolled": false
   },
   "outputs": [],
   "source": [
    "class Graph:\n",
    "    def __init__(self):\n",
    "        self.inputs = tf.placeholder(tf.int32, shape=(batch_size, None, CLAUSE_SIZE), name='inputs')\n",
    "        self.lengths = tf.placeholder(tf.int32, shape=(batch_size,), name='lengths')\n",
    "        self.policy_labels = tf.placeholder(tf.float32, shape=(batch_size, VARIABLE_NUM*2), name='policy_labels')\n",
    "        self.sat_labels = tf.placeholder(tf.float32, shape=(batch_size,), name='sat_labels')\n",
    "        \n",
    "        vars_ = tf.abs(self.inputs)\n",
    "        signs = tf.cast(tf.sign(self.inputs), tf.float32)  # shape: [batch_size, None, CLAUSE_SIZE]\n",
    "\n",
    "        embeddings = tf.Variable(tf.random_uniform([VARIABLE_NUM + 1, EMBEDDING_SIZE], -1., 1), name='embeddings')\n",
    "\n",
    "        var_embeddings = tf.nn.embedding_lookup(embeddings, vars_)\n",
    "        # var_embeddings shape: [None, None, CLAUSE_SIZE, EMBEDDING_SIZE]\n",
    "        \n",
    "        clause_preembeddings = tf.concat(\n",
    "            [tf.reshape(var_embeddings, [batch_size, -1, CLAUSE_SIZE * EMBEDDING_SIZE]), \n",
    "             signs],\n",
    "            axis=2)\n",
    "        \n",
    "        PREEMBEDDING_SIZE = EMBEDDING_SIZE * CLAUSE_SIZE + CLAUSE_SIZE\n",
    "        assert_shape(clause_preembeddings, \n",
    "                     [batch_size, None, PREEMBEDDING_SIZE])\n",
    "        \n",
    "        clause_w = tf.Variable(tf.random_normal(\n",
    "            [PREEMBEDDING_SIZE, EMBEDDING_SIZE]), name='clause_w')\n",
    "        clause_b = tf.Variable(tf.random_normal([EMBEDDING_SIZE]), name='clause_b')\n",
    "        clause_embeddings = tf.reshape(tf.sigmoid(\n",
    "            tf.reshape(clause_preembeddings, [-1, PREEMBEDDING_SIZE]) @ clause_w + clause_b), \n",
    "                                       [batch_size, -1, EMBEDDING_SIZE])\n",
    "        # shape: [None, None, EMBEDDING_SIZE]\n",
    "        \n",
    "        lstm = tf.contrib.rnn.BasicLSTMCell(LSTM_STATE_SIZE)\n",
    "        hidden_state = tf.zeros([batch_size, LSTM_STATE_SIZE])\n",
    "        current_state = tf.zeros([batch_size, LSTM_STATE_SIZE])\n",
    "        state = hidden_state, current_state\n",
    "        \n",
    "        _, lstm_final_state = tf.nn.dynamic_rnn(lstm, clause_embeddings, dtype=tf.float32, \n",
    "                                               sequence_length=self.lengths\n",
    "                                               )\n",
    "        formula_embedding = lstm_final_state.h\n",
    "            \n",
    "        assert_shape(formula_embedding, [batch_size, LSTM_STATE_SIZE])\n",
    "            \n",
    "        softmax_w = tf.Variable(tf.random_normal([LSTM_STATE_SIZE, VARIABLE_NUM*2]), name='softmax_w')\n",
    "        softmax_b = tf.Variable(tf.random_normal([VARIABLE_NUM*2]), name='softmax_b')\n",
    "        \n",
    "        sat_w = tf.Variable(tf.random_normal([LSTM_STATE_SIZE, 1]), name='sat_w')\n",
    "        sat_b = tf.Variable(tf.random_normal([1]), 'sat_b')\n",
    "        \n",
    "        self.policy_logits = formula_embedding @ softmax_w + softmax_b\n",
    "        \n",
    "        self.sat_logits = tf.squeeze(formula_embedding @ (sat_w), axis=1) + sat_b\n",
    "        \n",
    "        # zero out policy for test when UNSAT\n",
    "        # requires sat_labels to be provided, so needs to be a separate tensor in order \n",
    "        # for inference to work\n",
    "        self.policy_logits_for_test = tf.expand_dims(self.sat_labels, axis=1) * self.policy_logits\n",
    "        \n",
    "        self.policy_loss = tf.losses.sigmoid_cross_entropy(\n",
    "            self.policy_labels, self.policy_logits_for_test) \n",
    "        self.policy_probabilities = tf.sigmoid(self.policy_logits)\n",
    "        \n",
    "        self.sat_loss = tf.losses.sigmoid_cross_entropy(self.sat_labels, self.sat_logits)\n",
    "        self.sat_probabilities = tf.sigmoid(self.sat_logits)\n",
    "        \n",
    "        self.policy_error = tf.reduce_mean(tf.abs(\n",
    "            tf.round(self.policy_probabilities) - self.policy_labels))\n",
    "        self.sat_error = tf.reduce_mean(tf.abs(\n",
    "            tf.round(self.sat_probabilities) - self.sat_labels))\n",
    "        \n",
    "        self.loss = SAT_LOSS_WEIGHT * self.sat_loss + POLICY_LOSS_WEIGHT * self.policy_loss\n",
    "        \n",
    "        tf.summary.scalar(\"loss\", self.loss)\n",
    "        tf.summary.scalar(\"policy_loss\", self.policy_loss)\n",
    "        tf.summary.scalar(\"policy_error\", self.policy_error)\n",
    "        tf.summary.scalar(\"sat_loss\", self.sat_loss)\n",
    "        tf.summary.scalar(\"sat_error\", self.sat_error)\n",
    "\n",
    "tf.reset_default_graph()\n",
    "model = Graph()"
   ]
  },
  {
   "cell_type": "code",
   "execution_count": 20,
   "metadata": {},
   "outputs": [
    {
     "name": "stdout",
     "output_type": "stream",
     "text": [
      "(5, 8)\n",
      "2\n",
      "5\n",
      "8\n",
      "40\n",
      "(27, 8)\n",
      "2\n",
      "27\n",
      "8\n",
      "216\n",
      "(8,)\n",
      "1\n",
      "8\n",
      "8\n",
      "(16, 32)\n",
      "2\n",
      "16\n",
      "32\n",
      "512\n",
      "(32,)\n",
      "1\n",
      "32\n",
      "32\n",
      "(8, 8)\n",
      "2\n",
      "8\n",
      "8\n",
      "64\n",
      "(8,)\n",
      "1\n",
      "8\n",
      "8\n",
      "(8, 1)\n",
      "2\n",
      "8\n",
      "1\n",
      "8\n",
      "(1,)\n",
      "1\n",
      "1\n",
      "1\n",
      "889\n"
     ]
    }
   ],
   "source": [
    "total_parameters = 0\n",
    "for variable in tf.trainable_variables():\n",
    "    # shape is an array of tf.Dimension\n",
    "    shape = variable.get_shape()\n",
    "    print(shape)\n",
    "    print(len(shape))\n",
    "    variable_parameters = 1\n",
    "    for dim in shape:\n",
    "        print(dim)\n",
    "        variable_parameters *= dim.value\n",
    "    print(variable_parameters)\n",
    "    total_parameters += variable_parameters\n",
    "print(total_parameters)\n"
   ]
  },
  {
   "cell_type": "code",
   "execution_count": 7,
   "metadata": {},
   "outputs": [],
   "source": [
    "np.set_printoptions(precision=2, suppress=True)"
   ]
  },
  {
   "cell_type": "code",
   "execution_count": 8,
   "metadata": {},
   "outputs": [],
   "source": [
    "from cnf import get_random_kcnfs"
   ]
  },
  {
   "cell_type": "code",
   "execution_count": 9,
   "metadata": {},
   "outputs": [],
   "source": [
    "def sat_array():\n",
    "    for k in range(1, 6):\n",
    "        for var_num in range(2, 5):\n",
    "            for clause_num in range(3, 10):\n",
    "                sat = {True: 0, False: 0}\n",
    "                for _ in range(100):\n",
    "                    sat[cnf.get_random_kcnf(k, var_num, clause_num).satisfiable()] += 1\n",
    "                print(k, var_num, clause_num, sat)\n",
    "# sat_array()"
   ]
  },
  {
   "cell_type": "code",
   "execution_count": 10,
   "metadata": {},
   "outputs": [
    {
     "name": "stdout",
     "output_type": "stream",
     "text": [
      "info: 200 3 4 30\n"
     ]
    },
    {
     "data": {
      "image/png": "[encoded data removed]",
      "text/plain": [
       "<Figure size 432x288 with 1 Axes>"
      ]
     },
     "metadata": {},
     "output_type": "display_data"
    }
   ],
   "source": [
    "print(\"info:\", SAMPLE, CLAUSE_SIZE, VARIABLE_NUM, CLAUSE_NUM)\n",
    "\n",
    "cnfs = get_random_kcnfs(SAMPLE, CLAUSE_SIZE, VARIABLE_NUM, CLAUSE_NUM, min_clause_number=3)\n",
    "plt.title(\"original cnfs: {}\".format(len(cnfs)))\n",
    "plt.hist([len(cnf.clauses) for cnf in cnfs], bins=range(CLAUSE_NUM+2))\n",
    "plt.xlabel(\"num of clauses\")\n",
    "plt.show()\n",
    "sat_labels = [cnf.satisfiable() for cnf in cnfs]\n",
    "# plt.title(\"sat cnfs: {}\".format(len(cnfs)))\n",
    "# plt.hist([len(cnf.clauses) for cnf in cnfs], bins=range(CLAUSE_NUM+2))\n",
    "# plt.xlabel(\"num of clauses\")\n",
    "# plt.show()\n",
    "# print(\"#samples:\", len(cnfs))\n",
    "# assert len(cnfs) * 2 > SAMPLE"
   ]
  },
  {
   "cell_type": "code",
   "execution_count": 11,
   "metadata": {
    "scrolled": false
   },
   "outputs": [
    {
     "name": "stdout",
     "output_type": "stream",
     "text": [
      "SAT/UNSAT steps: 813.0 / 787.0\n",
      "labels generated\n"
     ]
    }
   ],
   "source": [
    "labels = []\n",
    "for cnf, is_satisfiable in zip(cnfs, sat_labels):\n",
    "    if is_satisfiable:\n",
    "        correct_steps = cnf.get_correct_steps()\n",
    "        label = []\n",
    "        # for every variable, for true, then for false\n",
    "        for v in range(1, VARIABLE_NUM+1):\n",
    "            for sv in [v, -v]:\n",
    "                result = 1.0 if sv in correct_steps else 0.0\n",
    "                label.append(result)\n",
    "        labels.append(label)\n",
    "    else:\n",
    "        labels.append([0 for _ in range(VARIABLE_NUM * 2)])\n",
    "        \n",
    "assert all(len(label) == 2*VARIABLE_NUM for label in labels)\n",
    "sat_steps = sum(sum(label) for label in labels)\n",
    "unsat_steps = len(cnfs)*2*VARIABLE_NUM - sat_steps\n",
    "print(\"SAT/UNSAT steps: {} / {}\".format(sat_steps, unsat_steps))\n",
    "assert unsat_steps * 4 > sat_steps\n",
    "print(\"labels generated\")"
   ]
  },
  {
   "cell_type": "code",
   "execution_count": 12,
   "metadata": {},
   "outputs": [
    {
     "name": "stdout",
     "output_type": "stream",
     "text": [
      "200\n",
      "200\n",
      "200\n"
     ]
    }
   ],
   "source": [
    "print(len(cnfs))\n",
    "print(len(labels))\n",
    "print(len(sat_labels))"
   ]
  },
  {
   "cell_type": "code",
   "execution_count": 13,
   "metadata": {},
   "outputs": [
    {
     "name": "stdout",
     "output_type": "stream",
     "text": [
      "[True, True, True, True, True, False, True, True, False, True, True, True, True, True, True, False, False, False, False, False, True, False, True, False, True, True, True, True, False, True, True, True, True, False, False, True, True, False, False, True, False, True, True, True, True, False, True, True, True, True, False, True, True, True, False, True, True, True, True, True, True, False, True, False, True, False, True, False, True, True, True, True, True, True, False, True, True, False, True, True, True, False, True, False, True, True, True, False, False, True, False, True, True, False, True, True, True, True, True, False, True, False, False, True, True, False, False, True, False, True, True, True, True, False, False, False, True, True, True, True, False, True, True, True, False, False, True, True, True, True, True, True, True, False, True, True, True, True, True, True, True, True, False, False, False, True, False, False, True, True, True, True, True, True, True, True, True, False, False, True, True, True, True, False, True, False, True, True, False, True, True, False, True, True, True, True, True, False, True, False, True, True, False, False, True, True, True, True, False, True, True, True, False, False, False, True, False, False, True, True]\n"
     ]
    }
   ],
   "source": [
    "print(sat_labels)"
   ]
  },
  {
   "cell_type": "code",
   "execution_count": 14,
   "metadata": {},
   "outputs": [
    {
     "data": {
      "image/png": "[encoded data removed]",
      "text/plain": [
       "<Figure size 432x288 with 1 Axes>"
      ]
     },
     "metadata": {},
     "output_type": "display_data"
    }
   ],
   "source": [
    "plt.title(\"num of clauses vs %correct steps\")\n",
    "plt.scatter([len(cnf.clauses) for cnf in cnfs], [sum(label)/2./VARIABLE_NUM for label in labels], alpha=0.5)\n",
    "plt.xlabel(\"num of clauses\")\n",
    "plt.ylabel(\"percent of correct steps\")\n",
    "plt.show()"
   ]
  },
  {
   "cell_type": "code",
   "execution_count": 15,
   "metadata": {},
   "outputs": [],
   "source": [
    "cnfs_train, cnfs_test, labels_train, labels_test, sat_labels_train, sat_labels_test = train_test_split(cnfs, labels, sat_labels)"
   ]
  },
  {
   "cell_type": "code",
   "execution_count": 16,
   "metadata": {},
   "outputs": [],
   "source": [
    "def chunks(lists, chunk_size):\n",
    "    return [[it[i:i + chunk_size] for it in lists] for i in range(0, len(lists[0]), chunk_size)]"
   ]
  },
  {
   "cell_type": "code",
   "execution_count": 19,
   "metadata": {},
   "outputs": [
    {
     "name": "stdout",
     "output_type": "stream",
     "text": [
      "Epoch 0\n",
      "Epoch 1\n",
      "Epoch 2\n",
      "Epoch 3\n",
      "Epoch 4\n",
      "Epoch 5\n",
      "Epoch 6\n",
      "Epoch 7\n",
      "Epoch 8\n",
      "Epoch 9\n",
      "Epoch 10\n",
      "Epoch 11\n",
      "Epoch 12\n",
      "Epoch 13\n",
      "Epoch 14\n",
      "Epoch 15\n",
      "Epoch 16\n",
      "Epoch 17\n",
      "Epoch 18\n",
      "Epoch 19\n",
      "Epoch 20\n",
      "Epoch 21\n",
      "Epoch 22\n",
      "Epoch 23\n",
      "Epoch 24\n",
      "Epoch 25\n",
      "Epoch 26\n",
      "Epoch 27\n",
      "Epoch 28\n",
      "Epoch 29\n",
      "Epoch 30\n",
      "Epoch 31\n",
      "Epoch 32\n",
      "Epoch 33\n",
      "Epoch 34\n",
      "Epoch 35\n",
      "Epoch 36\n",
      "Epoch 37\n",
      "Epoch 38\n",
      "Epoch 39\n",
      "Epoch 40\n",
      "Epoch 41\n",
      "Epoch 42\n",
      "Epoch 43\n",
      "Epoch 44\n",
      "Epoch 45\n",
      "Epoch 46\n",
      "Epoch 47\n",
      "Epoch 48\n",
      "Epoch 49\n",
      "Epoch 50\n",
      "Epoch 51\n",
      "Epoch 52\n",
      "Epoch 53\n",
      "Epoch 54\n",
      "Epoch 55\n",
      "Epoch 56\n",
      "Epoch 57\n",
      "Epoch 58\n",
      "Epoch 59\n",
      "Epoch 60\n",
      "Epoch 61\n",
      "Epoch 62\n",
      "Epoch 63\n",
      "Epoch 64\n",
      "Epoch 65\n",
      "Epoch 66\n",
      "Epoch 67\n",
      "Epoch 68\n",
      "Epoch 69\n",
      "Epoch 70\n",
      "Epoch 71\n",
      "Epoch 72\n",
      "Epoch 73\n",
      "Epoch 74\n",
      "Epoch 75\n",
      "Epoch 76\n",
      "Epoch 77\n",
      "Epoch 78\n",
      "Epoch 79\n",
      "Epoch 80\n",
      "Epoch 81\n",
      "Epoch 82\n",
      "Epoch 83\n",
      "Epoch 84\n",
      "Epoch 85\n",
      "Epoch 86\n",
      "Epoch 87\n",
      "Epoch 88\n",
      "Epoch 89\n",
      "Epoch 90\n",
      "Epoch 91\n",
      "Epoch 92\n",
      "Epoch 93\n",
      "Epoch 94\n",
      "Epoch 95\n",
      "Epoch 96\n",
      "Epoch 97\n",
      "Epoch 98\n",
      "Epoch 99\n"
     ]
    }
   ],
   "source": [
    "import datetime\n",
    "merged_summaries = tf.summary.merge_all()\n",
    "\n",
    "SUMMARY_DIR = \"summaries\"\n",
    "MODEL_NAME = \"policyandval\"\n",
    "DATESTR = datetime.datetime.now().strftime(\"%y-%m-%d-%H%M%S\")\n",
    "SUMMARY_PREFIX = SUMMARY_DIR + \"/\" + MODEL_NAME + \"-\" + DATESTR\n",
    "train_writer = tf.summary.FileWriter(SUMMARY_PREFIX + \"-train\")\n",
    "test_writer = tf.summary.FileWriter(SUMMARY_PREFIX + \"-test\")\n",
    "\n",
    "NAME = \"{} {}-SATs with {} vars and {} clauses\".format(len(cnfs), CLAUSE_SIZE, VARIABLE_NUM, CLAUSE_NUM)\n",
    "\n",
    "with tf.Session() as sess:\n",
    "    train_op = tf.train.AdamOptimizer(learning_rate=0.01).minimize(model.loss)\n",
    "    sess.run(tf.global_variables_initializer())\n",
    "    \n",
    "    EPOCHS = 100\n",
    "    global_step = 0\n",
    "    for epoch_num in range(EPOCHS):\n",
    "        print(\"Epoch\", epoch_num)\n",
    "        losses = []\n",
    "        accs = []\n",
    "        test_losses = []\n",
    "        test_accs = []\n",
    "        cnfs_train, labels_train, sat_labels_train = shuffle(cnfs_train, labels_train, sat_labels_train)\n",
    "        for (batch_cnfs, batch_labels, batch_sat_labels) in chunks(\n",
    "                (cnfs_train, labels_train, sat_labels_train), batch_size):\n",
    "            if len(batch_cnfs) < batch_size:\n",
    "                continue\n",
    "            inputs, lengths = pad_and_concat([cnf.clauses for cnf in batch_cnfs])\n",
    "            summary, _, loss, probs = sess.run([merged_summaries, train_op, model.loss, model.policy_probabilities], feed_dict={\n",
    "                model.inputs: inputs,\n",
    "                model.policy_labels: batch_labels,\n",
    "                model.lengths: lengths,\n",
    "                model.sat_labels: batch_sat_labels\n",
    "            })\n",
    "            train_writer.add_summary(summary, global_step)\n",
    "            \n",
    "            global_step += 1\n",
    "\n",
    "        \n",
    "        for (batch_cnfs, batch_labels, batch_sat_labels) in chunks(\n",
    "                (cnfs_test, labels_test, sat_labels_test), batch_size):\n",
    "            if len(batch_cnfs) < batch_size:\n",
    "                continue\n",
    "            inputs, lengths = pad_and_concat([cnf.clauses for cnf in batch_cnfs])\n",
    "            summary, loss, probs = sess.run([merged_summaries, model.loss, model.policy_probabilities], feed_dict={\n",
    "                model.inputs: inputs,\n",
    "                model.policy_labels: batch_labels,\n",
    "                model.lengths: lengths,\n",
    "                model.sat_labels: batch_sat_labels\n",
    "            })\n",
    "            test_writer.add_summary(summary, global_step)\n",
    "            \n"
   ]
  },
  {
   "cell_type": "code",
   "execution_count": null,
   "metadata": {},
   "outputs": [],
   "source": []
  }
 ],
 "metadata": {
  "kernelspec": {
   "display_name": "Python 3",
   "language": "python",
   "name": "python3"
  },
  "language_info": {
   "codemirror_mode": {
    "name": "ipython",
    "version": 3
   },
   "file_extension": ".py",
   "mimetype": "text/x-python",
   "name": "python",
   "nbconvert_exporter": "python",
   "pygments_lexer": "ipython3",
   "version": "3.6.1"
  }
 },
 "nbformat": 4,
 "nbformat_minor": 2
}
