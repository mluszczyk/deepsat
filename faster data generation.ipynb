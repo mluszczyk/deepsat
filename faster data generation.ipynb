{
 "cells": [
  {
   "cell_type": "code",
   "execution_count": 1,
   "metadata": {},
   "outputs": [],
   "source": [
    "from cnf import *"
   ]
  },
  {
   "cell_type": "code",
   "execution_count": 2,
   "metadata": {},
   "outputs": [],
   "source": [
    "from sympy.logic import simplify_logic\n",
    "from sympy.logic.inference import satisfiable\n",
    "from sympy.parsing.sympy_parser import parse_expr"
   ]
  },
  {
   "cell_type": "code",
   "execution_count": 3,
   "metadata": {},
   "outputs": [],
   "source": [
    "import z3"
   ]
  },
  {
   "cell_type": "code",
   "execution_count": 4,
   "metadata": {},
   "outputs": [],
   "source": [
    "import pycosat"
   ]
  },
  {
   "cell_type": "code",
   "execution_count": 5,
   "metadata": {},
   "outputs": [],
   "source": [
    "SAMPLE = 1000\n",
    "K = 3\n",
    "N = 4\n",
    "M = 30"
   ]
  },
  {
   "cell_type": "code",
   "execution_count": 6,
   "metadata": {},
   "outputs": [],
   "source": [
    "import time\n",
    "\n",
    "def timed(func):\n",
    "    def new_func(*args, **kwargs):\n",
    "        start = time.time()\n",
    "        results = func(*args, **kwargs)\n",
    "        end = time.time()\n",
    "        print(\"Function '{}' took: {} s\".format(func.__name__, end-start))\n",
    "        return results\n",
    "    return new_func"
   ]
  },
  {
   "cell_type": "code",
   "execution_count": 7,
   "metadata": {},
   "outputs": [
    {
     "name": "stdout",
     "output_type": "stream",
     "text": [
      "Function 'get_random_kcnfs' took: 0.14688634872436523 s\n"
     ]
    }
   ],
   "source": [
    "cnfs = timed(get_random_kcnfs)(SAMPLE, K, N, M)"
   ]
  },
  {
   "cell_type": "code",
   "execution_count": 8,
   "metadata": {},
   "outputs": [],
   "source": [
    "def is_solveable(form):\n",
    "    s = z3.Solver()\n",
    "    s.add(form)\n",
    "    r = s.check()\n",
    "    if r == z3.unsat:\n",
    "        return False\n",
    "    elif r == z3.sat:\n",
    "        return True\n",
    "    else:\n",
    "        raise ValueError(r)"
   ]
  },
  {
   "cell_type": "code",
   "execution_count": 9,
   "metadata": {},
   "outputs": [],
   "source": [
    "# sat/unsat?\n",
    "@timed\n",
    "def get_sats_sympy(cnfs):\n",
    "    results = []\n",
    "    for cnf in cnfs:\n",
    "        result = bool(satisfiable(parse_expr(str(cnf))))\n",
    "        results.append(cnf.satisfiable())\n",
    "    return results\n",
    "\n",
    "@timed\n",
    "def get_sats_z3(cnfs):\n",
    "    results = []\n",
    "    z3vars = [z3.Bool('v'+str(i)) for i in range(100)]\n",
    "    for cnf in cnfs:\n",
    "        form = z3.And(*[\n",
    "            z3.Or(*[z3vars[abs(sv)] if sv > 0 else z3.Not(z3vars[abs(sv)])\n",
    "                    for sv in clause])\n",
    "            for clause in cnf.clauses])\n",
    "        results.append(is_solveable(form))\n",
    "    return results\n",
    "\n",
    "@timed\n",
    "def get_sats_pyco(cnfs):\n",
    "    results = []\n",
    "    for cnf in cnfs:\n",
    "        results.append(pycosat.solve(cnf.clauses) != 'UNSAT')\n",
    "    return results"
   ]
  },
  {
   "cell_type": "code",
   "execution_count": 10,
   "metadata": {},
   "outputs": [
    {
     "name": "stdout",
     "output_type": "stream",
     "text": [
      "Function 'get_random_kcnfs' took: 0.07337188720703125 s\n",
      "Function 'get_sats_sympy' took: 5.878615379333496 s\n",
      "Function 'get_sats_z3' took: 10.537521362304688 s\n",
      "Function 'get_sats_pyco' took: 0.009574651718139648 s\n",
      "OK\n"
     ]
    }
   ],
   "source": [
    "cnfs = timed(get_random_kcnfs)(1000, 2, 3, 20)\n",
    "r_sp = get_sats_sympy(cnfs)\n",
    "r_z3 = get_sats_z3(cnfs)\n",
    "r_pc = get_sats_pyco(cnfs)\n",
    "assert r_sp == r_z3 == r_pc\n",
    "print(\"OK\")"
   ]
  },
  {
   "cell_type": "code",
   "execution_count": 11,
   "metadata": {},
   "outputs": [
    {
     "name": "stdout",
     "output_type": "stream",
     "text": [
      "Function 'get_random_kcnfs' took: 0.02122950553894043 s\n",
      "Function 'get_sats_sympy' took: 1.701305627822876 s\n",
      "Function 'get_sats_z3' took: 1.2968173027038574 s\n",
      "Function 'get_sats_pyco' took: 0.0017707347869873047 s\n",
      "OK\n"
     ]
    }
   ],
   "source": [
    "cnfs = timed(get_random_kcnfs)(100, 3, 4, 30)\n",
    "r_sp = get_sats_sympy(cnfs)\n",
    "r_z3 = get_sats_z3(cnfs)\n",
    "r_pc = get_sats_pyco(cnfs)\n",
    "assert r_sp == r_z3 == r_pc\n",
    "print(\"OK\")"
   ]
  },
  {
   "cell_type": "code",
   "execution_count": 12,
   "metadata": {
    "scrolled": true
   },
   "outputs": [
    {
     "name": "stdout",
     "output_type": "stream",
     "text": [
      "Function 'get_random_kcnfs' took: 0.019964218139648438 s\n",
      "Function 'get_sats_sympy' took: 2.144693613052368 s\n",
      "Function 'get_sats_z3' took: 1.3028674125671387 s\n",
      "Function 'get_sats_pyco' took: 0.002234220504760742 s\n",
      "OK\n"
     ]
    }
   ],
   "source": [
    "cnfs = timed(get_random_kcnfs)(100, 3, 5, 30)\n",
    "r_sp = get_sats_sympy(cnfs)\n",
    "r_z3 = get_sats_z3(cnfs)\n",
    "r_pc = get_sats_pyco(cnfs)\n",
    "assert r_sp == r_z3 == r_pc\n",
    "print(\"OK\")"
   ]
  },
  {
   "cell_type": "code",
   "execution_count": 13,
   "metadata": {
    "scrolled": true
   },
   "outputs": [
    {
     "name": "stdout",
     "output_type": "stream",
     "text": [
      "Function 'get_random_kcnfs' took: 0.14324021339416504 s\n",
      "Function 'get_sats_sympy' took: 24.55345368385315 s\n",
      "Function 'get_sats_z3' took: 14.368957281112671 s\n",
      "Function 'get_sats_pyco' took: 0.017174243927001953 s\n",
      "OK\n"
     ]
    }
   ],
   "source": [
    "cnfs = timed(get_random_kcnfs)(1000, 3, 7, 30)\n",
    "r_sp = get_sats_sympy(cnfs)\n",
    "r_z3 = get_sats_z3(cnfs)\n",
    "r_pc = get_sats_pyco(cnfs)\n",
    "assert r_sp == r_z3 == r_pc\n",
    "print(\"OK\")"
   ]
  },
  {
   "cell_type": "code",
   "execution_count": 14,
   "metadata": {},
   "outputs": [
    {
     "data": {
      "text/plain": [
       "[]"
      ]
     },
     "execution_count": 14,
     "metadata": {},
     "output_type": "execute_result"
    }
   ],
   "source": [
    "pycosat.solve([])"
   ]
  },
  {
   "cell_type": "code",
   "execution_count": 15,
   "metadata": {
    "scrolled": true
   },
   "outputs": [
    {
     "data": {
      "text/plain": [
       "'UNSAT'"
      ]
     },
     "execution_count": 15,
     "metadata": {},
     "output_type": "execute_result"
    }
   ],
   "source": [
    "pycosat.solve([[]])"
   ]
  }
 ],
 "metadata": {
  "kernelspec": {
   "display_name": "Python 3",
   "language": "python",
   "name": "python3"
  },
  "language_info": {
   "codemirror_mode": {
    "name": "ipython",
    "version": 3.0
   },
   "file_extension": ".py",
   "mimetype": "text/x-python",
   "name": "python",
   "nbconvert_exporter": "python",
   "pygments_lexer": "ipython3",
   "version": "3.5.2"
  }
 },
 "nbformat": 4,
 "nbformat_minor": 0
}