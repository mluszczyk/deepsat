{
 "cells": [
  {
   "cell_type": "code",
   "execution_count": 1,
   "metadata": {},
   "outputs": [],
   "source": [
    "import tensorflow as tf\n",
    "import numpy as np"
   ]
  },
  {
   "cell_type": "code",
   "execution_count": 2,
   "metadata": {},
   "outputs": [],
   "source": [
    "def pad_and_concat(sequences):  # sequences shape: [batch_size, len, dims...] -> ([batch_size, maxlen, dims...], [len])\n",
    "    arrays = [np.asarray(seq) for seq in sequences]\n",
    "    lengths = np.asarray([array.shape[0] for array in arrays], dtype=np.int32)\n",
    "    maxlen = np.max(lengths)\n",
    "    arrays = [np.pad(array, [(0, maxlen - array.shape[0]), (0, 0)], 'constant', constant_values=0) for array in arrays]\n",
    "    return np.asarray(arrays), lengths\n",
    "    "
   ]
  },
  {
   "cell_type": "code",
   "execution_count": 20,
   "metadata": {},
   "outputs": [],
   "source": [
    "small_cnf, small_lengths = pad_and_concat(\n",
    "    [[[1, -2], [2, 1]],\n",
    "     [[-2, -1], [1, -2]],\n",
    "     [[-1, -1], [-2, -2], [-1, -2]],\n",
    "      [[1, -1]],\n",
    "      [[1, -1], [1, 2]],\n",
    "      [[-2, 2]]\n",
    "     ])\n",
    "small_sol = np.asarray([1, 1, 1, 0, 0, 0])"
   ]
  },
  {
   "cell_type": "code",
   "execution_count": 4,
   "metadata": {},
   "outputs": [
    {
     "name": "stdout",
     "output_type": "stream",
     "text": [
      "[[[ 1 -2]\n",
      "  [ 2  1]\n",
      "  [ 0  0]]\n",
      "\n",
      " [[-2 -1]\n",
      "  [ 1 -2]\n",
      "  [ 0  0]]\n",
      "\n",
      " [[-1 -1]\n",
      "  [-2 -2]\n",
      "  [-1 -2]]\n",
      "\n",
      " [[ 1 -1]\n",
      "  [ 0  0]\n",
      "  [ 0  0]]\n",
      "\n",
      " [[ 1 -1]\n",
      "  [ 1  2]\n",
      "  [ 0  0]]\n",
      "\n",
      " [[-2  2]\n",
      "  [ 0  0]\n",
      "  [ 0  0]]]\n",
      "[2 2 3 1 2 1]\n"
     ]
    }
   ],
   "source": [
    "print(cnf)\n",
    "print(lengths)"
   ]
  },
  {
   "cell_type": "code",
   "execution_count": 5,
   "metadata": {},
   "outputs": [],
   "source": [
    "VARIABLE_NUM = 3\n",
    "EMBEDDING_SIZE = 8\n",
    "CLAUSE_SIZE = 2\n",
    "LSTM_STATE_SIZE = 8\n",
    "batch_size = 6"
   ]
  },
  {
   "cell_type": "code",
   "execution_count": 6,
   "metadata": {},
   "outputs": [],
   "source": [
    "def assert_shape(matrix, shape: list):\n",
    "    act_shape = matrix.get_shape().as_list()\n",
    "    assert act_shape == shape, \"got shape {}, expected {}\".format(act_shape, shape)"
   ]
  },
  {
   "cell_type": "code",
   "execution_count": 7,
   "metadata": {},
   "outputs": [],
   "source": [
    "class Graph:\n",
    "    def __init__(self):\n",
    "        self.inputs = tf.placeholder(tf.int32, shape=(batch_size, None, CLAUSE_SIZE), name='inputs')\n",
    "        self.lengths = tf.placeholder(tf.int32, shape=(batch_size,), name='lengths')\n",
    "        self.labels = tf.placeholder(tf.float32, shape=(batch_size,), name='labels')\n",
    "        \n",
    "        vars_ = tf.abs(self.inputs)\n",
    "        signs = tf.cast(tf.sign(self.inputs), tf.float32)  # shape: [batch_size, None, CLAUSE_SIZE]\n",
    "\n",
    "        embeddings = tf.Variable(tf.random_uniform([VARIABLE_NUM + 1, EMBEDDING_SIZE], -1., 1), name='embeddings')\n",
    "\n",
    "        var_embeddings = tf.nn.embedding_lookup(embeddings, vars_)\n",
    "        # var_embeddings shape: [None, None, CLAUSE_SIZE, EMBEDDING_SIZE]\n",
    "        \n",
    "        clause_preembeddings = tf.concat(\n",
    "            [tf.reshape(var_embeddings, [batch_size, -1, CLAUSE_SIZE * EMBEDDING_SIZE]), \n",
    "             signs],\n",
    "            axis=2)\n",
    "        \n",
    "        PREEMBEDDING_SIZE = EMBEDDING_SIZE * CLAUSE_SIZE + CLAUSE_SIZE\n",
    "        assert_shape(clause_preembeddings, \n",
    "                     [batch_size, None, PREEMBEDDING_SIZE])\n",
    "        \n",
    "        clause_w = tf.Variable(tf.random_normal(\n",
    "            [PREEMBEDDING_SIZE, EMBEDDING_SIZE]), name='clause_w')\n",
    "        clause_b = tf.Variable(tf.random_normal([EMBEDDING_SIZE]), name='clause_b')\n",
    "        clause_embeddings = tf.reshape(tf.sigmoid(\n",
    "            tf.reshape(clause_preembeddings, [-1, PREEMBEDDING_SIZE]) @ clause_w + clause_b), \n",
    "                                       [batch_size, -1, EMBEDDING_SIZE])\n",
    "        # shape: [None, None, EMBEDDING_SIZE]\n",
    "        \n",
    "        lstm = tf.contrib.rnn.BasicLSTMCell(LSTM_STATE_SIZE)\n",
    "        hidden_state = tf.zeros([batch_size, LSTM_STATE_SIZE])\n",
    "        current_state = tf.zeros([batch_size, LSTM_STATE_SIZE])\n",
    "        state = hidden_state, current_state\n",
    "        \n",
    "        _, lstm_final_state = tf.nn.dynamic_rnn(lstm, clause_embeddings, dtype=tf.float32, \n",
    "                                               sequence_length=self.lengths\n",
    "                                               )\n",
    "        formula_embedding = lstm_final_state.h\n",
    "            \n",
    "        assert_shape(formula_embedding, [batch_size, LSTM_STATE_SIZE])\n",
    "            \n",
    "        softmax_w = tf.Variable(tf.random_normal([LSTM_STATE_SIZE, 1]), name='softmax_w')\n",
    "        softmax_b = tf.Variable(tf.random_normal([1]), name='softmax_b')\n",
    "        \n",
    "        self.logits = tf.squeeze(formula_embedding @ softmax_w, axis=1) + softmax_b\n",
    "        self.loss = tf.losses.sigmoid_cross_entropy(self.labels, self.logits) \n",
    "        self.probabilities = tf.sigmoid(self.logits)\n",
    "\n",
    "tf.reset_default_graph()\n",
    "model = Graph()"
   ]
  },
  {
   "cell_type": "code",
   "execution_count": 8,
   "metadata": {},
   "outputs": [],
   "source": [
    "np.set_printoptions(precision=2, suppress=True)"
   ]
  },
  {
   "cell_type": "code",
   "execution_count": 9,
   "metadata": {},
   "outputs": [
    {
     "name": "stdout",
     "output_type": "stream",
     "text": [
      "[array([0.44, 0.42, 0.36, 0.46, 0.35, 0.37], dtype=float32)]\n"
     ]
    }
   ],
   "source": [
    "with tf.Session() as sess:\n",
    "    sess.run(tf.global_variables_initializer())\n",
    "    probs = sess.run([model.probabilities], feed_dict={\n",
    "        model.inputs: small_cnf,\n",
    "        model.lengths: small_lengths\n",
    "    })\n",
    "    \n",
    "print(probs)"
   ]
  },
  {
   "cell_type": "code",
   "execution_count": 22,
   "metadata": {},
   "outputs": [
    {
     "data": {
      "text/plain": [
       "array([1., 1., 1., 0., 0., 0.], dtype=float32)"
      ]
     },
     "execution_count": 22,
     "metadata": {},
     "output_type": "execute_result"
    }
   ],
   "source": [
    "with tf.Session() as sess:\n",
    "    train_op = tf.train.AdamOptimizer(learning_rate=0.1).minimize(model.loss)\n",
    "    sess.run(tf.global_variables_initializer())\n",
    "    for _ in range(100):\n",
    "        sess.run(train_op, feed_dict={\n",
    "            model.inputs: small_cnf,\n",
    "            model.labels: small_sol,\n",
    "            model.lengths: small_lengths\n",
    "        })\n",
    "    probs = sess.run(model.probabilities, feed_dict={\n",
    "        model.inputs: small_cnf,\n",
    "        model.lengths: small_lengths\n",
    "    })\n",
    "    \n",
    "probs"
   ]
  },
  {
   "cell_type": "code",
   "execution_count": 11,
   "metadata": {},
   "outputs": [],
   "source": [
    "import cnf"
   ]
  },
  {
   "cell_type": "code",
   "execution_count": 12,
   "metadata": {},
   "outputs": [],
   "source": [
    "def sat_array():\n",
    "    for k in range(1, 6):\n",
    "        for var_num in range(2, 5):\n",
    "            for clause_num in range(3, 10):\n",
    "                sat = {True: 0, False: 0}\n",
    "                for _ in range(100):\n",
    "                    sat[cnf.get_random_kcnf(k, var_num, clause_num).satisfiable()] += 1\n",
    "                print(k, var_num, clause_num, sat)\n",
    "# sat_array()"
   ]
  },
  {
   "cell_type": "code",
   "execution_count": 41,
   "metadata": {},
   "outputs": [],
   "source": [
    "cnfs = cnf.get_random_kcnfs(3000, 2, 3, 10)"
   ]
  },
  {
   "cell_type": "code",
   "execution_count": 42,
   "metadata": {},
   "outputs": [],
   "source": [
    "labels = [cnf.satisfiable() for cnf in cnfs]"
   ]
  },
  {
   "cell_type": "code",
   "execution_count": 43,
   "metadata": {},
   "outputs": [
    {
     "name": "stdout",
     "output_type": "stream",
     "text": [
      "sat: 2262 unsat: 738\n"
     ]
    }
   ],
   "source": [
    "print(\"sat:\", sum(1 for label in labels if label == True), \"unsat:\", sum(1 for label in labels if label == False))"
   ]
  },
  {
   "cell_type": "code",
   "execution_count": 44,
   "metadata": {},
   "outputs": [],
   "source": [
    "def chunks(lists, chunk_size):\n",
    "    return [[it[i:i + chunk_size] for it in lists] for i in range(0, len(lists[0]), chunk_size)]"
   ]
  },
  {
   "cell_type": "code",
   "execution_count": 45,
   "metadata": {},
   "outputs": [
    {
     "data": {
      "text/plain": [
       "[[[0, 1], [10, 11]],\n",
       " [[2, 3], [12, 13]],\n",
       " [[4, 5], [14, 15]],\n",
       " [[6, 7], [16, 17]],\n",
       " [[8, 9], [18, 19]]]"
      ]
     },
     "execution_count": 45,
     "metadata": {},
     "output_type": "execute_result"
    }
   ],
   "source": [
    "chunks([list(range(10)), list(range(10, 20))], 2)"
   ]
  },
  {
   "cell_type": "code",
   "execution_count": 46,
   "metadata": {},
   "outputs": [
    {
     "name": "stdout",
     "output_type": "stream",
     "text": [
      "Epoch 0\n",
      "loss: 0.45022786 acc: 0.7686666615307332\n",
      "Epoch 1\n",
      "loss: 0.41379803 acc: 0.7819999949336052\n",
      "Epoch 2\n",
      "loss: 0.40004006 acc: 0.7903333284556866\n",
      "Epoch 3\n",
      "loss: 0.39044702 acc: 0.7943333284556866\n",
      "Epoch 4\n",
      "loss: 0.3826961 acc: 0.7999999952912331\n",
      "Epoch 5\n",
      "loss: 0.3763461 acc: 0.806999995470047\n",
      "Epoch 6\n",
      "loss: 0.37156916 acc: 0.8126666623950004\n",
      "Epoch 7\n",
      "loss: 0.36469764 acc: 0.8159999957680703\n",
      "Epoch 8\n",
      "loss: 0.35149136 acc: 0.82533332914114\n",
      "Epoch 9\n",
      "loss: 0.3373567 acc: 0.8356666626632213\n",
      "Epoch 10\n",
      "loss: 0.32956094 acc: 0.837333329319954\n",
      "Epoch 11\n",
      "loss: 0.32416487 acc: 0.8443333294391632\n",
      "Epoch 12\n",
      "loss: 0.32000428 acc: 0.8396666627526284\n",
      "Epoch 13\n",
      "loss: 0.31467658 acc: 0.8399999959766865\n",
      "Epoch 14\n",
      "loss: 0.30926198 acc: 0.8453333293795585\n",
      "Epoch 15\n",
      "loss: 0.30446526 acc: 0.8493333294689656\n",
      "Epoch 16\n",
      "loss: 0.30003956 acc: 0.8506666627824306\n",
      "Epoch 17\n",
      "loss: 0.30086023 acc: 0.8479999961256981\n",
      "Epoch 18\n",
      "loss: 0.29563805 acc: 0.8563333294987678\n",
      "Epoch 19\n",
      "loss: 0.2944502 acc: 0.8526666627824306\n",
      "Epoch 20\n",
      "loss: 0.28955865 acc: 0.854666662722826\n",
      "Epoch 21\n",
      "loss: 0.28641698 acc: 0.8576666628420353\n",
      "Epoch 22\n",
      "loss: 0.2830935 acc: 0.853666662812233\n",
      "Epoch 23\n",
      "loss: 0.27865916 acc: 0.8586666629612446\n",
      "Epoch 24\n",
      "loss: 0.28246486 acc: 0.8589999963045121\n",
      "Epoch 25\n",
      "loss: 0.27532098 acc: 0.8603333297073841\n",
      "Epoch 26\n",
      "loss: 0.2720716 acc: 0.8593333297073841\n",
      "Epoch 27\n",
      "loss: 0.2704393 acc: 0.8619999964237213\n",
      "Epoch 28\n",
      "loss: 0.2718863 acc: 0.8606666631400585\n",
      "Epoch 29\n",
      "loss: 0.27307633 acc: 0.8626666629910469\n",
      "Epoch 30\n",
      "loss: 0.26520717 acc: 0.8686666632890702\n",
      "Epoch 31\n",
      "loss: 0.26457548 acc: 0.8683333297967911\n",
      "Epoch 32\n",
      "loss: 0.26186606 acc: 0.864999996393919\n",
      "Epoch 33\n",
      "loss: 0.27100462 acc: 0.8676666631400585\n",
      "Epoch 34\n",
      "loss: 0.25662273 acc: 0.8753333300054074\n",
      "Epoch 35\n",
      "loss: 0.25655457 acc: 0.8673333297967911\n",
      "Epoch 36\n",
      "loss: 0.25535488 acc: 0.869333329975605\n",
      "Epoch 37\n",
      "loss: 0.25382647 acc: 0.8736666632592678\n",
      "Epoch 38\n",
      "loss: 0.2482439 acc: 0.8766666634380818\n",
      "Epoch 39\n",
      "loss: 0.2491304 acc: 0.8743333301246167\n",
      "Epoch 40\n",
      "loss: 0.24636635 acc: 0.8756666633486748\n",
      "Epoch 41\n",
      "loss: 0.24555247 acc: 0.8786666634976864\n",
      "Epoch 42\n",
      "loss: 0.24044637 acc: 0.8809999968707561\n",
      "Epoch 43\n",
      "loss: 0.24902117 acc: 0.8713333299458027\n",
      "Epoch 44\n",
      "loss: 0.24313512 acc: 0.8776666634082794\n",
      "Epoch 45\n",
      "loss: 0.2401731 acc: 0.8773333302140236\n",
      "Epoch 46\n",
      "loss: 0.23111252 acc: 0.8799999968707561\n",
      "Epoch 47\n",
      "loss: 0.23675747 acc: 0.878333330154419\n",
      "Epoch 48\n",
      "loss: 0.23512903 acc: 0.8823333302140236\n",
      "Epoch 49\n",
      "loss: 0.22606353 acc: 0.8896666637361049\n",
      "Epoch 50\n",
      "loss: 0.22809497 acc: 0.8853333303034305\n",
      "Epoch 51\n",
      "loss: 0.22897986 acc: 0.8886666636765003\n",
      "Epoch 52\n",
      "loss: 0.218078 acc: 0.8913333304524421\n",
      "Epoch 53\n",
      "loss: 0.21514307 acc: 0.8929999971985817\n",
      "Epoch 54\n",
      "loss: 0.21992047 acc: 0.8933333305418492\n",
      "Epoch 55\n",
      "loss: 0.23173043 acc: 0.8829999967813492\n",
      "Epoch 56\n",
      "loss: 0.22351691 acc: 0.8963333305418492\n",
      "Epoch 57\n",
      "loss: 0.23828015 acc: 0.880333330065012\n",
      "Epoch 58\n",
      "loss: 0.21515985 acc: 0.8939999970793724\n",
      "Epoch 59\n",
      "loss: 0.21045545 acc: 0.8969999972581864\n",
      "Epoch 60\n",
      "loss: 0.2300095 acc: 0.8883333303928376\n",
      "Epoch 61\n",
      "loss: 0.21331312 acc: 0.8899999969601631\n",
      "Epoch 62\n",
      "loss: 0.2148228 acc: 0.8913333304524421\n",
      "Epoch 63\n",
      "loss: 0.23271835 acc: 0.8886666637659073\n",
      "Epoch 64\n",
      "loss: 0.21210097 acc: 0.8973333305418492\n",
      "Epoch 65\n",
      "loss: 0.20889409 acc: 0.8993333306014538\n",
      "Epoch 66\n",
      "loss: 0.22363383 acc: 0.8869999970495701\n",
      "Epoch 67\n",
      "loss: 0.2072598 acc: 0.8966666638851166\n",
      "Epoch 68\n",
      "loss: 0.20462784 acc: 0.8993333305716514\n",
      "Epoch 69\n",
      "loss: 0.22143914 acc: 0.891999997138977\n",
      "Epoch 70\n",
      "loss: 0.20590681 acc: 0.9003333306312561\n",
      "Epoch 71\n",
      "loss: 0.22755867 acc: 0.8876666636765003\n",
      "Epoch 72\n",
      "loss: 0.25712323 acc: 0.8766666633188724\n",
      "Epoch 73\n",
      "loss: 0.21978235 acc: 0.8943333305418492\n",
      "Epoch 74\n",
      "loss: 0.20955838 acc: 0.8949999971687794\n",
      "Epoch 75\n",
      "loss: 0.21768634 acc: 0.8926666637659073\n",
      "Epoch 76\n",
      "loss: 0.21139903 acc: 0.8996666639745236\n",
      "Epoch 77\n",
      "loss: 0.2049071 acc: 0.9003333306908607\n",
      "Epoch 78\n",
      "loss: 0.20714849 acc: 0.8989999972581864\n",
      "Epoch 79\n",
      "loss: 0.20189486 acc: 0.8999999973475933\n",
      "Epoch 80\n",
      "loss: 0.22844937 acc: 0.8923333303630352\n",
      "Epoch 81\n",
      "loss: 0.21276987 acc: 0.8976666637957096\n",
      "Epoch 82\n",
      "loss: 0.19532084 acc: 0.9049999974071979\n",
      "Epoch 83\n",
      "loss: 0.20697576 acc: 0.9016666639745236\n",
      "Epoch 84\n",
      "loss: 0.20482129 acc: 0.898999997317791\n",
      "Epoch 85\n",
      "loss: 0.20938388 acc: 0.9013333306014538\n",
      "Epoch 86\n",
      "loss: 0.20139824 acc: 0.9016666639745236\n",
      "Epoch 87\n",
      "loss: 0.19738491 acc: 0.9056666640937329\n",
      "Epoch 88\n",
      "loss: 0.20226204 acc: 0.9013333306014538\n",
      "Epoch 89\n",
      "loss: 0.20006101 acc: 0.9043333307504654\n",
      "Epoch 90\n",
      "loss: 0.19272822 acc: 0.9049999974370003\n",
      "Epoch 91\n",
      "loss: 0.19476353 acc: 0.9073333307802677\n",
      "Epoch 92\n",
      "loss: 0.20753372 acc: 0.8989999972581864\n",
      "Epoch 93\n",
      "loss: 0.21437979 acc: 0.8913333303928376\n",
      "Epoch 94\n",
      "loss: 0.21246617 acc: 0.8993333305716514\n",
      "Epoch 95\n",
      "loss: 0.20118868 acc: 0.8976666637957096\n",
      "Epoch 96\n",
      "loss: 0.19666806 acc: 0.9013333306014538\n",
      "Epoch 97\n",
      "loss: 0.19362488 acc: 0.8993333305418492\n",
      "Epoch 98\n",
      "loss: 0.19847934 acc: 0.8993333305716514\n",
      "Epoch 99\n",
      "loss: 0.20617232 acc: 0.8993333306610585\n",
      "first batch:\n",
      "actual: [0.98 1.   1.   1.   0.48 1.  ]\n",
      "expected [True, True, True, True, True, True]\n",
      "new data:\n",
      "actual [1. 1. 1. 1. 1. 1.]\n",
      "expected [1 1 1 0 0 0]\n"
     ]
    }
   ],
   "source": [
    "with tf.Session() as sess:\n",
    "    train_op = tf.train.AdamOptimizer(learning_rate=0.01).minimize(model.loss)\n",
    "    sess.run(tf.global_variables_initializer())\n",
    "    \n",
    "    for epoch_num in range(100):\n",
    "        print(\"Epoch\", epoch_num)\n",
    "        losses = []\n",
    "        accs = []\n",
    "        for (batch_cnfs, batch_labels) in chunks((cnfs, labels), batch_size):\n",
    "            if len(batch_cnfs) < batch_size:\n",
    "                print(\"skipping incomplete batch\")\n",
    "                continue\n",
    "            inputs, lengths = pad_and_concat([cnf.clauses for cnf in batch_cnfs])\n",
    "            _, loss, probs = sess.run([train_op, model.loss, model.probabilities], feed_dict={\n",
    "                model.inputs: inputs,\n",
    "                model.labels: batch_labels,\n",
    "                model.lengths: lengths\n",
    "            })\n",
    "            losses.append(loss)\n",
    "            accs.append(1 - np.mean(np.abs(np.around(probs) - np.asarray(batch_labels))))\n",
    "            \n",
    "        print(\"loss:\", np.mean(np.asarray(losses)), \"acc:\", np.mean(accs))\n",
    "\n",
    "    print(\"first batch:\")\n",
    "    first_inputs, first_lengths = pad_and_concat([cnf.clauses for cnf in cnfs[:batch_size]])\n",
    "    probs = sess.run(model.probabilities, feed_dict={\n",
    "        model.inputs: first_inputs,\n",
    "        model.lengths: first_lengths\n",
    "    })\n",
    "    print(\"actual:\", probs)\n",
    "    print(\"expected\", labels[:batch_size])\n",
    "        \n",
    "    print(\"new data:\")\n",
    "    probs = sess.run(model.probabilities, feed_dict={\n",
    "        model.inputs: small_cnf,\n",
    "        model.lengths: small_lengths\n",
    "    })\n",
    "    print(\"actual\", probs)\n",
    "    print(\"expected\", small_sol)\n"
   ]
  },
  {
   "cell_type": "code",
   "execution_count": null,
   "metadata": {},
   "outputs": [],
   "source": []
  }
 ],
 "metadata": {
  "kernelspec": {
   "display_name": "Python 3",
   "language": "python",
   "name": "python3"
  },
  "language_info": {
   "codemirror_mode": {
    "name": "ipython",
    "version": 3
   },
   "file_extension": ".py",
   "mimetype": "text/x-python",
   "name": "python",
   "nbconvert_exporter": "python",
   "pygments_lexer": "ipython3",
   "version": "3.6.1"
  }
 },
 "nbformat": 4,
 "nbformat_minor": 2
}
