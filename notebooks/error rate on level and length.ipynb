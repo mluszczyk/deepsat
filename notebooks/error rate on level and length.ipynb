{
 "cells": [
  {
   "cell_type": "markdown",
   "metadata": {},
   "source": [
    "# Error rate on level/formula length"
   ]
  },
  {
   "cell_type": "code",
   "execution_count": 22,
   "metadata": {},
   "outputs": [],
   "source": [
    "from matplotlib import pyplot as plt\n",
    "import numpy as np\n",
    "import random"
   ]
  },
  {
   "cell_type": "code",
   "execution_count": 23,
   "metadata": {},
   "outputs": [],
   "source": [
    "import sys \n",
    "sys.path.insert(0,'..')\n",
    "import neurosat_policy\n",
    "neurosat_policy.VARIABLE_NUM = 50"
   ]
  },
  {
   "cell_type": "code",
   "execution_count": 24,
   "metadata": {
    "scrolled": true
   },
   "outputs": [],
   "source": [
    "from cnf_dataset import clauses_to_matrix\n",
    "from dpll_new import DPLL, RandomClauseDPLL, MostCommonVarDPLL, RandomVarDPLL\n",
    "from cnf_new import get_random_kcnf, CNF, get_sats_SR, get_pos_SR\n",
    "from tqdm import tqdm\n",
    "from collections import Counter"
   ]
  },
  {
   "cell_type": "code",
   "execution_count": 25,
   "metadata": {},
   "outputs": [],
   "source": [
    "LIMIT_RUNS = 1000"
   ]
  },
  {
   "cell_type": "code",
   "execution_count": 26,
   "metadata": {},
   "outputs": [],
   "source": [
    "def shorten_cnf(cnf: CNF):\n",
    "    for c in cnf.clauses:\n",
    "        if len(c) == 1:\n",
    "            # print(\"Chosen lone clause\", c[0])\n",
    "            return shorten_cnf(cnf.set_var(c[0]))\n",
    "    all_literals = set(x\n",
    "                       for clause in cnf.clauses\n",
    "                       for x in clause)\n",
    "    for v in cnf.vars:\n",
    "        if v in all_literals and (-v) not in all_literals:\n",
    "            # print(\"Chosen lone literal\", v)\n",
    "            return shorten_cnf(cnf.set_var(v))\n",
    "        if (-v) in all_literals and v not in all_literals:\n",
    "            # print(\"Chosen lone literal\", -v)\n",
    "            return shorten_cnf(cnf.set_var(-v))\n",
    "    return cnf\n",
    "\n",
    "class NormalizedDPLL(DPLL):\n",
    "    def run(self, cnf: CNF):\n",
    "        assert isinstance(cnf, CNF)\n",
    "        self.number_of_runs += 1\n",
    "        if self.number_of_runs > LIMIT_RUNS:\n",
    "            return None\n",
    "\n",
    "        cnf = shorten_cnf(cnf)\n",
    "        if cnf.is_true():\n",
    "            return []\n",
    "        elif cnf.is_false():\n",
    "            return None\n",
    "\n",
    "        sug_var = self.suggest(cnf)\n",
    "        sug_cnf = cnf.set_var(sug_var)\n",
    "\n",
    "        sug_res = self.run(sug_cnf)\n",
    "        if sug_res is not None:\n",
    "            return [sug_var] + sug_res\n",
    "\n",
    "        not_sug_cnf = cnf.set_var(-sug_var)\n",
    "        not_sug_res = self.run(not_sug_cnf)\n",
    "        if not_sug_res is not None:\n",
    "            self.number_of_errors += 1\n",
    "            return [-sug_var] + not_sug_res\n",
    "        return None"
   ]
  },
  {
   "cell_type": "code",
   "execution_count": 27,
   "metadata": {},
   "outputs": [],
   "source": [
    "np.set_printoptions(precision=2, suppress=True)"
   ]
  },
  {
   "cell_type": "code",
   "execution_count": 28,
   "metadata": {
    "scrolled": true
   },
   "outputs": [
    {
     "name": "stdout",
     "output_type": "stream",
     "text": [
      "INFO:tensorflow:Restoring parameters from ../models/neuropol-18-09-18-002956/model-7268352\n"
     ]
    }
   ],
   "source": [
    "import tensorflow as tf\n",
    "import os\n",
    "\n",
    "BATCH_SIZE = 1\n",
    "\n",
    "# META_FILE = \"series/18-03-24-020248/var5/models/activepolicy-18-03-24-020450/model-32000000.meta\"  # perfect results\n",
    "# META_FILE = \"models/activepolicy-18-03-28-122105/model-10000064.meta\" # ok results, no error > 80% usually, usually better than mostcommon\n",
    "# META_FILE = \"series/18-03-24-020248/var8/models/activepolicy-18-03-24-020450/model-6400000.meta\"  # usually slightly worse than mostcommon\n",
    "META_FILE = \"../models/neuropol-18-09-18-002956/model-7268352.meta\"\n",
    "# META_FILE = os.path.expandvars(\"$HOME/prometheus-models/models/neuropol-restorer-18-10-09-215204-var-50-lev-30/model.ckpt-1945.meta\")\n",
    "# META_DIR = \"/home/henryk/sat_solving/models/neuropol-restorer-18-10-09-215204-var-30-lev-30/\"\n",
    "\n",
    "# saver_hook = tf.train.CheckpointSaverHook(checkpoint_dir=META_DIR, save_steps=20)\n",
    "# summary_hook = tf.train.SummarySaverHook(META_DIR)\n",
    "# sess = tf.train.MonitoredSession()\n",
    "\n",
    "\n",
    "sess=tf.Session()    \n",
    "#First let's load meta graph and restore weights\n",
    "saver = tf.train.import_meta_graph(META_FILE, clear_devices=True)\n",
    "sess.run(tf.global_variables_initializer())\n",
    "saver.restore(sess, tf.train.latest_checkpoint(os.path.dirname(META_FILE)))\n",
    "\n",
    "# Now, let's access and create placeholders variables and\n",
    "# create feed-dict to feed new data\n",
    "\n",
    "graph = tf.get_default_graph()"
   ]
  },
  {
   "cell_type": "code",
   "execution_count": 29,
   "metadata": {
    "scrolled": true
   },
   "outputs": [],
   "source": [
    "g_inputs = graph.get_tensor_by_name(\"inputs:0\")"
   ]
  },
  {
   "cell_type": "code",
   "execution_count": 30,
   "metadata": {
    "scrolled": true
   },
   "outputs": [],
   "source": [
    "#g_policy_probs = graph.get_tensor_by_name('policy_prob:0')\n",
    "#g_sat_probs = graph.get_tensor_by_name('sat_prob:0')"
   ]
  },
  {
   "cell_type": "code",
   "execution_count": 31,
   "metadata": {},
   "outputs": [],
   "source": [
    "LEVEL = 20"
   ]
  },
  {
   "cell_type": "code",
   "execution_count": 32,
   "metadata": {},
   "outputs": [],
   "source": [
    "g_policy_probs_lvl = [None] + [graph.get_tensor_by_name('policy_prob_{}:0'.format(i)) for i in range(1, LEVEL+1)]\n",
    "# g_sat_probs = graph.get_tensor_by_name('sat_prob_{}:0'.format(LEVEL))"
   ]
  },
  {
   "cell_type": "code",
   "execution_count": 33,
   "metadata": {},
   "outputs": [],
   "source": [
    "np.set_printoptions(precision=3, suppress=True)"
   ]
  },
  {
   "cell_type": "code",
   "execution_count": 35,
   "metadata": {},
   "outputs": [],
   "source": [
    "# Because we have to pass full batch\n",
    "\n",
    "logfile = open(\"/tmp/log_2\", \"w\")\n",
    "#import sys\n",
    "#logfile = sys.stdout\n",
    "\n",
    "class GraphBasedDPLL(DPLL):\n",
    "    def __init__(self, level):\n",
    "        self.level = level\n",
    "        super().__init__()\n",
    "    \n",
    "    def suggest(self, input_cnf: CNF):\n",
    "        clause_num = len(input_cnf.clauses)\n",
    "        var_num = max(input_cnf.vars)\n",
    "        inputs = np.asarray([clauses_to_matrix(input_cnf.clauses, clause_num, var_num)] * BATCH_SIZE)\n",
    "        \n",
    "        policy_probs = sess.run(g_policy_probs_lvl[self.level], feed_dict={g_inputs: inputs})\n",
    "        \n",
    "        print(\"CNF:\", input_cnf, end=' ', file=logfile)\n",
    "        print('cnf_clauses[0]', input_cnf.clauses, end=' ', file=logfile)\n",
    "        print(\"probs:\\n\",  policy_probs[0], end='\\n', file=logfile)\n",
    "        \n",
    "        best_prob = 0.0\n",
    "        best_svar = None\n",
    "        for var in input_cnf.vars:\n",
    "            for svar in [var, -var]:\n",
    "                svar_prob = policy_probs[0][var-1][0 if svar > 0 else 1]\n",
    "                print(svar, svar_prob, best_prob, file=logfile)\n",
    "                if svar_prob > best_prob:\n",
    "                    best_prob = svar_prob\n",
    "                    best_svar = svar\n",
    "        print(\"best_svar:\", best_svar, file=logfile)\n",
    "        # print(\"Chosen neural\", best_svar)\n",
    "        return best_svar"
   ]
  },
  {
   "cell_type": "code",
   "execution_count": 49,
   "metadata": {},
   "outputs": [],
   "source": [
    "def compute_first_errors(sats, dpll_cls, level=LEVEL):\n",
    "    errors = 0\n",
    "    for sat in sats:\n",
    "        dpll = dpll_cls(level)\n",
    "        sat = shorten_cnf(sat)\n",
    "        if len(sat.vars) == 0:\n",
    "            # There is no decision to be made.\n",
    "            continue\n",
    "        decision = dpll.suggest(sat)\n",
    "        sat = sat.set_var(decision)\n",
    "        if not sat.satisfiable():\n",
    "            errors += 1\n",
    "    return errors/len(sats)\n",
    "\n",
    "def print_first_errors(s, n, m, light=False):\n",
    "    # def get_sats_SR(sample_number, min_variable_number, clause_number, max_variable_number=None):\n",
    "    global S, N, M\n",
    "    S = s\n",
    "    N = n # number of clauses\n",
    "    M = m # number of variables\n",
    "    \n",
    "    MAX_TRIES = 100000\n",
    "    sats = []\n",
    "    \n",
    "    random.seed(1)\n",
    "    np.random.seed(1)\n",
    "    \n",
    "    for index in range(MAX_TRIES):\n",
    "        if len(sats) >= S:\n",
    "            break\n",
    "        sat = get_pos_SR(M, M, N)\n",
    "        # if DPLL().run(sat) is not None:\n",
    "        sats.append(sat)\n",
    "    # print(sats[0])\n",
    "    assert len(sats) == S\n",
    "    # sats = get_sats_SR(S,M,N)\n",
    "    # for sat in sats:\n",
    "    #    print(sat)\n",
    "    # assert len(sats) == S\n",
    "    # print(\"We have generated {} formulas\".format(len(sats)))\n",
    "    # compute_and_print_steps(sats, DPLL)\n",
    "    results = []\n",
    "    for level in LEVELS:\n",
    "        results.append(compute_first_errors(sats, GraphBasedDPLL, level))\n",
    "    #plt.plot(LEVELS, results)\n",
    "    #plt.show()\n",
    "    logfile.flush()\n",
    "    print(results)\n",
    "    return results\n",
    "\n",
    "LEVELS = [1, 4, 8, 12, 16, 20]\n",
    "\n",
    "\n",
    "def print_all_first_errors(s, n, ms):\n",
    "    data = [print_first_errors(s, n, m) for m in ms]\n",
    "    columns = LEVELS\n",
    "    rows = ms\n",
    "    \n",
    "    table = plt.table(\n",
    "        cellText=data,\n",
    "        rowLabels=rows,\n",
    "        colLabels=columns,\n",
    "        loc='top')\n",
    "    print('Error rate on iteration level/SR(n)')\n",
    "    plt.show()"
   ]
  },
  {
   "cell_type": "code",
   "execution_count": 50,
   "metadata": {
    "scrolled": false
   },
   "outputs": [
    {
     "name": "stdout",
     "output_type": "stream",
     "text": [
      "[0.0, 0.0, 0.0, 0.0, 0.0, 0.0]\n",
      "[0.0, 0.0, 0.0, 0.0, 0.0, 0.0]\n",
      "[0.0, 0.01, 0.0, 0.0, 0.0, 0.0]\n",
      "[0.11, 0.11, 0.04, 0.01, 0.0, 0.0]\n",
      "[0.13, 0.13, 0.05, 0.03, 0.0, 0.0]\n",
      "[0.17, 0.15, 0.1, 0.03, 0.02, 0.02]\n",
      "[0.19, 0.09, 0.1, 0.01, 0.0, 0.0]\n",
      "[0.19, 0.09, 0.09, 0.04, 0.02, 0.01]\n",
      "[0.19, 0.12, 0.07, 0.03, 0.03, 0.01]\n",
      "[0.17, 0.16, 0.09, 0.05, 0.05, 0.03]\n",
      "[0.16, 0.1, 0.09, 0.08, 0.06, 0.06]\n",
      "[0.21, 0.13, 0.09, 0.09, 0.05, 0.05]\n",
      "[0.23, 0.08, 0.1, 0.11, 0.07, 0.04]\n",
      "[0.22, 0.1, 0.06, 0.16, 0.08, 0.09]\n",
      "[0.23, 0.1, 0.12, 0.08, 0.08, 0.08]\n",
      "[0.16, 0.11, 0.09, 0.12, 0.11, 0.1]\n",
      "[0.24, 0.13, 0.06, 0.12, 0.12, 0.05]\n",
      "Error rate on iteration level/SR(n)\n"
     ]
    },
    {
     "data": {
      "image/png": "[encoded data removed]",
      "text/plain": [
       "<Figure size 432x288 with 1 Axes>"
      ]
     },
     "metadata": {},
     "output_type": "display_data"
    }
   ],
   "source": [
    "print_all_first_errors(100, 200, list(range(17)))"
   ]
  }
 ],
 "metadata": {
  "kernelspec": {
   "display_name": "Python 3",
   "language": "python",
   "name": "python3"
  },
  "language_info": {
   "codemirror_mode": {
    "name": "ipython",
    "version": 3
   },
   "file_extension": ".py",
   "mimetype": "text/x-python",
   "name": "python",
   "nbconvert_exporter": "python",
   "pygments_lexer": "ipython3",
   "version": "3.6.5"
  }
 },
 "nbformat": 4,
 "nbformat_minor": 2
}
