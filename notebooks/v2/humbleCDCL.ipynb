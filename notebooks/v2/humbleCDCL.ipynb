{
 "cells": [
  {
   "cell_type": "code",
   "execution_count": 1,
   "metadata": {},
   "outputs": [
    {
     "name": "stdout",
     "output_type": "stream",
     "text": [
      "INFO:tensorflow:Restoring parameters from /Users/sebastianjaszczur/PycharmProjects/deepsat/attention_cmp/1552640099/variables/variables\n"
     ]
    }
   ],
   "source": [
    "import tensorflow as tf\n",
    "from tensorflow.contrib import predictor\n",
    "\n",
    "export_dir = \"/Users/sebastianjaszczur/PycharmProjects/deepsat/attention_cmp/1552640099\"\n",
    "predict_fn = predictor.from_saved_model(export_dir)"
   ]
  },
  {
   "cell_type": "code",
   "execution_count": 2,
   "metadata": {},
   "outputs": [],
   "source": [
    "from matplotlib import pyplot as plt\n",
    "import numpy as np\n",
    "import random"
   ]
  },
  {
   "cell_type": "code",
   "execution_count": 3,
   "metadata": {},
   "outputs": [],
   "source": [
    "from time import time"
   ]
  },
  {
   "cell_type": "code",
   "execution_count": 4,
   "metadata": {},
   "outputs": [],
   "source": [
    "import sys \n",
    "sys.path.insert(0,'../..')"
   ]
  },
  {
   "cell_type": "code",
   "execution_count": 5,
   "metadata": {
    "scrolled": true
   },
   "outputs": [],
   "source": [
    "from cnf_dataset import clauses_to_matrix\n",
    "from dpll import DPLL, RandomClauseDPLL, MostCommonVarDPLL, RandomVarDPLL, JeroslowWangDPLL\n",
    "import cdcl\n",
    "CDCL = cdcl.CDCL\n",
    "from cnf import get_random_kcnf, CNF, get_sats_SR, get_pos_SR, get_sat_SR, get_random_sat_kcnf\n",
    "from tqdm import tqdm\n",
    "from collections import Counter"
   ]
  },
  {
   "cell_type": "code",
   "execution_count": 6,
   "metadata": {},
   "outputs": [],
   "source": [
    "LIMIT_RUNS = 1000"
   ]
  },
  {
   "cell_type": "code",
   "execution_count": 7,
   "metadata": {},
   "outputs": [
    {
     "data": {
      "text/plain": [
       "[1, -2]"
      ]
     },
     "execution_count": 7,
     "metadata": {},
     "output_type": "execute_result"
    }
   ],
   "source": [
    "CDCL().run(CNF([[-1, -2], [+1, -2], [+1, +2]]))"
   ]
  },
  {
   "cell_type": "code",
   "execution_count": 8,
   "metadata": {
    "scrolled": true
   },
   "outputs": [
    {
     "data": {
      "text/plain": [
       "[-2, 1]"
      ]
     },
     "execution_count": 8,
     "metadata": {},
     "output_type": "execute_result"
    }
   ],
   "source": [
    "JeroslowWangDPLL().run(CNF([[-1, -2], [+1, -2], [+1, +2]]))"
   ]
  },
  {
   "cell_type": "code",
   "execution_count": 9,
   "metadata": {},
   "outputs": [
    {
     "name": "stdout",
     "output_type": "stream",
     "text": [
      "Generated\n",
      "0.013300180435180664\n",
      "0.026754140853881836\n"
     ]
    }
   ],
   "source": [
    "cnf = get_pos_SR(15, 15, 2000)\n",
    "print(\"Generated\")\n",
    "# print(cnf)\n",
    "start = time()\n",
    "CDCL().run(cnf)\n",
    "end = time()\n",
    "print(end-start)\n",
    "start = time()\n",
    "DPLL().run(cnf)\n",
    "end = time()\n",
    "print(end-start)"
   ]
  },
  {
   "cell_type": "code",
   "execution_count": 10,
   "metadata": {},
   "outputs": [],
   "source": [
    "import math\n",
    "from collections import defaultdict\n",
    "\n",
    "def jw(clauses):\n",
    "    score = defaultdict(int)\n",
    "\n",
    "    for clause in clauses:\n",
    "        for l in clause:\n",
    "            score[l] += 2. ** (-len(clause))\n",
    "\n",
    "    return max(score, key=score.get)"
   ]
  },
  {
   "cell_type": "code",
   "execution_count": 11,
   "metadata": {},
   "outputs": [
    {
     "data": {
      "text/plain": [
       "-2"
      ]
     },
     "execution_count": 11,
     "metadata": {},
     "output_type": "execute_result"
    }
   ],
   "source": [
    "jw([[-1, -2], [+1, -2]])"
   ]
  },
  {
   "cell_type": "code",
   "execution_count": 12,
   "metadata": {},
   "outputs": [],
   "source": [
    "np.set_printoptions(precision=3, suppress=True)"
   ]
  },
  {
   "cell_type": "code",
   "execution_count": 13,
   "metadata": {
    "scrolled": true
   },
   "outputs": [],
   "source": [
    "import tensorflow as tf\n",
    "import os\n",
    "\n",
    "BATCH_SIZE = 1"
   ]
  },
  {
   "cell_type": "code",
   "execution_count": 14,
   "metadata": {},
   "outputs": [],
   "source": [
    "VERBOSE = False\n",
    "TIMEOUT = 10000\n",
    "cdcl.VERBOSE = VERBOSE\n",
    "cdcl.TIMEOUT = TIMEOUT\n",
    "\n",
    "class GraphBasedCDCL(CDCL):\n",
    "    def suggest(self, input_cnf: CNF):\n",
    "        clause_num = len(input_cnf.clauses)\n",
    "        var_num = max(input_cnf.vars)\n",
    "        inputs = np.asarray([clauses_to_matrix(input_cnf.clauses, clause_num, var_num)] * BATCH_SIZE)\n",
    "        \n",
    "        output = predict_fn({\"input\": inputs})\n",
    "        policy_probs = output['policy_probabilities']\n",
    "        sat_prob = output['sat_probabilities'][0]\n",
    "        \n",
    "        #print(\"CNF:\", input_cnf, end=' ', file=logfile)\n",
    "        #print('cnf_clauses[0]', input_cnf.clauses, end=' ', file=logfile)\n",
    "        #print(\"probs:\\n\",  policy_probs[0], end='\\n', file=logfile)\n",
    "        \n",
    "        best_prob = 0.0\n",
    "        best_svar = None\n",
    "        for var in input_cnf.vars:\n",
    "            for svar in [var, -var]:\n",
    "                svar_prob = policy_probs[0][var-1][0 if svar > 0 else 1]\n",
    "                #print(svar, svar_prob, best_prob, file=logfile)\n",
    "                if svar_prob > best_prob:\n",
    "                    best_prob = svar_prob\n",
    "                    best_svar = svar\n",
    "        #print(\"best_svar:\", best_svar, file=logfile)\n",
    "        if VERBOSE:\n",
    "            print(\"Chosen neural\", best_svar)\n",
    "            print(\"Pred SAT prob\", sat_prob)\n",
    "        return best_svar\n",
    "\n",
    "class HumbleGraphBasedCDCL(CDCL):\n",
    "    def suggest(self, input_cnf: CNF):\n",
    "        clause_num = len(input_cnf.clauses)\n",
    "        var_num = max(input_cnf.vars)\n",
    "        inputs = np.asarray([clauses_to_matrix(input_cnf.clauses, clause_num, var_num)] * BATCH_SIZE)\n",
    "        \n",
    "        output = predict_fn({\"input\": inputs})\n",
    "        policy_probs = output['policy_probabilities']\n",
    "        sat_prob = output['sat_probabilities'][0]\n",
    "        \n",
    "        #print(\"CNF:\", input_cnf, end=' ', file=logfile)\n",
    "        #print('cnf_clauses[0]', input_cnf.clauses, end=' ', file=logfile)\n",
    "        #print(\"probs:\\n\",  policy_probs[0], end='\\n', file=logfile)\n",
    "        \n",
    "        best_prob = 0.0\n",
    "        best_svar = None\n",
    "        for var in input_cnf.vars:\n",
    "            for svar in [var, -var]:\n",
    "                svar_prob = policy_probs[0][var-1][0 if svar > 0 else 1]\n",
    "                #print(svar, svar_prob, best_prob, file=logfile)\n",
    "                if svar_prob > best_prob:\n",
    "                    best_prob = svar_prob\n",
    "                    best_svar = svar\n",
    "        #print(\"best_svar:\", best_svar, file=logfile)\n",
    "        if VERBOSE:\n",
    "            print(\"Chosen neural\", best_svar)\n",
    "            print(\"Pred SAT prob\", sat_prob)\n",
    "        if sat_prob < 0.3:\n",
    "            # Overwriting with JW\n",
    "            best_svar = jw(input_cnf.clauses)\n",
    "            if VERBOSE:\n",
    "                print(\"Choosing JW\", best_svar)\n",
    "        #if sat_prob < 0.02:\n",
    "        #    print(\"Aborting, prob too small\")\n",
    "        #    raise ValueError(\"Prob too small\")\n",
    "        return best_svar\n",
    "\n",
    "class JeroslawCDCL(CDCL):\n",
    "    def suggest(self, cnf: CNF):\n",
    "        res = jw(cnf.clauses)\n",
    "        if VERBOSE:\n",
    "            print(\"Chosen JW\", res)\n",
    "        return res"
   ]
  },
  {
   "cell_type": "code",
   "execution_count": 15,
   "metadata": {},
   "outputs": [],
   "source": [
    "HumbleGraphBasedCDCL().run(CNF([[-1, -2], [+1, +3], [+2, -3], [+3, -2], [+1, -2], [2, 3]]))"
   ]
  },
  {
   "cell_type": "code",
   "execution_count": 16,
   "metadata": {},
   "outputs": [],
   "source": [
    "def compute_steps(sats, cdcl_cls):\n",
    "    steps = []\n",
    "    solved = 0\n",
    "    for sat in sats:\n",
    "        cdcl = cdcl_cls()\n",
    "        res = cdcl.run(sat)\n",
    "        # assert res is not None\n",
    "        if res is not None:\n",
    "            steps.append(cdcl.number_of_runs)\n",
    "            solved += 1\n",
    "    print(\"Within {} steps solved {} problems out of {}\".format(LIMIT_RUNS, solved, len(sats)))\n",
    "    return steps"
   ]
  },
  {
   "cell_type": "code",
   "execution_count": 17,
   "metadata": {},
   "outputs": [],
   "source": [
    "def compute_and_print_steps(sats, dpll_cls):\n",
    "    try:\n",
    "        print(\"\")\n",
    "        print(\"Results of {}\".format(dpll_cls.__name__))\n",
    "        steps = compute_steps(sats, dpll_cls)\n",
    "        print(\"#Sats: {}; avg step: {:.2f}; stdev step: {:.2f}\".format(\n",
    "            len(steps), np.mean(steps), np.std(steps)))\n",
    "        print(\"Table: {}\".format(steps))\n",
    "    except:\n",
    "        print(\"Timeout!\", TIMEOUT, \"steps\")\n",
    "    \"\"\"\n",
    "    plt.figure(figsize=(14, 4))\n",
    "    plt.subplot(1, 2, 1)\n",
    "    plt.title(\"Steps of {}\".format(dpll_cls.__name__))\n",
    "    plt.hist(steps, bins=20) # range(2**(N+1)))\n",
    "    plt.ylim((0, len(sats)))\n",
    "    \"\"\n",
    "    plt.subplot(1, 2, 2)\n",
    "    plt.title(\"Errors of {}\".format(dpll_cls.__name__))\n",
    "    plt.hist(errors, bins=range(N+1))\n",
    "    plt.ylim((0, len(sats)))\n",
    "    plt.show()\n",
    "    \"\"\""
   ]
  },
  {
   "cell_type": "code",
   "execution_count": 18,
   "metadata": {},
   "outputs": [],
   "source": [
    "def print_all(s, n, m, light=False, seed=1, to_test=[HumbleGraphBasedCDCL, GraphBasedCDCL, JeroslawCDCL]):\n",
    "    print(\"Starting...\")\n",
    "    # def get_sats_SR(sample_number, min_variable_number, clause_number, max_variable_number=None):\n",
    "    global S, N, M\n",
    "    S = s\n",
    "    N = n # number of clauses\n",
    "    M = m # number of variables\n",
    "    \n",
    "    MAX_TRIES = 100000\n",
    "    sats = []\n",
    "    \n",
    "    random.seed(seed)\n",
    "    np.random.seed(seed)\n",
    "    \n",
    "    for index in range(MAX_TRIES):\n",
    "        if len(sats) >= S:\n",
    "            break\n",
    "        sat = get_pos_SR(M, M, N)\n",
    "        # if DPLL().run(sat) is not None:\n",
    "        sats.append(sat)\n",
    "    assert len(sats) == S\n",
    "    # sats = get_sats_SR(S,M,N)\n",
    "    # for sat in sats:\n",
    "    #    print(sat)\n",
    "    # assert len(sats) == S\n",
    "    print(\"We have generated {} formulas\".format(len(sats)))\n",
    "    # compute_and_print_steps(sats, DPLL)\n",
    "    # compute_and_print_steps(sats, SimplifiedGraphBasedDPLL)\n",
    "    \n",
    "    \n",
    "    # compute_and_print_steps(sats, SimplifiedMostCommonDPLL)\n",
    "    # compute_and_print_steps(sats, NormalizedMostCommonDPLL)\n",
    "    \n",
    "    #compute_and_print_steps(sats, GraphBasedCDCL)\n",
    "    for method in to_test:\n",
    "        compute_and_print_steps(sats, method)\n",
    "    #logfile.flush()"
   ]
  },
  {
   "cell_type": "code",
   "execution_count": 19,
   "metadata": {},
   "outputs": [],
   "source": [
    "#print_all(10, 200, 50)"
   ]
  },
  {
   "cell_type": "code",
   "execution_count": 21,
   "metadata": {},
   "outputs": [
    {
     "name": "stdout",
     "output_type": "stream",
     "text": [
      "Starting...\n",
      "We have generated 10 formulas\n",
      "\n",
      "Results of HumbleGraphBasedCDCL\n",
      "Within 1000 steps solved 10 problems out of 10\n",
      "#Sats: 10; avg step: 21.10; stdev step: 16.74\n",
      "Table: [26, 12, 13, 14, 13, 70, 14, 15, 18, 16]\n",
      "\n",
      "Results of GraphBasedCDCL\n",
      "Within 1000 steps solved 10 problems out of 10\n",
      "#Sats: 10; avg step: 25.80; stdev step: 35.47\n",
      "Table: [10, 12, 13, 14, 13, 132, 14, 15, 19, 16]\n",
      "\n",
      "Results of JeroslawCDCL\n",
      "Within 1000 steps solved 10 problems out of 10\n",
      "#Sats: 10; avg step: 42.00; stdev step: 20.39\n",
      "Table: [54, 78, 57, 11, 11, 35, 59, 44, 27, 44]\n"
     ]
    }
   ],
   "source": [
    "print_all(10, 1000, 40)"
   ]
  },
  {
   "cell_type": "code",
   "execution_count": 22,
   "metadata": {},
   "outputs": [
    {
     "name": "stdout",
     "output_type": "stream",
     "text": [
      "Starting...\n",
      "We have generated 10 formulas\n",
      "\n",
      "Results of HumbleGraphBasedCDCL\n",
      "Within 1000 steps solved 10 problems out of 10\n",
      "#Sats: 10; avg step: 34.60; stdev step: 38.25\n",
      "Table: [11, 8, 25, 24, 16, 16, 68, 20, 139, 19]\n",
      "\n",
      "Results of GraphBasedCDCL\n",
      "Within 1000 steps solved 10 problems out of 10\n",
      "#Sats: 10; avg step: 64.90; stdev step: 99.87\n",
      "Table: [11, 58, 27, 24, 16, 102, 354, 20, 18, 19]\n",
      "\n",
      "Results of JeroslawCDCL\n",
      "Within 1000 steps solved 10 problems out of 10\n",
      "#Sats: 10; avg step: 57.50; stdev step: 39.37\n",
      "Table: [29, 12, 108, 47, 60, 125, 65, 14, 99, 16]\n"
     ]
    }
   ],
   "source": [
    "print_all(10, 1000, 50)"
   ]
  },
  {
   "cell_type": "code",
   "execution_count": 18,
   "metadata": {
    "scrolled": false
   },
   "outputs": [
    {
     "name": "stdout",
     "output_type": "stream",
     "text": [
      "Starting...\n",
      "We have generated 1 formulas\n",
      "\n",
      "Results of HumbleGraphBasedCDCL\n",
      "Within 1000 steps solved 1 problems out of 1\n",
      "#Sats: 1; avg step: 12.00; stdev step: 0.00\n",
      "\n",
      "Results of GraphBasedCDCL\n",
      "Within 1000 steps solved 1 problems out of 1\n",
      "#Sats: 1; avg step: 76.00; stdev step: 0.00\n",
      "\n",
      "Results of JeroslawCDCL\n",
      "Within 1000 steps solved 1 problems out of 1\n",
      "#Sats: 1; avg step: 15.00; stdev step: 0.00\n"
     ]
    }
   ],
   "source": [
    "print_all(1, 2000, 40, seed=4)"
   ]
  },
  {
   "cell_type": "code",
   "execution_count": 23,
   "metadata": {},
   "outputs": [
    {
     "name": "stdout",
     "output_type": "stream",
     "text": [
      "Starting...\n",
      "We have generated 30 formulas\n",
      "\n",
      "Results of HumbleGraphBasedCDCL\n",
      "Within 1000 steps solved 30 problems out of 30\n",
      "#Sats: 30; avg step: 10.57; stdev step: 5.89\n",
      "\n",
      "Results of GraphBasedCDCL\n",
      "Within 1000 steps solved 30 problems out of 30\n",
      "#Sats: 30; avg step: 10.70; stdev step: 7.01\n",
      "\n",
      "Results of JeroslawCDCL\n",
      "Within 1000 steps solved 30 problems out of 30\n",
      "#Sats: 30; avg step: 10.63; stdev step: 5.06\n"
     ]
    }
   ],
   "source": [
    "print_all(30, 200, 20)"
   ]
  },
  {
   "cell_type": "code",
   "execution_count": 36,
   "metadata": {},
   "outputs": [
    {
     "name": "stdout",
     "output_type": "stream",
     "text": [
      "Starting...\n",
      "We have generated 10 formulas\n",
      "\n",
      "Results of HumbleGraphBasedCDCL\n",
      "Within 1000 steps solved 10 problems out of 10\n",
      "#Sats: 10; avg step: 13.10; stdev step: 8.93\n",
      "\n",
      "Results of GraphBasedCDCL\n",
      "Within 1000 steps solved 10 problems out of 10\n",
      "#Sats: 10; avg step: 12.90; stdev step: 9.49\n",
      "\n",
      "Results of JeroslawCDCL\n",
      "Within 1000 steps solved 10 problems out of 10\n",
      "#Sats: 10; avg step: 19.10; stdev step: 11.06\n"
     ]
    }
   ],
   "source": [
    "print_all(10, 2000, 30)"
   ]
  },
  {
   "cell_type": "code",
   "execution_count": null,
   "metadata": {},
   "outputs": [],
   "source": [
    "print_all(10, 2000, 40)"
   ]
  },
  {
   "cell_type": "code",
   "execution_count": 19,
   "metadata": {},
   "outputs": [
    {
     "name": "stdout",
     "output_type": "stream",
     "text": [
      "Starting...\n",
      "We have generated 1 formulas\n",
      "\n",
      "Results of HumbleGraphBasedCDCL\n",
      "Within 1000 steps solved 1 problems out of 1\n",
      "#Sats: 1; avg step: 11.00; stdev step: 0.00\n",
      "\n",
      "Results of GraphBasedCDCL\n",
      "Within 1000 steps solved 1 problems out of 1\n",
      "#Sats: 1; avg step: 11.00; stdev step: 0.00\n",
      "\n",
      "Results of JeroslawCDCL\n",
      "Within 1000 steps solved 1 problems out of 1\n",
      "#Sats: 1; avg step: 29.00; stdev step: 0.00\n"
     ]
    }
   ],
   "source": [
    "print_all(1, 10000, 50)"
   ]
  },
  {
   "cell_type": "code",
   "execution_count": 20,
   "metadata": {},
   "outputs": [
    {
     "name": "stdout",
     "output_type": "stream",
     "text": [
      "Starting...\n",
      "We have generated 1 formulas\n",
      "\n",
      "Results of HumbleGraphBasedCDCL\n",
      "Within 1000 steps solved 1 problems out of 1\n",
      "#Sats: 1; avg step: 15.00; stdev step: 0.00\n",
      "\n",
      "Results of GraphBasedCDCL\n",
      "Within 1000 steps solved 1 problems out of 1\n",
      "#Sats: 1; avg step: 15.00; stdev step: 0.00\n",
      "\n",
      "Results of JeroslawCDCL\n",
      "Within 1000 steps solved 1 problems out of 1\n",
      "#Sats: 1; avg step: 136.00; stdev step: 0.00\n"
     ]
    }
   ],
   "source": [
    "print_all(1, 10000, 60)"
   ]
  },
  {
   "cell_type": "code",
   "execution_count": 21,
   "metadata": {},
   "outputs": [
    {
     "name": "stdout",
     "output_type": "stream",
     "text": [
      "Starting...\n",
      "We have generated 1 formulas\n",
      "\n",
      "Results of HumbleGraphBasedCDCL\n",
      "Within 1000 steps solved 1 problems out of 1\n",
      "#Sats: 1; avg step: 19.00; stdev step: 0.00\n",
      "\n",
      "Results of GraphBasedCDCL\n",
      "Within 1000 steps solved 1 problems out of 1\n",
      "#Sats: 1; avg step: 19.00; stdev step: 0.00\n",
      "\n",
      "Results of JeroslawCDCL\n",
      "Within 1000 steps solved 1 problems out of 1\n",
      "#Sats: 1; avg step: 353.00; stdev step: 0.00\n"
     ]
    }
   ],
   "source": [
    "print_all(1, 10000, 70)"
   ]
  },
  {
   "cell_type": "code",
   "execution_count": 22,
   "metadata": {},
   "outputs": [
    {
     "name": "stdout",
     "output_type": "stream",
     "text": [
      "Starting...\n",
      "We have generated 1 formulas\n",
      "\n",
      "Results of HumbleGraphBasedCDCL\n",
      "Within 1000 steps solved 1 problems out of 1\n",
      "#Sats: 1; avg step: 25.00; stdev step: 0.00\n",
      "\n",
      "Results of GraphBasedCDCL\n",
      "Within 1000 steps solved 1 problems out of 1\n",
      "#Sats: 1; avg step: 302.00; stdev step: 0.00\n",
      "\n",
      "Results of JeroslawCDCL\n",
      "Within 1000 steps solved 1 problems out of 1\n",
      "#Sats: 1; avg step: 419.00; stdev step: 0.00\n"
     ]
    }
   ],
   "source": [
    "print_all(1, 10000, 80)"
   ]
  },
  {
   "cell_type": "code",
   "execution_count": 41,
   "metadata": {
    "scrolled": false
   },
   "outputs": [
    {
     "name": "stdout",
     "output_type": "stream",
     "text": [
      "Starting...\n",
      "We have generated 1 formulas\n",
      "\n",
      "Results of HumbleGraphBasedCDCL\n",
      "--- DEBUG\n",
      "original clauses numb 978\n",
      "learnt clauses numb 0\n",
      "current clauses numb 978\n",
      "to-date set lits: []\n",
      "Chosen neural -29\n",
      "Pred SAT prob 0.44459802\n",
      "--- DEBUG\n",
      "original clauses numb 978\n",
      "learnt clauses numb 0\n",
      "current clauses numb 948\n",
      "to-date set lits: [-29]\n",
      "Chosen neural -54\n",
      "Pred SAT prob 0.2593391\n",
      "Choosing JW 61\n",
      "--- DEBUG\n",
      "original clauses numb 978\n",
      "learnt clauses numb 0\n",
      "current clauses numb 916\n",
      "to-date set lits: [-29, 61]\n",
      "Chosen neural -34\n",
      "Pred SAT prob 0.14293711\n",
      "Choosing JW -9\n",
      "--- DEBUG\n",
      "original clauses numb 978\n",
      "learnt clauses numb 0\n",
      "current clauses numb 893\n",
      "to-date set lits: [-9, -29, 61]\n",
      "Chosen neural 56\n",
      "Pred SAT prob 0.55247706\n",
      "--- DEBUG\n",
      "original clauses numb 978\n",
      "learnt clauses numb 0\n",
      "current clauses numb 867\n",
      "to-date set lits: [-9, -29, 56, 61]\n",
      "Chosen neural 59\n",
      "Pred SAT prob 0.4474415\n",
      "--- DEBUG\n",
      "original clauses numb 978\n",
      "learnt clauses numb 0\n",
      "current clauses numb 842\n",
      "to-date set lits: [-9, -29, 56, 59, 61]\n",
      "Chosen neural -34\n",
      "Pred SAT prob 0.06937892\n",
      "Choosing JW -15\n",
      "--- DEBUG\n",
      "original clauses numb 978\n",
      "learnt clauses numb 0\n",
      "current clauses numb 816\n",
      "to-date set lits: [-9, -15, -29, 56, 59, 61]\n",
      "Timeout! 10000 steps\n"
     ]
    }
   ],
   "source": [
    "print_all(1, 10000, 100, seed=2, to_test=[HumbleGraphBasedCDCL])"
   ]
  },
  {
   "cell_type": "code",
   "execution_count": 23,
   "metadata": {},
   "outputs": [
    {
     "name": "stdout",
     "output_type": "stream",
     "text": [
      "Starting...\n",
      "We have generated 1 formulas\n",
      "\n",
      "Results of HumbleGraphBasedCDCL\n",
      "Within 1000 steps solved 1 problems out of 1\n",
      "#Sats: 1; avg step: 24.00; stdev step: 0.00\n",
      "\n",
      "Results of GraphBasedCDCL\n",
      "Within 1000 steps solved 1 problems out of 1\n",
      "#Sats: 1; avg step: 24.00; stdev step: 0.00\n",
      "\n",
      "Results of JeroslawCDCL\n",
      "Timeout! 1000 steps\n"
     ]
    }
   ],
   "source": [
    "print_all(1, 10000, 90)"
   ]
  },
  {
   "cell_type": "code",
   "execution_count": 24,
   "metadata": {},
   "outputs": [
    {
     "name": "stdout",
     "output_type": "stream",
     "text": [
      "Starting...\n",
      "We have generated 1 formulas\n",
      "\n",
      "Results of HumbleGraphBasedCDCL\n",
      "Within 1000 steps solved 1 problems out of 1\n",
      "#Sats: 1; avg step: 42.00; stdev step: 0.00\n",
      "\n",
      "Results of GraphBasedCDCL\n",
      "Within 1000 steps solved 1 problems out of 1\n",
      "#Sats: 1; avg step: 42.00; stdev step: 0.00\n",
      "\n",
      "Results of JeroslawCDCL\n",
      "Within 1000 steps solved 1 problems out of 1\n",
      "#Sats: 1; avg step: 201.00; stdev step: 0.00\n"
     ]
    }
   ],
   "source": [
    "print_all(1, 100000, 100)"
   ]
  },
  {
   "cell_type": "code",
   "execution_count": 25,
   "metadata": {},
   "outputs": [
    {
     "name": "stdout",
     "output_type": "stream",
     "text": [
      "Starting...\n",
      "We have generated 1 formulas\n",
      "\n",
      "Results of HumbleGraphBasedCDCL\n",
      "Timeout! 1000 steps\n",
      "\n",
      "Results of GraphBasedCDCL\n",
      "Timeout! 1000 steps\n",
      "\n",
      "Results of JeroslawCDCL\n",
      "Timeout! 1000 steps\n"
     ]
    }
   ],
   "source": [
    "print_all(1, 100000, 110)"
   ]
  },
  {
   "cell_type": "code",
   "execution_count": 26,
   "metadata": {},
   "outputs": [
    {
     "name": "stdout",
     "output_type": "stream",
     "text": [
      "Starting...\n",
      "We have generated 1 formulas\n",
      "\n",
      "Results of HumbleGraphBasedCDCL\n",
      "Timeout! 1000 steps\n",
      "\n",
      "Results of GraphBasedCDCL\n",
      "Timeout! 1000 steps\n",
      "\n",
      "Results of JeroslawCDCL\n",
      "Timeout! 1000 steps\n"
     ]
    }
   ],
   "source": [
    "print_all(1, 100000, 120)"
   ]
  },
  {
   "cell_type": "code",
   "execution_count": 27,
   "metadata": {},
   "outputs": [
    {
     "name": "stdout",
     "output_type": "stream",
     "text": [
      "Starting...\n",
      "We have generated 1 formulas\n",
      "\n",
      "Results of HumbleGraphBasedCDCL\n",
      "Timeout! 1000 steps\n",
      "\n",
      "Results of GraphBasedCDCL\n",
      "Timeout! 1000 steps\n",
      "\n",
      "Results of JeroslawCDCL\n",
      "Timeout! 1000 steps\n"
     ]
    }
   ],
   "source": [
    "print_all(1, 100000, 130)"
   ]
  },
  {
   "cell_type": "code",
   "execution_count": 28,
   "metadata": {
    "scrolled": true
   },
   "outputs": [
    {
     "name": "stdout",
     "output_type": "stream",
     "text": [
      "Starting...\n"
     ]
    },
    {
     "ename": "error",
     "evalue": "Caught keyboard interrupt",
     "output_type": "error",
     "traceback": [
      "\u001b[0;31m---------------------------------------------------------------------------\u001b[0m",
      "\u001b[0;31merror\u001b[0m                                     Traceback (most recent call last)",
      "\u001b[0;32m~/PycharmProjects/deepsat/venv/lib/python3.6/site-packages/IPython/core/interactiveshell.py\u001b[0m in \u001b[0;36mrun_code\u001b[0;34m(self, code_obj, result)\u001b[0m\n\u001b[1;32m   3266\u001b[0m                 \u001b[0;32melse\u001b[0m\u001b[0;34m:\u001b[0m\u001b[0;34m\u001b[0m\u001b[0m\n\u001b[0;32m-> 3267\u001b[0;31m                     \u001b[0mexec\u001b[0m\u001b[0;34m(\u001b[0m\u001b[0mcode_obj\u001b[0m\u001b[0;34m,\u001b[0m \u001b[0mself\u001b[0m\u001b[0;34m.\u001b[0m\u001b[0muser_global_ns\u001b[0m\u001b[0;34m,\u001b[0m \u001b[0mself\u001b[0m\u001b[0;34m.\u001b[0m\u001b[0muser_ns\u001b[0m\u001b[0;34m)\u001b[0m\u001b[0;34m\u001b[0m\u001b[0m\n\u001b[0m\u001b[1;32m   3268\u001b[0m             \u001b[0;32mfinally\u001b[0m\u001b[0;34m:\u001b[0m\u001b[0;34m\u001b[0m\u001b[0m\n",
      "\u001b[0;32m<ipython-input-28-8e2fdd8c2edf>\u001b[0m in \u001b[0;36m<module>\u001b[0;34m\u001b[0m\n\u001b[0;32m----> 1\u001b[0;31m \u001b[0mprint_all\u001b[0m\u001b[0;34m(\u001b[0m\u001b[0;36m1\u001b[0m\u001b[0;34m,\u001b[0m \u001b[0;36m100000\u001b[0m\u001b[0;34m,\u001b[0m \u001b[0;36m140\u001b[0m\u001b[0;34m)\u001b[0m\u001b[0;34m\u001b[0m\u001b[0m\n\u001b[0m",
      "\u001b[0;32m<ipython-input-17-8d6d14af506e>\u001b[0m in \u001b[0;36mprint_all\u001b[0;34m(s, n, m, light, seed)\u001b[0m\n\u001b[1;32m     17\u001b[0m             \u001b[0;32mbreak\u001b[0m\u001b[0;34m\u001b[0m\u001b[0m\n\u001b[0;32m---> 18\u001b[0;31m         \u001b[0msat\u001b[0m \u001b[0;34m=\u001b[0m \u001b[0mget_pos_SR\u001b[0m\u001b[0;34m(\u001b[0m\u001b[0mM\u001b[0m\u001b[0;34m,\u001b[0m \u001b[0mM\u001b[0m\u001b[0;34m,\u001b[0m \u001b[0mN\u001b[0m\u001b[0;34m)\u001b[0m\u001b[0;34m\u001b[0m\u001b[0m\n\u001b[0m\u001b[1;32m     19\u001b[0m         \u001b[0;31m# if DPLL().run(sat) is not None:\u001b[0m\u001b[0;34m\u001b[0m\u001b[0;34m\u001b[0m\u001b[0m\n",
      "\u001b[0;32m~/PycharmProjects/deepsat/cnf.py\u001b[0m in \u001b[0;36mget_pos_SR\u001b[0;34m(min_variable_number, max_variable_number, clause_number)\u001b[0m\n\u001b[1;32m     52\u001b[0m     \u001b[0msolver\u001b[0m \u001b[0;34m=\u001b[0m \u001b[0mMinisat22\u001b[0m\u001b[0;34m(\u001b[0m\u001b[0;34m)\u001b[0m\u001b[0;34m\u001b[0m\u001b[0m\n\u001b[0;32m---> 53\u001b[0;31m     \u001b[0;32mwhile\u001b[0m \u001b[0msolver\u001b[0m\u001b[0;34m.\u001b[0m\u001b[0msolve\u001b[0m\u001b[0;34m(\u001b[0m\u001b[0;34m)\u001b[0m\u001b[0;34m:\u001b[0m\u001b[0;34m\u001b[0m\u001b[0m\n\u001b[0m\u001b[1;32m     54\u001b[0m         \u001b[0mclause\u001b[0m \u001b[0;34m=\u001b[0m \u001b[0mget_SR\u001b[0m\u001b[0;34m(\u001b[0m\u001b[0mvariable_number\u001b[0m\u001b[0;34m)\u001b[0m\u001b[0;34m\u001b[0m\u001b[0m\n",
      "\u001b[0;32m~/PycharmProjects/deepsat/venv/lib/python3.6/site-packages/pysat/solvers.py\u001b[0m in \u001b[0;36msolve\u001b[0;34m(self, assumptions)\u001b[0m\n\u001b[1;32m   2087\u001b[0m \u001b[0;34m\u001b[0m\u001b[0m\n\u001b[0;32m-> 2088\u001b[0;31m             \u001b[0mself\u001b[0m\u001b[0;34m.\u001b[0m\u001b[0mstatus\u001b[0m \u001b[0;34m=\u001b[0m \u001b[0mpysolvers\u001b[0m\u001b[0;34m.\u001b[0m\u001b[0mminisat22_solve\u001b[0m\u001b[0;34m(\u001b[0m\u001b[0mself\u001b[0m\u001b[0;34m.\u001b[0m\u001b[0mminisat\u001b[0m\u001b[0;34m,\u001b[0m \u001b[0massumptions\u001b[0m\u001b[0;34m)\u001b[0m\u001b[0;34m\u001b[0m\u001b[0m\n\u001b[0m\u001b[1;32m   2089\u001b[0m \u001b[0;34m\u001b[0m\u001b[0m\n",
      "\u001b[0;31merror\u001b[0m: Caught keyboard interrupt",
      "\nDuring handling of the above exception, another exception occurred:\n",
      "\u001b[0;31mAttributeError\u001b[0m                            Traceback (most recent call last)",
      "\u001b[0;32m~/PycharmProjects/deepsat/venv/lib/python3.6/site-packages/IPython/core/interactiveshell.py\u001b[0m in \u001b[0;36mshowtraceback\u001b[0;34m(self, exc_tuple, filename, tb_offset, exception_only, running_compiled_code)\u001b[0m\n\u001b[1;32m   2017\u001b[0m                         \u001b[0;31m# in the engines. This should return a list of strings.\u001b[0m\u001b[0;34m\u001b[0m\u001b[0;34m\u001b[0m\u001b[0m\n\u001b[0;32m-> 2018\u001b[0;31m                         \u001b[0mstb\u001b[0m \u001b[0;34m=\u001b[0m \u001b[0mvalue\u001b[0m\u001b[0;34m.\u001b[0m\u001b[0m_render_traceback_\u001b[0m\u001b[0;34m(\u001b[0m\u001b[0;34m)\u001b[0m\u001b[0;34m\u001b[0m\u001b[0m\n\u001b[0m\u001b[1;32m   2019\u001b[0m                     \u001b[0;32mexcept\u001b[0m \u001b[0mException\u001b[0m\u001b[0;34m:\u001b[0m\u001b[0;34m\u001b[0m\u001b[0m\n",
      "\u001b[0;31mAttributeError\u001b[0m: 'error' object has no attribute '_render_traceback_'",
      "\nDuring handling of the above exception, another exception occurred:\n",
      "\u001b[0;31merror\u001b[0m                                     Traceback (most recent call last)",
      "\u001b[0;32m~/PycharmProjects/deepsat/venv/lib/python3.6/site-packages/IPython/core/interactiveshell.py\u001b[0m in \u001b[0;36mrun_code\u001b[0;34m(self, code_obj, result)\u001b[0m\n\u001b[1;32m   3282\u001b[0m             \u001b[0;32mif\u001b[0m \u001b[0mresult\u001b[0m \u001b[0;32mis\u001b[0m \u001b[0;32mnot\u001b[0m \u001b[0;32mNone\u001b[0m\u001b[0;34m:\u001b[0m\u001b[0;34m\u001b[0m\u001b[0m\n\u001b[1;32m   3283\u001b[0m                 \u001b[0mresult\u001b[0m\u001b[0;34m.\u001b[0m\u001b[0merror_in_exec\u001b[0m \u001b[0;34m=\u001b[0m \u001b[0msys\u001b[0m\u001b[0;34m.\u001b[0m\u001b[0mexc_info\u001b[0m\u001b[0;34m(\u001b[0m\u001b[0;34m)\u001b[0m\u001b[0;34m[\u001b[0m\u001b[0;36m1\u001b[0m\u001b[0;34m]\u001b[0m\u001b[0;34m\u001b[0m\u001b[0m\n\u001b[0;32m-> 3284\u001b[0;31m             \u001b[0mself\u001b[0m\u001b[0;34m.\u001b[0m\u001b[0mshowtraceback\u001b[0m\u001b[0;34m(\u001b[0m\u001b[0mrunning_compiled_code\u001b[0m\u001b[0;34m=\u001b[0m\u001b[0;32mTrue\u001b[0m\u001b[0;34m)\u001b[0m\u001b[0;34m\u001b[0m\u001b[0m\n\u001b[0m\u001b[1;32m   3285\u001b[0m         \u001b[0;32melse\u001b[0m\u001b[0;34m:\u001b[0m\u001b[0;34m\u001b[0m\u001b[0m\n\u001b[1;32m   3286\u001b[0m             \u001b[0moutflag\u001b[0m \u001b[0;34m=\u001b[0m \u001b[0;32mFalse\u001b[0m\u001b[0;34m\u001b[0m\u001b[0m\n",
      "\u001b[0;32m~/PycharmProjects/deepsat/venv/lib/python3.6/site-packages/IPython/core/interactiveshell.py\u001b[0m in \u001b[0;36mshowtraceback\u001b[0;34m(self, exc_tuple, filename, tb_offset, exception_only, running_compiled_code)\u001b[0m\n\u001b[1;32m   2019\u001b[0m                     \u001b[0;32mexcept\u001b[0m \u001b[0mException\u001b[0m\u001b[0;34m:\u001b[0m\u001b[0;34m\u001b[0m\u001b[0m\n\u001b[1;32m   2020\u001b[0m                         stb = self.InteractiveTB.structured_traceback(etype,\n\u001b[0;32m-> 2021\u001b[0;31m                                             value, tb, tb_offset=tb_offset)\n\u001b[0m\u001b[1;32m   2022\u001b[0m \u001b[0;34m\u001b[0m\u001b[0m\n\u001b[1;32m   2023\u001b[0m                     \u001b[0mself\u001b[0m\u001b[0;34m.\u001b[0m\u001b[0m_showtraceback\u001b[0m\u001b[0;34m(\u001b[0m\u001b[0metype\u001b[0m\u001b[0;34m,\u001b[0m \u001b[0mvalue\u001b[0m\u001b[0;34m,\u001b[0m \u001b[0mstb\u001b[0m\u001b[0;34m)\u001b[0m\u001b[0;34m\u001b[0m\u001b[0m\n",
      "\u001b[0;32m~/PycharmProjects/deepsat/venv/lib/python3.6/site-packages/IPython/core/ultratb.py\u001b[0m in \u001b[0;36mstructured_traceback\u001b[0;34m(self, etype, value, tb, tb_offset, number_of_lines_of_context)\u001b[0m\n\u001b[1;32m   1377\u001b[0m         \u001b[0mself\u001b[0m\u001b[0;34m.\u001b[0m\u001b[0mtb\u001b[0m \u001b[0;34m=\u001b[0m \u001b[0mtb\u001b[0m\u001b[0;34m\u001b[0m\u001b[0m\n\u001b[1;32m   1378\u001b[0m         return FormattedTB.structured_traceback(\n\u001b[0;32m-> 1379\u001b[0;31m             self, etype, value, tb, tb_offset, number_of_lines_of_context)\n\u001b[0m\u001b[1;32m   1380\u001b[0m \u001b[0;34m\u001b[0m\u001b[0m\n\u001b[1;32m   1381\u001b[0m \u001b[0;34m\u001b[0m\u001b[0m\n",
      "\u001b[0;32m~/PycharmProjects/deepsat/venv/lib/python3.6/site-packages/IPython/core/ultratb.py\u001b[0m in \u001b[0;36mstructured_traceback\u001b[0;34m(self, etype, value, tb, tb_offset, number_of_lines_of_context)\u001b[0m\n\u001b[1;32m   1280\u001b[0m             \u001b[0;31m# Verbose modes need a full traceback\u001b[0m\u001b[0;34m\u001b[0m\u001b[0;34m\u001b[0m\u001b[0m\n\u001b[1;32m   1281\u001b[0m             return VerboseTB.structured_traceback(\n\u001b[0;32m-> 1282\u001b[0;31m                 \u001b[0mself\u001b[0m\u001b[0;34m,\u001b[0m \u001b[0metype\u001b[0m\u001b[0;34m,\u001b[0m \u001b[0mvalue\u001b[0m\u001b[0;34m,\u001b[0m \u001b[0mtb\u001b[0m\u001b[0;34m,\u001b[0m \u001b[0mtb_offset\u001b[0m\u001b[0;34m,\u001b[0m \u001b[0mnumber_of_lines_of_context\u001b[0m\u001b[0;34m\u001b[0m\u001b[0m\n\u001b[0m\u001b[1;32m   1283\u001b[0m             )\n\u001b[1;32m   1284\u001b[0m         \u001b[0;32melif\u001b[0m \u001b[0mmode\u001b[0m \u001b[0;34m==\u001b[0m \u001b[0;34m'Minimal'\u001b[0m\u001b[0;34m:\u001b[0m\u001b[0;34m\u001b[0m\u001b[0m\n",
      "\u001b[0;32m~/PycharmProjects/deepsat/venv/lib/python3.6/site-packages/IPython/core/ultratb.py\u001b[0m in \u001b[0;36mstructured_traceback\u001b[0;34m(self, etype, evalue, etb, tb_offset, number_of_lines_of_context)\u001b[0m\n\u001b[1;32m   1131\u001b[0m \u001b[0;34m\u001b[0m\u001b[0m\n\u001b[1;32m   1132\u001b[0m         formatted_exception = self.format_exception_as_a_whole(etype, evalue, etb, number_of_lines_of_context,\n\u001b[0;32m-> 1133\u001b[0;31m                                                                tb_offset)\n\u001b[0m\u001b[1;32m   1134\u001b[0m \u001b[0;34m\u001b[0m\u001b[0m\n\u001b[1;32m   1135\u001b[0m         \u001b[0mcolors\u001b[0m \u001b[0;34m=\u001b[0m \u001b[0mself\u001b[0m\u001b[0;34m.\u001b[0m\u001b[0mColors\u001b[0m  \u001b[0;31m# just a shorthand + quicker name lookup\u001b[0m\u001b[0;34m\u001b[0m\u001b[0m\n",
      "\u001b[0;31merror\u001b[0m: Caught keyboard interrupt"
     ]
    }
   ],
   "source": [
    "print_all(1, 100000, 140)"
   ]
  },
  {
   "cell_type": "code",
   "execution_count": null,
   "metadata": {},
   "outputs": [],
   "source": [
    "print_all(1, 100000, 150)"
   ]
  },
  {
   "cell_type": "code",
   "execution_count": 31,
   "metadata": {},
   "outputs": [
    {
     "name": "stdout",
     "output_type": "stream",
     "text": [
      "Starting...\n",
      "We have generated 1 formulas\n",
      "\n",
      "Results of HumbleGraphBasedCDCL\n",
      "Timeout! 100 steps\n",
      "\n",
      "Results of GraphBasedCDCL\n",
      "Timeout! 100 steps\n",
      "\n",
      "Results of JeroslawCDCL\n",
      "Timeout! 100 steps\n"
     ]
    }
   ],
   "source": [
    "print_all(1, 100000, 150, seed=2)"
   ]
  },
  {
   "cell_type": "code",
   "execution_count": null,
   "metadata": {},
   "outputs": [],
   "source": [
    "print_all(100, 200, 10)"
   ]
  },
  {
   "cell_type": "code",
   "execution_count": null,
   "metadata": {},
   "outputs": [],
   "source": [
    "print_all(10, 500, 25, light=True)"
   ]
  },
  {
   "cell_type": "code",
   "execution_count": null,
   "metadata": {},
   "outputs": [],
   "source": [
    "print_all(10, 500, 30, light=True)"
   ]
  },
  {
   "cell_type": "code",
   "execution_count": null,
   "metadata": {},
   "outputs": [],
   "source": [
    "print_all(10, 1000, 40, light=True)"
   ]
  },
  {
   "cell_type": "code",
   "execution_count": null,
   "metadata": {},
   "outputs": [],
   "source": [
    "print_all(10, 1000, 50, light=True)"
   ]
  },
  {
   "cell_type": "code",
   "execution_count": null,
   "metadata": {
    "scrolled": true
   },
   "outputs": [],
   "source": [
    "print_all(10, 1000, 70, light=True)"
   ]
  },
  {
   "cell_type": "code",
   "execution_count": null,
   "metadata": {},
   "outputs": [],
   "source": [
    "print_all(10, 1000, 90, light=True)"
   ]
  },
  {
   "cell_type": "code",
   "execution_count": 58,
   "metadata": {},
   "outputs": [
    {
     "name": "stdout",
     "output_type": "stream",
     "text": [
      "3\n"
     ]
    }
   ],
   "source": [
    "print(3)"
   ]
  },
  {
   "cell_type": "code",
   "execution_count": null,
   "metadata": {},
   "outputs": [
    {
     "name": "stdout",
     "output_type": "stream",
     "text": [
      "generated\n"
     ]
    }
   ],
   "source": [
    "cnf, solution = get_random_sat_kcnf(3, 1000, 5000)\n",
    "print(\"generated\")\n",
    "HumbleGraphBasedCDCL().run(cnf)"
   ]
  },
  {
   "cell_type": "code",
   "execution_count": 85,
   "metadata": {
    "scrolled": false
   },
   "outputs": [
    {
     "name": "stdout",
     "output_type": "stream",
     "text": [
      "Starting...\n",
      "We have generated 100 formulas\n",
      "\n",
      "Results of HumbleGraphBasedCDCL\n",
      "Within 1000 steps solved 100 problems out of 100\n",
      "#Sats: 100; avg step: 4.41; stdev step: 1.34\n",
      "\n",
      "Results of GraphBasedCDCL\n",
      "Within 1000 steps solved 100 problems out of 100\n",
      "#Sats: 100; avg step: 4.55; stdev step: 1.50\n",
      "\n",
      "Results of JeroslawCDCL\n",
      "Within 1000 steps solved 100 problems out of 100\n",
      "#Sats: 100; avg step: 5.01; stdev step: 1.82\n"
     ]
    }
   ],
   "source": [
    "print_all(100, 100000, 10)"
   ]
  },
  {
   "cell_type": "code",
   "execution_count": 59,
   "metadata": {
    "scrolled": true
   },
   "outputs": [
    {
     "name": "stdout",
     "output_type": "stream",
     "text": [
      "Starting...\n",
      "We have generated 1 formulas\n",
      "\n",
      "Results of HumbleGraphBasedCDCL\n",
      "Aborting, prob too small\n",
      "Timeout! 10000 steps\n",
      "Starting...\n",
      "We have generated 1 formulas\n",
      "\n",
      "Results of HumbleGraphBasedCDCL\n",
      "Aborting, prob too small\n",
      "Timeout! 10000 steps\n",
      "Starting...\n"
     ]
    },
    {
     "ename": "error",
     "evalue": "Caught keyboard interrupt",
     "output_type": "error",
     "traceback": [
      "\u001b[0;31m---------------------------------------------------------------------------\u001b[0m",
      "\u001b[0;31merror\u001b[0m                                     Traceback (most recent call last)",
      "\u001b[0;32m<ipython-input-59-7f92b79aba5f>\u001b[0m in \u001b[0;36m<module>\u001b[0;34m\u001b[0m\n\u001b[1;32m      1\u001b[0m \u001b[0;32mfor\u001b[0m \u001b[0ms\u001b[0m \u001b[0;32min\u001b[0m \u001b[0mrange\u001b[0m\u001b[0;34m(\u001b[0m\u001b[0;36m10\u001b[0m\u001b[0;34m,\u001b[0m \u001b[0;36m40\u001b[0m\u001b[0;34m)\u001b[0m\u001b[0;34m:\u001b[0m\u001b[0;34m\u001b[0m\u001b[0m\n\u001b[0;32m----> 2\u001b[0;31m     \u001b[0mprint_all\u001b[0m\u001b[0;34m(\u001b[0m\u001b[0;36m1\u001b[0m\u001b[0;34m,\u001b[0m \u001b[0;36m10000\u001b[0m\u001b[0;34m,\u001b[0m \u001b[0;36m180\u001b[0m\u001b[0;34m,\u001b[0m \u001b[0mseed\u001b[0m\u001b[0;34m=\u001b[0m\u001b[0ms\u001b[0m\u001b[0;34m,\u001b[0m \u001b[0mto_test\u001b[0m\u001b[0;34m=\u001b[0m\u001b[0;34m[\u001b[0m\u001b[0mHumbleGraphBasedCDCL\u001b[0m\u001b[0;34m]\u001b[0m\u001b[0;34m)\u001b[0m\u001b[0;34m\u001b[0m\u001b[0m\n\u001b[0m",
      "\u001b[0;32m<ipython-input-51-d802028f40ed>\u001b[0m in \u001b[0;36mprint_all\u001b[0;34m(s, n, m, light, seed, to_test)\u001b[0m\n\u001b[1;32m     16\u001b[0m         \u001b[0;32mif\u001b[0m \u001b[0mlen\u001b[0m\u001b[0;34m(\u001b[0m\u001b[0msats\u001b[0m\u001b[0;34m)\u001b[0m \u001b[0;34m>=\u001b[0m \u001b[0mS\u001b[0m\u001b[0;34m:\u001b[0m\u001b[0;34m\u001b[0m\u001b[0m\n\u001b[1;32m     17\u001b[0m             \u001b[0;32mbreak\u001b[0m\u001b[0;34m\u001b[0m\u001b[0m\n\u001b[0;32m---> 18\u001b[0;31m         \u001b[0msat\u001b[0m \u001b[0;34m=\u001b[0m \u001b[0mget_pos_SR\u001b[0m\u001b[0;34m(\u001b[0m\u001b[0mM\u001b[0m\u001b[0;34m,\u001b[0m \u001b[0mM\u001b[0m\u001b[0;34m,\u001b[0m \u001b[0mN\u001b[0m\u001b[0;34m)\u001b[0m\u001b[0;34m\u001b[0m\u001b[0m\n\u001b[0m\u001b[1;32m     19\u001b[0m         \u001b[0;31m# if DPLL().run(sat) is not None:\u001b[0m\u001b[0;34m\u001b[0m\u001b[0;34m\u001b[0m\u001b[0m\n\u001b[1;32m     20\u001b[0m         \u001b[0msats\u001b[0m\u001b[0;34m.\u001b[0m\u001b[0mappend\u001b[0m\u001b[0;34m(\u001b[0m\u001b[0msat\u001b[0m\u001b[0;34m)\u001b[0m\u001b[0;34m\u001b[0m\u001b[0m\n",
      "\u001b[0;32m~/PycharmProjects/deepsat/cnf.py\u001b[0m in \u001b[0;36mget_pos_SR\u001b[0;34m(min_variable_number, max_variable_number, clause_number)\u001b[0m\n\u001b[1;32m     51\u001b[0m     \u001b[0mclauses\u001b[0m \u001b[0;34m=\u001b[0m \u001b[0;34m[\u001b[0m\u001b[0;34m]\u001b[0m\u001b[0;34m\u001b[0m\u001b[0m\n\u001b[1;32m     52\u001b[0m     \u001b[0msolver\u001b[0m \u001b[0;34m=\u001b[0m \u001b[0mMinisat22\u001b[0m\u001b[0;34m(\u001b[0m\u001b[0;34m)\u001b[0m\u001b[0;34m\u001b[0m\u001b[0m\n\u001b[0;32m---> 53\u001b[0;31m     \u001b[0;32mwhile\u001b[0m \u001b[0msolver\u001b[0m\u001b[0;34m.\u001b[0m\u001b[0msolve\u001b[0m\u001b[0;34m(\u001b[0m\u001b[0;34m)\u001b[0m\u001b[0;34m:\u001b[0m\u001b[0;34m\u001b[0m\u001b[0m\n\u001b[0m\u001b[1;32m     54\u001b[0m         \u001b[0mclause\u001b[0m \u001b[0;34m=\u001b[0m \u001b[0mget_SR\u001b[0m\u001b[0;34m(\u001b[0m\u001b[0mvariable_number\u001b[0m\u001b[0;34m)\u001b[0m\u001b[0;34m\u001b[0m\u001b[0m\n\u001b[1;32m     55\u001b[0m         \u001b[0msolver\u001b[0m\u001b[0;34m.\u001b[0m\u001b[0madd_clause\u001b[0m\u001b[0;34m(\u001b[0m\u001b[0mclause\u001b[0m\u001b[0;34m)\u001b[0m\u001b[0;34m\u001b[0m\u001b[0m\n",
      "\u001b[0;32m~/PycharmProjects/deepsat/venv/lib/python3.6/site-packages/pysat/solvers.py\u001b[0m in \u001b[0;36msolve\u001b[0;34m(self, assumptions)\u001b[0m\n\u001b[1;32m   2086\u001b[0m             \u001b[0mdef_sigint_handler\u001b[0m \u001b[0;34m=\u001b[0m \u001b[0msignal\u001b[0m\u001b[0;34m.\u001b[0m\u001b[0msignal\u001b[0m\u001b[0;34m(\u001b[0m\u001b[0msignal\u001b[0m\u001b[0;34m.\u001b[0m\u001b[0mSIGINT\u001b[0m\u001b[0;34m,\u001b[0m \u001b[0msignal\u001b[0m\u001b[0;34m.\u001b[0m\u001b[0mSIG_DFL\u001b[0m\u001b[0;34m)\u001b[0m\u001b[0;34m\u001b[0m\u001b[0m\n\u001b[1;32m   2087\u001b[0m \u001b[0;34m\u001b[0m\u001b[0m\n\u001b[0;32m-> 2088\u001b[0;31m             \u001b[0mself\u001b[0m\u001b[0;34m.\u001b[0m\u001b[0mstatus\u001b[0m \u001b[0;34m=\u001b[0m \u001b[0mpysolvers\u001b[0m\u001b[0;34m.\u001b[0m\u001b[0mminisat22_solve\u001b[0m\u001b[0;34m(\u001b[0m\u001b[0mself\u001b[0m\u001b[0;34m.\u001b[0m\u001b[0mminisat\u001b[0m\u001b[0;34m,\u001b[0m \u001b[0massumptions\u001b[0m\u001b[0;34m)\u001b[0m\u001b[0;34m\u001b[0m\u001b[0m\n\u001b[0m\u001b[1;32m   2089\u001b[0m \u001b[0;34m\u001b[0m\u001b[0m\n\u001b[1;32m   2090\u001b[0m             \u001b[0;31m# recovering default SIGINT handler\u001b[0m\u001b[0;34m\u001b[0m\u001b[0;34m\u001b[0m\u001b[0m\n",
      "\u001b[0;31merror\u001b[0m: Caught keyboard interrupt"
     ]
    }
   ],
   "source": [
    "for s in range(10, 40):\n",
    "    print_all(1, 10000, 180, seed=s, to_test=[HumbleGraphBasedCDCL])"
   ]
  }
 ],
 "metadata": {
  "kernelspec": {
   "display_name": "Python 3",
   "language": "python",
   "name": "python3"
  },
  "language_info": {
   "codemirror_mode": {
    "name": "ipython",
    "version": 3
   },
   "file_extension": ".py",
   "mimetype": "text/x-python",
   "name": "python",
   "nbconvert_exporter": "python",
   "pygments_lexer": "ipython3",
   "version": "3.6.1"
  }
 },
 "nbformat": 4,
 "nbformat_minor": 2
}
