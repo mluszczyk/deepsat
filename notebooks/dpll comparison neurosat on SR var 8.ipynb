{
 "cells": [
  {
   "cell_type": "code",
   "execution_count": 1,
   "metadata": {},
   "outputs": [],
   "source": [
    "from matplotlib import pyplot as plt\n",
    "import numpy as np"
   ]
  },
  {
   "cell_type": "code",
   "execution_count": 2,
   "metadata": {},
   "outputs": [],
   "source": [
    "import sys \n",
    "sys.path.insert(0,'..')\n",
    "import neurosat_policy\n",
    "neurosat_policy.VARIABLE_NUM = 8"
   ]
  },
  {
   "cell_type": "code",
   "execution_count": 3,
   "metadata": {
    "scrolled": true
   },
   "outputs": [],
   "source": [
    "from cnf_dataset import clauses_to_matrix\n",
    "from dpll_new import DPLL, RandomClauseDPLL, MostCommonVarDPLL, RandomVarDPLL\n",
    "from cnf_new import get_random_kcnf, CNF, get_sats_SR, get_pos_SR\n",
    "from tqdm import tqdm\n",
    "from collections import Counter"
   ]
  },
  {
   "cell_type": "code",
   "execution_count": 4,
   "metadata": {},
   "outputs": [],
   "source": [
    "np.set_printoptions(precision=2, suppress=True)"
   ]
  },
  {
   "cell_type": "code",
   "execution_count": 7,
   "metadata": {
    "scrolled": true
   },
   "outputs": [
    {
     "name": "stdout",
     "output_type": "stream",
     "text": [
      "INFO:tensorflow:Restoring parameters from /home/henryk.michalewski/sat-solving/models/neuropol-18-09-18-002956/model-7268352\n"
     ]
    }
   ],
   "source": [
    "import tensorflow as tf\n",
    "import os\n",
    "\n",
    "BATCH_SIZE = 1\n",
    "\n",
    "# META_FILE = \"series/18-03-24-020248/var5/models/activepolicy-18-03-24-020450/model-32000000.meta\"  # perfect results\n",
    "# META_FILE = \"models/activepolicy-18-03-28-122105/model-10000064.meta\" # ok results, no error > 80% usually, usually better than mostcommon\n",
    "# META_FILE = \"series/18-03-24-020248/var8/models/activepolicy-18-03-24-020450/model-6400000.meta\"  # usually slightly worse than mostcommon\n",
    "META_FILE = \"/home/henryk.michalewski/sat-solving/models/neuropol-18-09-18-002956/model-7268352.meta\"\n",
    "# META_FILE = \"/home/henryk.michalewski/sat-solving/models/neuropol-restorer-18-10-09-052043-var-30-lev-30/model.ckpt-3062.meta\"\n",
    "# META_DIR = \"/home/henryk/sat_solving/models/neuropol-restorer-18-10-09-215204-var-30-lev-30/\"\n",
    "\n",
    "# saver_hook = tf.train.CheckpointSaverHook(checkpoint_dir=META_DIR, save_steps=20)\n",
    "# summary_hook = tf.train.SummarySaverHook(META_DIR)\n",
    "# sess = tf.train.MonitoredSession()\n",
    "\n",
    "\n",
    "sess=tf.Session()    \n",
    "#First let's load meta graph and restore weights\n",
    "saver = tf.train.import_meta_graph(META_FILE, clear_devices=True)\n",
    "sess.run(tf.global_variables_initializer())\n",
    "saver.restore(sess, tf.train.latest_checkpoint(os.path.dirname(META_FILE)))\n",
    "\n",
    "# Now, let's access and create placeholders variables and\n",
    "# create feed-dict to feed new data\n",
    "\n",
    "graph = tf.get_default_graph()"
   ]
  },
  {
   "cell_type": "code",
   "execution_count": 8,
   "metadata": {
    "scrolled": true
   },
   "outputs": [],
   "source": [
    "g_inputs = graph.get_tensor_by_name(\"inputs:0\")"
   ]
  },
  {
   "cell_type": "code",
   "execution_count": 9,
   "metadata": {
    "scrolled": true
   },
   "outputs": [],
   "source": [
    "#g_policy_probs = graph.get_tensor_by_name('policy_prob:0')\n",
    "#g_sat_probs = graph.get_tensor_by_name('sat_prob:0')"
   ]
  },
  {
   "cell_type": "code",
   "execution_count": 11,
   "metadata": {},
   "outputs": [],
   "source": [
    "LEVEL = 20"
   ]
  },
  {
   "cell_type": "code",
   "execution_count": 12,
   "metadata": {},
   "outputs": [],
   "source": [
    "g_policy_probs = graph.get_tensor_by_name('policy_prob_{}:0'.format(LEVEL))\n",
    "g_sat_probs = graph.get_tensor_by_name('sat_prob_{}:0'.format(LEVEL))"
   ]
  },
  {
   "cell_type": "code",
   "execution_count": 13,
   "metadata": {},
   "outputs": [],
   "source": [
    "np.set_printoptions(precision=3, suppress=True)"
   ]
  },
  {
   "cell_type": "code",
   "execution_count": 14,
   "metadata": {
    "scrolled": false
   },
   "outputs": [
    {
     "data": {
      "text/plain": [
       "'\\ninputs = np.asarray([[[1, 1, 3], [1, -3, 2], [1, 3, 4], [-2, -3, 4]]] * BATCH_SIZE, dtype=np.int32)\\nlengths = np.asarray([inputs.shape[1]] * 64, dtype=np.int32)\\n\\nsat_prob, policy_probs = sess.run([g_sat_probs, g_policy_probs], feed_dict={g_inputs: inputs, g_lengths: lengths})\\n\\nprint(sat_prob[0], policy_probs[0])\\n'"
      ]
     },
     "execution_count": 14,
     "metadata": {},
     "output_type": "execute_result"
    }
   ],
   "source": [
    "'''\n",
    "inputs = np.asarray([[[1, 1, 3], [1, -3, 2], [1, 3, 4], [-2, -3, 4]]] * BATCH_SIZE, dtype=np.int32)\n",
    "lengths = np.asarray([inputs.shape[1]] * 64, dtype=np.int32)\n",
    "\n",
    "sat_prob, policy_probs = sess.run([g_sat_probs, g_policy_probs], feed_dict={g_inputs: inputs, g_lengths: lengths})\n",
    "\n",
    "print(sat_prob[0], policy_probs[0])\n",
    "'''"
   ]
  },
  {
   "cell_type": "code",
   "execution_count": 15,
   "metadata": {},
   "outputs": [],
   "source": [
    "# Because we have to pass full batch\n",
    "\n",
    "logfile = open(\"/tmp/log_8_bench\", \"w\")\n",
    "#import sys\n",
    "#logfile = sys.stdout\n",
    "\n",
    "class GraphBasedDPLL(DPLL):\n",
    "    def suggest(self, input_cnf: CNF):\n",
    "        clause_num = len(input_cnf.clauses)\n",
    "        var_num = max(input_cnf.vars)\n",
    "        inputs = np.asarray([clauses_to_matrix(input_cnf.clauses, clause_num, var_num)] * BATCH_SIZE)\n",
    "        \n",
    "        policy_probs = sess.run(g_policy_probs, feed_dict={g_inputs: inputs})\n",
    "        \n",
    "        print(\"CNF:\", input_cnf, end=' ', file=logfile)\n",
    "        print('cnf_clauses[0]', input_cnf.clauses, end=' ', file=logfile)\n",
    "        print(\"probs:\\n\",  policy_probs[0], end='\\n', file=logfile)\n",
    "        \n",
    "        best_prob = 0.0\n",
    "        best_svar = None\n",
    "        for var in input_cnf.vars:\n",
    "            for svar in [var, -var]:\n",
    "                svar_prob = policy_probs[0][var-1][0 if svar > 0 else 1]\n",
    "                print(svar, svar_prob, best_prob, file=logfile)\n",
    "                if svar_prob > best_prob:\n",
    "                    best_prob = svar_prob\n",
    "                    best_svar = svar\n",
    "        print(\"best_svar:\", best_svar, file=logfile)\n",
    "        return best_svar"
   ]
  },
  {
   "cell_type": "code",
   "execution_count": 16,
   "metadata": {},
   "outputs": [],
   "source": [
    "class HybridDPLL(DPLL):\n",
    "    def run(self, cnf: CNF):\n",
    "        assert isinstance(cnf, CNF)\n",
    "        self.number_of_runs += 1\n",
    "        \n",
    "        if cnf.is_true():\n",
    "            return []\n",
    "        elif cnf.is_false():\n",
    "            return None\n",
    "\n",
    "        # major hack - should be done via exceptions\n",
    "        if self.number_of_runs >= 1e6:\n",
    "            return None\n",
    "        \n",
    "        if self.number_of_runs < 200:\n",
    "            sug_var = self.suggest_neural(cnf)\n",
    "        else:\n",
    "            sug_var = self.suggest_most_common(cnf)\n",
    "            \n",
    "        sug_cnf = cnf.set_var(sug_var)\n",
    "        sug_res = self.run(sug_cnf)\n",
    "        if sug_res is not None:\n",
    "            return [sug_var] + sug_res\n",
    "\n",
    "        not_sug_cnf = cnf.set_var(-sug_var)\n",
    "        not_sug_res = self.run(not_sug_cnf)\n",
    "        if not_sug_res is not None:\n",
    "            self.number_of_errors += 1\n",
    "            return [-sug_var] + not_sug_res\n",
    "        return None\n",
    "    \n",
    "    def suggest_neural(self, input_cnf: CNF):\n",
    "        clause_num = len(input_cnf.clauses)\n",
    "        var_num = max(input_cnf.vars)\n",
    "        inputs = np.asarray([clauses_to_matrix(input_cnf.clauses, clause_num, var_num)] * BATCH_SIZE)\n",
    "        \n",
    "        policy_probs = sess.run(g_policy_probs, feed_dict={g_inputs: inputs})\n",
    "        \n",
    "        print(\"CNF:\", input_cnf, end=' ', file=logfile)\n",
    "        print('cnf_clauses[0]', input_cnf.clauses, end=' ', file=logfile)\n",
    "        print(\"probs:\\n\",  policy_probs[0], end='\\n', file=logfile)\n",
    "        \n",
    "        best_prob = 0.0\n",
    "        best_svar = None\n",
    "        for var in input_cnf.vars:\n",
    "            for svar in [var, -var]:\n",
    "                svar_prob = policy_probs[0][var-1][0 if svar > 0 else 1]\n",
    "                print(svar, svar_prob, best_prob, file=logfile)\n",
    "                if svar_prob > best_prob:\n",
    "                    best_prob = svar_prob\n",
    "                    best_svar = svar\n",
    "        print(\"best_svar:\", best_svar, file=logfile)\n",
    "        return best_svar\n",
    "    \n",
    "    def suggest_most_common(self, cnf: CNF):\n",
    "        counter = Counter()\n",
    "        for clause in cnf.clauses:\n",
    "            for svar in clause:\n",
    "                counter[svar] += 1\n",
    "        return counter.most_common(1)[0][0]"
   ]
  },
  {
   "cell_type": "code",
   "execution_count": 17,
   "metadata": {},
   "outputs": [],
   "source": [
    "class ShortCommonDPLL(DPLL):\n",
    "    def run(self, cnf: CNF):\n",
    "        assert isinstance(cnf, CNF)\n",
    "        self.number_of_runs += 1\n",
    "        \n",
    "        if cnf.is_true():\n",
    "            return []\n",
    "        elif cnf.is_false():\n",
    "            return None\n",
    "\n",
    "        # major hack - should be done via exceptions\n",
    "        if self.number_of_runs >= 1e6:\n",
    "            return None\n",
    "        \n",
    "        sug_var = self.suggest_most_common(cnf)\n",
    "            \n",
    "        sug_cnf = cnf.set_var(sug_var)\n",
    "        sug_res = self.run(sug_cnf)\n",
    "        if sug_res is not None:\n",
    "            return [sug_var] + sug_res\n",
    "\n",
    "        not_sug_cnf = cnf.set_var(-sug_var)\n",
    "        not_sug_res = self.run(not_sug_cnf)\n",
    "        if not_sug_res is not None:\n",
    "            self.number_of_errors += 1\n",
    "            return [-sug_var] + not_sug_res\n",
    "        return None\n",
    "    \n",
    "    def suggest_most_common(self, cnf: CNF):\n",
    "        counter = Counter()\n",
    "        for clause in cnf.clauses:\n",
    "            for svar in clause:\n",
    "                counter[svar] += 1\n",
    "        return counter.most_common(1)[0][0]"
   ]
  },
  {
   "cell_type": "code",
   "execution_count": 18,
   "metadata": {},
   "outputs": [],
   "source": [
    "def compute_steps(sats, dpll_cls):\n",
    "    steps = []\n",
    "    errors = []\n",
    "    solved = 0\n",
    "    for sat in tqdm(sats):\n",
    "        dpll = dpll_cls()\n",
    "        res = dpll.run(sat)\n",
    "        # assert res is not None\n",
    "        if res is not None:\n",
    "            steps.append(dpll.number_of_runs)\n",
    "            errors.append(dpll.number_of_errors)\n",
    "            solved += 1\n",
    "    print(\"Within 1e6 steps solved {} problems out of {}\".format(solved, len(sats)))\n",
    "    return steps, errors"
   ]
  },
  {
   "cell_type": "code",
   "execution_count": 19,
   "metadata": {},
   "outputs": [],
   "source": [
    "def compute_and_print_steps(sats, dpll_cls):\n",
    "    steps, errors = compute_steps(sats, dpll_cls)\n",
    "    print(\"#Sats: {}; avg step: {:.2f}; stdev step: {:.2f}; avg error: {:.2f}; stdev error: {:.2f}\".format(\n",
    "        len(steps), np.mean(steps), np.std(steps), np.mean(errors), np.std(errors)))\n",
    "    plt.figure(figsize=(14, 4))\n",
    "    plt.subplot(1, 2, 1)\n",
    "    plt.title(\"Steps of {}\".format(dpll_cls.__name__))\n",
    "    plt.hist(steps, bins=20) # range(2**(N+1)))\n",
    "    plt.ylim((0, len(sats)))\n",
    "    \n",
    "    plt.subplot(1, 2, 2)\n",
    "    plt.title(\"Errors of {}\".format(dpll_cls.__name__))\n",
    "    plt.hist(errors, bins=range(N+1))\n",
    "    plt.ylim((0, len(sats)))\n",
    "    plt.show()"
   ]
  },
  {
   "cell_type": "code",
   "execution_count": 20,
   "metadata": {},
   "outputs": [],
   "source": [
    "def print_all(s, n, m, light=False):\n",
    "    # def get_sats_SR(sample_number, min_variable_number, clause_number, max_variable_number=None):\n",
    "    global S, N, M\n",
    "    S = s\n",
    "    N = n # number of clauses\n",
    "    M = m # number of variables\n",
    "    \n",
    "    MAX_TRIES = 100000\n",
    "    sats = []\n",
    "    for index in range(MAX_TRIES):\n",
    "        if len(sats) >= S:\n",
    "            break\n",
    "        sat = get_pos_SR(M, M, N)\n",
    "        # if DPLL().run(sat) is not None:\n",
    "        sats.append(sat)\n",
    "    assert len(sats) == S\n",
    "    # sats = get_sats_SR(S,M,N)\n",
    "    # for sat in sats:\n",
    "    #    print(sat)\n",
    "    # assert len(sats) == S\n",
    "    print(\"We have generated {} formulas\".format(len(sats)))\n",
    "    # compute_and_print_steps(sats, DPLL)\n",
    "    compute_and_print_steps(sats, HybridDPLL)\n",
    "    compute_and_print_steps(sats, ShortCommonDPLL)\n",
    "    logfile.flush()"
   ]
  },
  {
   "cell_type": "code",
   "execution_count": 30,
   "metadata": {},
   "outputs": [
    {
     "name": "stderr",
     "output_type": "stream",
     "text": [
      "\r",
      "  0%|          | 0/100 [00:00<?, ?it/s]"
     ]
    },
    {
     "name": "stdout",
     "output_type": "stream",
     "text": [
      "We have generated 100 formulas\n"
     ]
    },
    {
     "name": "stderr",
     "output_type": "stream",
     "text": [
      "100%|██████████| 100/100 [01:48<00:00,  1.68it/s]\n"
     ]
    },
    {
     "name": "stdout",
     "output_type": "stream",
     "text": [
      "Within 1e6 steps solved 100 problems out of 100\n",
      "#Sats: 100; avg step: 145.92; stdev step: 243.05; avg error: 0.72; stdev error: 1.41\n"
     ]
    },
    {
     "data": {
      "image/png": "[encoded data removed]",
      "text/plain": [
       "<Figure size 1008x288 with 2 Axes>"
      ]
     },
     "metadata": {},
     "output_type": "display_data"
    },
    {
     "name": "stderr",
     "output_type": "stream",
     "text": [
      "100%|██████████| 100/100 [00:01<00:00, 72.58it/s]\n"
     ]
    },
    {
     "name": "stdout",
     "output_type": "stream",
     "text": [
      "Within 1e6 steps solved 100 problems out of 100\n",
      "#Sats: 100; avg step: 202.57; stdev step: 181.59; avg error: 2.14; stdev error: 1.40\n"
     ]
    },
    {
     "data": {
      "image/png": "[encoded data removed]",
      "text/plain": [
       "<Figure size 1008x288 with 2 Axes>"
      ]
     },
     "metadata": {},
     "output_type": "display_data"
    }
   ],
   "source": [
    "print_all(100, 200, 15)"
   ]
  },
  {
   "cell_type": "code",
   "execution_count": 31,
   "metadata": {
    "scrolled": false
   },
   "outputs": [
    {
     "name": "stderr",
     "output_type": "stream",
     "text": [
      "\r",
      "  0%|          | 0/100 [00:00<?, ?it/s]"
     ]
    },
    {
     "name": "stdout",
     "output_type": "stream",
     "text": [
      "We have generated 100 formulas\n"
     ]
    },
    {
     "name": "stderr",
     "output_type": "stream",
     "text": [
      "100%|██████████| 100/100 [00:20<00:00,  4.99it/s]\n"
     ]
    },
    {
     "name": "stdout",
     "output_type": "stream",
     "text": [
      "Within 1e6 steps solved 100 problems out of 100\n",
      "#Sats: 100; avg step: 9.26; stdev step: 2.21; avg error: 0.03; stdev error: 0.17\n"
     ]
    },
    {
     "data": {
      "image/png": "[encoded data removed]",
      "text/plain": [
       "<Figure size 1008x288 with 2 Axes>"
      ]
     },
     "metadata": {},
     "output_type": "display_data"
    },
    {
     "name": "stderr",
     "output_type": "stream",
     "text": [
      "100%|██████████| 100/100 [00:00<00:00, 623.94it/s]\n"
     ]
    },
    {
     "name": "stdout",
     "output_type": "stream",
     "text": [
      "Within 1e6 steps solved 100 problems out of 100\n",
      "#Sats: 100; avg step: 30.39; stdev step: 24.27; avg error: 1.17; stdev error: 0.91\n"
     ]
    },
    {
     "data": {
      "image/png": "[encoded data removed]",
      "text/plain": [
       "<Figure size 1008x288 with 2 Axes>"
      ]
     },
     "metadata": {},
     "output_type": "display_data"
    }
   ],
   "source": [
    "print_all(100, 200, 8)"
   ]
  },
  {
   "cell_type": "code",
   "execution_count": 32,
   "metadata": {},
   "outputs": [
    {
     "name": "stderr",
     "output_type": "stream",
     "text": [
      "\r",
      "  0%|          | 0/100 [00:00<?, ?it/s]"
     ]
    },
    {
     "name": "stdout",
     "output_type": "stream",
     "text": [
      "We have generated 100 formulas\n"
     ]
    },
    {
     "name": "stderr",
     "output_type": "stream",
     "text": [
      "100%|██████████| 100/100 [00:39<00:00,  2.71it/s]\n"
     ]
    },
    {
     "name": "stdout",
     "output_type": "stream",
     "text": [
      "Within 1e6 steps solved 100 problems out of 100\n",
      "#Sats: 100; avg step: 23.25; stdev step: 45.38; avg error: 0.12; stdev error: 0.41\n"
     ]
    },
    {
     "data": {
      "image/png": "[encoded data removed]",
      "text/plain": [
       "<Figure size 1008x288 with 2 Axes>"
      ]
     },
     "metadata": {},
     "output_type": "display_data"
    },
    {
     "name": "stderr",
     "output_type": "stream",
     "text": [
      "100%|██████████| 100/100 [00:00<00:00, 257.07it/s]\n"
     ]
    },
    {
     "name": "stdout",
     "output_type": "stream",
     "text": [
      "Within 1e6 steps solved 100 problems out of 100\n",
      "#Sats: 100; avg step: 53.11; stdev step: 48.16; avg error: 1.43; stdev error: 0.97\n"
     ]
    },
    {
     "data": {
      "image/png": "[encoded data removed]",
      "text/plain": [
       "<Figure size 1008x288 with 2 Axes>"
      ]
     },
     "metadata": {},
     "output_type": "display_data"
    }
   ],
   "source": [
    "print_all(100, 200, 10)"
   ]
  },
  {
   "cell_type": "code",
   "execution_count": 34,
   "metadata": {},
   "outputs": [
    {
     "name": "stderr",
     "output_type": "stream",
     "text": [
      "\r",
      "  0%|          | 0/100 [00:00<?, ?it/s]"
     ]
    },
    {
     "name": "stdout",
     "output_type": "stream",
     "text": [
      "We have generated 100 formulas\n"
     ]
    },
    {
     "name": "stderr",
     "output_type": "stream",
     "text": [
      "100%|██████████| 100/100 [00:57<00:00,  2.14it/s]\n"
     ]
    },
    {
     "name": "stdout",
     "output_type": "stream",
     "text": [
      "Within 1e6 steps solved 100 problems out of 100\n",
      "#Sats: 100; avg step: 38.86; stdev step: 77.22; avg error: 0.28; stdev error: 0.78\n"
     ]
    },
    {
     "data": {
      "image/png": "[encoded data removed]",
      "text/plain": [
       "<Figure size 1008x288 with 2 Axes>"
      ]
     },
     "metadata": {},
     "output_type": "display_data"
    },
    {
     "name": "stderr",
     "output_type": "stream",
     "text": [
      "100%|██████████| 100/100 [00:00<00:00, 163.22it/s]\n"
     ]
    },
    {
     "name": "stdout",
     "output_type": "stream",
     "text": [
      "Within 1e6 steps solved 100 problems out of 100\n",
      "#Sats: 100; avg step: 82.73; stdev step: 75.46; avg error: 1.71; stdev error: 1.13\n"
     ]
    },
    {
     "data": {
      "image/png": "[encoded data removed]",
      "text/plain": [
       "<Figure size 1008x288 with 2 Axes>"
      ]
     },
     "metadata": {},
     "output_type": "display_data"
    }
   ],
   "source": [
    "print_all(100, 200, 12)"
   ]
  },
  {
   "cell_type": "code",
   "execution_count": 35,
   "metadata": {},
   "outputs": [
    {
     "name": "stderr",
     "output_type": "stream",
     "text": [
      "\r",
      "  0%|          | 0/100 [00:00<?, ?it/s]"
     ]
    },
    {
     "name": "stdout",
     "output_type": "stream",
     "text": [
      "We have generated 100 formulas\n"
     ]
    },
    {
     "name": "stderr",
     "output_type": "stream",
     "text": [
      "100%|██████████| 100/100 [01:32<00:00,  2.04it/s]\n"
     ]
    },
    {
     "name": "stdout",
     "output_type": "stream",
     "text": [
      "Within 1e6 steps solved 100 problems out of 100\n",
      "#Sats: 100; avg step: 105.74; stdev step: 196.17; avg error: 0.50; stdev error: 0.98\n"
     ]
    },
    {
     "data": {
      "image/png": "[encoded data removed]",
      "text/plain": [
       "<Figure size 1008x288 with 2 Axes>"
      ]
     },
     "metadata": {},
     "output_type": "display_data"
    },
    {
     "name": "stderr",
     "output_type": "stream",
     "text": [
      "100%|██████████| 100/100 [00:01<00:00, 97.01it/s]\n"
     ]
    },
    {
     "name": "stdout",
     "output_type": "stream",
     "text": [
      "Within 1e6 steps solved 100 problems out of 100\n",
      "#Sats: 100; avg step: 160.88; stdev step: 150.90; avg error: 1.99; stdev error: 1.17\n"
     ]
    },
    {
     "data": {
      "image/png": "[encoded data removed]",
      "text/plain": [
       "<Figure size 1008x288 with 2 Axes>"
      ]
     },
     "metadata": {},
     "output_type": "display_data"
    }
   ],
   "source": [
    "print_all(100, 200, 14)"
   ]
  },
  {
   "cell_type": "code",
   "execution_count": 36,
   "metadata": {},
   "outputs": [
    {
     "name": "stderr",
     "output_type": "stream",
     "text": [
      "\r",
      "  0%|          | 0/100 [00:00<?, ?it/s]"
     ]
    },
    {
     "name": "stdout",
     "output_type": "stream",
     "text": [
      "We have generated 100 formulas\n"
     ]
    },
    {
     "name": "stderr",
     "output_type": "stream",
     "text": [
      "100%|██████████| 100/100 [01:57<00:00,  1.09it/s]\n"
     ]
    },
    {
     "name": "stdout",
     "output_type": "stream",
     "text": [
      "Within 1e6 steps solved 100 problems out of 100\n",
      "#Sats: 100; avg step: 168.68; stdev step: 276.83; avg error: 0.75; stdev error: 1.28\n"
     ]
    },
    {
     "data": {
      "image/png": "[encoded data removed]",
      "text/plain": [
       "<Figure size 1008x288 with 2 Axes>"
      ]
     },
     "metadata": {},
     "output_type": "display_data"
    },
    {
     "name": "stderr",
     "output_type": "stream",
     "text": [
      "100%|██████████| 100/100 [00:01<00:00, 57.63it/s]\n"
     ]
    },
    {
     "name": "stdout",
     "output_type": "stream",
     "text": [
      "Within 1e6 steps solved 100 problems out of 100\n",
      "#Sats: 100; avg step: 270.48; stdev step: 246.08; avg error: 2.34; stdev error: 1.30\n"
     ]
    },
    {
     "data": {
      "image/png": "[encoded data removed]",
      "text/plain": [
       "<Figure size 1008x288 with 2 Axes>"
      ]
     },
     "metadata": {},
     "output_type": "display_data"
    }
   ],
   "source": [
    "print_all(100, 200, 16)"
   ]
  },
  {
   "cell_type": "code",
   "execution_count": 37,
   "metadata": {},
   "outputs": [
    {
     "name": "stderr",
     "output_type": "stream",
     "text": [
      "\r",
      "  0%|          | 0/100 [00:00<?, ?it/s]"
     ]
    },
    {
     "name": "stdout",
     "output_type": "stream",
     "text": [
      "We have generated 100 formulas\n"
     ]
    },
    {
     "name": "stderr",
     "output_type": "stream",
     "text": [
      "100%|██████████| 100/100 [02:23<00:00,  1.27s/it]\n"
     ]
    },
    {
     "name": "stdout",
     "output_type": "stream",
     "text": [
      "Within 1e6 steps solved 100 problems out of 100\n",
      "#Sats: 100; avg step: 311.77; stdev step: 521.56; avg error: 1.09; stdev error: 1.61\n"
     ]
    },
    {
     "data": {
      "image/png": "[encoded data removed]",
      "text/plain": [
       "<Figure size 1008x288 with 2 Axes>"
      ]
     },
     "metadata": {},
     "output_type": "display_data"
    },
    {
     "name": "stderr",
     "output_type": "stream",
     "text": [
      "100%|██████████| 100/100 [00:02<00:00, 33.67it/s]\n"
     ]
    },
    {
     "name": "stdout",
     "output_type": "stream",
     "text": [
      "Within 1e6 steps solved 100 problems out of 100\n",
      "#Sats: 100; avg step: 465.80; stdev step: 461.17; avg error: 2.67; stdev error: 1.48\n"
     ]
    },
    {
     "data": {
      "image/png": "[encoded data removed]",
      "text/plain": [
       "<Figure size 1008x288 with 2 Axes>"
      ]
     },
     "metadata": {},
     "output_type": "display_data"
    }
   ],
   "source": [
    "print_all(100, 200, 18)"
   ]
  },
  {
   "cell_type": "code",
   "execution_count": 38,
   "metadata": {},
   "outputs": [
    {
     "name": "stderr",
     "output_type": "stream",
     "text": [
      "\r",
      "  0%|          | 0/100 [00:00<?, ?it/s]"
     ]
    },
    {
     "name": "stdout",
     "output_type": "stream",
     "text": [
      "We have generated 100 formulas\n"
     ]
    },
    {
     "name": "stderr",
     "output_type": "stream",
     "text": [
      "100%|██████████| 100/100 [02:36<00:00,  1.32s/it]\n"
     ]
    },
    {
     "name": "stdout",
     "output_type": "stream",
     "text": [
      "Within 1e6 steps solved 100 problems out of 100\n",
      "#Sats: 100; avg step: 598.96; stdev step: 1046.64; avg error: 1.37; stdev error: 2.05\n"
     ]
    },
    {
     "data": {
      "image/png": "[encoded data removed]",
      "text/plain": [
       "<Figure size 1008x288 with 2 Axes>"
      ]
     },
     "metadata": {},
     "output_type": "display_data"
    },
    {
     "name": "stderr",
     "output_type": "stream",
     "text": [
      "100%|██████████| 100/100 [00:06<00:00, 15.90it/s]\n"
     ]
    },
    {
     "name": "stdout",
     "output_type": "stream",
     "text": [
      "Within 1e6 steps solved 100 problems out of 100\n",
      "#Sats: 100; avg step: 969.75; stdev step: 892.44; avg error: 3.42; stdev error: 1.49\n"
     ]
    },
    {
     "data": {
      "image/png": "[encoded data removed]",
      "text/plain": [
       "<Figure size 1008x288 with 2 Axes>"
      ]
     },
     "metadata": {},
     "output_type": "display_data"
    }
   ],
   "source": [
    "print_all(100, 200, 20)"
   ]
  },
  {
   "cell_type": "code",
   "execution_count": 39,
   "metadata": {},
   "outputs": [
    {
     "name": "stderr",
     "output_type": "stream",
     "text": [
      "\r",
      "  0%|          | 0/100 [00:00<?, ?it/s]"
     ]
    },
    {
     "name": "stdout",
     "output_type": "stream",
     "text": [
      "We have generated 100 formulas\n"
     ]
    },
    {
     "name": "stderr",
     "output_type": "stream",
     "text": [
      "100%|██████████| 100/100 [04:15<00:00,  2.43s/it]\n"
     ]
    },
    {
     "name": "stdout",
     "output_type": "stream",
     "text": [
      "Within 1e6 steps solved 100 problems out of 100\n",
      "#Sats: 100; avg step: 2903.47; stdev step: 3943.67; avg error: 2.16; stdev error: 2.45\n"
     ]
    },
    {
     "data": {
      "image/png": "[encoded data removed]",
      "text/plain": [
       "<Figure size 1008x288 with 2 Axes>"
      ]
     },
     "metadata": {},
     "output_type": "display_data"
    },
    {
     "name": "stderr",
     "output_type": "stream",
     "text": [
      "100%|██████████| 100/100 [00:31<00:00,  4.07it/s]\n"
     ]
    },
    {
     "name": "stdout",
     "output_type": "stream",
     "text": [
      "Within 1e6 steps solved 100 problems out of 100\n",
      "#Sats: 100; avg step: 3611.60; stdev step: 3220.96; avg error: 3.83; stdev error: 1.55\n"
     ]
    },
    {
     "data": {
      "image/png": "[encoded data removed]",
      "text/plain": [
       "<Figure size 1008x288 with 2 Axes>"
      ]
     },
     "metadata": {},
     "output_type": "display_data"
    }
   ],
   "source": [
    "print_all(100, 500, 25)"
   ]
  },
  {
   "cell_type": "code",
   "execution_count": null,
   "metadata": {},
   "outputs": [
    {
     "name": "stderr",
     "output_type": "stream",
     "text": [
      "\r",
      "  0%|          | 0/100 [00:00<?, ?it/s]"
     ]
    },
    {
     "name": "stdout",
     "output_type": "stream",
     "text": [
      "We have generated 100 formulas\n"
     ]
    },
    {
     "name": "stderr",
     "output_type": "stream",
     "text": [
      " 11%|█         | 11/100 [00:56<05:52,  3.96s/it]"
     ]
    }
   ],
   "source": [
    "print_all(100, 500, 30, light=True)"
   ]
  },
  {
   "cell_type": "code",
   "execution_count": null,
   "metadata": {},
   "outputs": [],
   "source": [
    "print_all(10, 500, 40, light=True)"
   ]
  },
  {
   "cell_type": "code",
   "execution_count": null,
   "metadata": {},
   "outputs": [],
   "source": [
    "print_all(10, 500, 50, light=True)"
   ]
  },
  {
   "cell_type": "code",
   "execution_count": null,
   "metadata": {},
   "outputs": [],
   "source": [
    "print_all(100, 500, 30, light=True)"
   ]
  },
  {
   "cell_type": "code",
   "execution_count": null,
   "metadata": {},
   "outputs": [],
   "source": [
    "print_all(100, 500, 40, light=True)"
   ]
  },
  {
   "cell_type": "code",
   "execution_count": null,
   "metadata": {},
   "outputs": [],
   "source": [
    "print_all(100, 500, 0, light=True)"
   ]
  },
  {
   "cell_type": "code",
   "execution_count": null,
   "metadata": {},
   "outputs": [],
   "source": [
    "print_all(100, 500, 50, light=True)"
   ]
  },
  {
   "cell_type": "code",
   "execution_count": null,
   "metadata": {},
   "outputs": [],
   "source": []
  }
 ],
 "metadata": {
  "kernelspec": {
   "display_name": "Python 3",
   "language": "python",
   "name": "python3"
  },
  "language_info": {
   "codemirror_mode": {
    "name": "ipython",
    "version": 3
   },
   "file_extension": ".py",
   "mimetype": "text/x-python",
   "name": "python",
   "nbconvert_exporter": "python",
   "pygments_lexer": "ipython3",
   "version": "3.5.2"
  }
 },
 "nbformat": 4,
 "nbformat_minor": 2
}
