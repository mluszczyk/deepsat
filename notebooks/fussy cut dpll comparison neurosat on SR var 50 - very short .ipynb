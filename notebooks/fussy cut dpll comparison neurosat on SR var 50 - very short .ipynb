{
 "cells": [
  {
   "cell_type": "code",
   "execution_count": 31,
   "metadata": {},
   "outputs": [],
   "source": [
    "from matplotlib import pyplot as plt\n",
    "import numpy as np"
   ]
  },
  {
   "cell_type": "code",
   "execution_count": 32,
   "metadata": {},
   "outputs": [],
   "source": [
    "import sys \n",
    "sys.path.insert(0,'..')\n",
    "import neurosat_policy\n",
    "neurosat_policy.VARIABLE_NUM = 50"
   ]
  },
  {
   "cell_type": "code",
   "execution_count": 33,
   "metadata": {
    "scrolled": true
   },
   "outputs": [],
   "source": [
    "from cnf_dataset import clauses_to_matrix\n",
    "from dpll_new import DPLL, RandomClauseDPLL, MostCommonVarDPLL, RandomVarDPLL\n",
    "from cnf_new import get_random_kcnf, CNF, get_sats_SR, get_pos_SR\n",
    "from tqdm import tqdm\n",
    "from collections import Counter"
   ]
  },
  {
   "cell_type": "code",
   "execution_count": 34,
   "metadata": {},
   "outputs": [],
   "source": [
    "np.set_printoptions(precision=2, suppress=True)"
   ]
  },
  {
   "cell_type": "code",
   "execution_count": 35,
   "metadata": {
    "scrolled": true
   },
   "outputs": [
    {
     "name": "stdout",
     "output_type": "stream",
     "text": [
      "INFO:tensorflow:Restoring parameters from /Users/michal/prometheus-models/models/neuropol-restorer-18-10-09-215204-var-50-lev-30/model.ckpt-1945\n"
     ]
    }
   ],
   "source": [
    "import tensorflow as tf\n",
    "import os\n",
    "\n",
    "BATCH_SIZE = 1\n",
    "\n",
    "# META_FILE = \"series/18-03-24-020248/var5/models/activepolicy-18-03-24-020450/model-32000000.meta\"  # perfect results\n",
    "# META_FILE = \"models/activepolicy-18-03-28-122105/model-10000064.meta\" # ok results, no error > 80% usually, usually better than mostcommon\n",
    "# META_FILE = \"series/18-03-24-020248/var8/models/activepolicy-18-03-24-020450/model-6400000.meta\"  # usually slightly worse than mostcommon\n",
    "# META_FILE = \"models/neuropol-18-09-18-002956/model-7268352.meta\"\n",
    "META_FILE = os.path.expandvars(\"$HOME/prometheus-models/models/neuropol-restorer-18-10-09-215204-var-50-lev-30/model.ckpt-1945.meta\")\n",
    "# META_DIR = \"/home/henryk/sat_solving/models/neuropol-restorer-18-10-09-215204-var-30-lev-30/\"\n",
    "\n",
    "# saver_hook = tf.train.CheckpointSaverHook(checkpoint_dir=META_DIR, save_steps=20)\n",
    "# summary_hook = tf.train.SummarySaverHook(META_DIR)\n",
    "# sess = tf.train.MonitoredSession()\n",
    "\n",
    "\n",
    "sess=tf.Session()    \n",
    "#First let's load meta graph and restore weights\n",
    "saver = tf.train.import_meta_graph(META_FILE, clear_devices=True)\n",
    "sess.run(tf.global_variables_initializer())\n",
    "saver.restore(sess, tf.train.latest_checkpoint(os.path.dirname(META_FILE)))\n",
    "\n",
    "# Now, let's access and create placeholders variables and\n",
    "# create feed-dict to feed new data\n",
    "\n",
    "graph = tf.get_default_graph()"
   ]
  },
  {
   "cell_type": "code",
   "execution_count": 36,
   "metadata": {
    "scrolled": true
   },
   "outputs": [],
   "source": [
    "g_inputs = graph.get_tensor_by_name(\"inputs:0\")"
   ]
  },
  {
   "cell_type": "code",
   "execution_count": 37,
   "metadata": {
    "scrolled": true
   },
   "outputs": [],
   "source": [
    "#g_policy_probs = graph.get_tensor_by_name('policy_prob:0')\n",
    "#g_sat_probs = graph.get_tensor_by_name('sat_prob:0')"
   ]
  },
  {
   "cell_type": "code",
   "execution_count": 38,
   "metadata": {},
   "outputs": [],
   "source": [
    "LEVEL = 30"
   ]
  },
  {
   "cell_type": "code",
   "execution_count": 39,
   "metadata": {},
   "outputs": [],
   "source": [
    "g_policy_probs = graph.get_tensor_by_name('policy_prob_{}:0'.format(LEVEL))\n",
    "g_sat_probs = graph.get_tensor_by_name('sat_prob_{}:0'.format(LEVEL))"
   ]
  },
  {
   "cell_type": "code",
   "execution_count": 40,
   "metadata": {},
   "outputs": [],
   "source": [
    "np.set_printoptions(precision=3, suppress=True)"
   ]
  },
  {
   "cell_type": "code",
   "execution_count": 41,
   "metadata": {
    "scrolled": false
   },
   "outputs": [
    {
     "data": {
      "text/plain": [
       "'\\ninputs = np.asarray([[[1, 1, 3], [1, -3, 2], [1, 3, 4], [-2, -3, 4]]] * BATCH_SIZE, dtype=np.int32)\\nlengths = np.asarray([inputs.shape[1]] * 64, dtype=np.int32)\\n\\nsat_prob, policy_probs = sess.run([g_sat_probs, g_policy_probs], feed_dict={g_inputs: inputs, g_lengths: lengths})\\n\\nprint(sat_prob[0], policy_probs[0])\\n'"
      ]
     },
     "execution_count": 41,
     "metadata": {},
     "output_type": "execute_result"
    }
   ],
   "source": [
    "'''\n",
    "inputs = np.asarray([[[1, 1, 3], [1, -3, 2], [1, 3, 4], [-2, -3, 4]]] * BATCH_SIZE, dtype=np.int32)\n",
    "lengths = np.asarray([inputs.shape[1]] * 64, dtype=np.int32)\n",
    "\n",
    "sat_prob, policy_probs = sess.run([g_sat_probs, g_policy_probs], feed_dict={g_inputs: inputs, g_lengths: lengths})\n",
    "\n",
    "print(sat_prob[0], policy_probs[0])\n",
    "'''"
   ]
  },
  {
   "cell_type": "code",
   "execution_count": 42,
   "metadata": {},
   "outputs": [],
   "source": [
    "# Because we have to pass full batch\n",
    "\n",
    "logfile = open(\"/tmp/log_2\", \"w\")\n",
    "#import sys\n",
    "#logfile = sys.stdout\n",
    "\n",
    "class GraphBasedDPLL(DPLL):\n",
    "    def suggest(self, input_cnf: CNF):\n",
    "        clause_num = len(input_cnf.clauses)\n",
    "        var_num = max(input_cnf.vars)\n",
    "        inputs = np.asarray([clauses_to_matrix(input_cnf.clauses, clause_num, var_num)] * BATCH_SIZE)\n",
    "        \n",
    "        policy_probs = sess.run(g_policy_probs, feed_dict={g_inputs: inputs})\n",
    "        \n",
    "        print(\"CNF:\", input_cnf, end=' ', file=logfile)\n",
    "        print('cnf_clauses[0]', input_cnf.clauses, end=' ', file=logfile)\n",
    "        print(\"probs:\\n\",  policy_probs[0], end='\\n', file=logfile)\n",
    "        \n",
    "        best_prob = 0.0\n",
    "        best_svar = None\n",
    "        for var in input_cnf.vars:\n",
    "            for svar in [var, -var]:\n",
    "                svar_prob = policy_probs[0][var-1][0 if svar > 0 else 1]\n",
    "                print(svar, svar_prob, best_prob, file=logfile)\n",
    "                if svar_prob > best_prob:\n",
    "                    best_prob = svar_prob\n",
    "                    best_svar = svar\n",
    "        print(\"best_svar:\", best_svar, file=logfile)\n",
    "        return best_svar"
   ]
  },
  {
   "cell_type": "code",
   "execution_count": 43,
   "metadata": {},
   "outputs": [],
   "source": [
    "class HybridDPLL(DPLL):\n",
    "    def run(self, cnf: CNF):\n",
    "        assert isinstance(cnf, CNF)\n",
    "        self.number_of_runs += 1\n",
    "        \n",
    "        if cnf.is_true():\n",
    "            return []\n",
    "        elif cnf.is_false():\n",
    "            return None\n",
    "\n",
    "        # major hack - should be done via exceptions\n",
    "        if self.number_of_runs >= 1e3:\n",
    "            return None\n",
    "        \n",
    "        if self.number_of_runs < 200:\n",
    "            sug_var = self.suggest_neural(cnf)\n",
    "        else:\n",
    "            sug_var = self.suggest_most_common(cnf)\n",
    "            \n",
    "        sug_cnf = cnf.set_var(sug_var)\n",
    "        sug_res = self.run(sug_cnf)\n",
    "        if sug_res is not None:\n",
    "            return [sug_var] + sug_res\n",
    "\n",
    "        not_sug_cnf = cnf.set_var(-sug_var)\n",
    "        not_sug_res = self.run(not_sug_cnf)\n",
    "        if not_sug_res is not None:\n",
    "            self.number_of_errors += 1\n",
    "            return [-sug_var] + not_sug_res\n",
    "        return None\n",
    "    \n",
    "    def suggest_neural(self, input_cnf: CNF):\n",
    "        clause_num = len(input_cnf.clauses)\n",
    "        var_num = max(input_cnf.vars)\n",
    "        inputs = np.asarray([clauses_to_matrix(input_cnf.clauses, clause_num, var_num)] * BATCH_SIZE)\n",
    "        \n",
    "        policy_probs = sess.run(g_policy_probs, feed_dict={g_inputs: inputs})\n",
    "        \n",
    "        print(\"CNF:\", input_cnf, end=' ', file=logfile)\n",
    "        print('cnf_clauses[0]', input_cnf.clauses, end=' ', file=logfile)\n",
    "        print(\"probs:\\n\",  policy_probs[0], end='\\n', file=logfile)\n",
    "        \n",
    "        best_prob = 0.0\n",
    "        best_svar = None\n",
    "        for var in input_cnf.vars:\n",
    "            for svar in [var, -var]:\n",
    "                svar_prob = policy_probs[0][var-1][0 if svar > 0 else 1]\n",
    "                print(svar, svar_prob, best_prob, file=logfile)\n",
    "                if svar_prob > best_prob:\n",
    "                    best_prob = svar_prob\n",
    "                    best_svar = svar\n",
    "        print(\"best_svar:\", best_svar, file=logfile)\n",
    "        return best_svar\n",
    "    \n",
    "    def suggest_most_common(self, cnf: CNF):\n",
    "        counter = Counter()\n",
    "        for clause in cnf.clauses:\n",
    "            for svar in clause:\n",
    "                counter[svar] += 1\n",
    "        return counter.most_common(1)[0][0]"
   ]
  },
  {
   "cell_type": "code",
   "execution_count": 44,
   "metadata": {},
   "outputs": [],
   "source": [
    "class ShortCommonDPLL(DPLL):\n",
    "    def run(self, cnf: CNF):\n",
    "        assert isinstance(cnf, CNF)\n",
    "        self.number_of_runs += 1\n",
    "        \n",
    "        if cnf.is_true():\n",
    "            return []\n",
    "        elif cnf.is_false():\n",
    "            return None\n",
    "\n",
    "        # major hack - should be done via exceptions\n",
    "        if self.number_of_runs >= 1e3:\n",
    "            return None\n",
    "        \n",
    "        sug_var = self.suggest_most_common(cnf)\n",
    "            \n",
    "        sug_cnf = cnf.set_var(sug_var)\n",
    "        sug_res = self.run(sug_cnf)\n",
    "        if sug_res is not None:\n",
    "            return [sug_var] + sug_res\n",
    "\n",
    "        not_sug_cnf = cnf.set_var(-sug_var)\n",
    "        not_sug_res = self.run(not_sug_cnf)\n",
    "        if not_sug_res is not None:\n",
    "            self.number_of_errors += 1\n",
    "            return [-sug_var] + not_sug_res\n",
    "        return None\n",
    "    \n",
    "    def suggest_most_common(self, cnf: CNF):\n",
    "        counter = Counter()\n",
    "        for clause in cnf.clauses:\n",
    "            for svar in clause:\n",
    "                counter[svar] += 1\n",
    "        return counter.most_common(1)[0][0]"
   ]
  },
  {
   "cell_type": "code",
   "execution_count": 77,
   "metadata": {},
   "outputs": [],
   "source": [
    "FUSSY_THRESHOLD = 0.2\n",
    "\n",
    "class FussyGraphDPLL(DPLL):\n",
    "    def run(self, cnf: CNF):\n",
    "        assert isinstance(cnf, CNF)\n",
    "        self.number_of_runs += 1\n",
    "        \n",
    "        if cnf.is_true():\n",
    "            return []\n",
    "        elif cnf.is_false():\n",
    "            return None\n",
    "\n",
    "        # major hack - should be done via exceptions\n",
    "        if self.number_of_runs >= 1e3:\n",
    "            return None\n",
    "        \n",
    "        sug_var = self.suggest_neural(cnf)\n",
    "        if sug_var is None:\n",
    "            print(\"Fussy cut\")\n",
    "            return None\n",
    "            \n",
    "        sug_cnf = cnf.set_var(sug_var)\n",
    "        sug_res = self.run(sug_cnf)\n",
    "        if sug_res is not None:\n",
    "            return [sug_var] + sug_res\n",
    "\n",
    "        not_sug_cnf = cnf.set_var(-sug_var)\n",
    "        not_sug_res = self.run(not_sug_cnf)\n",
    "        if not_sug_res is not None:\n",
    "            self.number_of_errors += 1\n",
    "            return [-sug_var] + not_sug_res\n",
    "        return None\n",
    "    \n",
    "    def suggest_neural(self, input_cnf: CNF):\n",
    "        clause_num = len(input_cnf.clauses)\n",
    "        var_num = max(input_cnf.vars)\n",
    "        inputs = np.asarray([clauses_to_matrix(input_cnf.clauses, clause_num, var_num)] * BATCH_SIZE)\n",
    "        \n",
    "        policy_probs = sess.run(g_policy_probs, feed_dict={g_inputs: inputs})\n",
    "                \n",
    "        best_prob = 0.0\n",
    "        best_svar = None\n",
    "        for var in input_cnf.vars:\n",
    "            for svar in [var, -var]:\n",
    "                svar_prob = policy_probs[0][var-1][0 if svar > 0 else 1]\n",
    "                print(svar, svar_prob, best_prob, file=logfile)\n",
    "                if svar_prob > best_prob:\n",
    "                    best_prob = svar_prob\n",
    "                    best_svar = svar\n",
    "                    \n",
    "        \n",
    "        if best_prob < FUSSY_THRESHOLD:\n",
    "            print(\"I\", input_cnf)\n",
    "            print(\"P\", policy_probs)\n",
    "            return None\n",
    "        else:\n",
    "            return best_svar\n"
   ]
  },
  {
   "cell_type": "code",
   "execution_count": 78,
   "metadata": {},
   "outputs": [],
   "source": [
    "def compute_steps(sats, dpll_cls):\n",
    "    steps = []\n",
    "    errors = []\n",
    "    solved = 0\n",
    "    for sat in tqdm(sats):\n",
    "        dpll = dpll_cls()\n",
    "        res = dpll.run(sat)\n",
    "        # assert res is not None\n",
    "        if res is not None:\n",
    "            steps.append(dpll.number_of_runs)\n",
    "            errors.append(dpll.number_of_errors)\n",
    "            solved += 1\n",
    "    print(\"Within 1e3 steps solved {} problems out of {}\".format(solved, len(sats)))\n",
    "    return steps, errors"
   ]
  },
  {
   "cell_type": "code",
   "execution_count": 79,
   "metadata": {},
   "outputs": [],
   "source": [
    "def compute_and_print_steps(sats, dpll_cls):\n",
    "    steps, errors = compute_steps(sats, dpll_cls)\n",
    "    print(\"#Sats: {}; avg step: {:.2f}; stdev step: {:.2f}; avg error: {:.2f}; stdev error: {:.2f}\".format(\n",
    "        len(steps), np.mean(steps), np.std(steps), np.mean(errors), np.std(errors)))\n",
    "    plt.figure(figsize=(14, 4))\n",
    "    plt.subplot(1, 2, 1)\n",
    "    plt.title(\"Steps of {}\".format(dpll_cls.__name__))\n",
    "    plt.hist(steps, bins=20) # range(2**(N+1)))\n",
    "    plt.ylim((0, len(sats)))\n",
    "    \n",
    "    plt.subplot(1, 2, 2)\n",
    "    plt.title(\"Errors of {}\".format(dpll_cls.__name__))\n",
    "    plt.hist(errors, bins=range(N+1))\n",
    "    plt.ylim((0, len(sats)))\n",
    "    plt.show()"
   ]
  },
  {
   "cell_type": "code",
   "execution_count": 80,
   "metadata": {},
   "outputs": [],
   "source": [
    "def print_all(s, n, m, light=False):\n",
    "    # def get_sats_SR(sample_number, min_variable_number, clause_number, max_variable_number=None):\n",
    "    global S, N, M\n",
    "    S = s\n",
    "    N = n # number of clauses\n",
    "    M = m # number of variables\n",
    "    \n",
    "    MAX_TRIES = 100000\n",
    "    sats = []\n",
    "    for index in range(MAX_TRIES):\n",
    "        if len(sats) >= S:\n",
    "            break\n",
    "        sat = get_pos_SR(M, M, N)\n",
    "        # if DPLL().run(sat) is not None:\n",
    "        sats.append(sat)\n",
    "    assert len(sats) == S\n",
    "    # sats = get_sats_SR(S,M,N)\n",
    "    # for sat in sats:\n",
    "    #    print(sat)\n",
    "    # assert len(sats) == S\n",
    "    print(\"We have generated {} formulas\".format(len(sats)))\n",
    "    # compute_and_print_steps(sats, DPLL)\n",
    "    compute_and_print_steps(sats, HybridDPLL)\n",
    "    compute_and_print_steps(sats, ShortCommonDPLL)\n",
    "    compute_and_print_steps(sats, FussyGraphDPLL)\n",
    "    logfile.flush()"
   ]
  },
  {
   "cell_type": "code",
   "execution_count": 82,
   "metadata": {
    "scrolled": false
   },
   "outputs": [
    {
     "name": "stderr",
     "output_type": "stream",
     "text": [
      "\r",
      "  0%|          | 0/10 [00:00<?, ?it/s]"
     ]
    },
    {
     "name": "stdout",
     "output_type": "stream",
     "text": [
      "We have generated 10 formulas\n"
     ]
    },
    {
     "name": "stderr",
     "output_type": "stream",
     "text": [
      "100%|██████████| 10/10 [00:10<00:00,  1.36s/it]\n"
     ]
    },
    {
     "name": "stdout",
     "output_type": "stream",
     "text": [
      "Within 1e3 steps solved 10 problems out of 10\n",
      "#Sats: 10; avg step: 150.40; stdev step: 216.15; avg error: 1.30; stdev error: 2.10\n"
     ]
    },
    {
     "data": {
      "image/png": "[encoded data removed]",
      "text/plain": [
       "<Figure size 1008x288 with 2 Axes>"
      ]
     },
     "metadata": {},
     "output_type": "display_data"
    },
    {
     "name": "stderr",
     "output_type": "stream",
     "text": [
      "100%|██████████| 10/10 [00:00<00:00, 52.13it/s]\n"
     ]
    },
    {
     "name": "stdout",
     "output_type": "stream",
     "text": [
      "Within 1e3 steps solved 10 problems out of 10\n",
      "#Sats: 10; avg step: 203.80; stdev step: 213.58; avg error: 2.30; stdev error: 1.73\n"
     ]
    },
    {
     "data": {
      "image/png": "[encoded data removed]",
      "text/plain": [
       "<Figure size 1008x288 with 2 Axes>"
      ]
     },
     "metadata": {},
     "output_type": "display_data"
    },
    {
     "name": "stderr",
     "output_type": "stream",
     "text": [
      "\r",
      "  0%|          | 0/10 [00:00<?, ?it/s]"
     ]
    },
    {
     "name": "stdout",
     "output_type": "stream",
     "text": [
      "I (~l)&(l)\n",
      "P [[[0.528 0.528]\n",
      "  [0.528 0.528]\n",
      "  [0.528 0.528]\n",
      "  [0.528 0.528]\n",
      "  [0.528 0.528]\n",
      "  [0.528 0.528]\n",
      "  [0.528 0.528]\n",
      "  [0.528 0.528]\n",
      "  [0.528 0.528]\n",
      "  [0.528 0.528]\n",
      "  [0.528 0.528]\n",
      "  [0.16  0.16 ]]]\n",
      "Fussy cut\n",
      "I (~a)&(~a)&(~a)&(~a)&(a)\n",
      "P [[[0.166 0.178]]]\n",
      "Fussy cut\n"
     ]
    },
    {
     "name": "stderr",
     "output_type": "stream",
     "text": [
      " 70%|███████   | 7/10 [00:15<00:05,  1.85s/it]"
     ]
    },
    {
     "name": "stdout",
     "output_type": "stream",
     "text": [
      "I (d)&(d|g)&(~g|d)&(~g|d)&(~g|d)&(g)&(d)&(~d)&(d)&(~g|~d)&(~g)&(~g)&(~g)\n",
      "P [[[0.528 0.528]\n",
      "  [0.528 0.528]\n",
      "  [0.528 0.528]\n",
      "  [0.168 0.184]\n",
      "  [0.528 0.528]\n",
      "  [0.528 0.528]\n",
      "  [0.184 0.168]]]\n",
      "Fussy cut\n"
     ]
    },
    {
     "name": "stderr",
     "output_type": "stream",
     "text": [
      " 90%|█████████ | 9/10 [00:20<00:02,  2.07s/it]"
     ]
    },
    {
     "name": "stdout",
     "output_type": "stream",
     "text": [
      "I (n)&(~n)\n",
      "P [[[0.528 0.528]\n",
      "  [0.528 0.528]\n",
      "  [0.528 0.528]\n",
      "  [0.528 0.528]\n",
      "  [0.528 0.528]\n",
      "  [0.528 0.528]\n",
      "  [0.528 0.528]\n",
      "  [0.528 0.528]\n",
      "  [0.528 0.528]\n",
      "  [0.528 0.528]\n",
      "  [0.528 0.528]\n",
      "  [0.528 0.528]\n",
      "  [0.528 0.528]\n",
      "  [0.16  0.16 ]]]\n",
      "Fussy cut\n",
      "I (l)&(~l)\n",
      "P [[[0.528 0.528]\n",
      "  [0.528 0.528]\n",
      "  [0.528 0.528]\n",
      "  [0.528 0.528]\n",
      "  [0.528 0.528]\n",
      "  [0.528 0.528]\n",
      "  [0.528 0.528]\n",
      "  [0.528 0.528]\n",
      "  [0.528 0.528]\n",
      "  [0.528 0.528]\n",
      "  [0.528 0.528]\n",
      "  [0.16  0.16 ]]]\n",
      "Fussy cut\n",
      "I (l)&(~l)\n",
      "P [[[0.528 0.528]\n",
      "  [0.528 0.528]\n",
      "  [0.528 0.528]\n",
      "  [0.528 0.528]\n",
      "  [0.528 0.528]\n",
      "  [0.528 0.528]\n",
      "  [0.528 0.528]\n",
      "  [0.528 0.528]\n",
      "  [0.528 0.528]\n",
      "  [0.528 0.528]\n",
      "  [0.528 0.528]\n",
      "  [0.16  0.16 ]]]\n",
      "Fussy cut\n",
      "I (l)&(l)&(l)&(~l)&(l)\n",
      "P [[[0.528 0.528]\n",
      "  [0.528 0.528]\n",
      "  [0.528 0.528]\n",
      "  [0.528 0.528]\n",
      "  [0.528 0.528]\n",
      "  [0.528 0.528]\n",
      "  [0.528 0.528]\n",
      "  [0.528 0.528]\n",
      "  [0.528 0.528]\n",
      "  [0.528 0.528]\n",
      "  [0.528 0.528]\n",
      "  [0.178 0.166]]]\n",
      "Fussy cut\n",
      "I (l)&(~l)\n",
      "P [[[0.528 0.528]\n",
      "  [0.528 0.528]\n",
      "  [0.528 0.528]\n",
      "  [0.528 0.528]\n",
      "  [0.528 0.528]\n",
      "  [0.528 0.528]\n",
      "  [0.528 0.528]\n",
      "  [0.528 0.528]\n",
      "  [0.528 0.528]\n",
      "  [0.528 0.528]\n",
      "  [0.528 0.528]\n",
      "  [0.16  0.16 ]]]\n",
      "Fussy cut\n",
      "I (d)&(~d)\n",
      "P [[[0.528 0.528]\n",
      "  [0.528 0.528]\n",
      "  [0.528 0.528]\n",
      "  [0.16  0.16 ]]]\n",
      "Fussy cut\n",
      "I (l)&(~l)\n",
      "P [[[0.528 0.528]\n",
      "  [0.528 0.528]\n",
      "  [0.528 0.528]\n",
      "  [0.528 0.528]\n",
      "  [0.528 0.528]\n",
      "  [0.528 0.528]\n",
      "  [0.528 0.528]\n",
      "  [0.528 0.528]\n",
      "  [0.528 0.528]\n",
      "  [0.528 0.528]\n",
      "  [0.528 0.528]\n",
      "  [0.16  0.16 ]]]\n",
      "Fussy cut\n",
      "I (l)&(l)&(l)&(~l)&(l)\n",
      "P [[[0.528 0.528]\n",
      "  [0.528 0.528]\n",
      "  [0.528 0.528]\n",
      "  [0.528 0.528]\n",
      "  [0.528 0.528]\n",
      "  [0.528 0.528]\n",
      "  [0.528 0.528]\n",
      "  [0.528 0.528]\n",
      "  [0.528 0.528]\n",
      "  [0.528 0.528]\n",
      "  [0.528 0.528]\n",
      "  [0.178 0.166]]]\n",
      "Fussy cut\n",
      "I (l)&(~l)\n",
      "P [[[0.528 0.528]\n",
      "  [0.528 0.528]\n",
      "  [0.528 0.528]\n",
      "  [0.528 0.528]\n",
      "  [0.528 0.528]\n",
      "  [0.528 0.528]\n",
      "  [0.528 0.528]\n",
      "  [0.528 0.528]\n",
      "  [0.528 0.528]\n",
      "  [0.528 0.528]\n",
      "  [0.528 0.528]\n",
      "  [0.16  0.16 ]]]\n",
      "Fussy cut\n",
      "I (l)&(~l)\n",
      "P [[[0.528 0.528]\n",
      "  [0.528 0.528]\n",
      "  [0.528 0.528]\n",
      "  [0.528 0.528]\n",
      "  [0.528 0.528]\n",
      "  [0.528 0.528]\n",
      "  [0.528 0.528]\n",
      "  [0.528 0.528]\n",
      "  [0.528 0.528]\n",
      "  [0.528 0.528]\n",
      "  [0.528 0.528]\n",
      "  [0.16  0.16 ]]]\n",
      "Fussy cut\n",
      "I (l)&(~l)\n",
      "P [[[0.528 0.528]\n",
      "  [0.528 0.528]\n",
      "  [0.528 0.528]\n",
      "  [0.528 0.528]\n",
      "  [0.528 0.528]\n",
      "  [0.528 0.528]\n",
      "  [0.528 0.528]\n",
      "  [0.528 0.528]\n",
      "  [0.528 0.528]\n",
      "  [0.528 0.528]\n",
      "  [0.528 0.528]\n",
      "  [0.16  0.16 ]]]\n",
      "Fussy cut\n"
     ]
    },
    {
     "name": "stderr",
     "output_type": "stream",
     "text": [
      "100%|██████████| 10/10 [00:26<00:00,  3.36s/it]\n"
     ]
    },
    {
     "name": "stdout",
     "output_type": "stream",
     "text": [
      "Within 1e3 steps solved 9 problems out of 10\n",
      "#Sats: 9; avg step: 124.11; stdev step: 208.35; avg error: 0.22; stdev error: 0.42\n"
     ]
    },
    {
     "data": {
      "image/png": "[encoded data removed]",
      "text/plain": [
       "<Figure size 1008x288 with 2 Axes>"
      ]
     },
     "metadata": {},
     "output_type": "display_data"
    }
   ],
   "source": [
    "print_all(10, 200, 15)"
   ]
  },
  {
   "cell_type": "code",
   "execution_count": null,
   "metadata": {
    "scrolled": false
   },
   "outputs": [],
   "source": [
    "print_all(10, 200, 8)"
   ]
  },
  {
   "cell_type": "code",
   "execution_count": null,
   "metadata": {},
   "outputs": [],
   "source": [
    "print_all(10, 200, 10)"
   ]
  },
  {
   "cell_type": "code",
   "execution_count": null,
   "metadata": {},
   "outputs": [],
   "source": [
    "print_all(10, 200, 12)"
   ]
  },
  {
   "cell_type": "code",
   "execution_count": null,
   "metadata": {
    "scrolled": true
   },
   "outputs": [],
   "source": [
    "print_all(10, 200, 14)"
   ]
  },
  {
   "cell_type": "code",
   "execution_count": null,
   "metadata": {},
   "outputs": [],
   "source": [
    "print_all(10, 200, 16)"
   ]
  },
  {
   "cell_type": "code",
   "execution_count": null,
   "metadata": {},
   "outputs": [],
   "source": [
    "print_all(10, 200, 18)"
   ]
  },
  {
   "cell_type": "code",
   "execution_count": null,
   "metadata": {},
   "outputs": [],
   "source": [
    "print_all(10, 200, 20)"
   ]
  },
  {
   "cell_type": "code",
   "execution_count": null,
   "metadata": {},
   "outputs": [],
   "source": [
    "print_all(10, 500, 25, light=True)"
   ]
  },
  {
   "cell_type": "code",
   "execution_count": null,
   "metadata": {},
   "outputs": [],
   "source": [
    "print_all(10, 500, 30, light=True)"
   ]
  },
  {
   "cell_type": "code",
   "execution_count": null,
   "metadata": {},
   "outputs": [],
   "source": [
    "print_all(10, 1000, 40, light=True)"
   ]
  },
  {
   "cell_type": "code",
   "execution_count": null,
   "metadata": {},
   "outputs": [],
   "source": [
    "print_all(10, 1000, 50, light=True)"
   ]
  },
  {
   "cell_type": "code",
   "execution_count": null,
   "metadata": {},
   "outputs": [],
   "source": [
    "print_all(10, 1000, 70, light=True)"
   ]
  },
  {
   "cell_type": "code",
   "execution_count": null,
   "metadata": {},
   "outputs": [],
   "source": [
    "print_all(100, 1000, 90, light=True)"
   ]
  },
  {
   "cell_type": "code",
   "execution_count": null,
   "metadata": {},
   "outputs": [],
   "source": [
    "print_all(10, 1000, 40, light=True)"
   ]
  },
  {
   "cell_type": "code",
   "execution_count": null,
   "metadata": {},
   "outputs": [],
   "source": [
    "print_all(100, 1000, 70, light=True)"
   ]
  },
  {
   "cell_type": "code",
   "execution_count": null,
   "metadata": {},
   "outputs": [],
   "source": [
    "print_all(100, 1000, 60, light=True)"
   ]
  },
  {
   "cell_type": "code",
   "execution_count": null,
   "metadata": {},
   "outputs": [],
   "source": []
  }
 ],
 "metadata": {
  "kernelspec": {
   "display_name": "Python 3",
   "language": "python",
   "name": "python3"
  },
  "language_info": {
   "codemirror_mode": {
    "name": "ipython",
    "version": 3
   },
   "file_extension": ".py",
   "mimetype": "text/x-python",
   "name": "python",
   "nbconvert_exporter": "python",
   "pygments_lexer": "ipython3",
   "version": "3.6.1"
  }
 },
 "nbformat": 4,
 "nbformat_minor": 2
}
