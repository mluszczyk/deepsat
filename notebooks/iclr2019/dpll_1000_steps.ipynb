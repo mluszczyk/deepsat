{
 "cells": [
  {
   "cell_type": "code",
   "execution_count": 17,
   "metadata": {},
   "outputs": [
    {
     "name": "stdout",
     "output_type": "stream",
     "text": [
      "INFO:tensorflow:Restoring parameters from model_sr50/variables/variables\n"
     ]
    }
   ],
   "source": [
    "import tensorflow as tf\n",
    "from tensorflow.contrib import predictor\n",
    "\n",
    "export_dir = \"model_sr50\"\n",
    "predict_fn = predictor.from_saved_model(export_dir)"
   ]
  },
  {
   "cell_type": "code",
   "execution_count": 18,
   "metadata": {},
   "outputs": [],
   "source": [
    "from matplotlib import pyplot as plt\n",
    "import numpy as np\n",
    "import random"
   ]
  },
  {
   "cell_type": "code",
   "execution_count": 19,
   "metadata": {},
   "outputs": [],
   "source": [
    "import sys \n",
    "sys.path.insert(0,'..')\n",
    "sys.path.insert(0,'../..')"
   ]
  },
  {
   "cell_type": "code",
   "execution_count": 20,
   "metadata": {
    "scrolled": true
   },
   "outputs": [],
   "source": [
    "from cnf_dataset import clauses_to_matrix\n",
    "from dpll import DPLL, RandomClauseDPLL, MostCommonVarDPLL, RandomVarDPLL\n",
    "from cnf import get_random_kcnf, CNF, get_sats_SR, get_pos_SR\n",
    "from tqdm import tqdm\n",
    "from collections import Counter"
   ]
  },
  {
   "cell_type": "code",
   "execution_count": 21,
   "metadata": {},
   "outputs": [],
   "source": [
    "import math\n",
    "from collections import defaultdict\n",
    "\n",
    "def jw(clauses):\n",
    "    score = defaultdict(int)\n",
    "\n",
    "    for clause in clauses:\n",
    "        for l in clause:\n",
    "            score[l] += 2. ** (-len(clause))\n",
    "\n",
    "    return max(score, key=score.get)\n"
   ]
  },
  {
   "cell_type": "code",
   "execution_count": 22,
   "metadata": {},
   "outputs": [],
   "source": [
    "LIMIT_RUNS = 1000"
   ]
  },
  {
   "cell_type": "code",
   "execution_count": 23,
   "metadata": {},
   "outputs": [],
   "source": [
    "def shorten_cnf(cnf: CNF):\n",
    "    for c in cnf.clauses:\n",
    "        if len(c) == 1:\n",
    "            # print(\"Chosen lone clause\", c[0])\n",
    "            return shorten_cnf(cnf.set_var(c[0]))\n",
    "    all_literals = set(x\n",
    "                       for clause in cnf.clauses\n",
    "                       for x in clause)\n",
    "    for v in cnf.vars:\n",
    "        if v in all_literals and (-v) not in all_literals:\n",
    "            # print(\"Chosen lone literal\", v)\n",
    "            return shorten_cnf(cnf.set_var(v))\n",
    "        if (-v) in all_literals and v not in all_literals:\n",
    "            # print(\"Chosen lone literal\", -v)\n",
    "            return shorten_cnf(cnf.set_var(-v))\n",
    "    return cnf\n",
    "\n",
    "def make_normalized(cls):\n",
    "    class NormalizedDPLL(cls):\n",
    "        def run(self, cnf: CNF):\n",
    "            assert isinstance(cnf, CNF)\n",
    "            self.number_of_runs += 1\n",
    "            if self.number_of_runs > LIMIT_RUNS:\n",
    "                return None\n",
    "            \n",
    "            cnf = shorten_cnf(cnf)\n",
    "            if cnf.is_true():\n",
    "                return []\n",
    "            elif cnf.is_false():\n",
    "                return None\n",
    "\n",
    "            sug_var = self.suggest(cnf)\n",
    "            sug_cnf = cnf.set_var(sug_var)\n",
    "\n",
    "            sug_res = self.run(sug_cnf)\n",
    "            if sug_res is not None:\n",
    "                return [sug_var] + sug_res\n",
    "\n",
    "            not_sug_cnf = cnf.set_var(-sug_var)\n",
    "            not_sug_res = self.run(not_sug_cnf)\n",
    "            if not_sug_res is not None:\n",
    "                self.number_of_errors += 1\n",
    "                return [-sug_var] + not_sug_res\n",
    "            return None\n",
    "    NormalizedDPLL.__name__ = \"Normalized{}\".format(cls.__name__)\n",
    "    return NormalizedDPLL"
   ]
  },
  {
   "cell_type": "code",
   "execution_count": 24,
   "metadata": {},
   "outputs": [],
   "source": [
    "np.set_printoptions(precision=3, suppress=True)"
   ]
  },
  {
   "cell_type": "code",
   "execution_count": 25,
   "metadata": {
    "scrolled": true
   },
   "outputs": [],
   "source": [
    "import tensorflow as tf\n",
    "import os\n",
    "\n",
    "BATCH_SIZE = 1"
   ]
  },
  {
   "cell_type": "code",
   "execution_count": 26,
   "metadata": {},
   "outputs": [],
   "source": [
    "# Because we have to pass full batch\n",
    "\n",
    "class GraphBasedDPLL(DPLL):\n",
    "    def suggest(self, input_cnf: CNF):\n",
    "        clause_num = len(input_cnf.clauses)\n",
    "        var_num = max(input_cnf.vars)\n",
    "        inputs = np.asarray([clauses_to_matrix(input_cnf.clauses, clause_num, var_num)] * BATCH_SIZE)\n",
    "        \n",
    "        policy_probs = predict_fn({\"input\": inputs})['policy_probabilities']\n",
    "        \n",
    "        best_prob = 0.0\n",
    "        best_svar = None\n",
    "        for var in input_cnf.vars:\n",
    "            for svar in [var, -var]:\n",
    "                svar_prob = policy_probs[0][var-1][0 if svar > 0 else 1]\n",
    "                if svar_prob > best_prob:\n",
    "                    best_prob = svar_prob\n",
    "                    best_svar = svar\n",
    "        return best_svar\n",
    "\n",
    "class MostCommonDPLL(DPLL):\n",
    "    def suggest(self, cnf: CNF):\n",
    "        counter = Counter()\n",
    "        for clause in cnf.clauses:\n",
    "            for svar in clause:\n",
    "                counter[svar] += 1\n",
    "        return counter.most_common(1)[0][0]\n",
    "    \n",
    "class JeroslawDPLL(DPLL):\n",
    "    def suggest(self, cnf: CNF):\n",
    "        return jw(cnf.clauses)"
   ]
  },
  {
   "cell_type": "code",
   "execution_count": 27,
   "metadata": {},
   "outputs": [],
   "source": [
    "NormalizedGraphBasedDPLL = make_normalized(GraphBasedDPLL)\n",
    "NormalizedMostCommonDPLL = make_normalized(MostCommonDPLL)\n",
    "NormalizedJeroslawDPLL = make_normalized(JeroslawDPLL)"
   ]
  },
  {
   "cell_type": "code",
   "execution_count": 28,
   "metadata": {},
   "outputs": [],
   "source": [
    "def compute_steps(sats, dpll_cls):\n",
    "    steps = []\n",
    "    errors = []\n",
    "    solved = 0\n",
    "    for sat in tqdm(sats):\n",
    "        dpll = dpll_cls()\n",
    "        res = dpll.run(sat)\n",
    "        if res is not None:\n",
    "            steps.append(dpll.number_of_runs)\n",
    "            errors.append(dpll.number_of_errors)\n",
    "            solved += 1\n",
    "    print(\"Within {} steps solved {} problems out of {}\".format(LIMIT_RUNS, solved, len(sats)))\n",
    "    return steps, errors"
   ]
  },
  {
   "cell_type": "code",
   "execution_count": 29,
   "metadata": {},
   "outputs": [],
   "source": [
    "def compute_and_print_steps(sats, dpll_cls):\n",
    "    steps, errors = compute_steps(sats, dpll_cls)\n",
    "    print(\"#Sats: {}; avg step: {:.2f}; stdev step: {:.2f}; avg error: {:.2f}; stdev error: {:.2f}\".format(\n",
    "        len(steps), np.mean(steps), np.std(steps), np.mean(errors), np.std(errors)))\n",
    "    plt.figure(figsize=(14, 4))\n",
    "    plt.subplot(1, 2, 1)\n",
    "    plt.title(\"Steps of {}\".format(dpll_cls.__name__))\n",
    "    plt.hist(steps, bins=20) # range(2**(N+1)))\n",
    "    plt.ylim((0, len(sats)))\n",
    "    \n",
    "    plt.subplot(1, 2, 2)\n",
    "    plt.title(\"Errors of {}\".format(dpll_cls.__name__))\n",
    "    plt.hist(errors, bins=range(N+1))\n",
    "    plt.ylim((0, len(sats)))\n",
    "    plt.show()"
   ]
  },
  {
   "cell_type": "code",
   "execution_count": 30,
   "metadata": {},
   "outputs": [],
   "source": [
    "# s - number of samples\n",
    "# n - max number of clauses, use 100 * m\n",
    "# m - number of variables\n",
    "\n",
    "def print_all(s, n, m, light=False):\n",
    "    global S, N, M\n",
    "    S = s\n",
    "    N = n # number of clauses\n",
    "    M = m # number of variables\n",
    "    \n",
    "    MAX_TRIES = 100000\n",
    "    sats = []\n",
    "    \n",
    "    random.seed(1)\n",
    "    np.random.seed(1)\n",
    "    \n",
    "    for index in range(MAX_TRIES):\n",
    "        if len(sats) >= S:\n",
    "            break\n",
    "        sat = get_pos_SR(M, M, N)\n",
    "        sats.append(sat)\n",
    "    assert len(sats) == S\n",
    "    print(\"We have generated {} formulas\".format(len(sats)))\n",
    "    compute_and_print_steps(sats, NormalizedGraphBasedDPLL)\n",
    "    compute_and_print_steps(sats, NormalizedMostCommonDPLL)\n",
    "    compute_and_print_steps(sats, NormalizedJeroslawDPLL)"
   ]
  },
  {
   "cell_type": "code",
   "execution_count": 31,
   "metadata": {},
   "outputs": [
    {
     "name": "stderr",
     "output_type": "stream",
     "text": [
      "\r",
      "  0%|          | 0/100 [00:00<?, ?it/s]"
     ]
    },
    {
     "name": "stdout",
     "output_type": "stream",
     "text": [
      "We have generated 100 formulas\n"
     ]
    },
    {
     "name": "stderr",
     "output_type": "stream",
     "text": [
      "100%|██████████| 100/100 [01:04<00:00,  1.67it/s]\n"
     ]
    },
    {
     "name": "stdout",
     "output_type": "stream",
     "text": [
      "Within 1000 steps solved 100 problems out of 100\n",
      "#Sats: 100; avg step: 5.62; stdev step: 2.55; avg error: 0.03; stdev error: 0.17\n"
     ]
    },
    {
     "data": {
      "image/png": "[encoded data removed]",
      "text/plain": [
       "<Figure size 1008x288 with 2 Axes>"
      ]
     },
     "metadata": {
      "needs_background": "light"
     },
     "output_type": "display_data"
    },
    {
     "name": "stderr",
     "output_type": "stream",
     "text": [
      "100%|██████████| 100/100 [00:00<00:00, 224.31it/s]\n"
     ]
    },
    {
     "name": "stdout",
     "output_type": "stream",
     "text": [
      "Within 1000 steps solved 100 problems out of 100\n",
      "#Sats: 100; avg step: 8.16; stdev step: 4.03; avg error: 0.83; stdev error: 0.71\n"
     ]
    },
    {
     "data": {
      "image/png": "[encoded data removed]",
      "text/plain": [
       "<Figure size 1008x288 with 2 Axes>"
      ]
     },
     "metadata": {
      "needs_background": "light"
     },
     "output_type": "display_data"
    },
    {
     "name": "stderr",
     "output_type": "stream",
     "text": [
      "100%|██████████| 100/100 [00:00<00:00, 167.62it/s]\n"
     ]
    },
    {
     "name": "stdout",
     "output_type": "stream",
     "text": [
      "Within 1000 steps solved 100 problems out of 100\n",
      "#Sats: 100; avg step: 7.31; stdev step: 3.60; avg error: 0.49; stdev error: 0.56\n"
     ]
    },
    {
     "data": {
      "image/png": "[encoded data removed]",
      "text/plain": [
       "<Figure size 1008x288 with 2 Axes>"
      ]
     },
     "metadata": {
      "needs_background": "light"
     },
     "output_type": "display_data"
    }
   ],
   "source": [
    "print_all(100, 200, 10)"
   ]
  },
  {
   "cell_type": "code",
   "execution_count": null,
   "metadata": {},
   "outputs": [],
   "source": [
    "print_all(100, 200, 12)"
   ]
  },
  {
   "cell_type": "code",
   "execution_count": null,
   "metadata": {
    "scrolled": false
   },
   "outputs": [],
   "source": [
    "print_all(100, 200, 14)"
   ]
  },
  {
   "cell_type": "code",
   "execution_count": null,
   "metadata": {},
   "outputs": [],
   "source": [
    "print_all(100, 200, 16)"
   ]
  },
  {
   "cell_type": "code",
   "execution_count": null,
   "metadata": {
    "scrolled": false
   },
   "outputs": [],
   "source": [
    "print_all(100, 200, 18)"
   ]
  },
  {
   "cell_type": "code",
   "execution_count": null,
   "metadata": {},
   "outputs": [],
   "source": [
    "print_all(100, 200, 20)"
   ]
  },
  {
   "cell_type": "code",
   "execution_count": null,
   "metadata": {},
   "outputs": [],
   "source": [
    "print_all(100, 500, 25, light=True)"
   ]
  },
  {
   "cell_type": "code",
   "execution_count": null,
   "metadata": {},
   "outputs": [],
   "source": [
    "print_all(100, 500, 30, light=True)"
   ]
  },
  {
   "cell_type": "code",
   "execution_count": null,
   "metadata": {},
   "outputs": [],
   "source": [
    "print_all(100, 1000, 40, light=True)"
   ]
  },
  {
   "cell_type": "code",
   "execution_count": null,
   "metadata": {},
   "outputs": [],
   "source": [
    "print_all(100, 1000, 50, light=True)"
   ]
  },
  {
   "cell_type": "code",
   "execution_count": null,
   "metadata": {},
   "outputs": [],
   "source": [
    "print_all(100, 1000, 70, light=True)"
   ]
  },
  {
   "cell_type": "code",
   "execution_count": null,
   "metadata": {},
   "outputs": [],
   "source": [
    "print_all(100, 1000, 90, light=True)"
   ]
  },
  {
   "cell_type": "code",
   "execution_count": null,
   "metadata": {},
   "outputs": [],
   "source": [
    "print_all(100, 1000, 110, light=True)"
   ]
  }
 ],
 "metadata": {
  "kernelspec": {
   "display_name": "Python 3",
   "language": "python",
   "name": "python3"
  },
  "language_info": {
   "codemirror_mode": {
    "name": "ipython",
    "version": 3
   },
   "file_extension": ".py",
   "mimetype": "text/x-python",
   "name": "python",
   "nbconvert_exporter": "python",
   "pygments_lexer": "ipython3",
   "version": "3.6.1"
  }
 },
 "nbformat": 4,
 "nbformat_minor": 2
}
