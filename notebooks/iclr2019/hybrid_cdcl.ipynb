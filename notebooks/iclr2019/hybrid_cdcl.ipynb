{
 "cells": [
  {
   "cell_type": "code",
   "execution_count": 18,
   "metadata": {},
   "outputs": [
    {
     "name": "stdout",
     "output_type": "stream",
     "text": [
      "INFO:tensorflow:Restoring parameters from model_sr50/variables/variables\n"
     ]
    }
   ],
   "source": [
    "import tensorflow as tf\n",
    "from tensorflow.contrib import predictor\n",
    "\n",
    "export_dir = \"model_sr50\"\n",
    "predict_fn = predictor.from_saved_model(export_dir)"
   ]
  },
  {
   "cell_type": "code",
   "execution_count": 19,
   "metadata": {},
   "outputs": [],
   "source": [
    "from matplotlib import pyplot as plt\n",
    "import numpy as np\n",
    "import random"
   ]
  },
  {
   "cell_type": "code",
   "execution_count": 20,
   "metadata": {},
   "outputs": [],
   "source": [
    "import tqdm"
   ]
  },
  {
   "cell_type": "code",
   "execution_count": 21,
   "metadata": {},
   "outputs": [],
   "source": [
    "from time import time"
   ]
  },
  {
   "cell_type": "code",
   "execution_count": 22,
   "metadata": {},
   "outputs": [],
   "source": [
    "import sys \n",
    "sys.path.insert(0,'../..')"
   ]
  },
  {
   "cell_type": "code",
   "execution_count": 23,
   "metadata": {
    "scrolled": true
   },
   "outputs": [],
   "source": [
    "from cnf_dataset import clauses_to_matrix\n",
    "from dpll import DPLL, RandomClauseDPLL, MostCommonVarDPLL, RandomVarDPLL, JeroslowWangDPLL\n",
    "import cdcl\n",
    "CDCL = cdcl.CDCL\n",
    "from cnf import get_random_kcnf, CNF, get_sats_SR, get_pos_SR, get_sat_SR, get_random_sat_kcnf\n",
    "from collections import Counter"
   ]
  },
  {
   "cell_type": "code",
   "execution_count": 24,
   "metadata": {},
   "outputs": [],
   "source": [
    "LIMIT_RUNS = 1000"
   ]
  },
  {
   "cell_type": "code",
   "execution_count": 25,
   "metadata": {},
   "outputs": [],
   "source": [
    "import math\n",
    "from collections import defaultdict\n",
    "\n",
    "def jw(clauses):\n",
    "    score = defaultdict(int)\n",
    "\n",
    "    for clause in clauses:\n",
    "        for l in clause:\n",
    "            score[l] += 2. ** (-len(clause))\n",
    "\n",
    "    return max(score, key=score.get)"
   ]
  },
  {
   "cell_type": "code",
   "execution_count": 26,
   "metadata": {},
   "outputs": [],
   "source": [
    "np.set_printoptions(precision=3, suppress=True)"
   ]
  },
  {
   "cell_type": "code",
   "execution_count": 27,
   "metadata": {
    "scrolled": true
   },
   "outputs": [],
   "source": [
    "import tensorflow as tf\n",
    "import os\n",
    "\n",
    "BATCH_SIZE = 1"
   ]
  },
  {
   "cell_type": "code",
   "execution_count": 28,
   "metadata": {},
   "outputs": [],
   "source": [
    "VERBOSE = False\n",
    "TIMEOUT = 10000\n",
    "cdcl.VERBOSE = VERBOSE\n",
    "cdcl.TIMEOUT = TIMEOUT\n",
    "\n",
    "class GraphBasedCDCL(CDCL):\n",
    "    def suggest(self, input_cnf: CNF):\n",
    "        clause_num = len(input_cnf.clauses)\n",
    "        var_num = max(input_cnf.vars)\n",
    "        inputs = np.asarray([clauses_to_matrix(input_cnf.clauses, clause_num, var_num)] * BATCH_SIZE)\n",
    "        \n",
    "        output = predict_fn({\"input\": inputs})\n",
    "        policy_probs = output['policy_probabilities']\n",
    "        sat_prob = output['sat_probabilities'][0]\n",
    "                \n",
    "        best_prob = 0.0\n",
    "        best_svar = None\n",
    "        for var in input_cnf.vars:\n",
    "            for svar in [var, -var]:\n",
    "                svar_prob = policy_probs[0][var-1][0 if svar > 0 else 1]\n",
    "                if svar_prob > best_prob:\n",
    "                    best_prob = svar_prob\n",
    "                    best_svar = svar\n",
    "        if VERBOSE:\n",
    "            print(\"Chosen neural\", best_svar)\n",
    "            print(\"Pred SAT prob\", sat_prob)\n",
    "        return best_svar\n",
    "\n",
    "class HumbleGraphBasedCDCL(CDCL):\n",
    "    def suggest(self, input_cnf: CNF):\n",
    "        clause_num = len(input_cnf.clauses)\n",
    "        var_num = max(input_cnf.vars)\n",
    "        inputs = np.asarray([clauses_to_matrix(input_cnf.clauses, clause_num, var_num)] * BATCH_SIZE)\n",
    "        \n",
    "        output = predict_fn({\"input\": inputs})\n",
    "        policy_probs = output['policy_probabilities']\n",
    "        sat_prob = output['sat_probabilities'][0]\n",
    "                \n",
    "        best_prob = 0.0\n",
    "        best_svar = None\n",
    "        for var in input_cnf.vars:\n",
    "            for svar in [var, -var]:\n",
    "                svar_prob = policy_probs[0][var-1][0 if svar > 0 else 1]\n",
    "                if svar_prob > best_prob:\n",
    "                    best_prob = svar_prob\n",
    "                    best_svar = svar\n",
    "        if VERBOSE:\n",
    "            print(\"Chosen neural\", best_svar)\n",
    "            print(\"Pred SAT prob\", sat_prob)\n",
    "        if sat_prob < 0.3:\n",
    "            best_svar = jw(input_cnf.clauses)\n",
    "            if VERBOSE:\n",
    "                print(\"Choosing JW\", best_svar)\n",
    "        return best_svar\n",
    "\n",
    "class JeroslawCDCL(CDCL):\n",
    "    def suggest(self, cnf: CNF):\n",
    "        res = jw(cnf.clauses)\n",
    "        if VERBOSE:\n",
    "            print(\"Chosen JW\", res)\n",
    "        return res"
   ]
  },
  {
   "cell_type": "code",
   "execution_count": 29,
   "metadata": {},
   "outputs": [],
   "source": [
    "def compute_steps(sats, cdcl_cls):\n",
    "    steps = []\n",
    "    solved = 0\n",
    "    for sat in tqdm.tqdm(sats):\n",
    "        cdcl = cdcl_cls()\n",
    "        res = cdcl.run(sat)\n",
    "        # assert res is not None\n",
    "        if res is not None:\n",
    "            steps.append(cdcl.number_of_runs)\n",
    "            solved += 1\n",
    "    print(\"Within {} steps solved {} problems out of {}\".format(LIMIT_RUNS, solved, len(sats)))\n",
    "    return steps"
   ]
  },
  {
   "cell_type": "code",
   "execution_count": 30,
   "metadata": {},
   "outputs": [],
   "source": [
    "def compute_and_print_steps(sats, dpll_cls):\n",
    "    try:\n",
    "        print(\"\")\n",
    "        print(\"Results of {}\".format(dpll_cls.__name__))\n",
    "        steps = compute_steps(sats, dpll_cls)\n",
    "        print(\"#Sats: {}; avg step: {:.2f}; stdev step: {:.2f}\".format(\n",
    "            len(steps), np.mean(steps), np.std(steps)))\n",
    "        print(\"Table: {}\".format(steps))\n",
    "    except Exception as e:\n",
    "        print(e)\n",
    "        print(\"Timeout!\", TIMEOUT, \"steps\")\n"
   ]
  },
  {
   "cell_type": "code",
   "execution_count": 31,
   "metadata": {},
   "outputs": [],
   "source": [
    "# s - number of samples\n",
    "# n - max number of clauses, use 100 * m\n",
    "# m - number of variables\n",
    "def print_all(s, n, m, light=False, seed=1, to_test=[HumbleGraphBasedCDCL, JeroslawCDCL]):\n",
    "    print(\"Starting...\")\n",
    "    global S, N, M\n",
    "    S = s\n",
    "    N = n # number of clauses\n",
    "    M = m # number of variables\n",
    "    \n",
    "    MAX_TRIES = 100000\n",
    "    sats = []\n",
    "    \n",
    "    random.seed(seed)\n",
    "    np.random.seed(seed)\n",
    "    \n",
    "    for index in range(MAX_TRIES):\n",
    "        if len(sats) >= S:\n",
    "            break\n",
    "        sat = get_pos_SR(M, M, N)\n",
    "        sats.append(sat)\n",
    "    assert len(sats) == S\n",
    "    print(\"We have generated {} formulas\".format(len(sats)))\n",
    "    for method in to_test:\n",
    "        compute_and_print_steps(sats, method)\n"
   ]
  },
  {
   "cell_type": "code",
   "execution_count": 32,
   "metadata": {},
   "outputs": [
    {
     "name": "stderr",
     "output_type": "stream",
     "text": [
      "\r",
      "  0%|          | 0/10 [00:00<?, ?it/s]"
     ]
    },
    {
     "name": "stdout",
     "output_type": "stream",
     "text": [
      "Starting...\n",
      "We have generated 10 formulas\n",
      "\n",
      "Results of HumbleGraphBasedCDCL\n"
     ]
    },
    {
     "name": "stderr",
     "output_type": "stream",
     "text": [
      "100%|██████████| 10/10 [00:18<00:00,  1.09it/s]\n",
      "100%|██████████| 10/10 [00:00<00:00, 78.99it/s]"
     ]
    },
    {
     "name": "stdout",
     "output_type": "stream",
     "text": [
      "Within 1000 steps solved 10 problems out of 10\n",
      "#Sats: 10; avg step: 4.50; stdev step: 1.02\n",
      "Table: [6, 4, 3, 6, 3, 5, 5, 5, 4, 4]\n",
      "\n",
      "Results of JeroslawCDCL\n",
      "Within 1000 steps solved 10 problems out of 10\n",
      "#Sats: 10; avg step: 4.60; stdev step: 0.92\n",
      "Table: [6, 5, 5, 3, 4, 4, 6, 5, 4, 4]\n"
     ]
    },
    {
     "name": "stderr",
     "output_type": "stream",
     "text": [
      "\n"
     ]
    }
   ],
   "source": [
    "print_all(10, 1000, 10)"
   ]
  },
  {
   "cell_type": "code",
   "execution_count": null,
   "metadata": {},
   "outputs": [],
   "source": []
  }
 ],
 "metadata": {
  "kernelspec": {
   "display_name": "Python 3",
   "language": "python",
   "name": "python3"
  },
  "language_info": {
   "codemirror_mode": {
    "name": "ipython",
    "version": 3
   },
   "file_extension": ".py",
   "mimetype": "text/x-python",
   "name": "python",
   "nbconvert_exporter": "python",
   "pygments_lexer": "ipython3",
   "version": "3.6.1"
  }
 },
 "nbformat": 4,
 "nbformat_minor": 2
}
