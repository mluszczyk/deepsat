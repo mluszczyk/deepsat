{
 "cells": [
  {
   "cell_type": "code",
   "execution_count": 1,
   "metadata": {},
   "outputs": [
    {
     "name": "stdout",
     "output_type": "stream",
     "text": [
      "INFO:tensorflow:Restoring parameters from model_sr50/variables/variables\n"
     ]
    }
   ],
   "source": [
    "import tensorflow as tf\n",
    "from tensorflow.contrib import predictor\n",
    "\n",
    "export_dir = \"model_sr50\"\n",
    "predict_fn = predictor.from_saved_model(export_dir)"
   ]
  },
  {
   "cell_type": "code",
   "execution_count": 2,
   "metadata": {},
   "outputs": [],
   "source": [
    "from matplotlib import pyplot as plt\n",
    "import numpy as np\n",
    "import random"
   ]
  },
  {
   "cell_type": "code",
   "execution_count": 3,
   "metadata": {},
   "outputs": [],
   "source": [
    "import sys \n",
    "sys.path.insert(0,'../..')"
   ]
  },
  {
   "cell_type": "code",
   "execution_count": 4,
   "metadata": {
    "scrolled": true
   },
   "outputs": [],
   "source": [
    "from cnf_dataset import clauses_to_matrix\n",
    "from dpll import DPLL, RandomClauseDPLL, MostCommonVarDPLL, RandomVarDPLL\n",
    "from cnf import get_random_kcnf, CNF, get_sats_SR, get_pos_SR\n",
    "from tqdm import tqdm\n",
    "from collections import Counter"
   ]
  },
  {
   "cell_type": "code",
   "execution_count": 5,
   "metadata": {},
   "outputs": [],
   "source": [
    "import math\n",
    "from collections import defaultdict\n",
    "\n",
    "def jw(clauses):\n",
    "    score = defaultdict(int)\n",
    "\n",
    "    for clause in clauses:\n",
    "        for l in clause:\n",
    "            score[l] += 2. ** (-len(clause))\n",
    "\n",
    "    return max(score, key=score.get)\n"
   ]
  },
  {
   "cell_type": "code",
   "execution_count": 6,
   "metadata": {},
   "outputs": [],
   "source": [
    "LIMIT_RUNS = 1000000"
   ]
  },
  {
   "cell_type": "code",
   "execution_count": 7,
   "metadata": {},
   "outputs": [],
   "source": [
    "def shorten_cnf(cnf: CNF):\n",
    "    for c in cnf.clauses:\n",
    "        if len(c) == 1:\n",
    "            return shorten_cnf(cnf.set_var(c[0]))\n",
    "    all_literals = set(x\n",
    "                       for clause in cnf.clauses\n",
    "                       for x in clause)\n",
    "    for v in cnf.vars:\n",
    "        if v in all_literals and (-v) not in all_literals:\n",
    "            return shorten_cnf(cnf.set_var(v))\n",
    "        if (-v) in all_literals and v not in all_literals:\n",
    "            return shorten_cnf(cnf.set_var(-v))\n",
    "    return cnf\n",
    "\n",
    "def make_normalized(cls):\n",
    "    class NormalizedDPLL(cls):\n",
    "        def run(self, cnf: CNF):\n",
    "            assert isinstance(cnf, CNF)\n",
    "            self.number_of_runs += 1\n",
    "            if self.number_of_runs > LIMIT_RUNS:\n",
    "                return None\n",
    "            \n",
    "            cnf = shorten_cnf(cnf)\n",
    "            if cnf.is_true():\n",
    "                return []\n",
    "            elif cnf.is_false():\n",
    "                return None\n",
    "\n",
    "            sug_var = self.suggest(cnf)\n",
    "            sug_cnf = cnf.set_var(sug_var)\n",
    "\n",
    "            sug_res = self.run(sug_cnf)\n",
    "            if sug_res is not None:\n",
    "                return [sug_var] + sug_res\n",
    "\n",
    "            not_sug_cnf = cnf.set_var(-sug_var)\n",
    "            not_sug_res = self.run(not_sug_cnf)\n",
    "            if not_sug_res is not None:\n",
    "                self.number_of_errors += 1\n",
    "                return [-sug_var] + not_sug_res\n",
    "            return None\n",
    "    NormalizedDPLL.__name__ = \"Normalized{}\".format(cls.__name__)\n",
    "    return NormalizedDPLL"
   ]
  },
  {
   "cell_type": "code",
   "execution_count": 8,
   "metadata": {},
   "outputs": [],
   "source": [
    "np.set_printoptions(precision=3, suppress=True)"
   ]
  },
  {
   "cell_type": "code",
   "execution_count": 9,
   "metadata": {
    "scrolled": true
   },
   "outputs": [],
   "source": [
    "import tensorflow as tf\n",
    "import os\n",
    "\n",
    "BATCH_SIZE = 1"
   ]
  },
  {
   "cell_type": "code",
   "execution_count": 10,
   "metadata": {},
   "outputs": [],
   "source": [
    "\n",
    "class GraphBasedDPLL(DPLL):\n",
    "    def suggest(self, input_cnf: CNF):\n",
    "        clause_num = len(input_cnf.clauses)\n",
    "        var_num = max(input_cnf.vars)\n",
    "        inputs = np.asarray([clauses_to_matrix(input_cnf.clauses, clause_num, var_num)] * BATCH_SIZE)\n",
    "        \n",
    "        policy_probs = predict_fn({\"input\": inputs})['policy_probabilities']\n",
    "        \n",
    "        best_prob = 0.0\n",
    "        best_svar = None\n",
    "        for var in input_cnf.vars:\n",
    "            for svar in [var, -var]:\n",
    "                svar_prob = policy_probs[0][var-1][0 if svar > 0 else 1]\n",
    "                if svar_prob > best_prob:\n",
    "                    best_prob = svar_prob\n",
    "                    best_svar = svar\n",
    "        return best_svar\n",
    "\n",
    "class MostCommonDPLL(DPLL):\n",
    "    def suggest(self, cnf: CNF):\n",
    "        counter = Counter()\n",
    "        for clause in cnf.clauses:\n",
    "            for svar in clause:\n",
    "                counter[svar] += 1\n",
    "        return counter.most_common(1)[0][0]\n",
    "    \n",
    "class JeroslawDPLL(DPLL):\n",
    "    def suggest(self, cnf: CNF):\n",
    "        return jw(cnf.clauses)\n",
    "    \n",
    "\n",
    "class HumbleDPLL(DPLL):\n",
    "    def suggest(self, input_cnf: CNF):\n",
    "        clause_num = len(input_cnf.clauses)\n",
    "        var_num = max(input_cnf.vars)\n",
    "        inputs = np.asarray([clauses_to_matrix(input_cnf.clauses, clause_num, var_num)] * BATCH_SIZE)\n",
    "        \n",
    "        output = predict_fn({\"input\": inputs})\n",
    "        policy_probs = output['policy_probabilities']\n",
    "        sat_prob = output['sat_probabilities'][0]\n",
    "        \n",
    "        best_prob = 0.0\n",
    "        best_svar = None\n",
    "        for var in input_cnf.vars:\n",
    "            for svar in [var, -var]:\n",
    "                svar_prob = policy_probs[0][var-1][0 if svar > 0 else 1]\n",
    "                if svar_prob > best_prob:\n",
    "                    best_prob = svar_prob\n",
    "                    best_svar = svar\n",
    "        if sat_prob < 0.3:\n",
    "            # Overwriting with JW\n",
    "            best_svar = jw(input_cnf.clauses)\n",
    "        return best_svar    "
   ]
  },
  {
   "cell_type": "code",
   "execution_count": 11,
   "metadata": {},
   "outputs": [],
   "source": [
    "NormalizedGraphBasedDPLL = make_normalized(GraphBasedDPLL)\n",
    "NormalizedMostCommonDPLL = make_normalized(MostCommonDPLL)\n",
    "NormalizedJeroslawDPLL = make_normalized(JeroslawDPLL)\n",
    "NormalizedHumbleDPLL = make_normalized(HumbleDPLL)"
   ]
  },
  {
   "cell_type": "code",
   "execution_count": 12,
   "metadata": {},
   "outputs": [],
   "source": [
    "class FastHumbleDPLL(DPLL):\n",
    "    def run(self, cnf: CNF, fast=False):\n",
    "        assert isinstance(cnf, CNF)\n",
    "        self.number_of_runs += 1\n",
    "        if self.number_of_runs > LIMIT_RUNS:\n",
    "            return None\n",
    "\n",
    "        cnf = shorten_cnf(cnf)\n",
    "        if cnf.is_true():\n",
    "            return []\n",
    "        elif cnf.is_false():\n",
    "            return None\n",
    "\n",
    "        switch_to_heuristic, sug_var = self.suggest(cnf, fast)\n",
    "        sug_cnf = cnf.set_var(sug_var)\n",
    "\n",
    "        sug_res = self.run(sug_cnf, switch_to_heuristic)\n",
    "        if sug_res is not None:\n",
    "            return [sug_var] + sug_res\n",
    "\n",
    "        not_sug_cnf = cnf.set_var(-sug_var)\n",
    "        not_sug_res = self.run(not_sug_cnf, switch_to_heuristic)\n",
    "        if not_sug_res is not None:\n",
    "            self.number_of_errors += 1\n",
    "            return [-sug_var] + not_sug_res\n",
    "        return None\n",
    "\n",
    "    def suggest(self, input_cnf: CNF, fast):\n",
    "        if not fast:\n",
    "            clause_num = len(input_cnf.clauses)\n",
    "            var_num = max(input_cnf.vars)\n",
    "            inputs = np.asarray([clauses_to_matrix(input_cnf.clauses, clause_num, var_num)] * BATCH_SIZE)\n",
    "\n",
    "            output = predict_fn({\"input\": inputs})\n",
    "            policy_probs = output['policy_probabilities']\n",
    "            sat_prob = output['sat_probabilities'][0]\n",
    "\n",
    "            best_prob = 0.0\n",
    "            best_svar = None\n",
    "            for var in input_cnf.vars:\n",
    "                for svar in [var, -var]:\n",
    "                    svar_prob = policy_probs[0][var-1][0 if svar > 0 else 1]\n",
    "                    #print(svar, svar_prob, best_prob, file=logfile)\n",
    "                    if svar_prob > best_prob:\n",
    "                        best_prob = svar_prob\n",
    "                        best_svar = svar\n",
    "        if fast or sat_prob < 0.3:\n",
    "            # Overwriting with JW\n",
    "            best_svar = jw(input_cnf.clauses)\n",
    "        return (fast or sat_prob < 0.3), best_svar    "
   ]
  },
  {
   "cell_type": "code",
   "execution_count": 13,
   "metadata": {},
   "outputs": [],
   "source": [
    "def compute_steps(sats, dpll_cls):\n",
    "    steps = []\n",
    "    errors = []\n",
    "    solved = 0\n",
    "    for sat in tqdm(sats):\n",
    "        dpll = dpll_cls()\n",
    "        res = dpll.run(sat)\n",
    "        if res is not None:\n",
    "            steps.append(dpll.number_of_runs)\n",
    "            errors.append(dpll.number_of_errors)\n",
    "            solved += 1\n",
    "    print(\"Within {} steps solved {} problems out of {}\".format(LIMIT_RUNS, solved, len(sats)))\n",
    "    return steps, errors"
   ]
  },
  {
   "cell_type": "code",
   "execution_count": 14,
   "metadata": {},
   "outputs": [],
   "source": [
    "def compute_and_print_steps(sats, dpll_cls):\n",
    "    print(dpll_cls.__name__)\n",
    "    steps, errors = compute_steps(sats, dpll_cls)\n",
    "    print(\"#Sats: {}; avg step: {:.2f}; stdev step: {:.2f}; avg error: {:.2f}; stdev error: {:.2f}\".format(\n",
    "        len(steps), np.mean(steps), np.std(steps), np.mean(errors), np.std(errors)))\n",
    "    print(\"Table: \", steps)"
   ]
  },
  {
   "cell_type": "code",
   "execution_count": 15,
   "metadata": {},
   "outputs": [],
   "source": [
    "def print_all(s, n, m, light=False):\n",
    "    global S, N, M\n",
    "    S = s\n",
    "    N = n # number of clauses\n",
    "    M = m # number of variables\n",
    "    \n",
    "    MAX_TRIES = 100000\n",
    "    sats = []\n",
    "    \n",
    "    random.seed(1)\n",
    "    np.random.seed(1)\n",
    "    \n",
    "    for index in range(MAX_TRIES):\n",
    "        if len(sats) >= S:\n",
    "            break\n",
    "        sat = get_pos_SR(M, M, N)\n",
    "        sats.append(sat)\n",
    "    assert len(sats) == S\n",
    "    print(\"We have generated {} formulas\".format(len(sats)))\n",
    "    compute_and_print_steps(sats, FastHumbleDPLL)\n",
    "    compute_and_print_steps(sats, NormalizedJeroslawDPLL)"
   ]
  },
  {
   "cell_type": "code",
   "execution_count": 16,
   "metadata": {},
   "outputs": [
    {
     "name": "stderr",
     "output_type": "stream",
     "text": [
      "\r",
      "  0%|          | 0/10 [00:00<?, ?it/s]"
     ]
    },
    {
     "name": "stdout",
     "output_type": "stream",
     "text": [
      "We have generated 10 formulas\n",
      "FastHumbleDPLL\n"
     ]
    },
    {
     "name": "stderr",
     "output_type": "stream",
     "text": [
      "100%|██████████| 10/10 [00:17<00:00,  1.17it/s]\n",
      "100%|██████████| 10/10 [00:00<00:00, 823.83it/s]"
     ]
    },
    {
     "name": "stdout",
     "output_type": "stream",
     "text": [
      "Within 1000000 steps solved 10 problems out of 10\n",
      "#Sats: 10; avg step: 5.30; stdev step: 1.10; avg error: 0.00; stdev error: 0.00\n",
      "Table:  [7, 5, 4, 7, 4, 6, 6, 4, 5, 5]\n",
      "NormalizedJeroslawDPLL\n",
      "Within 1000000 steps solved 10 problems out of 10\n",
      "#Sats: 10; avg step: 6.00; stdev step: 1.48; avg error: 0.30; stdev error: 0.46\n",
      "Table:  [8, 6, 9, 4, 5, 6, 7, 5, 5, 5]\n"
     ]
    },
    {
     "name": "stderr",
     "output_type": "stream",
     "text": [
      "\n"
     ]
    }
   ],
   "source": [
    "print_all(10, 1000, 10)"
   ]
  },
  {
   "cell_type": "code",
   "execution_count": 17,
   "metadata": {
    "scrolled": false
   },
   "outputs": [
    {
     "name": "stderr",
     "output_type": "stream",
     "text": [
      "\r",
      "  0%|          | 0/100 [00:00<?, ?it/s]"
     ]
    },
    {
     "name": "stdout",
     "output_type": "stream",
     "text": [
      "We have generated 100 formulas\n",
      "FastHumbleDPLL\n"
     ]
    },
    {
     "name": "stderr",
     "output_type": "stream",
     "text": [
      "100%|██████████| 100/100 [00:33<00:00,  2.97it/s]\n",
      "100%|██████████| 100/100 [00:00<00:00, 636.47it/s]"
     ]
    },
    {
     "name": "stdout",
     "output_type": "stream",
     "text": [
      "Within 1000000 steps solved 100 problems out of 100\n",
      "#Sats: 100; avg step: 5.54; stdev step: 1.85; avg error: 0.03; stdev error: 0.17\n",
      "Table:  [7, 5, 4, 7, 4, 6, 6, 4, 5, 5, 5, 5, 5, 5, 5, 8, 6, 5, 6, 7, 7, 3, 7, 4, 6, 6, 5, 5, 12, 6, 4, 3, 5, 5, 5, 5, 6, 3, 5, 12, 6, 3, 4, 5, 7, 6, 4, 5, 4, 4, 4, 4, 7, 4, 4, 7, 6, 5, 6, 6, 6, 5, 7, 5, 6, 5, 5, 6, 4, 6, 7, 6, 7, 6, 6, 4, 4, 6, 7, 17, 5, 6, 4, 5, 4, 5, 7, 5, 5, 5, 4, 6, 5, 5, 3, 6, 6, 5, 6, 7]\n",
      "NormalizedJeroslawDPLL\n",
      "Within 1000000 steps solved 100 problems out of 100\n",
      "#Sats: 100; avg step: 7.31; stdev step: 3.60; avg error: 0.49; stdev error: 0.56\n",
      "Table:  [8, 6, 9, 4, 5, 6, 7, 5, 5, 5, 15, 8, 5, 3, 6, 5, 6, 5, 11, 4, 5, 22, 7, 5, 6, 13, 6, 15, 11, 6, 5, 3, 7, 7, 5, 5, 5, 5, 6, 12, 16, 5, 4, 7, 8, 3, 4, 3, 5, 7, 6, 12, 12, 18, 9, 6, 8, 7, 6, 7, 6, 5, 7, 11, 4, 10, 7, 4, 6, 4, 7, 6, 10, 5, 8, 7, 11, 7, 5, 11, 6, 7, 5, 8, 7, 15, 6, 4, 12, 8, 5, 20, 9, 6, 6, 5, 10, 5, 5, 4]\n"
     ]
    },
    {
     "name": "stderr",
     "output_type": "stream",
     "text": [
      "\n"
     ]
    }
   ],
   "source": [
    "print_all(100, 200, 10)"
   ]
  },
  {
   "cell_type": "code",
   "execution_count": 18,
   "metadata": {
    "scrolled": false
   },
   "outputs": [
    {
     "name": "stderr",
     "output_type": "stream",
     "text": [
      "\r",
      "  0%|          | 0/100 [00:00<?, ?it/s]"
     ]
    },
    {
     "name": "stdout",
     "output_type": "stream",
     "text": [
      "We have generated 100 formulas\n",
      "FastHumbleDPLL\n"
     ]
    },
    {
     "name": "stderr",
     "output_type": "stream",
     "text": [
      "100%|██████████| 100/100 [01:37<00:00,  1.08it/s]\n",
      " 13%|█▎        | 13/100 [00:00<00:00, 118.86it/s]"
     ]
    },
    {
     "name": "stdout",
     "output_type": "stream",
     "text": [
      "Within 1000000 steps solved 100 problems out of 100\n",
      "#Sats: 100; avg step: 14.81; stdev step: 14.54; avg error: 0.19; stdev error: 0.42\n",
      "Table:  [8, 9, 6, 5, 10, 7, 10, 7, 9, 24, 8, 11, 8, 7, 7, 11, 12, 34, 43, 12, 8, 8, 8, 14, 11, 9, 61, 37, 7, 9, 7, 50, 11, 11, 9, 14, 10, 7, 12, 16, 37, 7, 13, 9, 85, 16, 12, 8, 23, 11, 10, 6, 8, 9, 31, 9, 10, 10, 10, 11, 8, 10, 44, 12, 35, 9, 7, 5, 21, 85, 9, 8, 11, 4, 8, 8, 8, 11, 7, 31, 8, 9, 9, 8, 14, 10, 9, 11, 10, 10, 6, 8, 13, 12, 6, 9, 24, 12, 42, 8]\n",
      "NormalizedJeroslawDPLL\n"
     ]
    },
    {
     "name": "stderr",
     "output_type": "stream",
     "text": [
      "100%|██████████| 100/100 [00:00<00:00, 123.67it/s]"
     ]
    },
    {
     "name": "stdout",
     "output_type": "stream",
     "text": [
      "Within 1000000 steps solved 100 problems out of 100\n",
      "#Sats: 100; avg step: 18.68; stdev step: 11.47; avg error: 1.14; stdev error: 0.74\n",
      "Table:  [7, 25, 14, 8, 20, 9, 6, 20, 27, 42, 28, 6, 34, 6, 23, 10, 31, 23, 14, 11, 8, 8, 9, 14, 21, 6, 7, 25, 6, 9, 16, 31, 9, 9, 6, 19, 10, 13, 8, 12, 30, 10, 20, 26, 24, 32, 9, 26, 22, 21, 21, 11, 27, 32, 30, 18, 18, 22, 28, 37, 13, 10, 33, 11, 38, 22, 8, 29, 32, 63, 8, 13, 5, 5, 8, 10, 7, 14, 8, 11, 21, 34, 9, 11, 40, 11, 7, 47, 25, 17, 9, 8, 41, 21, 27, 44, 19, 9, 32, 14]\n"
     ]
    },
    {
     "name": "stderr",
     "output_type": "stream",
     "text": [
      "\n"
     ]
    }
   ],
   "source": [
    "print_all(100, 200, 20)"
   ]
  },
  {
   "cell_type": "code",
   "execution_count": 19,
   "metadata": {},
   "outputs": [
    {
     "name": "stderr",
     "output_type": "stream",
     "text": [
      "\r",
      "  0%|          | 0/100 [00:00<?, ?it/s]"
     ]
    },
    {
     "name": "stdout",
     "output_type": "stream",
     "text": [
      "We have generated 100 formulas\n",
      "FastHumbleDPLL\n"
     ]
    },
    {
     "name": "stderr",
     "output_type": "stream",
     "text": [
      "100%|██████████| 100/100 [02:57<00:00,  1.18s/it]\n",
      " 10%|█         | 10/100 [00:00<00:02, 41.00it/s]"
     ]
    },
    {
     "name": "stdout",
     "output_type": "stream",
     "text": [
      "Within 1000000 steps solved 100 problems out of 100\n",
      "#Sats: 100; avg step: 26.60; stdev step: 39.70; avg error: 0.20; stdev error: 0.42\n",
      "Table:  [7, 76, 42, 13, 15, 89, 16, 15, 6, 12, 11, 12, 9, 12, 17, 21, 105, 11, 9, 9, 106, 15, 17, 14, 28, 13, 12, 12, 193, 15, 13, 8, 9, 15, 15, 106, 7, 13, 68, 15, 14, 9, 128, 10, 9, 17, 12, 9, 11, 12, 73, 9, 9, 205, 80, 50, 9, 9, 11, 13, 13, 10, 15, 10, 8, 19, 11, 11, 7, 16, 7, 198, 15, 13, 9, 9, 7, 14, 74, 11, 11, 14, 13, 17, 10, 9, 10, 10, 10, 9, 10, 11, 7, 9, 88, 11, 9, 6, 10, 9]\n",
      "NormalizedJeroslawDPLL\n"
     ]
    },
    {
     "name": "stderr",
     "output_type": "stream",
     "text": [
      "100%|██████████| 100/100 [00:02<00:00, 34.09it/s]"
     ]
    },
    {
     "name": "stdout",
     "output_type": "stream",
     "text": [
      "Within 1000000 steps solved 100 problems out of 100\n",
      "#Sats: 100; avg step: 32.71; stdev step: 25.86; avg error: 1.23; stdev error: 0.80\n",
      "Table:  [16, 57, 17, 21, 17, 14, 56, 16, 10, 69, 14, 32, 17, 52, 19, 14, 8, 11, 9, 62, 32, 17, 78, 28, 28, 32, 26, 22, 8, 30, 145, 17, 6, 44, 12, 80, 28, 52, 62, 14, 37, 32, 41, 49, 27, 37, 40, 34, 64, 33, 34, 14, 17, 87, 62, 82, 10, 15, 11, 39, 58, 75, 59, 56, 11, 58, 12, 16, 13, 14, 10, 90, 41, 16, 45, 12, 8, 47, 10, 25, 11, 67, 63, 15, 7, 11, 6, 12, 10, 77, 29, 8, 14, 29, 101, 13, 37, 10, 10, 8]\n"
     ]
    },
    {
     "name": "stderr",
     "output_type": "stream",
     "text": [
      "\n"
     ]
    }
   ],
   "source": [
    "print_all(100, 500, 30)"
   ]
  },
  {
   "cell_type": "code",
   "execution_count": 20,
   "metadata": {},
   "outputs": [
    {
     "name": "stderr",
     "output_type": "stream",
     "text": [
      "\r",
      "  0%|          | 0/100 [00:00<?, ?it/s]"
     ]
    },
    {
     "name": "stdout",
     "output_type": "stream",
     "text": [
      "We have generated 100 formulas\n",
      "FastHumbleDPLL\n"
     ]
    },
    {
     "name": "stderr",
     "output_type": "stream",
     "text": [
      "100%|██████████| 100/100 [05:57<00:00,  2.74s/it]\n",
      "  1%|          | 1/100 [00:00<00:13,  7.46it/s]"
     ]
    },
    {
     "name": "stdout",
     "output_type": "stream",
     "text": [
      "Within 1000000 steps solved 100 problems out of 100\n",
      "#Sats: 100; avg step: 59.92; stdev step: 105.82; avg error: 0.41; stdev error: 0.68\n",
      "Table:  [12, 17, 13, 16, 16, 34, 16, 14, 17, 21, 331, 139, 14, 18, 11, 14, 7, 16, 295, 15, 78, 263, 83, 17, 14, 16, 11, 18, 31, 13, 22, 12, 179, 14, 12, 18, 14, 17, 22, 18, 20, 17, 17, 24, 22, 13, 11, 12, 13, 12, 537, 18, 16, 19, 10, 16, 15, 439, 20, 14, 9, 10, 52, 589, 19, 15, 15, 61, 16, 33, 19, 25, 20, 11, 13, 137, 171, 18, 119, 11, 96, 30, 14, 14, 133, 27, 12, 13, 16, 243, 76, 192, 248, 168, 18, 13, 11, 14, 12, 106]\n",
      "NormalizedJeroslawDPLL\n"
     ]
    },
    {
     "name": "stderr",
     "output_type": "stream",
     "text": [
      "100%|██████████| 100/100 [00:11<00:00,  4.62it/s]"
     ]
    },
    {
     "name": "stdout",
     "output_type": "stream",
     "text": [
      "Within 1000000 steps solved 100 problems out of 100\n",
      "#Sats: 100; avg step: 83.80; stdev step: 73.45; avg error: 1.84; stdev error: 1.12\n",
      "Table:  [88, 184, 145, 12, 12, 78, 128, 100, 39, 63, 18, 108, 103, 16, 23, 20, 28, 41, 186, 82, 36, 82, 30, 54, 98, 17, 60, 12, 67, 12, 49, 290, 86, 66, 21, 65, 14, 156, 177, 20, 26, 109, 32, 31, 34, 119, 91, 16, 48, 10, 14, 25, 10, 25, 88, 288, 107, 301, 11, 13, 17, 15, 219, 227, 14, 46, 35, 132, 105, 95, 142, 156, 54, 54, 19, 220, 155, 18, 96, 49, 112, 18, 44, 15, 180, 48, 13, 123, 63, 262, 76, 138, 142, 188, 16, 98, 248, 228, 45, 171]\n"
     ]
    },
    {
     "name": "stderr",
     "output_type": "stream",
     "text": [
      "\n"
     ]
    }
   ],
   "source": [
    "print_all(100, 10000, 40, light=True)"
   ]
  },
  {
   "cell_type": "code",
   "execution_count": 21,
   "metadata": {},
   "outputs": [
    {
     "name": "stderr",
     "output_type": "stream",
     "text": [
      "\r",
      "  0%|          | 0/100 [00:00<?, ?it/s]"
     ]
    },
    {
     "name": "stdout",
     "output_type": "stream",
     "text": [
      "We have generated 100 formulas\n",
      "FastHumbleDPLL\n"
     ]
    },
    {
     "name": "stderr",
     "output_type": "stream",
     "text": [
      "100%|██████████| 100/100 [09:08<00:00,  5.60s/it]\n",
      "  3%|▎         | 3/100 [00:00<00:15,  6.30it/s]"
     ]
    },
    {
     "name": "stdout",
     "output_type": "stream",
     "text": [
      "Within 1000000 steps solved 100 problems out of 100\n",
      "#Sats: 100; avg step: 113.30; stdev step: 187.64; avg error: 0.53; stdev error: 0.82\n",
      "Table:  [15, 18, 23, 28, 19, 17, 24, 20, 22, 13, 19, 21, 812, 122, 19, 18, 280, 23, 401, 348, 35, 25, 15, 21, 35, 23, 41, 22, 23, 19, 16, 18, 15, 14, 27, 670, 26, 106, 15, 61, 23, 55, 18, 54, 20, 17, 18, 70, 361, 17, 16, 32, 19, 21, 11, 617, 29, 695, 20, 19, 19, 83, 12, 16, 16, 13, 548, 13, 430, 21, 384, 20, 20, 16, 21, 17, 249, 626, 133, 13, 524, 493, 7, 24, 207, 26, 17, 8, 18, 15, 25, 18, 538, 25, 13, 293, 328, 120, 20, 320]\n",
      "NormalizedJeroslawDPLL\n"
     ]
    },
    {
     "name": "stderr",
     "output_type": "stream",
     "text": [
      "100%|██████████| 100/100 [00:34<00:00,  2.57it/s]"
     ]
    },
    {
     "name": "stdout",
     "output_type": "stream",
     "text": [
      "Within 1000000 steps solved 100 problems out of 100\n",
      "#Sats: 100; avg step: 152.69; stdev step: 146.97; avg error: 2.01; stdev error: 1.09\n",
      "Table:  [34, 18, 210, 83, 121, 322, 143, 14, 249, 17, 24, 127, 487, 242, 603, 214, 131, 499, 20, 174, 75, 42, 36, 13, 35, 56, 159, 77, 499, 67, 117, 36, 12, 77, 27, 621, 258, 68, 86, 19, 237, 177, 171, 154, 35, 424, 130, 317, 671, 204, 16, 40, 11, 114, 54, 92, 108, 50, 18, 16, 225, 33, 58, 72, 164, 12, 56, 18, 222, 46, 20, 59, 19, 153, 245, 105, 189, 296, 396, 14, 344, 269, 44, 230, 284, 55, 145, 258, 331, 18, 121, 141, 319, 327, 73, 151, 332, 26, 92, 156]\n"
     ]
    },
    {
     "name": "stderr",
     "output_type": "stream",
     "text": [
      "\n"
     ]
    }
   ],
   "source": [
    "print_all(100, 10000, 50, light=True)"
   ]
  },
  {
   "cell_type": "code",
   "execution_count": 22,
   "metadata": {},
   "outputs": [
    {
     "name": "stderr",
     "output_type": "stream",
     "text": [
      "\r",
      "  0%|          | 0/100 [00:00<?, ?it/s]"
     ]
    },
    {
     "name": "stdout",
     "output_type": "stream",
     "text": [
      "We have generated 100 formulas\n",
      "FastHumbleDPLL\n"
     ]
    },
    {
     "name": "stderr",
     "output_type": "stream",
     "text": [
      "100%|██████████| 100/100 [1:02:08<00:00, 40.37s/it]\n",
      "  1%|          | 1/100 [00:04<08:05,  4.90s/it]"
     ]
    },
    {
     "name": "stdout",
     "output_type": "stream",
     "text": [
      "Within 1000000 steps solved 100 problems out of 100\n",
      "#Sats: 100; avg step: 1050.37; stdev step: 1994.42; avg error: 1.09; stdev error: 1.20\n",
      "Table:  [660, 2127, 19, 26, 59, 23, 31, 25, 1730, 2619, 24, 5182, 21, 34, 2718, 23, 307, 229, 4784, 4276, 22, 171, 208, 388, 1000, 450, 173, 23, 3568, 99, 12671, 30, 25, 19, 16, 25, 33, 196, 87, 204, 9038, 2672, 3365, 271, 28, 894, 16, 63, 23, 87, 27, 398, 32, 4221, 434, 1053, 1076, 22, 2461, 222, 1080, 643, 25, 19, 21, 28, 202, 3026, 29, 31, 30, 99, 19, 23, 164, 4587, 24, 248, 18, 170, 32, 513, 34, 32, 26, 29, 4441, 5306, 2588, 1540, 1234, 372, 22, 1818, 907, 27, 353, 30, 4497, 22]\n",
      "NormalizedJeroslawDPLL\n"
     ]
    },
    {
     "name": "stderr",
     "output_type": "stream",
     "text": [
      "100%|██████████| 100/100 [05:17<00:00,  2.83s/it]"
     ]
    },
    {
     "name": "stdout",
     "output_type": "stream",
     "text": [
      "Within 1000000 steps solved 100 problems out of 100\n",
      "#Sats: 100; avg step: 797.96; stdev step: 845.78; avg error: 2.99; stdev error: 1.21\n",
      "Table:  [909, 682, 159, 403, 31, 398, 55, 80, 945, 3216, 127, 778, 1494, 1822, 1757, 48, 991, 229, 1520, 223, 372, 209, 505, 388, 148, 192, 139, 69, 109, 425, 4808, 93, 677, 1395, 1390, 605, 908, 3225, 468, 1227, 2139, 3135, 1885, 161, 681, 894, 19, 522, 1007, 1274, 21, 1655, 423, 2054, 164, 2449, 1311, 392, 987, 713, 64, 1243, 531, 222, 15, 397, 354, 1490, 224, 66, 2585, 84, 96, 1540, 289, 586, 466, 248, 24, 272, 109, 1048, 521, 529, 230, 1033, 1158, 588, 698, 141, 1811, 870, 507, 217, 723, 231, 835, 480, 2058, 108]\n"
     ]
    },
    {
     "name": "stderr",
     "output_type": "stream",
     "text": [
      "\n"
     ]
    }
   ],
   "source": [
    "print_all(100, 10000, 70, light=True)"
   ]
  },
  {
   "cell_type": "code",
   "execution_count": 23,
   "metadata": {
    "scrolled": false
   },
   "outputs": [
    {
     "name": "stderr",
     "output_type": "stream",
     "text": [
      "\r",
      "  0%|          | 0/100 [00:00<?, ?it/s]"
     ]
    },
    {
     "name": "stdout",
     "output_type": "stream",
     "text": [
      "We have generated 100 formulas\n",
      "FastHumbleDPLL\n"
     ]
    },
    {
     "name": "stderr",
     "output_type": "stream",
     "text": [
      "100%|██████████| 100/100 [3:32:38<00:00, 52.49s/it]    \n",
      "  0%|          | 0/100 [00:00<?, ?it/s]"
     ]
    },
    {
     "name": "stdout",
     "output_type": "stream",
     "text": [
      "Within 1000000 steps solved 100 problems out of 100\n",
      "#Sats: 100; avg step: 3219.85; stdev step: 4772.24; avg error: 1.60; stdev error: 1.46\n",
      "Table:  [228, 30, 870, 35, 2874, 2044, 40, 69, 34, 34, 74, 11971, 18202, 156, 33, 31, 1150, 479, 8019, 66, 8182, 12393, 634, 2988, 3419, 6588, 3026, 6609, 34, 1540, 618, 6427, 1862, 36, 11318, 10242, 129, 6719, 732, 2324, 5369, 190, 1768, 28, 35, 21, 2423, 8978, 29, 28, 948, 11687, 70, 47, 904, 274, 8009, 35, 5430, 1596, 5242, 10256, 3778, 37, 18963, 40, 98, 63, 33, 28, 18521, 6918, 6808, 3301, 531, 42, 30, 3836, 28, 29, 1413, 651, 73, 41, 2441, 489, 1320, 38, 2880, 11741, 37, 33, 7867, 22321, 1698, 6486, 1462, 38, 2132, 114]\n",
      "NormalizedJeroslawDPLL\n"
     ]
    },
    {
     "name": "stderr",
     "output_type": "stream",
     "text": [
      "100%|██████████| 100/100 [35:07<00:00, 12.62s/it]"
     ]
    },
    {
     "name": "stdout",
     "output_type": "stream",
     "text": [
      "Within 1000000 steps solved 100 problems out of 100\n",
      "#Sats: 100; avg step: 3388.79; stdev step: 3265.66; avg error: 3.07; stdev error: 1.57\n",
      "Table:  [4636, 3256, 2119, 102, 10395, 4329, 263, 3377, 50, 251, 4941, 1741, 4528, 330, 3753, 29, 1858, 3832, 10999, 522, 3591, 1869, 29, 7651, 908, 6065, 958, 4951, 3760, 1551, 1312, 5326, 12878, 31, 8538, 2307, 129, 4107, 4832, 6749, 4757, 5746, 8753, 771, 479, 22, 2423, 10392, 117, 1971, 348, 5271, 3360, 2391, 2257, 842, 7106, 861, 5507, 619, 3027, 2498, 178, 335, 11376, 81, 1458, 1278, 1115, 723, 29, 7717, 6808, 3517, 8369, 270, 1165, 7997, 475, 4056, 5608, 971, 2987, 996, 857, 2022, 1300, 5271, 9672, 5596, 7318, 4294, 8029, 12464, 356, 5098, 291, 32, 285, 114]\n"
     ]
    },
    {
     "name": "stderr",
     "output_type": "stream",
     "text": [
      "\n"
     ]
    }
   ],
   "source": [
    "print_all(100, 10000, 90, light=True)"
   ]
  },
  {
   "cell_type": "code",
   "execution_count": 24,
   "metadata": {},
   "outputs": [
    {
     "name": "stderr",
     "output_type": "stream",
     "text": [
      "\r",
      "  0%|          | 0/100 [00:00<?, ?it/s]"
     ]
    },
    {
     "name": "stdout",
     "output_type": "stream",
     "text": [
      "We have generated 100 formulas\n",
      "FastHumbleDPLL\n"
     ]
    },
    {
     "name": "stderr",
     "output_type": "stream",
     "text": [
      "100%|██████████| 100/100 [15:51:03<00:00, 171.64s/it]   \n",
      "  0%|          | 0/100 [00:00<?, ?it/s]"
     ]
    },
    {
     "name": "stdout",
     "output_type": "stream",
     "text": [
      "Within 1000000 steps solved 100 problems out of 100\n",
      "#Sats: 100; avg step: 20412.46; stdev step: 31339.40; avg error: 2.43; stdev error: 1.60\n",
      "Table:  [38704, 51, 23735, 38, 20722, 33, 4264, 1668, 32880, 56692, 33, 32496, 35, 1436, 84083, 37, 15136, 85609, 64, 186, 96, 18064, 115595, 12862, 37, 16366, 10495, 64763, 12162, 12638, 4867, 39, 13455, 47, 627, 2936, 892, 3495, 30946, 56980, 151146, 62533, 7165, 3714, 397, 38, 742, 4010, 583, 211, 1591, 8016, 3948, 14061, 5050, 2219, 16770, 2503, 73741, 9829, 111984, 15680, 29929, 1624, 6732, 14477, 2034, 38, 15370, 56, 82586, 6893, 5109, 4146, 42, 37, 11946, 19910, 5092, 57285, 57745, 6028, 43136, 56894, 1849, 52198, 663, 34076, 4359, 135454, 10916, 730, 70605, 3824, 1296, 3657, 1934, 21303, 39, 39]\n",
      "NormalizedJeroslawDPLL\n"
     ]
    },
    {
     "name": "stderr",
     "output_type": "stream",
     "text": [
      "100%|██████████| 100/100 [4:03:33<00:00, 86.49s/it]  "
     ]
    },
    {
     "name": "stdout",
     "output_type": "stream",
     "text": [
      "Within 1000000 steps solved 100 problems out of 100\n",
      "#Sats: 100; avg step: 16790.81; stdev step: 16842.57; avg error: 3.79; stdev error: 1.37\n",
      "Table:  [22619, 133, 8548, 485, 26635, 1206, 28959, 14107, 36426, 33996, 595, 31003, 35, 1436, 40184, 1429, 1959, 17620, 3625, 811, 38921, 27172, 24443, 19466, 2082, 6728, 4038, 13308, 27309, 32476, 7164, 688, 13455, 8290, 2234, 20024, 2485, 5357, 40291, 28876, 33755, 10525, 41213, 13042, 44864, 5193, 2209, 4010, 36491, 3171, 16743, 8016, 281, 59842, 107, 39, 16770, 50429, 41809, 25144, 49282, 15680, 33367, 5177, 22843, 4733, 6965, 25226, 23639, 4039, 37717, 5138, 3848, 7728, 30553, 259, 7011, 36677, 35489, 8134, 15559, 25402, 15360, 38318, 5914, 809, 1361, 8508, 15728, 97700, 552, 730, 1047, 4569, 28675, 14383, 527, 16364, 5084, 8715]\n"
     ]
    },
    {
     "name": "stderr",
     "output_type": "stream",
     "text": [
      "\n"
     ]
    }
   ],
   "source": [
    "print_all(100, 10000, 110, light=True)"
   ]
  },
  {
   "cell_type": "code",
   "execution_count": 25,
   "metadata": {},
   "outputs": [
    {
     "name": "stderr",
     "output_type": "stream",
     "text": [
      "\r",
      "  0%|          | 0/100 [00:00<?, ?it/s]"
     ]
    },
    {
     "name": "stdout",
     "output_type": "stream",
     "text": [
      "We have generated 100 formulas\n",
      "FastHumbleDPLL\n"
     ]
    },
    {
     "name": "stderr",
     "output_type": "stream",
     "text": [
      " 14%|█▍        | 14/100 [3:56:03<26:16:47, 1100.09s/it]"
     ]
    },
    {
     "ename": "KeyboardInterrupt",
     "evalue": "",
     "output_type": "error",
     "traceback": [
      "\u001b[0;31m---------------------------------------------------------------------------\u001b[0m",
      "\u001b[0;31mKeyboardInterrupt\u001b[0m                         Traceback (most recent call last)",
      "\u001b[0;32m<ipython-input-25-b7554d50f6ce>\u001b[0m in \u001b[0;36m<module>\u001b[0;34m()\u001b[0m\n\u001b[0;32m----> 1\u001b[0;31m \u001b[0mprint_all\u001b[0m\u001b[0;34m(\u001b[0m\u001b[0;36m100\u001b[0m\u001b[0;34m,\u001b[0m \u001b[0;36m10000\u001b[0m\u001b[0;34m,\u001b[0m \u001b[0;36m130\u001b[0m\u001b[0;34m,\u001b[0m \u001b[0mlight\u001b[0m\u001b[0;34m=\u001b[0m\u001b[0;32mTrue\u001b[0m\u001b[0;34m)\u001b[0m\u001b[0;34m\u001b[0m\u001b[0m\n\u001b[0m",
      "\u001b[0;32m<ipython-input-15-12b7b7727b6b>\u001b[0m in \u001b[0;36mprint_all\u001b[0;34m(s, n, m, light)\u001b[0m\n\u001b[1;32m     18\u001b[0m     \u001b[0;32massert\u001b[0m \u001b[0mlen\u001b[0m\u001b[0;34m(\u001b[0m\u001b[0msats\u001b[0m\u001b[0;34m)\u001b[0m \u001b[0;34m==\u001b[0m \u001b[0mS\u001b[0m\u001b[0;34m\u001b[0m\u001b[0m\n\u001b[1;32m     19\u001b[0m     \u001b[0mprint\u001b[0m\u001b[0;34m(\u001b[0m\u001b[0;34m\"We have generated {} formulas\"\u001b[0m\u001b[0;34m.\u001b[0m\u001b[0mformat\u001b[0m\u001b[0;34m(\u001b[0m\u001b[0mlen\u001b[0m\u001b[0;34m(\u001b[0m\u001b[0msats\u001b[0m\u001b[0;34m)\u001b[0m\u001b[0;34m)\u001b[0m\u001b[0;34m)\u001b[0m\u001b[0;34m\u001b[0m\u001b[0m\n\u001b[0;32m---> 20\u001b[0;31m     \u001b[0mcompute_and_print_steps\u001b[0m\u001b[0;34m(\u001b[0m\u001b[0msats\u001b[0m\u001b[0;34m,\u001b[0m \u001b[0mFastHumbleDPLL\u001b[0m\u001b[0;34m)\u001b[0m\u001b[0;34m\u001b[0m\u001b[0m\n\u001b[0m\u001b[1;32m     21\u001b[0m     \u001b[0mcompute_and_print_steps\u001b[0m\u001b[0;34m(\u001b[0m\u001b[0msats\u001b[0m\u001b[0;34m,\u001b[0m \u001b[0mNormalizedJeroslawDPLL\u001b[0m\u001b[0;34m)\u001b[0m\u001b[0;34m\u001b[0m\u001b[0m\n",
      "\u001b[0;32m<ipython-input-14-5233dfa12bfd>\u001b[0m in \u001b[0;36mcompute_and_print_steps\u001b[0;34m(sats, dpll_cls)\u001b[0m\n\u001b[1;32m      1\u001b[0m \u001b[0;32mdef\u001b[0m \u001b[0mcompute_and_print_steps\u001b[0m\u001b[0;34m(\u001b[0m\u001b[0msats\u001b[0m\u001b[0;34m,\u001b[0m \u001b[0mdpll_cls\u001b[0m\u001b[0;34m)\u001b[0m\u001b[0;34m:\u001b[0m\u001b[0;34m\u001b[0m\u001b[0m\n\u001b[1;32m      2\u001b[0m     \u001b[0mprint\u001b[0m\u001b[0;34m(\u001b[0m\u001b[0mdpll_cls\u001b[0m\u001b[0;34m.\u001b[0m\u001b[0m__name__\u001b[0m\u001b[0;34m)\u001b[0m\u001b[0;34m\u001b[0m\u001b[0m\n\u001b[0;32m----> 3\u001b[0;31m     \u001b[0msteps\u001b[0m\u001b[0;34m,\u001b[0m \u001b[0merrors\u001b[0m \u001b[0;34m=\u001b[0m \u001b[0mcompute_steps\u001b[0m\u001b[0;34m(\u001b[0m\u001b[0msats\u001b[0m\u001b[0;34m,\u001b[0m \u001b[0mdpll_cls\u001b[0m\u001b[0;34m)\u001b[0m\u001b[0;34m\u001b[0m\u001b[0m\n\u001b[0m\u001b[1;32m      4\u001b[0m     print(\"#Sats: {}; avg step: {:.2f}; stdev step: {:.2f}; avg error: {:.2f}; stdev error: {:.2f}\".format(\n\u001b[1;32m      5\u001b[0m         len(steps), np.mean(steps), np.std(steps), np.mean(errors), np.std(errors)))\n",
      "\u001b[0;32m<ipython-input-13-2b623da540db>\u001b[0m in \u001b[0;36mcompute_steps\u001b[0;34m(sats, dpll_cls)\u001b[0m\n\u001b[1;32m      5\u001b[0m     \u001b[0;32mfor\u001b[0m \u001b[0msat\u001b[0m \u001b[0;32min\u001b[0m \u001b[0mtqdm\u001b[0m\u001b[0;34m(\u001b[0m\u001b[0msats\u001b[0m\u001b[0;34m)\u001b[0m\u001b[0;34m:\u001b[0m\u001b[0;34m\u001b[0m\u001b[0m\n\u001b[1;32m      6\u001b[0m         \u001b[0mdpll\u001b[0m \u001b[0;34m=\u001b[0m \u001b[0mdpll_cls\u001b[0m\u001b[0;34m(\u001b[0m\u001b[0;34m)\u001b[0m\u001b[0;34m\u001b[0m\u001b[0m\n\u001b[0;32m----> 7\u001b[0;31m         \u001b[0mres\u001b[0m \u001b[0;34m=\u001b[0m \u001b[0mdpll\u001b[0m\u001b[0;34m.\u001b[0m\u001b[0mrun\u001b[0m\u001b[0;34m(\u001b[0m\u001b[0msat\u001b[0m\u001b[0;34m)\u001b[0m\u001b[0;34m\u001b[0m\u001b[0m\n\u001b[0m\u001b[1;32m      8\u001b[0m         \u001b[0;32mif\u001b[0m \u001b[0mres\u001b[0m \u001b[0;32mis\u001b[0m \u001b[0;32mnot\u001b[0m \u001b[0;32mNone\u001b[0m\u001b[0;34m:\u001b[0m\u001b[0;34m\u001b[0m\u001b[0m\n\u001b[1;32m      9\u001b[0m             \u001b[0msteps\u001b[0m\u001b[0;34m.\u001b[0m\u001b[0mappend\u001b[0m\u001b[0;34m(\u001b[0m\u001b[0mdpll\u001b[0m\u001b[0;34m.\u001b[0m\u001b[0mnumber_of_runs\u001b[0m\u001b[0;34m)\u001b[0m\u001b[0;34m\u001b[0m\u001b[0m\n",
      "\u001b[0;32m<ipython-input-12-d461e7ba81f1>\u001b[0m in \u001b[0;36mrun\u001b[0;34m(self, cnf, fast)\u001b[0m\n\u001b[1;32m     15\u001b[0m         \u001b[0msug_cnf\u001b[0m \u001b[0;34m=\u001b[0m \u001b[0mcnf\u001b[0m\u001b[0;34m.\u001b[0m\u001b[0mset_var\u001b[0m\u001b[0;34m(\u001b[0m\u001b[0msug_var\u001b[0m\u001b[0;34m)\u001b[0m\u001b[0;34m\u001b[0m\u001b[0m\n\u001b[1;32m     16\u001b[0m \u001b[0;34m\u001b[0m\u001b[0m\n\u001b[0;32m---> 17\u001b[0;31m         \u001b[0msug_res\u001b[0m \u001b[0;34m=\u001b[0m \u001b[0mself\u001b[0m\u001b[0;34m.\u001b[0m\u001b[0mrun\u001b[0m\u001b[0;34m(\u001b[0m\u001b[0msug_cnf\u001b[0m\u001b[0;34m,\u001b[0m \u001b[0mswitch_to_heuristic\u001b[0m\u001b[0;34m)\u001b[0m\u001b[0;34m\u001b[0m\u001b[0m\n\u001b[0m\u001b[1;32m     18\u001b[0m         \u001b[0;32mif\u001b[0m \u001b[0msug_res\u001b[0m \u001b[0;32mis\u001b[0m \u001b[0;32mnot\u001b[0m \u001b[0;32mNone\u001b[0m\u001b[0;34m:\u001b[0m\u001b[0;34m\u001b[0m\u001b[0m\n\u001b[1;32m     19\u001b[0m             \u001b[0;32mreturn\u001b[0m \u001b[0;34m[\u001b[0m\u001b[0msug_var\u001b[0m\u001b[0;34m]\u001b[0m \u001b[0;34m+\u001b[0m \u001b[0msug_res\u001b[0m\u001b[0;34m\u001b[0m\u001b[0m\n",
      "\u001b[0;32m<ipython-input-12-d461e7ba81f1>\u001b[0m in \u001b[0;36mrun\u001b[0;34m(self, cnf, fast)\u001b[0m\n\u001b[1;32m     15\u001b[0m         \u001b[0msug_cnf\u001b[0m \u001b[0;34m=\u001b[0m \u001b[0mcnf\u001b[0m\u001b[0;34m.\u001b[0m\u001b[0mset_var\u001b[0m\u001b[0;34m(\u001b[0m\u001b[0msug_var\u001b[0m\u001b[0;34m)\u001b[0m\u001b[0;34m\u001b[0m\u001b[0m\n\u001b[1;32m     16\u001b[0m \u001b[0;34m\u001b[0m\u001b[0m\n\u001b[0;32m---> 17\u001b[0;31m         \u001b[0msug_res\u001b[0m \u001b[0;34m=\u001b[0m \u001b[0mself\u001b[0m\u001b[0;34m.\u001b[0m\u001b[0mrun\u001b[0m\u001b[0;34m(\u001b[0m\u001b[0msug_cnf\u001b[0m\u001b[0;34m,\u001b[0m \u001b[0mswitch_to_heuristic\u001b[0m\u001b[0;34m)\u001b[0m\u001b[0;34m\u001b[0m\u001b[0m\n\u001b[0m\u001b[1;32m     18\u001b[0m         \u001b[0;32mif\u001b[0m \u001b[0msug_res\u001b[0m \u001b[0;32mis\u001b[0m \u001b[0;32mnot\u001b[0m \u001b[0;32mNone\u001b[0m\u001b[0;34m:\u001b[0m\u001b[0;34m\u001b[0m\u001b[0m\n\u001b[1;32m     19\u001b[0m             \u001b[0;32mreturn\u001b[0m \u001b[0;34m[\u001b[0m\u001b[0msug_var\u001b[0m\u001b[0;34m]\u001b[0m \u001b[0;34m+\u001b[0m \u001b[0msug_res\u001b[0m\u001b[0;34m\u001b[0m\u001b[0m\n",
      "\u001b[0;32m<ipython-input-12-d461e7ba81f1>\u001b[0m in \u001b[0;36mrun\u001b[0;34m(self, cnf, fast)\u001b[0m\n\u001b[1;32m     15\u001b[0m         \u001b[0msug_cnf\u001b[0m \u001b[0;34m=\u001b[0m \u001b[0mcnf\u001b[0m\u001b[0;34m.\u001b[0m\u001b[0mset_var\u001b[0m\u001b[0;34m(\u001b[0m\u001b[0msug_var\u001b[0m\u001b[0;34m)\u001b[0m\u001b[0;34m\u001b[0m\u001b[0m\n\u001b[1;32m     16\u001b[0m \u001b[0;34m\u001b[0m\u001b[0m\n\u001b[0;32m---> 17\u001b[0;31m         \u001b[0msug_res\u001b[0m \u001b[0;34m=\u001b[0m \u001b[0mself\u001b[0m\u001b[0;34m.\u001b[0m\u001b[0mrun\u001b[0m\u001b[0;34m(\u001b[0m\u001b[0msug_cnf\u001b[0m\u001b[0;34m,\u001b[0m \u001b[0mswitch_to_heuristic\u001b[0m\u001b[0;34m)\u001b[0m\u001b[0;34m\u001b[0m\u001b[0m\n\u001b[0m\u001b[1;32m     18\u001b[0m         \u001b[0;32mif\u001b[0m \u001b[0msug_res\u001b[0m \u001b[0;32mis\u001b[0m \u001b[0;32mnot\u001b[0m \u001b[0;32mNone\u001b[0m\u001b[0;34m:\u001b[0m\u001b[0;34m\u001b[0m\u001b[0m\n\u001b[1;32m     19\u001b[0m             \u001b[0;32mreturn\u001b[0m \u001b[0;34m[\u001b[0m\u001b[0msug_var\u001b[0m\u001b[0;34m]\u001b[0m \u001b[0;34m+\u001b[0m \u001b[0msug_res\u001b[0m\u001b[0;34m\u001b[0m\u001b[0m\n",
      "\u001b[0;32m<ipython-input-12-d461e7ba81f1>\u001b[0m in \u001b[0;36mrun\u001b[0;34m(self, cnf, fast)\u001b[0m\n\u001b[1;32m     15\u001b[0m         \u001b[0msug_cnf\u001b[0m \u001b[0;34m=\u001b[0m \u001b[0mcnf\u001b[0m\u001b[0;34m.\u001b[0m\u001b[0mset_var\u001b[0m\u001b[0;34m(\u001b[0m\u001b[0msug_var\u001b[0m\u001b[0;34m)\u001b[0m\u001b[0;34m\u001b[0m\u001b[0m\n\u001b[1;32m     16\u001b[0m \u001b[0;34m\u001b[0m\u001b[0m\n\u001b[0;32m---> 17\u001b[0;31m         \u001b[0msug_res\u001b[0m \u001b[0;34m=\u001b[0m \u001b[0mself\u001b[0m\u001b[0;34m.\u001b[0m\u001b[0mrun\u001b[0m\u001b[0;34m(\u001b[0m\u001b[0msug_cnf\u001b[0m\u001b[0;34m,\u001b[0m \u001b[0mswitch_to_heuristic\u001b[0m\u001b[0;34m)\u001b[0m\u001b[0;34m\u001b[0m\u001b[0m\n\u001b[0m\u001b[1;32m     18\u001b[0m         \u001b[0;32mif\u001b[0m \u001b[0msug_res\u001b[0m \u001b[0;32mis\u001b[0m \u001b[0;32mnot\u001b[0m \u001b[0;32mNone\u001b[0m\u001b[0;34m:\u001b[0m\u001b[0;34m\u001b[0m\u001b[0m\n\u001b[1;32m     19\u001b[0m             \u001b[0;32mreturn\u001b[0m \u001b[0;34m[\u001b[0m\u001b[0msug_var\u001b[0m\u001b[0;34m]\u001b[0m \u001b[0;34m+\u001b[0m \u001b[0msug_res\u001b[0m\u001b[0;34m\u001b[0m\u001b[0m\n",
      "\u001b[0;32m<ipython-input-12-d461e7ba81f1>\u001b[0m in \u001b[0;36mrun\u001b[0;34m(self, cnf, fast)\u001b[0m\n\u001b[1;32m     15\u001b[0m         \u001b[0msug_cnf\u001b[0m \u001b[0;34m=\u001b[0m \u001b[0mcnf\u001b[0m\u001b[0;34m.\u001b[0m\u001b[0mset_var\u001b[0m\u001b[0;34m(\u001b[0m\u001b[0msug_var\u001b[0m\u001b[0;34m)\u001b[0m\u001b[0;34m\u001b[0m\u001b[0m\n\u001b[1;32m     16\u001b[0m \u001b[0;34m\u001b[0m\u001b[0m\n\u001b[0;32m---> 17\u001b[0;31m         \u001b[0msug_res\u001b[0m \u001b[0;34m=\u001b[0m \u001b[0mself\u001b[0m\u001b[0;34m.\u001b[0m\u001b[0mrun\u001b[0m\u001b[0;34m(\u001b[0m\u001b[0msug_cnf\u001b[0m\u001b[0;34m,\u001b[0m \u001b[0mswitch_to_heuristic\u001b[0m\u001b[0;34m)\u001b[0m\u001b[0;34m\u001b[0m\u001b[0m\n\u001b[0m\u001b[1;32m     18\u001b[0m         \u001b[0;32mif\u001b[0m \u001b[0msug_res\u001b[0m \u001b[0;32mis\u001b[0m \u001b[0;32mnot\u001b[0m \u001b[0;32mNone\u001b[0m\u001b[0;34m:\u001b[0m\u001b[0;34m\u001b[0m\u001b[0m\n\u001b[1;32m     19\u001b[0m             \u001b[0;32mreturn\u001b[0m \u001b[0;34m[\u001b[0m\u001b[0msug_var\u001b[0m\u001b[0;34m]\u001b[0m \u001b[0;34m+\u001b[0m \u001b[0msug_res\u001b[0m\u001b[0;34m\u001b[0m\u001b[0m\n",
      "\u001b[0;32m<ipython-input-12-d461e7ba81f1>\u001b[0m in \u001b[0;36mrun\u001b[0;34m(self, cnf, fast)\u001b[0m\n\u001b[1;32m     15\u001b[0m         \u001b[0msug_cnf\u001b[0m \u001b[0;34m=\u001b[0m \u001b[0mcnf\u001b[0m\u001b[0;34m.\u001b[0m\u001b[0mset_var\u001b[0m\u001b[0;34m(\u001b[0m\u001b[0msug_var\u001b[0m\u001b[0;34m)\u001b[0m\u001b[0;34m\u001b[0m\u001b[0m\n\u001b[1;32m     16\u001b[0m \u001b[0;34m\u001b[0m\u001b[0m\n\u001b[0;32m---> 17\u001b[0;31m         \u001b[0msug_res\u001b[0m \u001b[0;34m=\u001b[0m \u001b[0mself\u001b[0m\u001b[0;34m.\u001b[0m\u001b[0mrun\u001b[0m\u001b[0;34m(\u001b[0m\u001b[0msug_cnf\u001b[0m\u001b[0;34m,\u001b[0m \u001b[0mswitch_to_heuristic\u001b[0m\u001b[0;34m)\u001b[0m\u001b[0;34m\u001b[0m\u001b[0m\n\u001b[0m\u001b[1;32m     18\u001b[0m         \u001b[0;32mif\u001b[0m \u001b[0msug_res\u001b[0m \u001b[0;32mis\u001b[0m \u001b[0;32mnot\u001b[0m \u001b[0;32mNone\u001b[0m\u001b[0;34m:\u001b[0m\u001b[0;34m\u001b[0m\u001b[0m\n\u001b[1;32m     19\u001b[0m             \u001b[0;32mreturn\u001b[0m \u001b[0;34m[\u001b[0m\u001b[0msug_var\u001b[0m\u001b[0;34m]\u001b[0m \u001b[0;34m+\u001b[0m \u001b[0msug_res\u001b[0m\u001b[0;34m\u001b[0m\u001b[0m\n",
      "\u001b[0;32m<ipython-input-12-d461e7ba81f1>\u001b[0m in \u001b[0;36mrun\u001b[0;34m(self, cnf, fast)\u001b[0m\n\u001b[1;32m     15\u001b[0m         \u001b[0msug_cnf\u001b[0m \u001b[0;34m=\u001b[0m \u001b[0mcnf\u001b[0m\u001b[0;34m.\u001b[0m\u001b[0mset_var\u001b[0m\u001b[0;34m(\u001b[0m\u001b[0msug_var\u001b[0m\u001b[0;34m)\u001b[0m\u001b[0;34m\u001b[0m\u001b[0m\n\u001b[1;32m     16\u001b[0m \u001b[0;34m\u001b[0m\u001b[0m\n\u001b[0;32m---> 17\u001b[0;31m         \u001b[0msug_res\u001b[0m \u001b[0;34m=\u001b[0m \u001b[0mself\u001b[0m\u001b[0;34m.\u001b[0m\u001b[0mrun\u001b[0m\u001b[0;34m(\u001b[0m\u001b[0msug_cnf\u001b[0m\u001b[0;34m,\u001b[0m \u001b[0mswitch_to_heuristic\u001b[0m\u001b[0;34m)\u001b[0m\u001b[0;34m\u001b[0m\u001b[0m\n\u001b[0m\u001b[1;32m     18\u001b[0m         \u001b[0;32mif\u001b[0m \u001b[0msug_res\u001b[0m \u001b[0;32mis\u001b[0m \u001b[0;32mnot\u001b[0m \u001b[0;32mNone\u001b[0m\u001b[0;34m:\u001b[0m\u001b[0;34m\u001b[0m\u001b[0m\n\u001b[1;32m     19\u001b[0m             \u001b[0;32mreturn\u001b[0m \u001b[0;34m[\u001b[0m\u001b[0msug_var\u001b[0m\u001b[0;34m]\u001b[0m \u001b[0;34m+\u001b[0m \u001b[0msug_res\u001b[0m\u001b[0;34m\u001b[0m\u001b[0m\n",
      "\u001b[0;32m<ipython-input-12-d461e7ba81f1>\u001b[0m in \u001b[0;36mrun\u001b[0;34m(self, cnf, fast)\u001b[0m\n\u001b[1;32m     15\u001b[0m         \u001b[0msug_cnf\u001b[0m \u001b[0;34m=\u001b[0m \u001b[0mcnf\u001b[0m\u001b[0;34m.\u001b[0m\u001b[0mset_var\u001b[0m\u001b[0;34m(\u001b[0m\u001b[0msug_var\u001b[0m\u001b[0;34m)\u001b[0m\u001b[0;34m\u001b[0m\u001b[0m\n\u001b[1;32m     16\u001b[0m \u001b[0;34m\u001b[0m\u001b[0m\n\u001b[0;32m---> 17\u001b[0;31m         \u001b[0msug_res\u001b[0m \u001b[0;34m=\u001b[0m \u001b[0mself\u001b[0m\u001b[0;34m.\u001b[0m\u001b[0mrun\u001b[0m\u001b[0;34m(\u001b[0m\u001b[0msug_cnf\u001b[0m\u001b[0;34m,\u001b[0m \u001b[0mswitch_to_heuristic\u001b[0m\u001b[0;34m)\u001b[0m\u001b[0;34m\u001b[0m\u001b[0m\n\u001b[0m\u001b[1;32m     18\u001b[0m         \u001b[0;32mif\u001b[0m \u001b[0msug_res\u001b[0m \u001b[0;32mis\u001b[0m \u001b[0;32mnot\u001b[0m \u001b[0;32mNone\u001b[0m\u001b[0;34m:\u001b[0m\u001b[0;34m\u001b[0m\u001b[0m\n\u001b[1;32m     19\u001b[0m             \u001b[0;32mreturn\u001b[0m \u001b[0;34m[\u001b[0m\u001b[0msug_var\u001b[0m\u001b[0;34m]\u001b[0m \u001b[0;34m+\u001b[0m \u001b[0msug_res\u001b[0m\u001b[0;34m\u001b[0m\u001b[0m\n",
      "\u001b[0;32m<ipython-input-12-d461e7ba81f1>\u001b[0m in \u001b[0;36mrun\u001b[0;34m(self, cnf, fast)\u001b[0m\n\u001b[1;32m     15\u001b[0m         \u001b[0msug_cnf\u001b[0m \u001b[0;34m=\u001b[0m \u001b[0mcnf\u001b[0m\u001b[0;34m.\u001b[0m\u001b[0mset_var\u001b[0m\u001b[0;34m(\u001b[0m\u001b[0msug_var\u001b[0m\u001b[0;34m)\u001b[0m\u001b[0;34m\u001b[0m\u001b[0m\n\u001b[1;32m     16\u001b[0m \u001b[0;34m\u001b[0m\u001b[0m\n\u001b[0;32m---> 17\u001b[0;31m         \u001b[0msug_res\u001b[0m \u001b[0;34m=\u001b[0m \u001b[0mself\u001b[0m\u001b[0;34m.\u001b[0m\u001b[0mrun\u001b[0m\u001b[0;34m(\u001b[0m\u001b[0msug_cnf\u001b[0m\u001b[0;34m,\u001b[0m \u001b[0mswitch_to_heuristic\u001b[0m\u001b[0;34m)\u001b[0m\u001b[0;34m\u001b[0m\u001b[0m\n\u001b[0m\u001b[1;32m     18\u001b[0m         \u001b[0;32mif\u001b[0m \u001b[0msug_res\u001b[0m \u001b[0;32mis\u001b[0m \u001b[0;32mnot\u001b[0m \u001b[0;32mNone\u001b[0m\u001b[0;34m:\u001b[0m\u001b[0;34m\u001b[0m\u001b[0m\n\u001b[1;32m     19\u001b[0m             \u001b[0;32mreturn\u001b[0m \u001b[0;34m[\u001b[0m\u001b[0msug_var\u001b[0m\u001b[0;34m]\u001b[0m \u001b[0;34m+\u001b[0m \u001b[0msug_res\u001b[0m\u001b[0;34m\u001b[0m\u001b[0m\n",
      "\u001b[0;32m<ipython-input-12-d461e7ba81f1>\u001b[0m in \u001b[0;36mrun\u001b[0;34m(self, cnf, fast)\u001b[0m\n\u001b[1;32m     15\u001b[0m         \u001b[0msug_cnf\u001b[0m \u001b[0;34m=\u001b[0m \u001b[0mcnf\u001b[0m\u001b[0;34m.\u001b[0m\u001b[0mset_var\u001b[0m\u001b[0;34m(\u001b[0m\u001b[0msug_var\u001b[0m\u001b[0;34m)\u001b[0m\u001b[0;34m\u001b[0m\u001b[0m\n\u001b[1;32m     16\u001b[0m \u001b[0;34m\u001b[0m\u001b[0m\n\u001b[0;32m---> 17\u001b[0;31m         \u001b[0msug_res\u001b[0m \u001b[0;34m=\u001b[0m \u001b[0mself\u001b[0m\u001b[0;34m.\u001b[0m\u001b[0mrun\u001b[0m\u001b[0;34m(\u001b[0m\u001b[0msug_cnf\u001b[0m\u001b[0;34m,\u001b[0m \u001b[0mswitch_to_heuristic\u001b[0m\u001b[0;34m)\u001b[0m\u001b[0;34m\u001b[0m\u001b[0m\n\u001b[0m\u001b[1;32m     18\u001b[0m         \u001b[0;32mif\u001b[0m \u001b[0msug_res\u001b[0m \u001b[0;32mis\u001b[0m \u001b[0;32mnot\u001b[0m \u001b[0;32mNone\u001b[0m\u001b[0;34m:\u001b[0m\u001b[0;34m\u001b[0m\u001b[0m\n\u001b[1;32m     19\u001b[0m             \u001b[0;32mreturn\u001b[0m \u001b[0;34m[\u001b[0m\u001b[0msug_var\u001b[0m\u001b[0;34m]\u001b[0m \u001b[0;34m+\u001b[0m \u001b[0msug_res\u001b[0m\u001b[0;34m\u001b[0m\u001b[0m\n",
      "\u001b[0;32m<ipython-input-12-d461e7ba81f1>\u001b[0m in \u001b[0;36mrun\u001b[0;34m(self, cnf, fast)\u001b[0m\n\u001b[1;32m     15\u001b[0m         \u001b[0msug_cnf\u001b[0m \u001b[0;34m=\u001b[0m \u001b[0mcnf\u001b[0m\u001b[0;34m.\u001b[0m\u001b[0mset_var\u001b[0m\u001b[0;34m(\u001b[0m\u001b[0msug_var\u001b[0m\u001b[0;34m)\u001b[0m\u001b[0;34m\u001b[0m\u001b[0m\n\u001b[1;32m     16\u001b[0m \u001b[0;34m\u001b[0m\u001b[0m\n\u001b[0;32m---> 17\u001b[0;31m         \u001b[0msug_res\u001b[0m \u001b[0;34m=\u001b[0m \u001b[0mself\u001b[0m\u001b[0;34m.\u001b[0m\u001b[0mrun\u001b[0m\u001b[0;34m(\u001b[0m\u001b[0msug_cnf\u001b[0m\u001b[0;34m,\u001b[0m \u001b[0mswitch_to_heuristic\u001b[0m\u001b[0;34m)\u001b[0m\u001b[0;34m\u001b[0m\u001b[0m\n\u001b[0m\u001b[1;32m     18\u001b[0m         \u001b[0;32mif\u001b[0m \u001b[0msug_res\u001b[0m \u001b[0;32mis\u001b[0m \u001b[0;32mnot\u001b[0m \u001b[0;32mNone\u001b[0m\u001b[0;34m:\u001b[0m\u001b[0;34m\u001b[0m\u001b[0m\n\u001b[1;32m     19\u001b[0m             \u001b[0;32mreturn\u001b[0m \u001b[0;34m[\u001b[0m\u001b[0msug_var\u001b[0m\u001b[0;34m]\u001b[0m \u001b[0;34m+\u001b[0m \u001b[0msug_res\u001b[0m\u001b[0;34m\u001b[0m\u001b[0m\n",
      "\u001b[0;32m<ipython-input-12-d461e7ba81f1>\u001b[0m in \u001b[0;36mrun\u001b[0;34m(self, cnf, fast)\u001b[0m\n\u001b[1;32m     15\u001b[0m         \u001b[0msug_cnf\u001b[0m \u001b[0;34m=\u001b[0m \u001b[0mcnf\u001b[0m\u001b[0;34m.\u001b[0m\u001b[0mset_var\u001b[0m\u001b[0;34m(\u001b[0m\u001b[0msug_var\u001b[0m\u001b[0;34m)\u001b[0m\u001b[0;34m\u001b[0m\u001b[0m\n\u001b[1;32m     16\u001b[0m \u001b[0;34m\u001b[0m\u001b[0m\n\u001b[0;32m---> 17\u001b[0;31m         \u001b[0msug_res\u001b[0m \u001b[0;34m=\u001b[0m \u001b[0mself\u001b[0m\u001b[0;34m.\u001b[0m\u001b[0mrun\u001b[0m\u001b[0;34m(\u001b[0m\u001b[0msug_cnf\u001b[0m\u001b[0;34m,\u001b[0m \u001b[0mswitch_to_heuristic\u001b[0m\u001b[0;34m)\u001b[0m\u001b[0;34m\u001b[0m\u001b[0m\n\u001b[0m\u001b[1;32m     18\u001b[0m         \u001b[0;32mif\u001b[0m \u001b[0msug_res\u001b[0m \u001b[0;32mis\u001b[0m \u001b[0;32mnot\u001b[0m \u001b[0;32mNone\u001b[0m\u001b[0;34m:\u001b[0m\u001b[0;34m\u001b[0m\u001b[0m\n\u001b[1;32m     19\u001b[0m             \u001b[0;32mreturn\u001b[0m \u001b[0;34m[\u001b[0m\u001b[0msug_var\u001b[0m\u001b[0;34m]\u001b[0m \u001b[0;34m+\u001b[0m \u001b[0msug_res\u001b[0m\u001b[0;34m\u001b[0m\u001b[0m\n",
      "\u001b[0;32m<ipython-input-12-d461e7ba81f1>\u001b[0m in \u001b[0;36mrun\u001b[0;34m(self, cnf, fast)\u001b[0m\n\u001b[1;32m     15\u001b[0m         \u001b[0msug_cnf\u001b[0m \u001b[0;34m=\u001b[0m \u001b[0mcnf\u001b[0m\u001b[0;34m.\u001b[0m\u001b[0mset_var\u001b[0m\u001b[0;34m(\u001b[0m\u001b[0msug_var\u001b[0m\u001b[0;34m)\u001b[0m\u001b[0;34m\u001b[0m\u001b[0m\n\u001b[1;32m     16\u001b[0m \u001b[0;34m\u001b[0m\u001b[0m\n\u001b[0;32m---> 17\u001b[0;31m         \u001b[0msug_res\u001b[0m \u001b[0;34m=\u001b[0m \u001b[0mself\u001b[0m\u001b[0;34m.\u001b[0m\u001b[0mrun\u001b[0m\u001b[0;34m(\u001b[0m\u001b[0msug_cnf\u001b[0m\u001b[0;34m,\u001b[0m \u001b[0mswitch_to_heuristic\u001b[0m\u001b[0;34m)\u001b[0m\u001b[0;34m\u001b[0m\u001b[0m\n\u001b[0m\u001b[1;32m     18\u001b[0m         \u001b[0;32mif\u001b[0m \u001b[0msug_res\u001b[0m \u001b[0;32mis\u001b[0m \u001b[0;32mnot\u001b[0m \u001b[0;32mNone\u001b[0m\u001b[0;34m:\u001b[0m\u001b[0;34m\u001b[0m\u001b[0m\n\u001b[1;32m     19\u001b[0m             \u001b[0;32mreturn\u001b[0m \u001b[0;34m[\u001b[0m\u001b[0msug_var\u001b[0m\u001b[0;34m]\u001b[0m \u001b[0;34m+\u001b[0m \u001b[0msug_res\u001b[0m\u001b[0;34m\u001b[0m\u001b[0m\n",
      "\u001b[0;32m<ipython-input-12-d461e7ba81f1>\u001b[0m in \u001b[0;36mrun\u001b[0;34m(self, cnf, fast)\u001b[0m\n\u001b[1;32m     20\u001b[0m \u001b[0;34m\u001b[0m\u001b[0m\n\u001b[1;32m     21\u001b[0m         \u001b[0mnot_sug_cnf\u001b[0m \u001b[0;34m=\u001b[0m \u001b[0mcnf\u001b[0m\u001b[0;34m.\u001b[0m\u001b[0mset_var\u001b[0m\u001b[0;34m(\u001b[0m\u001b[0;34m-\u001b[0m\u001b[0msug_var\u001b[0m\u001b[0;34m)\u001b[0m\u001b[0;34m\u001b[0m\u001b[0m\n\u001b[0;32m---> 22\u001b[0;31m         \u001b[0mnot_sug_res\u001b[0m \u001b[0;34m=\u001b[0m \u001b[0mself\u001b[0m\u001b[0;34m.\u001b[0m\u001b[0mrun\u001b[0m\u001b[0;34m(\u001b[0m\u001b[0mnot_sug_cnf\u001b[0m\u001b[0;34m,\u001b[0m \u001b[0mswitch_to_heuristic\u001b[0m\u001b[0;34m)\u001b[0m\u001b[0;34m\u001b[0m\u001b[0m\n\u001b[0m\u001b[1;32m     23\u001b[0m         \u001b[0;32mif\u001b[0m \u001b[0mnot_sug_res\u001b[0m \u001b[0;32mis\u001b[0m \u001b[0;32mnot\u001b[0m \u001b[0;32mNone\u001b[0m\u001b[0;34m:\u001b[0m\u001b[0;34m\u001b[0m\u001b[0m\n\u001b[1;32m     24\u001b[0m             \u001b[0mself\u001b[0m\u001b[0;34m.\u001b[0m\u001b[0mnumber_of_errors\u001b[0m \u001b[0;34m+=\u001b[0m \u001b[0;36m1\u001b[0m\u001b[0;34m\u001b[0m\u001b[0m\n",
      "\u001b[0;32m<ipython-input-12-d461e7ba81f1>\u001b[0m in \u001b[0;36mrun\u001b[0;34m(self, cnf, fast)\u001b[0m\n\u001b[1;32m     15\u001b[0m         \u001b[0msug_cnf\u001b[0m \u001b[0;34m=\u001b[0m \u001b[0mcnf\u001b[0m\u001b[0;34m.\u001b[0m\u001b[0mset_var\u001b[0m\u001b[0;34m(\u001b[0m\u001b[0msug_var\u001b[0m\u001b[0;34m)\u001b[0m\u001b[0;34m\u001b[0m\u001b[0m\n\u001b[1;32m     16\u001b[0m \u001b[0;34m\u001b[0m\u001b[0m\n\u001b[0;32m---> 17\u001b[0;31m         \u001b[0msug_res\u001b[0m \u001b[0;34m=\u001b[0m \u001b[0mself\u001b[0m\u001b[0;34m.\u001b[0m\u001b[0mrun\u001b[0m\u001b[0;34m(\u001b[0m\u001b[0msug_cnf\u001b[0m\u001b[0;34m,\u001b[0m \u001b[0mswitch_to_heuristic\u001b[0m\u001b[0;34m)\u001b[0m\u001b[0;34m\u001b[0m\u001b[0m\n\u001b[0m\u001b[1;32m     18\u001b[0m         \u001b[0;32mif\u001b[0m \u001b[0msug_res\u001b[0m \u001b[0;32mis\u001b[0m \u001b[0;32mnot\u001b[0m \u001b[0;32mNone\u001b[0m\u001b[0;34m:\u001b[0m\u001b[0;34m\u001b[0m\u001b[0m\n\u001b[1;32m     19\u001b[0m             \u001b[0;32mreturn\u001b[0m \u001b[0;34m[\u001b[0m\u001b[0msug_var\u001b[0m\u001b[0;34m]\u001b[0m \u001b[0;34m+\u001b[0m \u001b[0msug_res\u001b[0m\u001b[0;34m\u001b[0m\u001b[0m\n",
      "\u001b[0;32m<ipython-input-12-d461e7ba81f1>\u001b[0m in \u001b[0;36mrun\u001b[0;34m(self, cnf, fast)\u001b[0m\n\u001b[1;32m     15\u001b[0m         \u001b[0msug_cnf\u001b[0m \u001b[0;34m=\u001b[0m \u001b[0mcnf\u001b[0m\u001b[0;34m.\u001b[0m\u001b[0mset_var\u001b[0m\u001b[0;34m(\u001b[0m\u001b[0msug_var\u001b[0m\u001b[0;34m)\u001b[0m\u001b[0;34m\u001b[0m\u001b[0m\n\u001b[1;32m     16\u001b[0m \u001b[0;34m\u001b[0m\u001b[0m\n\u001b[0;32m---> 17\u001b[0;31m         \u001b[0msug_res\u001b[0m \u001b[0;34m=\u001b[0m \u001b[0mself\u001b[0m\u001b[0;34m.\u001b[0m\u001b[0mrun\u001b[0m\u001b[0;34m(\u001b[0m\u001b[0msug_cnf\u001b[0m\u001b[0;34m,\u001b[0m \u001b[0mswitch_to_heuristic\u001b[0m\u001b[0;34m)\u001b[0m\u001b[0;34m\u001b[0m\u001b[0m\n\u001b[0m\u001b[1;32m     18\u001b[0m         \u001b[0;32mif\u001b[0m \u001b[0msug_res\u001b[0m \u001b[0;32mis\u001b[0m \u001b[0;32mnot\u001b[0m \u001b[0;32mNone\u001b[0m\u001b[0;34m:\u001b[0m\u001b[0;34m\u001b[0m\u001b[0m\n\u001b[1;32m     19\u001b[0m             \u001b[0;32mreturn\u001b[0m \u001b[0;34m[\u001b[0m\u001b[0msug_var\u001b[0m\u001b[0;34m]\u001b[0m \u001b[0;34m+\u001b[0m \u001b[0msug_res\u001b[0m\u001b[0;34m\u001b[0m\u001b[0m\n",
      "\u001b[0;32m<ipython-input-12-d461e7ba81f1>\u001b[0m in \u001b[0;36mrun\u001b[0;34m(self, cnf, fast)\u001b[0m\n\u001b[1;32m     15\u001b[0m         \u001b[0msug_cnf\u001b[0m \u001b[0;34m=\u001b[0m \u001b[0mcnf\u001b[0m\u001b[0;34m.\u001b[0m\u001b[0mset_var\u001b[0m\u001b[0;34m(\u001b[0m\u001b[0msug_var\u001b[0m\u001b[0;34m)\u001b[0m\u001b[0;34m\u001b[0m\u001b[0m\n\u001b[1;32m     16\u001b[0m \u001b[0;34m\u001b[0m\u001b[0m\n\u001b[0;32m---> 17\u001b[0;31m         \u001b[0msug_res\u001b[0m \u001b[0;34m=\u001b[0m \u001b[0mself\u001b[0m\u001b[0;34m.\u001b[0m\u001b[0mrun\u001b[0m\u001b[0;34m(\u001b[0m\u001b[0msug_cnf\u001b[0m\u001b[0;34m,\u001b[0m \u001b[0mswitch_to_heuristic\u001b[0m\u001b[0;34m)\u001b[0m\u001b[0;34m\u001b[0m\u001b[0m\n\u001b[0m\u001b[1;32m     18\u001b[0m         \u001b[0;32mif\u001b[0m \u001b[0msug_res\u001b[0m \u001b[0;32mis\u001b[0m \u001b[0;32mnot\u001b[0m \u001b[0;32mNone\u001b[0m\u001b[0;34m:\u001b[0m\u001b[0;34m\u001b[0m\u001b[0m\n\u001b[1;32m     19\u001b[0m             \u001b[0;32mreturn\u001b[0m \u001b[0;34m[\u001b[0m\u001b[0msug_var\u001b[0m\u001b[0;34m]\u001b[0m \u001b[0;34m+\u001b[0m \u001b[0msug_res\u001b[0m\u001b[0;34m\u001b[0m\u001b[0m\n",
      "\u001b[0;32m<ipython-input-12-d461e7ba81f1>\u001b[0m in \u001b[0;36mrun\u001b[0;34m(self, cnf, fast)\u001b[0m\n\u001b[1;32m     15\u001b[0m         \u001b[0msug_cnf\u001b[0m \u001b[0;34m=\u001b[0m \u001b[0mcnf\u001b[0m\u001b[0;34m.\u001b[0m\u001b[0mset_var\u001b[0m\u001b[0;34m(\u001b[0m\u001b[0msug_var\u001b[0m\u001b[0;34m)\u001b[0m\u001b[0;34m\u001b[0m\u001b[0m\n\u001b[1;32m     16\u001b[0m \u001b[0;34m\u001b[0m\u001b[0m\n\u001b[0;32m---> 17\u001b[0;31m         \u001b[0msug_res\u001b[0m \u001b[0;34m=\u001b[0m \u001b[0mself\u001b[0m\u001b[0;34m.\u001b[0m\u001b[0mrun\u001b[0m\u001b[0;34m(\u001b[0m\u001b[0msug_cnf\u001b[0m\u001b[0;34m,\u001b[0m \u001b[0mswitch_to_heuristic\u001b[0m\u001b[0;34m)\u001b[0m\u001b[0;34m\u001b[0m\u001b[0m\n\u001b[0m\u001b[1;32m     18\u001b[0m         \u001b[0;32mif\u001b[0m \u001b[0msug_res\u001b[0m \u001b[0;32mis\u001b[0m \u001b[0;32mnot\u001b[0m \u001b[0;32mNone\u001b[0m\u001b[0;34m:\u001b[0m\u001b[0;34m\u001b[0m\u001b[0m\n\u001b[1;32m     19\u001b[0m             \u001b[0;32mreturn\u001b[0m \u001b[0;34m[\u001b[0m\u001b[0msug_var\u001b[0m\u001b[0;34m]\u001b[0m \u001b[0;34m+\u001b[0m \u001b[0msug_res\u001b[0m\u001b[0;34m\u001b[0m\u001b[0m\n",
      "\u001b[0;32m<ipython-input-12-d461e7ba81f1>\u001b[0m in \u001b[0;36mrun\u001b[0;34m(self, cnf, fast)\u001b[0m\n\u001b[1;32m     15\u001b[0m         \u001b[0msug_cnf\u001b[0m \u001b[0;34m=\u001b[0m \u001b[0mcnf\u001b[0m\u001b[0;34m.\u001b[0m\u001b[0mset_var\u001b[0m\u001b[0;34m(\u001b[0m\u001b[0msug_var\u001b[0m\u001b[0;34m)\u001b[0m\u001b[0;34m\u001b[0m\u001b[0m\n\u001b[1;32m     16\u001b[0m \u001b[0;34m\u001b[0m\u001b[0m\n\u001b[0;32m---> 17\u001b[0;31m         \u001b[0msug_res\u001b[0m \u001b[0;34m=\u001b[0m \u001b[0mself\u001b[0m\u001b[0;34m.\u001b[0m\u001b[0mrun\u001b[0m\u001b[0;34m(\u001b[0m\u001b[0msug_cnf\u001b[0m\u001b[0;34m,\u001b[0m \u001b[0mswitch_to_heuristic\u001b[0m\u001b[0;34m)\u001b[0m\u001b[0;34m\u001b[0m\u001b[0m\n\u001b[0m\u001b[1;32m     18\u001b[0m         \u001b[0;32mif\u001b[0m \u001b[0msug_res\u001b[0m \u001b[0;32mis\u001b[0m \u001b[0;32mnot\u001b[0m \u001b[0;32mNone\u001b[0m\u001b[0;34m:\u001b[0m\u001b[0;34m\u001b[0m\u001b[0m\n\u001b[1;32m     19\u001b[0m             \u001b[0;32mreturn\u001b[0m \u001b[0;34m[\u001b[0m\u001b[0msug_var\u001b[0m\u001b[0;34m]\u001b[0m \u001b[0;34m+\u001b[0m \u001b[0msug_res\u001b[0m\u001b[0;34m\u001b[0m\u001b[0m\n",
      "\u001b[0;32m<ipython-input-12-d461e7ba81f1>\u001b[0m in \u001b[0;36mrun\u001b[0;34m(self, cnf, fast)\u001b[0m\n\u001b[1;32m     15\u001b[0m         \u001b[0msug_cnf\u001b[0m \u001b[0;34m=\u001b[0m \u001b[0mcnf\u001b[0m\u001b[0;34m.\u001b[0m\u001b[0mset_var\u001b[0m\u001b[0;34m(\u001b[0m\u001b[0msug_var\u001b[0m\u001b[0;34m)\u001b[0m\u001b[0;34m\u001b[0m\u001b[0m\n\u001b[1;32m     16\u001b[0m \u001b[0;34m\u001b[0m\u001b[0m\n\u001b[0;32m---> 17\u001b[0;31m         \u001b[0msug_res\u001b[0m \u001b[0;34m=\u001b[0m \u001b[0mself\u001b[0m\u001b[0;34m.\u001b[0m\u001b[0mrun\u001b[0m\u001b[0;34m(\u001b[0m\u001b[0msug_cnf\u001b[0m\u001b[0;34m,\u001b[0m \u001b[0mswitch_to_heuristic\u001b[0m\u001b[0;34m)\u001b[0m\u001b[0;34m\u001b[0m\u001b[0m\n\u001b[0m\u001b[1;32m     18\u001b[0m         \u001b[0;32mif\u001b[0m \u001b[0msug_res\u001b[0m \u001b[0;32mis\u001b[0m \u001b[0;32mnot\u001b[0m \u001b[0;32mNone\u001b[0m\u001b[0;34m:\u001b[0m\u001b[0;34m\u001b[0m\u001b[0m\n\u001b[1;32m     19\u001b[0m             \u001b[0;32mreturn\u001b[0m \u001b[0;34m[\u001b[0m\u001b[0msug_var\u001b[0m\u001b[0;34m]\u001b[0m \u001b[0;34m+\u001b[0m \u001b[0msug_res\u001b[0m\u001b[0;34m\u001b[0m\u001b[0m\n",
      "\u001b[0;32m<ipython-input-12-d461e7ba81f1>\u001b[0m in \u001b[0;36mrun\u001b[0;34m(self, cnf, fast)\u001b[0m\n\u001b[1;32m     15\u001b[0m         \u001b[0msug_cnf\u001b[0m \u001b[0;34m=\u001b[0m \u001b[0mcnf\u001b[0m\u001b[0;34m.\u001b[0m\u001b[0mset_var\u001b[0m\u001b[0;34m(\u001b[0m\u001b[0msug_var\u001b[0m\u001b[0;34m)\u001b[0m\u001b[0;34m\u001b[0m\u001b[0m\n\u001b[1;32m     16\u001b[0m \u001b[0;34m\u001b[0m\u001b[0m\n\u001b[0;32m---> 17\u001b[0;31m         \u001b[0msug_res\u001b[0m \u001b[0;34m=\u001b[0m \u001b[0mself\u001b[0m\u001b[0;34m.\u001b[0m\u001b[0mrun\u001b[0m\u001b[0;34m(\u001b[0m\u001b[0msug_cnf\u001b[0m\u001b[0;34m,\u001b[0m \u001b[0mswitch_to_heuristic\u001b[0m\u001b[0;34m)\u001b[0m\u001b[0;34m\u001b[0m\u001b[0m\n\u001b[0m\u001b[1;32m     18\u001b[0m         \u001b[0;32mif\u001b[0m \u001b[0msug_res\u001b[0m \u001b[0;32mis\u001b[0m \u001b[0;32mnot\u001b[0m \u001b[0;32mNone\u001b[0m\u001b[0;34m:\u001b[0m\u001b[0;34m\u001b[0m\u001b[0m\n\u001b[1;32m     19\u001b[0m             \u001b[0;32mreturn\u001b[0m \u001b[0;34m[\u001b[0m\u001b[0msug_var\u001b[0m\u001b[0;34m]\u001b[0m \u001b[0;34m+\u001b[0m \u001b[0msug_res\u001b[0m\u001b[0;34m\u001b[0m\u001b[0m\n",
      "\u001b[0;32m<ipython-input-12-d461e7ba81f1>\u001b[0m in \u001b[0;36mrun\u001b[0;34m(self, cnf, fast)\u001b[0m\n\u001b[1;32m     15\u001b[0m         \u001b[0msug_cnf\u001b[0m \u001b[0;34m=\u001b[0m \u001b[0mcnf\u001b[0m\u001b[0;34m.\u001b[0m\u001b[0mset_var\u001b[0m\u001b[0;34m(\u001b[0m\u001b[0msug_var\u001b[0m\u001b[0;34m)\u001b[0m\u001b[0;34m\u001b[0m\u001b[0m\n\u001b[1;32m     16\u001b[0m \u001b[0;34m\u001b[0m\u001b[0m\n\u001b[0;32m---> 17\u001b[0;31m         \u001b[0msug_res\u001b[0m \u001b[0;34m=\u001b[0m \u001b[0mself\u001b[0m\u001b[0;34m.\u001b[0m\u001b[0mrun\u001b[0m\u001b[0;34m(\u001b[0m\u001b[0msug_cnf\u001b[0m\u001b[0;34m,\u001b[0m \u001b[0mswitch_to_heuristic\u001b[0m\u001b[0;34m)\u001b[0m\u001b[0;34m\u001b[0m\u001b[0m\n\u001b[0m\u001b[1;32m     18\u001b[0m         \u001b[0;32mif\u001b[0m \u001b[0msug_res\u001b[0m \u001b[0;32mis\u001b[0m \u001b[0;32mnot\u001b[0m \u001b[0;32mNone\u001b[0m\u001b[0;34m:\u001b[0m\u001b[0;34m\u001b[0m\u001b[0m\n\u001b[1;32m     19\u001b[0m             \u001b[0;32mreturn\u001b[0m \u001b[0;34m[\u001b[0m\u001b[0msug_var\u001b[0m\u001b[0;34m]\u001b[0m \u001b[0;34m+\u001b[0m \u001b[0msug_res\u001b[0m\u001b[0;34m\u001b[0m\u001b[0m\n",
      "\u001b[0;32m<ipython-input-12-d461e7ba81f1>\u001b[0m in \u001b[0;36mrun\u001b[0;34m(self, cnf, fast)\u001b[0m\n\u001b[1;32m     15\u001b[0m         \u001b[0msug_cnf\u001b[0m \u001b[0;34m=\u001b[0m \u001b[0mcnf\u001b[0m\u001b[0;34m.\u001b[0m\u001b[0mset_var\u001b[0m\u001b[0;34m(\u001b[0m\u001b[0msug_var\u001b[0m\u001b[0;34m)\u001b[0m\u001b[0;34m\u001b[0m\u001b[0m\n\u001b[1;32m     16\u001b[0m \u001b[0;34m\u001b[0m\u001b[0m\n\u001b[0;32m---> 17\u001b[0;31m         \u001b[0msug_res\u001b[0m \u001b[0;34m=\u001b[0m \u001b[0mself\u001b[0m\u001b[0;34m.\u001b[0m\u001b[0mrun\u001b[0m\u001b[0;34m(\u001b[0m\u001b[0msug_cnf\u001b[0m\u001b[0;34m,\u001b[0m \u001b[0mswitch_to_heuristic\u001b[0m\u001b[0;34m)\u001b[0m\u001b[0;34m\u001b[0m\u001b[0m\n\u001b[0m\u001b[1;32m     18\u001b[0m         \u001b[0;32mif\u001b[0m \u001b[0msug_res\u001b[0m \u001b[0;32mis\u001b[0m \u001b[0;32mnot\u001b[0m \u001b[0;32mNone\u001b[0m\u001b[0;34m:\u001b[0m\u001b[0;34m\u001b[0m\u001b[0m\n\u001b[1;32m     19\u001b[0m             \u001b[0;32mreturn\u001b[0m \u001b[0;34m[\u001b[0m\u001b[0msug_var\u001b[0m\u001b[0;34m]\u001b[0m \u001b[0;34m+\u001b[0m \u001b[0msug_res\u001b[0m\u001b[0;34m\u001b[0m\u001b[0m\n",
      "\u001b[0;32m<ipython-input-12-d461e7ba81f1>\u001b[0m in \u001b[0;36mrun\u001b[0;34m(self, cnf, fast)\u001b[0m\n\u001b[1;32m     15\u001b[0m         \u001b[0msug_cnf\u001b[0m \u001b[0;34m=\u001b[0m \u001b[0mcnf\u001b[0m\u001b[0;34m.\u001b[0m\u001b[0mset_var\u001b[0m\u001b[0;34m(\u001b[0m\u001b[0msug_var\u001b[0m\u001b[0;34m)\u001b[0m\u001b[0;34m\u001b[0m\u001b[0m\n\u001b[1;32m     16\u001b[0m \u001b[0;34m\u001b[0m\u001b[0m\n\u001b[0;32m---> 17\u001b[0;31m         \u001b[0msug_res\u001b[0m \u001b[0;34m=\u001b[0m \u001b[0mself\u001b[0m\u001b[0;34m.\u001b[0m\u001b[0mrun\u001b[0m\u001b[0;34m(\u001b[0m\u001b[0msug_cnf\u001b[0m\u001b[0;34m,\u001b[0m \u001b[0mswitch_to_heuristic\u001b[0m\u001b[0;34m)\u001b[0m\u001b[0;34m\u001b[0m\u001b[0m\n\u001b[0m\u001b[1;32m     18\u001b[0m         \u001b[0;32mif\u001b[0m \u001b[0msug_res\u001b[0m \u001b[0;32mis\u001b[0m \u001b[0;32mnot\u001b[0m \u001b[0;32mNone\u001b[0m\u001b[0;34m:\u001b[0m\u001b[0;34m\u001b[0m\u001b[0m\n\u001b[1;32m     19\u001b[0m             \u001b[0;32mreturn\u001b[0m \u001b[0;34m[\u001b[0m\u001b[0msug_var\u001b[0m\u001b[0;34m]\u001b[0m \u001b[0;34m+\u001b[0m \u001b[0msug_res\u001b[0m\u001b[0;34m\u001b[0m\u001b[0m\n",
      "\u001b[0;32m<ipython-input-12-d461e7ba81f1>\u001b[0m in \u001b[0;36mrun\u001b[0;34m(self, cnf, fast)\u001b[0m\n\u001b[1;32m     15\u001b[0m         \u001b[0msug_cnf\u001b[0m \u001b[0;34m=\u001b[0m \u001b[0mcnf\u001b[0m\u001b[0;34m.\u001b[0m\u001b[0mset_var\u001b[0m\u001b[0;34m(\u001b[0m\u001b[0msug_var\u001b[0m\u001b[0;34m)\u001b[0m\u001b[0;34m\u001b[0m\u001b[0m\n\u001b[1;32m     16\u001b[0m \u001b[0;34m\u001b[0m\u001b[0m\n\u001b[0;32m---> 17\u001b[0;31m         \u001b[0msug_res\u001b[0m \u001b[0;34m=\u001b[0m \u001b[0mself\u001b[0m\u001b[0;34m.\u001b[0m\u001b[0mrun\u001b[0m\u001b[0;34m(\u001b[0m\u001b[0msug_cnf\u001b[0m\u001b[0;34m,\u001b[0m \u001b[0mswitch_to_heuristic\u001b[0m\u001b[0;34m)\u001b[0m\u001b[0;34m\u001b[0m\u001b[0m\n\u001b[0m\u001b[1;32m     18\u001b[0m         \u001b[0;32mif\u001b[0m \u001b[0msug_res\u001b[0m \u001b[0;32mis\u001b[0m \u001b[0;32mnot\u001b[0m \u001b[0;32mNone\u001b[0m\u001b[0;34m:\u001b[0m\u001b[0;34m\u001b[0m\u001b[0m\n\u001b[1;32m     19\u001b[0m             \u001b[0;32mreturn\u001b[0m \u001b[0;34m[\u001b[0m\u001b[0msug_var\u001b[0m\u001b[0;34m]\u001b[0m \u001b[0;34m+\u001b[0m \u001b[0msug_res\u001b[0m\u001b[0;34m\u001b[0m\u001b[0m\n",
      "\u001b[0;32m<ipython-input-12-d461e7ba81f1>\u001b[0m in \u001b[0;36mrun\u001b[0;34m(self, cnf, fast)\u001b[0m\n\u001b[1;32m     20\u001b[0m \u001b[0;34m\u001b[0m\u001b[0m\n\u001b[1;32m     21\u001b[0m         \u001b[0mnot_sug_cnf\u001b[0m \u001b[0;34m=\u001b[0m \u001b[0mcnf\u001b[0m\u001b[0;34m.\u001b[0m\u001b[0mset_var\u001b[0m\u001b[0;34m(\u001b[0m\u001b[0;34m-\u001b[0m\u001b[0msug_var\u001b[0m\u001b[0;34m)\u001b[0m\u001b[0;34m\u001b[0m\u001b[0m\n\u001b[0;32m---> 22\u001b[0;31m         \u001b[0mnot_sug_res\u001b[0m \u001b[0;34m=\u001b[0m \u001b[0mself\u001b[0m\u001b[0;34m.\u001b[0m\u001b[0mrun\u001b[0m\u001b[0;34m(\u001b[0m\u001b[0mnot_sug_cnf\u001b[0m\u001b[0;34m,\u001b[0m \u001b[0mswitch_to_heuristic\u001b[0m\u001b[0;34m)\u001b[0m\u001b[0;34m\u001b[0m\u001b[0m\n\u001b[0m\u001b[1;32m     23\u001b[0m         \u001b[0;32mif\u001b[0m \u001b[0mnot_sug_res\u001b[0m \u001b[0;32mis\u001b[0m \u001b[0;32mnot\u001b[0m \u001b[0;32mNone\u001b[0m\u001b[0;34m:\u001b[0m\u001b[0;34m\u001b[0m\u001b[0m\n\u001b[1;32m     24\u001b[0m             \u001b[0mself\u001b[0m\u001b[0;34m.\u001b[0m\u001b[0mnumber_of_errors\u001b[0m \u001b[0;34m+=\u001b[0m \u001b[0;36m1\u001b[0m\u001b[0;34m\u001b[0m\u001b[0m\n",
      "\u001b[0;32m<ipython-input-12-d461e7ba81f1>\u001b[0m in \u001b[0;36mrun\u001b[0;34m(self, cnf, fast)\u001b[0m\n\u001b[1;32m     15\u001b[0m         \u001b[0msug_cnf\u001b[0m \u001b[0;34m=\u001b[0m \u001b[0mcnf\u001b[0m\u001b[0;34m.\u001b[0m\u001b[0mset_var\u001b[0m\u001b[0;34m(\u001b[0m\u001b[0msug_var\u001b[0m\u001b[0;34m)\u001b[0m\u001b[0;34m\u001b[0m\u001b[0m\n\u001b[1;32m     16\u001b[0m \u001b[0;34m\u001b[0m\u001b[0m\n\u001b[0;32m---> 17\u001b[0;31m         \u001b[0msug_res\u001b[0m \u001b[0;34m=\u001b[0m \u001b[0mself\u001b[0m\u001b[0;34m.\u001b[0m\u001b[0mrun\u001b[0m\u001b[0;34m(\u001b[0m\u001b[0msug_cnf\u001b[0m\u001b[0;34m,\u001b[0m \u001b[0mswitch_to_heuristic\u001b[0m\u001b[0;34m)\u001b[0m\u001b[0;34m\u001b[0m\u001b[0m\n\u001b[0m\u001b[1;32m     18\u001b[0m         \u001b[0;32mif\u001b[0m \u001b[0msug_res\u001b[0m \u001b[0;32mis\u001b[0m \u001b[0;32mnot\u001b[0m \u001b[0;32mNone\u001b[0m\u001b[0;34m:\u001b[0m\u001b[0;34m\u001b[0m\u001b[0m\n\u001b[1;32m     19\u001b[0m             \u001b[0;32mreturn\u001b[0m \u001b[0;34m[\u001b[0m\u001b[0msug_var\u001b[0m\u001b[0;34m]\u001b[0m \u001b[0;34m+\u001b[0m \u001b[0msug_res\u001b[0m\u001b[0;34m\u001b[0m\u001b[0m\n",
      "\u001b[0;32m<ipython-input-12-d461e7ba81f1>\u001b[0m in \u001b[0;36mrun\u001b[0;34m(self, cnf, fast)\u001b[0m\n\u001b[1;32m     15\u001b[0m         \u001b[0msug_cnf\u001b[0m \u001b[0;34m=\u001b[0m \u001b[0mcnf\u001b[0m\u001b[0;34m.\u001b[0m\u001b[0mset_var\u001b[0m\u001b[0;34m(\u001b[0m\u001b[0msug_var\u001b[0m\u001b[0;34m)\u001b[0m\u001b[0;34m\u001b[0m\u001b[0m\n\u001b[1;32m     16\u001b[0m \u001b[0;34m\u001b[0m\u001b[0m\n\u001b[0;32m---> 17\u001b[0;31m         \u001b[0msug_res\u001b[0m \u001b[0;34m=\u001b[0m \u001b[0mself\u001b[0m\u001b[0;34m.\u001b[0m\u001b[0mrun\u001b[0m\u001b[0;34m(\u001b[0m\u001b[0msug_cnf\u001b[0m\u001b[0;34m,\u001b[0m \u001b[0mswitch_to_heuristic\u001b[0m\u001b[0;34m)\u001b[0m\u001b[0;34m\u001b[0m\u001b[0m\n\u001b[0m\u001b[1;32m     18\u001b[0m         \u001b[0;32mif\u001b[0m \u001b[0msug_res\u001b[0m \u001b[0;32mis\u001b[0m \u001b[0;32mnot\u001b[0m \u001b[0;32mNone\u001b[0m\u001b[0;34m:\u001b[0m\u001b[0;34m\u001b[0m\u001b[0m\n\u001b[1;32m     19\u001b[0m             \u001b[0;32mreturn\u001b[0m \u001b[0;34m[\u001b[0m\u001b[0msug_var\u001b[0m\u001b[0;34m]\u001b[0m \u001b[0;34m+\u001b[0m \u001b[0msug_res\u001b[0m\u001b[0;34m\u001b[0m\u001b[0m\n",
      "\u001b[0;32m<ipython-input-12-d461e7ba81f1>\u001b[0m in \u001b[0;36mrun\u001b[0;34m(self, cnf, fast)\u001b[0m\n\u001b[1;32m     15\u001b[0m         \u001b[0msug_cnf\u001b[0m \u001b[0;34m=\u001b[0m \u001b[0mcnf\u001b[0m\u001b[0;34m.\u001b[0m\u001b[0mset_var\u001b[0m\u001b[0;34m(\u001b[0m\u001b[0msug_var\u001b[0m\u001b[0;34m)\u001b[0m\u001b[0;34m\u001b[0m\u001b[0m\n\u001b[1;32m     16\u001b[0m \u001b[0;34m\u001b[0m\u001b[0m\n\u001b[0;32m---> 17\u001b[0;31m         \u001b[0msug_res\u001b[0m \u001b[0;34m=\u001b[0m \u001b[0mself\u001b[0m\u001b[0;34m.\u001b[0m\u001b[0mrun\u001b[0m\u001b[0;34m(\u001b[0m\u001b[0msug_cnf\u001b[0m\u001b[0;34m,\u001b[0m \u001b[0mswitch_to_heuristic\u001b[0m\u001b[0;34m)\u001b[0m\u001b[0;34m\u001b[0m\u001b[0m\n\u001b[0m\u001b[1;32m     18\u001b[0m         \u001b[0;32mif\u001b[0m \u001b[0msug_res\u001b[0m \u001b[0;32mis\u001b[0m \u001b[0;32mnot\u001b[0m \u001b[0;32mNone\u001b[0m\u001b[0;34m:\u001b[0m\u001b[0;34m\u001b[0m\u001b[0m\n\u001b[1;32m     19\u001b[0m             \u001b[0;32mreturn\u001b[0m \u001b[0;34m[\u001b[0m\u001b[0msug_var\u001b[0m\u001b[0;34m]\u001b[0m \u001b[0;34m+\u001b[0m \u001b[0msug_res\u001b[0m\u001b[0;34m\u001b[0m\u001b[0m\n",
      "\u001b[0;32m<ipython-input-12-d461e7ba81f1>\u001b[0m in \u001b[0;36mrun\u001b[0;34m(self, cnf, fast)\u001b[0m\n\u001b[1;32m     15\u001b[0m         \u001b[0msug_cnf\u001b[0m \u001b[0;34m=\u001b[0m \u001b[0mcnf\u001b[0m\u001b[0;34m.\u001b[0m\u001b[0mset_var\u001b[0m\u001b[0;34m(\u001b[0m\u001b[0msug_var\u001b[0m\u001b[0;34m)\u001b[0m\u001b[0;34m\u001b[0m\u001b[0m\n\u001b[1;32m     16\u001b[0m \u001b[0;34m\u001b[0m\u001b[0m\n\u001b[0;32m---> 17\u001b[0;31m         \u001b[0msug_res\u001b[0m \u001b[0;34m=\u001b[0m \u001b[0mself\u001b[0m\u001b[0;34m.\u001b[0m\u001b[0mrun\u001b[0m\u001b[0;34m(\u001b[0m\u001b[0msug_cnf\u001b[0m\u001b[0;34m,\u001b[0m \u001b[0mswitch_to_heuristic\u001b[0m\u001b[0;34m)\u001b[0m\u001b[0;34m\u001b[0m\u001b[0m\n\u001b[0m\u001b[1;32m     18\u001b[0m         \u001b[0;32mif\u001b[0m \u001b[0msug_res\u001b[0m \u001b[0;32mis\u001b[0m \u001b[0;32mnot\u001b[0m \u001b[0;32mNone\u001b[0m\u001b[0;34m:\u001b[0m\u001b[0;34m\u001b[0m\u001b[0m\n\u001b[1;32m     19\u001b[0m             \u001b[0;32mreturn\u001b[0m \u001b[0;34m[\u001b[0m\u001b[0msug_var\u001b[0m\u001b[0;34m]\u001b[0m \u001b[0;34m+\u001b[0m \u001b[0msug_res\u001b[0m\u001b[0;34m\u001b[0m\u001b[0m\n",
      "\u001b[0;32m<ipython-input-12-d461e7ba81f1>\u001b[0m in \u001b[0;36mrun\u001b[0;34m(self, cnf, fast)\u001b[0m\n\u001b[1;32m     15\u001b[0m         \u001b[0msug_cnf\u001b[0m \u001b[0;34m=\u001b[0m \u001b[0mcnf\u001b[0m\u001b[0;34m.\u001b[0m\u001b[0mset_var\u001b[0m\u001b[0;34m(\u001b[0m\u001b[0msug_var\u001b[0m\u001b[0;34m)\u001b[0m\u001b[0;34m\u001b[0m\u001b[0m\n\u001b[1;32m     16\u001b[0m \u001b[0;34m\u001b[0m\u001b[0m\n\u001b[0;32m---> 17\u001b[0;31m         \u001b[0msug_res\u001b[0m \u001b[0;34m=\u001b[0m \u001b[0mself\u001b[0m\u001b[0;34m.\u001b[0m\u001b[0mrun\u001b[0m\u001b[0;34m(\u001b[0m\u001b[0msug_cnf\u001b[0m\u001b[0;34m,\u001b[0m \u001b[0mswitch_to_heuristic\u001b[0m\u001b[0;34m)\u001b[0m\u001b[0;34m\u001b[0m\u001b[0m\n\u001b[0m\u001b[1;32m     18\u001b[0m         \u001b[0;32mif\u001b[0m \u001b[0msug_res\u001b[0m \u001b[0;32mis\u001b[0m \u001b[0;32mnot\u001b[0m \u001b[0;32mNone\u001b[0m\u001b[0;34m:\u001b[0m\u001b[0;34m\u001b[0m\u001b[0m\n\u001b[1;32m     19\u001b[0m             \u001b[0;32mreturn\u001b[0m \u001b[0;34m[\u001b[0m\u001b[0msug_var\u001b[0m\u001b[0;34m]\u001b[0m \u001b[0;34m+\u001b[0m \u001b[0msug_res\u001b[0m\u001b[0;34m\u001b[0m\u001b[0m\n",
      "\u001b[0;32m<ipython-input-12-d461e7ba81f1>\u001b[0m in \u001b[0;36mrun\u001b[0;34m(self, cnf, fast)\u001b[0m\n\u001b[1;32m     15\u001b[0m         \u001b[0msug_cnf\u001b[0m \u001b[0;34m=\u001b[0m \u001b[0mcnf\u001b[0m\u001b[0;34m.\u001b[0m\u001b[0mset_var\u001b[0m\u001b[0;34m(\u001b[0m\u001b[0msug_var\u001b[0m\u001b[0;34m)\u001b[0m\u001b[0;34m\u001b[0m\u001b[0m\n\u001b[1;32m     16\u001b[0m \u001b[0;34m\u001b[0m\u001b[0m\n\u001b[0;32m---> 17\u001b[0;31m         \u001b[0msug_res\u001b[0m \u001b[0;34m=\u001b[0m \u001b[0mself\u001b[0m\u001b[0;34m.\u001b[0m\u001b[0mrun\u001b[0m\u001b[0;34m(\u001b[0m\u001b[0msug_cnf\u001b[0m\u001b[0;34m,\u001b[0m \u001b[0mswitch_to_heuristic\u001b[0m\u001b[0;34m)\u001b[0m\u001b[0;34m\u001b[0m\u001b[0m\n\u001b[0m\u001b[1;32m     18\u001b[0m         \u001b[0;32mif\u001b[0m \u001b[0msug_res\u001b[0m \u001b[0;32mis\u001b[0m \u001b[0;32mnot\u001b[0m \u001b[0;32mNone\u001b[0m\u001b[0;34m:\u001b[0m\u001b[0;34m\u001b[0m\u001b[0m\n\u001b[1;32m     19\u001b[0m             \u001b[0;32mreturn\u001b[0m \u001b[0;34m[\u001b[0m\u001b[0msug_var\u001b[0m\u001b[0;34m]\u001b[0m \u001b[0;34m+\u001b[0m \u001b[0msug_res\u001b[0m\u001b[0;34m\u001b[0m\u001b[0m\n",
      "\u001b[0;32m<ipython-input-12-d461e7ba81f1>\u001b[0m in \u001b[0;36mrun\u001b[0;34m(self, cnf, fast)\u001b[0m\n\u001b[1;32m     15\u001b[0m         \u001b[0msug_cnf\u001b[0m \u001b[0;34m=\u001b[0m \u001b[0mcnf\u001b[0m\u001b[0;34m.\u001b[0m\u001b[0mset_var\u001b[0m\u001b[0;34m(\u001b[0m\u001b[0msug_var\u001b[0m\u001b[0;34m)\u001b[0m\u001b[0;34m\u001b[0m\u001b[0m\n\u001b[1;32m     16\u001b[0m \u001b[0;34m\u001b[0m\u001b[0m\n\u001b[0;32m---> 17\u001b[0;31m         \u001b[0msug_res\u001b[0m \u001b[0;34m=\u001b[0m \u001b[0mself\u001b[0m\u001b[0;34m.\u001b[0m\u001b[0mrun\u001b[0m\u001b[0;34m(\u001b[0m\u001b[0msug_cnf\u001b[0m\u001b[0;34m,\u001b[0m \u001b[0mswitch_to_heuristic\u001b[0m\u001b[0;34m)\u001b[0m\u001b[0;34m\u001b[0m\u001b[0m\n\u001b[0m\u001b[1;32m     18\u001b[0m         \u001b[0;32mif\u001b[0m \u001b[0msug_res\u001b[0m \u001b[0;32mis\u001b[0m \u001b[0;32mnot\u001b[0m \u001b[0;32mNone\u001b[0m\u001b[0;34m:\u001b[0m\u001b[0;34m\u001b[0m\u001b[0m\n\u001b[1;32m     19\u001b[0m             \u001b[0;32mreturn\u001b[0m \u001b[0;34m[\u001b[0m\u001b[0msug_var\u001b[0m\u001b[0;34m]\u001b[0m \u001b[0;34m+\u001b[0m \u001b[0msug_res\u001b[0m\u001b[0;34m\u001b[0m\u001b[0m\n",
      "\u001b[0;32m<ipython-input-12-d461e7ba81f1>\u001b[0m in \u001b[0;36mrun\u001b[0;34m(self, cnf, fast)\u001b[0m\n\u001b[1;32m     15\u001b[0m         \u001b[0msug_cnf\u001b[0m \u001b[0;34m=\u001b[0m \u001b[0mcnf\u001b[0m\u001b[0;34m.\u001b[0m\u001b[0mset_var\u001b[0m\u001b[0;34m(\u001b[0m\u001b[0msug_var\u001b[0m\u001b[0;34m)\u001b[0m\u001b[0;34m\u001b[0m\u001b[0m\n\u001b[1;32m     16\u001b[0m \u001b[0;34m\u001b[0m\u001b[0m\n\u001b[0;32m---> 17\u001b[0;31m         \u001b[0msug_res\u001b[0m \u001b[0;34m=\u001b[0m \u001b[0mself\u001b[0m\u001b[0;34m.\u001b[0m\u001b[0mrun\u001b[0m\u001b[0;34m(\u001b[0m\u001b[0msug_cnf\u001b[0m\u001b[0;34m,\u001b[0m \u001b[0mswitch_to_heuristic\u001b[0m\u001b[0;34m)\u001b[0m\u001b[0;34m\u001b[0m\u001b[0m\n\u001b[0m\u001b[1;32m     18\u001b[0m         \u001b[0;32mif\u001b[0m \u001b[0msug_res\u001b[0m \u001b[0;32mis\u001b[0m \u001b[0;32mnot\u001b[0m \u001b[0;32mNone\u001b[0m\u001b[0;34m:\u001b[0m\u001b[0;34m\u001b[0m\u001b[0m\n\u001b[1;32m     19\u001b[0m             \u001b[0;32mreturn\u001b[0m \u001b[0;34m[\u001b[0m\u001b[0msug_var\u001b[0m\u001b[0;34m]\u001b[0m \u001b[0;34m+\u001b[0m \u001b[0msug_res\u001b[0m\u001b[0;34m\u001b[0m\u001b[0m\n",
      "\u001b[0;32m<ipython-input-12-d461e7ba81f1>\u001b[0m in \u001b[0;36mrun\u001b[0;34m(self, cnf, fast)\u001b[0m\n\u001b[1;32m     20\u001b[0m \u001b[0;34m\u001b[0m\u001b[0m\n\u001b[1;32m     21\u001b[0m         \u001b[0mnot_sug_cnf\u001b[0m \u001b[0;34m=\u001b[0m \u001b[0mcnf\u001b[0m\u001b[0;34m.\u001b[0m\u001b[0mset_var\u001b[0m\u001b[0;34m(\u001b[0m\u001b[0;34m-\u001b[0m\u001b[0msug_var\u001b[0m\u001b[0;34m)\u001b[0m\u001b[0;34m\u001b[0m\u001b[0m\n\u001b[0;32m---> 22\u001b[0;31m         \u001b[0mnot_sug_res\u001b[0m \u001b[0;34m=\u001b[0m \u001b[0mself\u001b[0m\u001b[0;34m.\u001b[0m\u001b[0mrun\u001b[0m\u001b[0;34m(\u001b[0m\u001b[0mnot_sug_cnf\u001b[0m\u001b[0;34m,\u001b[0m \u001b[0mswitch_to_heuristic\u001b[0m\u001b[0;34m)\u001b[0m\u001b[0;34m\u001b[0m\u001b[0m\n\u001b[0m\u001b[1;32m     23\u001b[0m         \u001b[0;32mif\u001b[0m \u001b[0mnot_sug_res\u001b[0m \u001b[0;32mis\u001b[0m \u001b[0;32mnot\u001b[0m \u001b[0;32mNone\u001b[0m\u001b[0;34m:\u001b[0m\u001b[0;34m\u001b[0m\u001b[0m\n\u001b[1;32m     24\u001b[0m             \u001b[0mself\u001b[0m\u001b[0;34m.\u001b[0m\u001b[0mnumber_of_errors\u001b[0m \u001b[0;34m+=\u001b[0m \u001b[0;36m1\u001b[0m\u001b[0;34m\u001b[0m\u001b[0m\n",
      "\u001b[0;32m<ipython-input-12-d461e7ba81f1>\u001b[0m in \u001b[0;36mrun\u001b[0;34m(self, cnf, fast)\u001b[0m\n\u001b[1;32m     15\u001b[0m         \u001b[0msug_cnf\u001b[0m \u001b[0;34m=\u001b[0m \u001b[0mcnf\u001b[0m\u001b[0;34m.\u001b[0m\u001b[0mset_var\u001b[0m\u001b[0;34m(\u001b[0m\u001b[0msug_var\u001b[0m\u001b[0;34m)\u001b[0m\u001b[0;34m\u001b[0m\u001b[0m\n\u001b[1;32m     16\u001b[0m \u001b[0;34m\u001b[0m\u001b[0m\n\u001b[0;32m---> 17\u001b[0;31m         \u001b[0msug_res\u001b[0m \u001b[0;34m=\u001b[0m \u001b[0mself\u001b[0m\u001b[0;34m.\u001b[0m\u001b[0mrun\u001b[0m\u001b[0;34m(\u001b[0m\u001b[0msug_cnf\u001b[0m\u001b[0;34m,\u001b[0m \u001b[0mswitch_to_heuristic\u001b[0m\u001b[0;34m)\u001b[0m\u001b[0;34m\u001b[0m\u001b[0m\n\u001b[0m\u001b[1;32m     18\u001b[0m         \u001b[0;32mif\u001b[0m \u001b[0msug_res\u001b[0m \u001b[0;32mis\u001b[0m \u001b[0;32mnot\u001b[0m \u001b[0;32mNone\u001b[0m\u001b[0;34m:\u001b[0m\u001b[0;34m\u001b[0m\u001b[0m\n\u001b[1;32m     19\u001b[0m             \u001b[0;32mreturn\u001b[0m \u001b[0;34m[\u001b[0m\u001b[0msug_var\u001b[0m\u001b[0;34m]\u001b[0m \u001b[0;34m+\u001b[0m \u001b[0msug_res\u001b[0m\u001b[0;34m\u001b[0m\u001b[0m\n",
      "\u001b[0;32m<ipython-input-12-d461e7ba81f1>\u001b[0m in \u001b[0;36mrun\u001b[0;34m(self, cnf, fast)\u001b[0m\n\u001b[1;32m     20\u001b[0m \u001b[0;34m\u001b[0m\u001b[0m\n\u001b[1;32m     21\u001b[0m         \u001b[0mnot_sug_cnf\u001b[0m \u001b[0;34m=\u001b[0m \u001b[0mcnf\u001b[0m\u001b[0;34m.\u001b[0m\u001b[0mset_var\u001b[0m\u001b[0;34m(\u001b[0m\u001b[0;34m-\u001b[0m\u001b[0msug_var\u001b[0m\u001b[0;34m)\u001b[0m\u001b[0;34m\u001b[0m\u001b[0m\n\u001b[0;32m---> 22\u001b[0;31m         \u001b[0mnot_sug_res\u001b[0m \u001b[0;34m=\u001b[0m \u001b[0mself\u001b[0m\u001b[0;34m.\u001b[0m\u001b[0mrun\u001b[0m\u001b[0;34m(\u001b[0m\u001b[0mnot_sug_cnf\u001b[0m\u001b[0;34m,\u001b[0m \u001b[0mswitch_to_heuristic\u001b[0m\u001b[0;34m)\u001b[0m\u001b[0;34m\u001b[0m\u001b[0m\n\u001b[0m\u001b[1;32m     23\u001b[0m         \u001b[0;32mif\u001b[0m \u001b[0mnot_sug_res\u001b[0m \u001b[0;32mis\u001b[0m \u001b[0;32mnot\u001b[0m \u001b[0;32mNone\u001b[0m\u001b[0;34m:\u001b[0m\u001b[0;34m\u001b[0m\u001b[0m\n\u001b[1;32m     24\u001b[0m             \u001b[0mself\u001b[0m\u001b[0;34m.\u001b[0m\u001b[0mnumber_of_errors\u001b[0m \u001b[0;34m+=\u001b[0m \u001b[0;36m1\u001b[0m\u001b[0;34m\u001b[0m\u001b[0m\n",
      "\u001b[0;32m<ipython-input-12-d461e7ba81f1>\u001b[0m in \u001b[0;36mrun\u001b[0;34m(self, cnf, fast)\u001b[0m\n\u001b[1;32m     15\u001b[0m         \u001b[0msug_cnf\u001b[0m \u001b[0;34m=\u001b[0m \u001b[0mcnf\u001b[0m\u001b[0;34m.\u001b[0m\u001b[0mset_var\u001b[0m\u001b[0;34m(\u001b[0m\u001b[0msug_var\u001b[0m\u001b[0;34m)\u001b[0m\u001b[0;34m\u001b[0m\u001b[0m\n\u001b[1;32m     16\u001b[0m \u001b[0;34m\u001b[0m\u001b[0m\n\u001b[0;32m---> 17\u001b[0;31m         \u001b[0msug_res\u001b[0m \u001b[0;34m=\u001b[0m \u001b[0mself\u001b[0m\u001b[0;34m.\u001b[0m\u001b[0mrun\u001b[0m\u001b[0;34m(\u001b[0m\u001b[0msug_cnf\u001b[0m\u001b[0;34m,\u001b[0m \u001b[0mswitch_to_heuristic\u001b[0m\u001b[0;34m)\u001b[0m\u001b[0;34m\u001b[0m\u001b[0m\n\u001b[0m\u001b[1;32m     18\u001b[0m         \u001b[0;32mif\u001b[0m \u001b[0msug_res\u001b[0m \u001b[0;32mis\u001b[0m \u001b[0;32mnot\u001b[0m \u001b[0;32mNone\u001b[0m\u001b[0;34m:\u001b[0m\u001b[0;34m\u001b[0m\u001b[0m\n\u001b[1;32m     19\u001b[0m             \u001b[0;32mreturn\u001b[0m \u001b[0;34m[\u001b[0m\u001b[0msug_var\u001b[0m\u001b[0;34m]\u001b[0m \u001b[0;34m+\u001b[0m \u001b[0msug_res\u001b[0m\u001b[0;34m\u001b[0m\u001b[0m\n",
      "\u001b[0;32m<ipython-input-12-d461e7ba81f1>\u001b[0m in \u001b[0;36mrun\u001b[0;34m(self, cnf, fast)\u001b[0m\n\u001b[1;32m     15\u001b[0m         \u001b[0msug_cnf\u001b[0m \u001b[0;34m=\u001b[0m \u001b[0mcnf\u001b[0m\u001b[0;34m.\u001b[0m\u001b[0mset_var\u001b[0m\u001b[0;34m(\u001b[0m\u001b[0msug_var\u001b[0m\u001b[0;34m)\u001b[0m\u001b[0;34m\u001b[0m\u001b[0m\n\u001b[1;32m     16\u001b[0m \u001b[0;34m\u001b[0m\u001b[0m\n\u001b[0;32m---> 17\u001b[0;31m         \u001b[0msug_res\u001b[0m \u001b[0;34m=\u001b[0m \u001b[0mself\u001b[0m\u001b[0;34m.\u001b[0m\u001b[0mrun\u001b[0m\u001b[0;34m(\u001b[0m\u001b[0msug_cnf\u001b[0m\u001b[0;34m,\u001b[0m \u001b[0mswitch_to_heuristic\u001b[0m\u001b[0;34m)\u001b[0m\u001b[0;34m\u001b[0m\u001b[0m\n\u001b[0m\u001b[1;32m     18\u001b[0m         \u001b[0;32mif\u001b[0m \u001b[0msug_res\u001b[0m \u001b[0;32mis\u001b[0m \u001b[0;32mnot\u001b[0m \u001b[0;32mNone\u001b[0m\u001b[0;34m:\u001b[0m\u001b[0;34m\u001b[0m\u001b[0m\n\u001b[1;32m     19\u001b[0m             \u001b[0;32mreturn\u001b[0m \u001b[0;34m[\u001b[0m\u001b[0msug_var\u001b[0m\u001b[0;34m]\u001b[0m \u001b[0;34m+\u001b[0m \u001b[0msug_res\u001b[0m\u001b[0;34m\u001b[0m\u001b[0m\n",
      "\u001b[0;32m<ipython-input-12-d461e7ba81f1>\u001b[0m in \u001b[0;36mrun\u001b[0;34m(self, cnf, fast)\u001b[0m\n\u001b[1;32m     15\u001b[0m         \u001b[0msug_cnf\u001b[0m \u001b[0;34m=\u001b[0m \u001b[0mcnf\u001b[0m\u001b[0;34m.\u001b[0m\u001b[0mset_var\u001b[0m\u001b[0;34m(\u001b[0m\u001b[0msug_var\u001b[0m\u001b[0;34m)\u001b[0m\u001b[0;34m\u001b[0m\u001b[0m\n\u001b[1;32m     16\u001b[0m \u001b[0;34m\u001b[0m\u001b[0m\n\u001b[0;32m---> 17\u001b[0;31m         \u001b[0msug_res\u001b[0m \u001b[0;34m=\u001b[0m \u001b[0mself\u001b[0m\u001b[0;34m.\u001b[0m\u001b[0mrun\u001b[0m\u001b[0;34m(\u001b[0m\u001b[0msug_cnf\u001b[0m\u001b[0;34m,\u001b[0m \u001b[0mswitch_to_heuristic\u001b[0m\u001b[0;34m)\u001b[0m\u001b[0;34m\u001b[0m\u001b[0m\n\u001b[0m\u001b[1;32m     18\u001b[0m         \u001b[0;32mif\u001b[0m \u001b[0msug_res\u001b[0m \u001b[0;32mis\u001b[0m \u001b[0;32mnot\u001b[0m \u001b[0;32mNone\u001b[0m\u001b[0;34m:\u001b[0m\u001b[0;34m\u001b[0m\u001b[0m\n\u001b[1;32m     19\u001b[0m             \u001b[0;32mreturn\u001b[0m \u001b[0;34m[\u001b[0m\u001b[0msug_var\u001b[0m\u001b[0;34m]\u001b[0m \u001b[0;34m+\u001b[0m \u001b[0msug_res\u001b[0m\u001b[0;34m\u001b[0m\u001b[0m\n",
      "\u001b[0;32m<ipython-input-12-d461e7ba81f1>\u001b[0m in \u001b[0;36mrun\u001b[0;34m(self, cnf, fast)\u001b[0m\n\u001b[1;32m     15\u001b[0m         \u001b[0msug_cnf\u001b[0m \u001b[0;34m=\u001b[0m \u001b[0mcnf\u001b[0m\u001b[0;34m.\u001b[0m\u001b[0mset_var\u001b[0m\u001b[0;34m(\u001b[0m\u001b[0msug_var\u001b[0m\u001b[0;34m)\u001b[0m\u001b[0;34m\u001b[0m\u001b[0m\n\u001b[1;32m     16\u001b[0m \u001b[0;34m\u001b[0m\u001b[0m\n\u001b[0;32m---> 17\u001b[0;31m         \u001b[0msug_res\u001b[0m \u001b[0;34m=\u001b[0m \u001b[0mself\u001b[0m\u001b[0;34m.\u001b[0m\u001b[0mrun\u001b[0m\u001b[0;34m(\u001b[0m\u001b[0msug_cnf\u001b[0m\u001b[0;34m,\u001b[0m \u001b[0mswitch_to_heuristic\u001b[0m\u001b[0;34m)\u001b[0m\u001b[0;34m\u001b[0m\u001b[0m\n\u001b[0m\u001b[1;32m     18\u001b[0m         \u001b[0;32mif\u001b[0m \u001b[0msug_res\u001b[0m \u001b[0;32mis\u001b[0m \u001b[0;32mnot\u001b[0m \u001b[0;32mNone\u001b[0m\u001b[0;34m:\u001b[0m\u001b[0;34m\u001b[0m\u001b[0m\n\u001b[1;32m     19\u001b[0m             \u001b[0;32mreturn\u001b[0m \u001b[0;34m[\u001b[0m\u001b[0msug_var\u001b[0m\u001b[0;34m]\u001b[0m \u001b[0;34m+\u001b[0m \u001b[0msug_res\u001b[0m\u001b[0;34m\u001b[0m\u001b[0m\n",
      "\u001b[0;32m<ipython-input-12-d461e7ba81f1>\u001b[0m in \u001b[0;36mrun\u001b[0;34m(self, cnf, fast)\u001b[0m\n\u001b[1;32m     20\u001b[0m \u001b[0;34m\u001b[0m\u001b[0m\n\u001b[1;32m     21\u001b[0m         \u001b[0mnot_sug_cnf\u001b[0m \u001b[0;34m=\u001b[0m \u001b[0mcnf\u001b[0m\u001b[0;34m.\u001b[0m\u001b[0mset_var\u001b[0m\u001b[0;34m(\u001b[0m\u001b[0;34m-\u001b[0m\u001b[0msug_var\u001b[0m\u001b[0;34m)\u001b[0m\u001b[0;34m\u001b[0m\u001b[0m\n\u001b[0;32m---> 22\u001b[0;31m         \u001b[0mnot_sug_res\u001b[0m \u001b[0;34m=\u001b[0m \u001b[0mself\u001b[0m\u001b[0;34m.\u001b[0m\u001b[0mrun\u001b[0m\u001b[0;34m(\u001b[0m\u001b[0mnot_sug_cnf\u001b[0m\u001b[0;34m,\u001b[0m \u001b[0mswitch_to_heuristic\u001b[0m\u001b[0;34m)\u001b[0m\u001b[0;34m\u001b[0m\u001b[0m\n\u001b[0m\u001b[1;32m     23\u001b[0m         \u001b[0;32mif\u001b[0m \u001b[0mnot_sug_res\u001b[0m \u001b[0;32mis\u001b[0m \u001b[0;32mnot\u001b[0m \u001b[0;32mNone\u001b[0m\u001b[0;34m:\u001b[0m\u001b[0;34m\u001b[0m\u001b[0m\n\u001b[1;32m     24\u001b[0m             \u001b[0mself\u001b[0m\u001b[0;34m.\u001b[0m\u001b[0mnumber_of_errors\u001b[0m \u001b[0;34m+=\u001b[0m \u001b[0;36m1\u001b[0m\u001b[0;34m\u001b[0m\u001b[0m\n",
      "\u001b[0;32m<ipython-input-12-d461e7ba81f1>\u001b[0m in \u001b[0;36mrun\u001b[0;34m(self, cnf, fast)\u001b[0m\n\u001b[1;32m     15\u001b[0m         \u001b[0msug_cnf\u001b[0m \u001b[0;34m=\u001b[0m \u001b[0mcnf\u001b[0m\u001b[0;34m.\u001b[0m\u001b[0mset_var\u001b[0m\u001b[0;34m(\u001b[0m\u001b[0msug_var\u001b[0m\u001b[0;34m)\u001b[0m\u001b[0;34m\u001b[0m\u001b[0m\n\u001b[1;32m     16\u001b[0m \u001b[0;34m\u001b[0m\u001b[0m\n\u001b[0;32m---> 17\u001b[0;31m         \u001b[0msug_res\u001b[0m \u001b[0;34m=\u001b[0m \u001b[0mself\u001b[0m\u001b[0;34m.\u001b[0m\u001b[0mrun\u001b[0m\u001b[0;34m(\u001b[0m\u001b[0msug_cnf\u001b[0m\u001b[0;34m,\u001b[0m \u001b[0mswitch_to_heuristic\u001b[0m\u001b[0;34m)\u001b[0m\u001b[0;34m\u001b[0m\u001b[0m\n\u001b[0m\u001b[1;32m     18\u001b[0m         \u001b[0;32mif\u001b[0m \u001b[0msug_res\u001b[0m \u001b[0;32mis\u001b[0m \u001b[0;32mnot\u001b[0m \u001b[0;32mNone\u001b[0m\u001b[0;34m:\u001b[0m\u001b[0;34m\u001b[0m\u001b[0m\n\u001b[1;32m     19\u001b[0m             \u001b[0;32mreturn\u001b[0m \u001b[0;34m[\u001b[0m\u001b[0msug_var\u001b[0m\u001b[0;34m]\u001b[0m \u001b[0;34m+\u001b[0m \u001b[0msug_res\u001b[0m\u001b[0;34m\u001b[0m\u001b[0m\n",
      "\u001b[0;32m<ipython-input-12-d461e7ba81f1>\u001b[0m in \u001b[0;36mrun\u001b[0;34m(self, cnf, fast)\u001b[0m\n\u001b[1;32m     15\u001b[0m         \u001b[0msug_cnf\u001b[0m \u001b[0;34m=\u001b[0m \u001b[0mcnf\u001b[0m\u001b[0;34m.\u001b[0m\u001b[0mset_var\u001b[0m\u001b[0;34m(\u001b[0m\u001b[0msug_var\u001b[0m\u001b[0;34m)\u001b[0m\u001b[0;34m\u001b[0m\u001b[0m\n\u001b[1;32m     16\u001b[0m \u001b[0;34m\u001b[0m\u001b[0m\n\u001b[0;32m---> 17\u001b[0;31m         \u001b[0msug_res\u001b[0m \u001b[0;34m=\u001b[0m \u001b[0mself\u001b[0m\u001b[0;34m.\u001b[0m\u001b[0mrun\u001b[0m\u001b[0;34m(\u001b[0m\u001b[0msug_cnf\u001b[0m\u001b[0;34m,\u001b[0m \u001b[0mswitch_to_heuristic\u001b[0m\u001b[0;34m)\u001b[0m\u001b[0;34m\u001b[0m\u001b[0m\n\u001b[0m\u001b[1;32m     18\u001b[0m         \u001b[0;32mif\u001b[0m \u001b[0msug_res\u001b[0m \u001b[0;32mis\u001b[0m \u001b[0;32mnot\u001b[0m \u001b[0;32mNone\u001b[0m\u001b[0;34m:\u001b[0m\u001b[0;34m\u001b[0m\u001b[0m\n\u001b[1;32m     19\u001b[0m             \u001b[0;32mreturn\u001b[0m \u001b[0;34m[\u001b[0m\u001b[0msug_var\u001b[0m\u001b[0;34m]\u001b[0m \u001b[0;34m+\u001b[0m \u001b[0msug_res\u001b[0m\u001b[0;34m\u001b[0m\u001b[0m\n",
      "\u001b[0;32m<ipython-input-12-d461e7ba81f1>\u001b[0m in \u001b[0;36mrun\u001b[0;34m(self, cnf, fast)\u001b[0m\n\u001b[1;32m     20\u001b[0m \u001b[0;34m\u001b[0m\u001b[0m\n\u001b[1;32m     21\u001b[0m         \u001b[0mnot_sug_cnf\u001b[0m \u001b[0;34m=\u001b[0m \u001b[0mcnf\u001b[0m\u001b[0;34m.\u001b[0m\u001b[0mset_var\u001b[0m\u001b[0;34m(\u001b[0m\u001b[0;34m-\u001b[0m\u001b[0msug_var\u001b[0m\u001b[0;34m)\u001b[0m\u001b[0;34m\u001b[0m\u001b[0m\n\u001b[0;32m---> 22\u001b[0;31m         \u001b[0mnot_sug_res\u001b[0m \u001b[0;34m=\u001b[0m \u001b[0mself\u001b[0m\u001b[0;34m.\u001b[0m\u001b[0mrun\u001b[0m\u001b[0;34m(\u001b[0m\u001b[0mnot_sug_cnf\u001b[0m\u001b[0;34m,\u001b[0m \u001b[0mswitch_to_heuristic\u001b[0m\u001b[0;34m)\u001b[0m\u001b[0;34m\u001b[0m\u001b[0m\n\u001b[0m\u001b[1;32m     23\u001b[0m         \u001b[0;32mif\u001b[0m \u001b[0mnot_sug_res\u001b[0m \u001b[0;32mis\u001b[0m \u001b[0;32mnot\u001b[0m \u001b[0;32mNone\u001b[0m\u001b[0;34m:\u001b[0m\u001b[0;34m\u001b[0m\u001b[0m\n\u001b[1;32m     24\u001b[0m             \u001b[0mself\u001b[0m\u001b[0;34m.\u001b[0m\u001b[0mnumber_of_errors\u001b[0m \u001b[0;34m+=\u001b[0m \u001b[0;36m1\u001b[0m\u001b[0;34m\u001b[0m\u001b[0m\n",
      "\u001b[0;32m<ipython-input-12-d461e7ba81f1>\u001b[0m in \u001b[0;36mrun\u001b[0;34m(self, cnf, fast)\u001b[0m\n\u001b[1;32m     15\u001b[0m         \u001b[0msug_cnf\u001b[0m \u001b[0;34m=\u001b[0m \u001b[0mcnf\u001b[0m\u001b[0;34m.\u001b[0m\u001b[0mset_var\u001b[0m\u001b[0;34m(\u001b[0m\u001b[0msug_var\u001b[0m\u001b[0;34m)\u001b[0m\u001b[0;34m\u001b[0m\u001b[0m\n\u001b[1;32m     16\u001b[0m \u001b[0;34m\u001b[0m\u001b[0m\n\u001b[0;32m---> 17\u001b[0;31m         \u001b[0msug_res\u001b[0m \u001b[0;34m=\u001b[0m \u001b[0mself\u001b[0m\u001b[0;34m.\u001b[0m\u001b[0mrun\u001b[0m\u001b[0;34m(\u001b[0m\u001b[0msug_cnf\u001b[0m\u001b[0;34m,\u001b[0m \u001b[0mswitch_to_heuristic\u001b[0m\u001b[0;34m)\u001b[0m\u001b[0;34m\u001b[0m\u001b[0m\n\u001b[0m\u001b[1;32m     18\u001b[0m         \u001b[0;32mif\u001b[0m \u001b[0msug_res\u001b[0m \u001b[0;32mis\u001b[0m \u001b[0;32mnot\u001b[0m \u001b[0;32mNone\u001b[0m\u001b[0;34m:\u001b[0m\u001b[0;34m\u001b[0m\u001b[0m\n\u001b[1;32m     19\u001b[0m             \u001b[0;32mreturn\u001b[0m \u001b[0;34m[\u001b[0m\u001b[0msug_var\u001b[0m\u001b[0;34m]\u001b[0m \u001b[0;34m+\u001b[0m \u001b[0msug_res\u001b[0m\u001b[0;34m\u001b[0m\u001b[0m\n",
      "\u001b[0;32m<ipython-input-12-d461e7ba81f1>\u001b[0m in \u001b[0;36mrun\u001b[0;34m(self, cnf, fast)\u001b[0m\n\u001b[1;32m     15\u001b[0m         \u001b[0msug_cnf\u001b[0m \u001b[0;34m=\u001b[0m \u001b[0mcnf\u001b[0m\u001b[0;34m.\u001b[0m\u001b[0mset_var\u001b[0m\u001b[0;34m(\u001b[0m\u001b[0msug_var\u001b[0m\u001b[0;34m)\u001b[0m\u001b[0;34m\u001b[0m\u001b[0m\n\u001b[1;32m     16\u001b[0m \u001b[0;34m\u001b[0m\u001b[0m\n\u001b[0;32m---> 17\u001b[0;31m         \u001b[0msug_res\u001b[0m \u001b[0;34m=\u001b[0m \u001b[0mself\u001b[0m\u001b[0;34m.\u001b[0m\u001b[0mrun\u001b[0m\u001b[0;34m(\u001b[0m\u001b[0msug_cnf\u001b[0m\u001b[0;34m,\u001b[0m \u001b[0mswitch_to_heuristic\u001b[0m\u001b[0;34m)\u001b[0m\u001b[0;34m\u001b[0m\u001b[0m\n\u001b[0m\u001b[1;32m     18\u001b[0m         \u001b[0;32mif\u001b[0m \u001b[0msug_res\u001b[0m \u001b[0;32mis\u001b[0m \u001b[0;32mnot\u001b[0m \u001b[0;32mNone\u001b[0m\u001b[0;34m:\u001b[0m\u001b[0;34m\u001b[0m\u001b[0m\n\u001b[1;32m     19\u001b[0m             \u001b[0;32mreturn\u001b[0m \u001b[0;34m[\u001b[0m\u001b[0msug_var\u001b[0m\u001b[0;34m]\u001b[0m \u001b[0;34m+\u001b[0m \u001b[0msug_res\u001b[0m\u001b[0;34m\u001b[0m\u001b[0m\n",
      "\u001b[0;32m<ipython-input-12-d461e7ba81f1>\u001b[0m in \u001b[0;36mrun\u001b[0;34m(self, cnf, fast)\u001b[0m\n\u001b[1;32m     20\u001b[0m \u001b[0;34m\u001b[0m\u001b[0m\n\u001b[1;32m     21\u001b[0m         \u001b[0mnot_sug_cnf\u001b[0m \u001b[0;34m=\u001b[0m \u001b[0mcnf\u001b[0m\u001b[0;34m.\u001b[0m\u001b[0mset_var\u001b[0m\u001b[0;34m(\u001b[0m\u001b[0;34m-\u001b[0m\u001b[0msug_var\u001b[0m\u001b[0;34m)\u001b[0m\u001b[0;34m\u001b[0m\u001b[0m\n\u001b[0;32m---> 22\u001b[0;31m         \u001b[0mnot_sug_res\u001b[0m \u001b[0;34m=\u001b[0m \u001b[0mself\u001b[0m\u001b[0;34m.\u001b[0m\u001b[0mrun\u001b[0m\u001b[0;34m(\u001b[0m\u001b[0mnot_sug_cnf\u001b[0m\u001b[0;34m,\u001b[0m \u001b[0mswitch_to_heuristic\u001b[0m\u001b[0;34m)\u001b[0m\u001b[0;34m\u001b[0m\u001b[0m\n\u001b[0m\u001b[1;32m     23\u001b[0m         \u001b[0;32mif\u001b[0m \u001b[0mnot_sug_res\u001b[0m \u001b[0;32mis\u001b[0m \u001b[0;32mnot\u001b[0m \u001b[0;32mNone\u001b[0m\u001b[0;34m:\u001b[0m\u001b[0;34m\u001b[0m\u001b[0m\n\u001b[1;32m     24\u001b[0m             \u001b[0mself\u001b[0m\u001b[0;34m.\u001b[0m\u001b[0mnumber_of_errors\u001b[0m \u001b[0;34m+=\u001b[0m \u001b[0;36m1\u001b[0m\u001b[0;34m\u001b[0m\u001b[0m\n",
      "\u001b[0;32m<ipython-input-12-d461e7ba81f1>\u001b[0m in \u001b[0;36mrun\u001b[0;34m(self, cnf, fast)\u001b[0m\n\u001b[1;32m     20\u001b[0m \u001b[0;34m\u001b[0m\u001b[0m\n\u001b[1;32m     21\u001b[0m         \u001b[0mnot_sug_cnf\u001b[0m \u001b[0;34m=\u001b[0m \u001b[0mcnf\u001b[0m\u001b[0;34m.\u001b[0m\u001b[0mset_var\u001b[0m\u001b[0;34m(\u001b[0m\u001b[0;34m-\u001b[0m\u001b[0msug_var\u001b[0m\u001b[0;34m)\u001b[0m\u001b[0;34m\u001b[0m\u001b[0m\n\u001b[0;32m---> 22\u001b[0;31m         \u001b[0mnot_sug_res\u001b[0m \u001b[0;34m=\u001b[0m \u001b[0mself\u001b[0m\u001b[0;34m.\u001b[0m\u001b[0mrun\u001b[0m\u001b[0;34m(\u001b[0m\u001b[0mnot_sug_cnf\u001b[0m\u001b[0;34m,\u001b[0m \u001b[0mswitch_to_heuristic\u001b[0m\u001b[0;34m)\u001b[0m\u001b[0;34m\u001b[0m\u001b[0m\n\u001b[0m\u001b[1;32m     23\u001b[0m         \u001b[0;32mif\u001b[0m \u001b[0mnot_sug_res\u001b[0m \u001b[0;32mis\u001b[0m \u001b[0;32mnot\u001b[0m \u001b[0;32mNone\u001b[0m\u001b[0;34m:\u001b[0m\u001b[0;34m\u001b[0m\u001b[0m\n\u001b[1;32m     24\u001b[0m             \u001b[0mself\u001b[0m\u001b[0;34m.\u001b[0m\u001b[0mnumber_of_errors\u001b[0m \u001b[0;34m+=\u001b[0m \u001b[0;36m1\u001b[0m\u001b[0;34m\u001b[0m\u001b[0m\n",
      "\u001b[0;32m<ipython-input-12-d461e7ba81f1>\u001b[0m in \u001b[0;36mrun\u001b[0;34m(self, cnf, fast)\u001b[0m\n\u001b[1;32m     15\u001b[0m         \u001b[0msug_cnf\u001b[0m \u001b[0;34m=\u001b[0m \u001b[0mcnf\u001b[0m\u001b[0;34m.\u001b[0m\u001b[0mset_var\u001b[0m\u001b[0;34m(\u001b[0m\u001b[0msug_var\u001b[0m\u001b[0;34m)\u001b[0m\u001b[0;34m\u001b[0m\u001b[0m\n\u001b[1;32m     16\u001b[0m \u001b[0;34m\u001b[0m\u001b[0m\n\u001b[0;32m---> 17\u001b[0;31m         \u001b[0msug_res\u001b[0m \u001b[0;34m=\u001b[0m \u001b[0mself\u001b[0m\u001b[0;34m.\u001b[0m\u001b[0mrun\u001b[0m\u001b[0;34m(\u001b[0m\u001b[0msug_cnf\u001b[0m\u001b[0;34m,\u001b[0m \u001b[0mswitch_to_heuristic\u001b[0m\u001b[0;34m)\u001b[0m\u001b[0;34m\u001b[0m\u001b[0m\n\u001b[0m\u001b[1;32m     18\u001b[0m         \u001b[0;32mif\u001b[0m \u001b[0msug_res\u001b[0m \u001b[0;32mis\u001b[0m \u001b[0;32mnot\u001b[0m \u001b[0;32mNone\u001b[0m\u001b[0;34m:\u001b[0m\u001b[0;34m\u001b[0m\u001b[0m\n\u001b[1;32m     19\u001b[0m             \u001b[0;32mreturn\u001b[0m \u001b[0;34m[\u001b[0m\u001b[0msug_var\u001b[0m\u001b[0;34m]\u001b[0m \u001b[0;34m+\u001b[0m \u001b[0msug_res\u001b[0m\u001b[0;34m\u001b[0m\u001b[0m\n",
      "\u001b[0;32m<ipython-input-12-d461e7ba81f1>\u001b[0m in \u001b[0;36mrun\u001b[0;34m(self, cnf, fast)\u001b[0m\n\u001b[1;32m     20\u001b[0m \u001b[0;34m\u001b[0m\u001b[0m\n\u001b[1;32m     21\u001b[0m         \u001b[0mnot_sug_cnf\u001b[0m \u001b[0;34m=\u001b[0m \u001b[0mcnf\u001b[0m\u001b[0;34m.\u001b[0m\u001b[0mset_var\u001b[0m\u001b[0;34m(\u001b[0m\u001b[0;34m-\u001b[0m\u001b[0msug_var\u001b[0m\u001b[0;34m)\u001b[0m\u001b[0;34m\u001b[0m\u001b[0m\n\u001b[0;32m---> 22\u001b[0;31m         \u001b[0mnot_sug_res\u001b[0m \u001b[0;34m=\u001b[0m \u001b[0mself\u001b[0m\u001b[0;34m.\u001b[0m\u001b[0mrun\u001b[0m\u001b[0;34m(\u001b[0m\u001b[0mnot_sug_cnf\u001b[0m\u001b[0;34m,\u001b[0m \u001b[0mswitch_to_heuristic\u001b[0m\u001b[0;34m)\u001b[0m\u001b[0;34m\u001b[0m\u001b[0m\n\u001b[0m\u001b[1;32m     23\u001b[0m         \u001b[0;32mif\u001b[0m \u001b[0mnot_sug_res\u001b[0m \u001b[0;32mis\u001b[0m \u001b[0;32mnot\u001b[0m \u001b[0;32mNone\u001b[0m\u001b[0;34m:\u001b[0m\u001b[0;34m\u001b[0m\u001b[0m\n\u001b[1;32m     24\u001b[0m             \u001b[0mself\u001b[0m\u001b[0;34m.\u001b[0m\u001b[0mnumber_of_errors\u001b[0m \u001b[0;34m+=\u001b[0m \u001b[0;36m1\u001b[0m\u001b[0;34m\u001b[0m\u001b[0m\n",
      "\u001b[0;32m<ipython-input-12-d461e7ba81f1>\u001b[0m in \u001b[0;36mrun\u001b[0;34m(self, cnf, fast)\u001b[0m\n\u001b[1;32m     20\u001b[0m \u001b[0;34m\u001b[0m\u001b[0m\n\u001b[1;32m     21\u001b[0m         \u001b[0mnot_sug_cnf\u001b[0m \u001b[0;34m=\u001b[0m \u001b[0mcnf\u001b[0m\u001b[0;34m.\u001b[0m\u001b[0mset_var\u001b[0m\u001b[0;34m(\u001b[0m\u001b[0;34m-\u001b[0m\u001b[0msug_var\u001b[0m\u001b[0;34m)\u001b[0m\u001b[0;34m\u001b[0m\u001b[0m\n\u001b[0;32m---> 22\u001b[0;31m         \u001b[0mnot_sug_res\u001b[0m \u001b[0;34m=\u001b[0m \u001b[0mself\u001b[0m\u001b[0;34m.\u001b[0m\u001b[0mrun\u001b[0m\u001b[0;34m(\u001b[0m\u001b[0mnot_sug_cnf\u001b[0m\u001b[0;34m,\u001b[0m \u001b[0mswitch_to_heuristic\u001b[0m\u001b[0;34m)\u001b[0m\u001b[0;34m\u001b[0m\u001b[0m\n\u001b[0m\u001b[1;32m     23\u001b[0m         \u001b[0;32mif\u001b[0m \u001b[0mnot_sug_res\u001b[0m \u001b[0;32mis\u001b[0m \u001b[0;32mnot\u001b[0m \u001b[0;32mNone\u001b[0m\u001b[0;34m:\u001b[0m\u001b[0;34m\u001b[0m\u001b[0m\n\u001b[1;32m     24\u001b[0m             \u001b[0mself\u001b[0m\u001b[0;34m.\u001b[0m\u001b[0mnumber_of_errors\u001b[0m \u001b[0;34m+=\u001b[0m \u001b[0;36m1\u001b[0m\u001b[0;34m\u001b[0m\u001b[0m\n",
      "\u001b[0;32m<ipython-input-12-d461e7ba81f1>\u001b[0m in \u001b[0;36mrun\u001b[0;34m(self, cnf, fast)\u001b[0m\n\u001b[1;32m     12\u001b[0m             \u001b[0;32mreturn\u001b[0m \u001b[0;32mNone\u001b[0m\u001b[0;34m\u001b[0m\u001b[0m\n\u001b[1;32m     13\u001b[0m \u001b[0;34m\u001b[0m\u001b[0m\n\u001b[0;32m---> 14\u001b[0;31m         \u001b[0mswitch_to_heuristic\u001b[0m\u001b[0;34m,\u001b[0m \u001b[0msug_var\u001b[0m \u001b[0;34m=\u001b[0m \u001b[0mself\u001b[0m\u001b[0;34m.\u001b[0m\u001b[0msuggest\u001b[0m\u001b[0;34m(\u001b[0m\u001b[0mcnf\u001b[0m\u001b[0;34m,\u001b[0m \u001b[0mfast\u001b[0m\u001b[0;34m)\u001b[0m\u001b[0;34m\u001b[0m\u001b[0m\n\u001b[0m\u001b[1;32m     15\u001b[0m         \u001b[0msug_cnf\u001b[0m \u001b[0;34m=\u001b[0m \u001b[0mcnf\u001b[0m\u001b[0;34m.\u001b[0m\u001b[0mset_var\u001b[0m\u001b[0;34m(\u001b[0m\u001b[0msug_var\u001b[0m\u001b[0;34m)\u001b[0m\u001b[0;34m\u001b[0m\u001b[0m\n\u001b[1;32m     16\u001b[0m \u001b[0;34m\u001b[0m\u001b[0m\n",
      "\u001b[0;32m<ipython-input-12-d461e7ba81f1>\u001b[0m in \u001b[0;36msuggest\u001b[0;34m(self, input_cnf, fast)\u001b[0m\n\u001b[1;32m     30\u001b[0m             \u001b[0mclause_num\u001b[0m \u001b[0;34m=\u001b[0m \u001b[0mlen\u001b[0m\u001b[0;34m(\u001b[0m\u001b[0minput_cnf\u001b[0m\u001b[0;34m.\u001b[0m\u001b[0mclauses\u001b[0m\u001b[0;34m)\u001b[0m\u001b[0;34m\u001b[0m\u001b[0m\n\u001b[1;32m     31\u001b[0m             \u001b[0mvar_num\u001b[0m \u001b[0;34m=\u001b[0m \u001b[0mmax\u001b[0m\u001b[0;34m(\u001b[0m\u001b[0minput_cnf\u001b[0m\u001b[0;34m.\u001b[0m\u001b[0mvars\u001b[0m\u001b[0;34m)\u001b[0m\u001b[0;34m\u001b[0m\u001b[0m\n\u001b[0;32m---> 32\u001b[0;31m             \u001b[0minputs\u001b[0m \u001b[0;34m=\u001b[0m \u001b[0mnp\u001b[0m\u001b[0;34m.\u001b[0m\u001b[0masarray\u001b[0m\u001b[0;34m(\u001b[0m\u001b[0;34m[\u001b[0m\u001b[0mclauses_to_matrix\u001b[0m\u001b[0;34m(\u001b[0m\u001b[0minput_cnf\u001b[0m\u001b[0;34m.\u001b[0m\u001b[0mclauses\u001b[0m\u001b[0;34m,\u001b[0m \u001b[0mclause_num\u001b[0m\u001b[0;34m,\u001b[0m \u001b[0mvar_num\u001b[0m\u001b[0;34m)\u001b[0m\u001b[0;34m]\u001b[0m \u001b[0;34m*\u001b[0m \u001b[0mBATCH_SIZE\u001b[0m\u001b[0;34m)\u001b[0m\u001b[0;34m\u001b[0m\u001b[0m\n\u001b[0m\u001b[1;32m     33\u001b[0m \u001b[0;34m\u001b[0m\u001b[0m\n\u001b[1;32m     34\u001b[0m             \u001b[0moutput\u001b[0m \u001b[0;34m=\u001b[0m \u001b[0mpredict_fn\u001b[0m\u001b[0;34m(\u001b[0m\u001b[0;34m{\u001b[0m\u001b[0;34m\"input\"\u001b[0m\u001b[0;34m:\u001b[0m \u001b[0minputs\u001b[0m\u001b[0;34m}\u001b[0m\u001b[0;34m)\u001b[0m\u001b[0;34m\u001b[0m\u001b[0m\n",
      "\u001b[0;32m~/sat_solving/deepsat/cnf_dataset.py\u001b[0m in \u001b[0;36mclauses_to_matrix\u001b[0;34m(clauses, max_clause_num, max_variable_num)\u001b[0m\n\u001b[1;32m     79\u001b[0m \u001b[0;34m\u001b[0m\u001b[0m\n\u001b[1;32m     80\u001b[0m     result = [[var_in_clause_val(var, i) for i in range(max_clause_num)]\n\u001b[0;32m---> 81\u001b[0;31m               for var in range(1, max_variable_num + 1)]\n\u001b[0m\u001b[1;32m     82\u001b[0m     \u001b[0;32mreturn\u001b[0m \u001b[0mresult\u001b[0m\u001b[0;34m\u001b[0m\u001b[0m\n\u001b[1;32m     83\u001b[0m \u001b[0;34m\u001b[0m\u001b[0m\n",
      "\u001b[0;32m~/sat_solving/deepsat/cnf_dataset.py\u001b[0m in \u001b[0;36m<listcomp>\u001b[0;34m(.0)\u001b[0m\n\u001b[1;32m     79\u001b[0m \u001b[0;34m\u001b[0m\u001b[0m\n\u001b[1;32m     80\u001b[0m     result = [[var_in_clause_val(var, i) for i in range(max_clause_num)]\n\u001b[0;32m---> 81\u001b[0;31m               for var in range(1, max_variable_num + 1)]\n\u001b[0m\u001b[1;32m     82\u001b[0m     \u001b[0;32mreturn\u001b[0m \u001b[0mresult\u001b[0m\u001b[0;34m\u001b[0m\u001b[0m\n\u001b[1;32m     83\u001b[0m \u001b[0;34m\u001b[0m\u001b[0m\n",
      "\u001b[0;32m~/sat_solving/deepsat/cnf_dataset.py\u001b[0m in \u001b[0;36m<listcomp>\u001b[0;34m(.0)\u001b[0m\n\u001b[1;32m     78\u001b[0m                 1.0 if -var in clauses[i] else 0.0]\n\u001b[1;32m     79\u001b[0m \u001b[0;34m\u001b[0m\u001b[0m\n\u001b[0;32m---> 80\u001b[0;31m     result = [[var_in_clause_val(var, i) for i in range(max_clause_num)]\n\u001b[0m\u001b[1;32m     81\u001b[0m               for var in range(1, max_variable_num + 1)]\n\u001b[1;32m     82\u001b[0m     \u001b[0;32mreturn\u001b[0m \u001b[0mresult\u001b[0m\u001b[0;34m\u001b[0m\u001b[0m\n",
      "\u001b[0;31mKeyboardInterrupt\u001b[0m: "
     ]
    }
   ],
   "source": [
    "print_all(100, 10000, 130, light=True)"
   ]
  },
  {
   "cell_type": "code",
   "execution_count": null,
   "metadata": {},
   "outputs": [],
   "source": []
  }
 ],
 "metadata": {
  "kernelspec": {
   "display_name": "Python 3",
   "language": "python",
   "name": "python3"
  },
  "language_info": {
   "codemirror_mode": {
    "name": "ipython",
    "version": 3
   },
   "file_extension": ".py",
   "mimetype": "text/x-python",
   "name": "python",
   "nbconvert_exporter": "python",
   "pygments_lexer": "ipython3",
   "version": "3.6.3"
  }
 },
 "nbformat": 4,
 "nbformat_minor": 2
}
