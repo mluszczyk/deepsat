{
 "cells": [
  {
   "cell_type": "code",
   "execution_count": 16,
   "metadata": {},
   "outputs": [
    {
     "name": "stdout",
     "output_type": "stream",
     "text": [
      "INFO:tensorflow:Restoring parameters from model_sr50/variables/variables\n"
     ]
    }
   ],
   "source": [
    "import tensorflow as tf\n",
    "from tensorflow.contrib import predictor\n",
    "\n",
    "export_dir = \"model_sr50\"\n",
    "predict_fn = predictor.from_saved_model(export_dir)"
   ]
  },
  {
   "cell_type": "code",
   "execution_count": 17,
   "metadata": {},
   "outputs": [],
   "source": [
    "from matplotlib import pyplot as plt\n",
    "import numpy as np\n",
    "import random"
   ]
  },
  {
   "cell_type": "code",
   "execution_count": 18,
   "metadata": {},
   "outputs": [],
   "source": [
    "import sys \n",
    "sys.path.insert(0,'../..')"
   ]
  },
  {
   "cell_type": "code",
   "execution_count": 19,
   "metadata": {
    "scrolled": true
   },
   "outputs": [],
   "source": [
    "from cnf_dataset import clauses_to_matrix\n",
    "from dpll import DPLL, RandomClauseDPLL, MostCommonVarDPLL, RandomVarDPLL\n",
    "from cnf import get_random_kcnf, CNF, get_sats_SR, get_pos_SR\n",
    "from tqdm import tqdm\n",
    "from collections import Counter"
   ]
  },
  {
   "cell_type": "code",
   "execution_count": 20,
   "metadata": {},
   "outputs": [],
   "source": [
    "import math\n",
    "from collections import defaultdict\n",
    "\n",
    "def jw(clauses):\n",
    "    score = defaultdict(int)\n",
    "\n",
    "    for clause in clauses:\n",
    "        for l in clause:\n",
    "            score[l] += 2. ** (-len(clause))\n",
    "\n",
    "    return max(score, key=score.get)\n"
   ]
  },
  {
   "cell_type": "code",
   "execution_count": 21,
   "metadata": {},
   "outputs": [],
   "source": [
    "LIMIT_RUNS = 1000000"
   ]
  },
  {
   "cell_type": "code",
   "execution_count": 22,
   "metadata": {},
   "outputs": [],
   "source": [
    "def shorten_cnf(cnf: CNF):\n",
    "    for c in cnf.clauses:\n",
    "        if len(c) == 1:\n",
    "            return shorten_cnf(cnf.set_var(c[0]))\n",
    "    all_literals = set(x\n",
    "                       for clause in cnf.clauses\n",
    "                       for x in clause)\n",
    "    for v in cnf.vars:\n",
    "        if v in all_literals and (-v) not in all_literals:\n",
    "            return shorten_cnf(cnf.set_var(v))\n",
    "        if (-v) in all_literals and v not in all_literals:\n",
    "            return shorten_cnf(cnf.set_var(-v))\n",
    "    return cnf\n",
    "\n",
    "def make_normalized(cls):\n",
    "    class NormalizedDPLL(cls):\n",
    "        def run(self, cnf: CNF):\n",
    "            assert isinstance(cnf, CNF)\n",
    "            self.number_of_runs += 1\n",
    "            if self.number_of_runs > LIMIT_RUNS:\n",
    "                return None\n",
    "            \n",
    "            cnf = shorten_cnf(cnf)\n",
    "            if cnf.is_true():\n",
    "                return []\n",
    "            elif cnf.is_false():\n",
    "                return None\n",
    "\n",
    "            sug_var = self.suggest(cnf)\n",
    "            sug_cnf = cnf.set_var(sug_var)\n",
    "\n",
    "            sug_res = self.run(sug_cnf)\n",
    "            if sug_res is not None:\n",
    "                return [sug_var] + sug_res\n",
    "\n",
    "            not_sug_cnf = cnf.set_var(-sug_var)\n",
    "            not_sug_res = self.run(not_sug_cnf)\n",
    "            if not_sug_res is not None:\n",
    "                self.number_of_errors += 1\n",
    "                return [-sug_var] + not_sug_res\n",
    "            return None\n",
    "    NormalizedDPLL.__name__ = \"Normalized{}\".format(cls.__name__)\n",
    "    return NormalizedDPLL"
   ]
  },
  {
   "cell_type": "code",
   "execution_count": 23,
   "metadata": {},
   "outputs": [],
   "source": [
    "np.set_printoptions(precision=3, suppress=True)"
   ]
  },
  {
   "cell_type": "code",
   "execution_count": 24,
   "metadata": {
    "scrolled": true
   },
   "outputs": [],
   "source": [
    "import tensorflow as tf\n",
    "import os\n",
    "\n",
    "BATCH_SIZE = 1"
   ]
  },
  {
   "cell_type": "code",
   "execution_count": 25,
   "metadata": {},
   "outputs": [],
   "source": [
    "\n",
    "class GraphBasedDPLL(DPLL):\n",
    "    def suggest(self, input_cnf: CNF):\n",
    "        clause_num = len(input_cnf.clauses)\n",
    "        var_num = max(input_cnf.vars)\n",
    "        inputs = np.asarray([clauses_to_matrix(input_cnf.clauses, clause_num, var_num)] * BATCH_SIZE)\n",
    "        \n",
    "        policy_probs = predict_fn({\"input\": inputs})['policy_probabilities']\n",
    "        \n",
    "        best_prob = 0.0\n",
    "        best_svar = None\n",
    "        for var in input_cnf.vars:\n",
    "            for svar in [var, -var]:\n",
    "                svar_prob = policy_probs[0][var-1][0 if svar > 0 else 1]\n",
    "                if svar_prob > best_prob:\n",
    "                    best_prob = svar_prob\n",
    "                    best_svar = svar\n",
    "        return best_svar\n",
    "\n",
    "class MostCommonDPLL(DPLL):\n",
    "    def suggest(self, cnf: CNF):\n",
    "        counter = Counter()\n",
    "        for clause in cnf.clauses:\n",
    "            for svar in clause:\n",
    "                counter[svar] += 1\n",
    "        return counter.most_common(1)[0][0]\n",
    "    \n",
    "class JeroslawDPLL(DPLL):\n",
    "    def suggest(self, cnf: CNF):\n",
    "        return jw(cnf.clauses)\n",
    "    \n",
    "\n",
    "class HumbleDPLL(DPLL):\n",
    "    def suggest(self, input_cnf: CNF):\n",
    "        clause_num = len(input_cnf.clauses)\n",
    "        var_num = max(input_cnf.vars)\n",
    "        inputs = np.asarray([clauses_to_matrix(input_cnf.clauses, clause_num, var_num)] * BATCH_SIZE)\n",
    "        \n",
    "        output = predict_fn({\"input\": inputs})\n",
    "        policy_probs = output['policy_probabilities']\n",
    "        sat_prob = output['sat_probabilities'][0]\n",
    "        \n",
    "        best_prob = 0.0\n",
    "        best_svar = None\n",
    "        for var in input_cnf.vars:\n",
    "            for svar in [var, -var]:\n",
    "                svar_prob = policy_probs[0][var-1][0 if svar > 0 else 1]\n",
    "                if svar_prob > best_prob:\n",
    "                    best_prob = svar_prob\n",
    "                    best_svar = svar\n",
    "        if sat_prob < 0.3:\n",
    "            # Overwriting with JW\n",
    "            best_svar = jw(input_cnf.clauses)\n",
    "        return best_svar    "
   ]
  },
  {
   "cell_type": "code",
   "execution_count": 26,
   "metadata": {},
   "outputs": [],
   "source": [
    "NormalizedGraphBasedDPLL = make_normalized(GraphBasedDPLL)\n",
    "NormalizedMostCommonDPLL = make_normalized(MostCommonDPLL)\n",
    "NormalizedJeroslawDPLL = make_normalized(JeroslawDPLL)\n",
    "NormalizedHumbleDPLL = make_normalized(HumbleDPLL)"
   ]
  },
  {
   "cell_type": "code",
   "execution_count": 27,
   "metadata": {},
   "outputs": [],
   "source": [
    "class FastHumbleDPLL(DPLL):\n",
    "    def run(self, cnf: CNF, fast=False):\n",
    "        assert isinstance(cnf, CNF)\n",
    "        self.number_of_runs += 1\n",
    "        if self.number_of_runs > LIMIT_RUNS:\n",
    "            return None\n",
    "\n",
    "        cnf = shorten_cnf(cnf)\n",
    "        if cnf.is_true():\n",
    "            return []\n",
    "        elif cnf.is_false():\n",
    "            return None\n",
    "\n",
    "        switch_to_heuristic, sug_var = self.suggest(cnf, fast)\n",
    "        sug_cnf = cnf.set_var(sug_var)\n",
    "\n",
    "        sug_res = self.run(sug_cnf, switch_to_heuristic)\n",
    "        if sug_res is not None:\n",
    "            return [sug_var] + sug_res\n",
    "\n",
    "        not_sug_cnf = cnf.set_var(-sug_var)\n",
    "        not_sug_res = self.run(not_sug_cnf, switch_to_heuristic)\n",
    "        if not_sug_res is not None:\n",
    "            self.number_of_errors += 1\n",
    "            return [-sug_var] + not_sug_res\n",
    "        return None\n",
    "\n",
    "    def suggest(self, input_cnf: CNF, fast):\n",
    "        if not fast:\n",
    "            clause_num = len(input_cnf.clauses)\n",
    "            var_num = max(input_cnf.vars)\n",
    "            inputs = np.asarray([clauses_to_matrix(input_cnf.clauses, clause_num, var_num)] * BATCH_SIZE)\n",
    "\n",
    "            output = predict_fn({\"input\": inputs})\n",
    "            policy_probs = output['policy_probabilities']\n",
    "            sat_prob = output['sat_probabilities'][0]\n",
    "\n",
    "            best_prob = 0.0\n",
    "            best_svar = None\n",
    "            for var in input_cnf.vars:\n",
    "                for svar in [var, -var]:\n",
    "                    svar_prob = policy_probs[0][var-1][0 if svar > 0 else 1]\n",
    "                    #print(svar, svar_prob, best_prob, file=logfile)\n",
    "                    if svar_prob > best_prob:\n",
    "                        best_prob = svar_prob\n",
    "                        best_svar = svar\n",
    "        if fast or sat_prob < 0.3:\n",
    "            # Overwriting with JW\n",
    "            best_svar = jw(input_cnf.clauses)\n",
    "        return (fast or sat_prob < 0.3), best_svar    "
   ]
  },
  {
   "cell_type": "code",
   "execution_count": 28,
   "metadata": {},
   "outputs": [],
   "source": [
    "def compute_steps(sats, dpll_cls):\n",
    "    steps = []\n",
    "    errors = []\n",
    "    solved = 0\n",
    "    for sat in tqdm(sats):\n",
    "        dpll = dpll_cls()\n",
    "        res = dpll.run(sat)\n",
    "        if res is not None:\n",
    "            steps.append(dpll.number_of_runs)\n",
    "            errors.append(dpll.number_of_errors)\n",
    "            solved += 1\n",
    "    print(\"Within {} steps solved {} problems out of {}\".format(LIMIT_RUNS, solved, len(sats)))\n",
    "    return steps, errors"
   ]
  },
  {
   "cell_type": "code",
   "execution_count": 29,
   "metadata": {},
   "outputs": [],
   "source": [
    "def compute_and_print_steps(sats, dpll_cls):\n",
    "    print(dpll_cls.__name__)\n",
    "    steps, errors = compute_steps(sats, dpll_cls)\n",
    "    print(\"#Sats: {}; avg step: {:.2f}; stdev step: {:.2f}; avg error: {:.2f}; stdev error: {:.2f}\".format(\n",
    "        len(steps), np.mean(steps), np.std(steps), np.mean(errors), np.std(errors)))\n",
    "    print(\"Table: \", steps)"
   ]
  },
  {
   "cell_type": "code",
   "execution_count": 30,
   "metadata": {},
   "outputs": [],
   "source": [
    "def print_all(s, n, m, light=False):\n",
    "    global S, N, M\n",
    "    S = s\n",
    "    N = n # number of clauses\n",
    "    M = m # number of variables\n",
    "    \n",
    "    MAX_TRIES = 100000\n",
    "    sats = []\n",
    "    \n",
    "    random.seed(1)\n",
    "    np.random.seed(1)\n",
    "    \n",
    "    for index in range(MAX_TRIES):\n",
    "        if len(sats) >= S:\n",
    "            break\n",
    "        sat = get_pos_SR(M, M, N)\n",
    "        sats.append(sat)\n",
    "    assert len(sats) == S\n",
    "    print(\"We have generated {} formulas\".format(len(sats)))\n",
    "    compute_and_print_steps(sats, FastHumbleDPLL)\n",
    "    compute_and_print_steps(sats, NormalizedJeroslawDPLL)"
   ]
  },
  {
   "cell_type": "code",
   "execution_count": 31,
   "metadata": {},
   "outputs": [
    {
     "name": "stderr",
     "output_type": "stream",
     "text": [
      "\r",
      "  0%|          | 0/10 [00:00<?, ?it/s]"
     ]
    },
    {
     "name": "stdout",
     "output_type": "stream",
     "text": [
      "We have generated 10 formulas\n",
      "FastHumbleDPLL\n"
     ]
    },
    {
     "name": "stderr",
     "output_type": "stream",
     "text": [
      "100%|██████████| 10/10 [00:27<00:00,  1.33s/it]\n",
      "100%|██████████| 10/10 [00:00<00:00, 670.23it/s]"
     ]
    },
    {
     "name": "stdout",
     "output_type": "stream",
     "text": [
      "Within 1000000 steps solved 10 problems out of 10\n",
      "#Sats: 10; avg step: 5.30; stdev step: 1.10; avg error: 0.00; stdev error: 0.00\n",
      "Table:  [7, 5, 4, 7, 4, 6, 6, 4, 5, 5]\n",
      "NormalizedJeroslawDPLL\n",
      "Within 1000000 steps solved 10 problems out of 10\n",
      "#Sats: 10; avg step: 6.00; stdev step: 1.48; avg error: 0.30; stdev error: 0.46\n",
      "Table:  [8, 6, 9, 4, 5, 6, 7, 5, 5, 5]\n"
     ]
    },
    {
     "name": "stderr",
     "output_type": "stream",
     "text": [
      "\n"
     ]
    }
   ],
   "source": [
    "print_all(10, 1000, 10)"
   ]
  },
  {
   "cell_type": "code",
   "execution_count": null,
   "metadata": {
    "scrolled": false
   },
   "outputs": [],
   "source": [
    "print_all(100, 200, 10)"
   ]
  },
  {
   "cell_type": "code",
   "execution_count": null,
   "metadata": {
    "scrolled": false
   },
   "outputs": [],
   "source": [
    "print_all(100, 200, 20)"
   ]
  },
  {
   "cell_type": "code",
   "execution_count": null,
   "metadata": {},
   "outputs": [],
   "source": [
    "print_all(100, 500, 30)"
   ]
  },
  {
   "cell_type": "code",
   "execution_count": null,
   "metadata": {},
   "outputs": [],
   "source": [
    "print_all(100, 10000, 40, light=True)"
   ]
  },
  {
   "cell_type": "code",
   "execution_count": null,
   "metadata": {},
   "outputs": [],
   "source": [
    "print_all(100, 10000, 50, light=True)"
   ]
  },
  {
   "cell_type": "code",
   "execution_count": null,
   "metadata": {},
   "outputs": [],
   "source": [
    "print_all(100, 10000, 70, light=True)"
   ]
  },
  {
   "cell_type": "code",
   "execution_count": null,
   "metadata": {
    "scrolled": false
   },
   "outputs": [],
   "source": [
    "print_all(100, 10000, 90, light=True)"
   ]
  },
  {
   "cell_type": "code",
   "execution_count": null,
   "metadata": {},
   "outputs": [],
   "source": [
    "print_all(100, 10000, 110, light=True)"
   ]
  },
  {
   "cell_type": "code",
   "execution_count": null,
   "metadata": {},
   "outputs": [],
   "source": [
    "print_all(100, 10000, 130, light=True)"
   ]
  }
 ],
 "metadata": {
  "kernelspec": {
   "display_name": "Python 3",
   "language": "python",
   "name": "python3"
  },
  "language_info": {
   "codemirror_mode": {
    "name": "ipython",
    "version": 3
   },
   "file_extension": ".py",
   "mimetype": "text/x-python",
   "name": "python",
   "nbconvert_exporter": "python",
   "pygments_lexer": "ipython3",
   "version": "3.6.1"
  }
 },
 "nbformat": 4,
 "nbformat_minor": 2
}
