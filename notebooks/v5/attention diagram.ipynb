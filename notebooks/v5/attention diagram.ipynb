{
 "cells": [
  {
   "cell_type": "code",
   "execution_count": 70,
   "metadata": {},
   "outputs": [],
   "source": [
    "table = r\"\"\"\n",
    "SR(30), level 20 &\n",
    "\\bf{21.370±0.295} &\n",
    "\\bf{0.178±0.017} &\n",
    "\\bf{0.091±0.006} &\n",
    "22.260±0.550 &\n",
    "0.210±0.017 &\n",
    "0.093±0.005 \\\\\n",
    "SR(30), level 30 &\n",
    "28.795±0.539 &\n",
    "0.101±0.008 &\n",
    "0.059±0.003 &\n",
    "\\bf{28.178±0.672} &\n",
    "\\bf{0.084±0.004} &\n",
    "\\bf{0.050±0.002} \\\\\n",
    "SR(50), level 20 &\n",
    "23.040±0.044 &\n",
    "0.297±0.005 &\n",
    "0.125±0.001 &\n",
    "\\bf{22.512±0.138} &\n",
    "\\bf{0.259±0.016} &\n",
    "\\bf{0.112±0.004} \\\\\n",
    "SR(50), level 30 &\n",
    "32.186±0.132 &\n",
    "0.281±0.003 &\n",
    "0.118±0.001 &\n",
    "\\bf{32.024±0.555} &\n",
    "\\bf{0.233±0.017} &\n",
    "\\bf{0.105±0.006} \\\\\n",
    "SR(50), level 40 &\n",
    "41.457±0.401 &\n",
    "\\bf{0.183±0.015} &\n",
    "0.092±0.007 &\n",
    "\\bf{39.397±0.166} &\n",
    "0.187±0.004 & \n",
    "\\bf{0.090±0.002} \\\\\n",
    "SR(70), level 20 &\n",
    "23.794±0.062 &\n",
    "0.350±0.005 &\n",
    "0.135±0.000 &\n",
    "\\bf{23.574±0.177} &\n",
    "\\bf{0.333±0.016} &\n",
    "\\bf{0.127±0.002} \\\\\n",
    "SR(70), level 30 &\n",
    "34.088±0.070 &\n",
    "0.304±0.003 &\n",
    "0.125±0.002 &\n",
    "\\bf{33.010±0.482} & \n",
    "\\bf{0.266±0.033} & \n",
    "\\bf{0.110±0.007} \\\\\n",
    "\"\"\""
   ]
  },
  {
   "cell_type": "code",
   "execution_count": 71,
   "metadata": {},
   "outputs": [
    {
     "data": {
      "text/plain": [
       "[['SR(30), level 20',\n",
       "  ['21.370', '0.295'],\n",
       "  ['0.178', '0.017'],\n",
       "  ['0.091', '0.006'],\n",
       "  ['22.260', '0.550'],\n",
       "  ['0.210', '0.017'],\n",
       "  ['0.093', '0.005']],\n",
       " ['SR(30), level 30',\n",
       "  ['28.795', '0.539'],\n",
       "  ['0.101', '0.008'],\n",
       "  ['0.059', '0.003'],\n",
       "  ['28.178', '0.672'],\n",
       "  ['0.084', '0.004'],\n",
       "  ['0.050', '0.002']],\n",
       " ['SR(50), level 20',\n",
       "  ['23.040', '0.044'],\n",
       "  ['0.297', '0.005'],\n",
       "  ['0.125', '0.001'],\n",
       "  ['22.512', '0.138'],\n",
       "  ['0.259', '0.016'],\n",
       "  ['0.112', '0.004']],\n",
       " ['SR(50), level 30',\n",
       "  ['32.186', '0.132'],\n",
       "  ['0.281', '0.003'],\n",
       "  ['0.118', '0.001'],\n",
       "  ['32.024', '0.555'],\n",
       "  ['0.233', '0.017'],\n",
       "  ['0.105', '0.006']],\n",
       " ['SR(50), level 40',\n",
       "  ['41.457', '0.401'],\n",
       "  ['0.183', '0.015'],\n",
       "  ['0.092', '0.007'],\n",
       "  ['39.397', '0.166'],\n",
       "  ['0.187', '0.004'],\n",
       "  ['0.090', '0.002']],\n",
       " ['SR(70), level 20',\n",
       "  ['23.794', '0.062'],\n",
       "  ['0.350', '0.005'],\n",
       "  ['0.135', '0.000'],\n",
       "  ['23.574', '0.177'],\n",
       "  ['0.333', '0.016'],\n",
       "  ['0.127', '0.002']],\n",
       " ['SR(70), level 30',\n",
       "  ['34.088', '0.070'],\n",
       "  ['0.304', '0.003'],\n",
       "  ['0.125', '0.002'],\n",
       "  ['33.010', '0.482'],\n",
       "  ['0.266', '0.033'],\n",
       "  ['0.110', '0.007']],\n",
       " ['']]"
      ]
     },
     "execution_count": 71,
     "metadata": {},
     "output_type": "execute_result"
    }
   ],
   "source": [
    "def unbf(cell): return cell[4:-1] if r'\\bf' in cell else cell\n",
    "\n",
    "def unplusminus(cell): return cell.split('±') if '±' in cell else cell\n",
    "\n",
    "data= [[unplusminus(unbf(cell.strip())) for cell in row.strip().split('&')] for row in table.strip().split(r'\\\\')]\n",
    "data"
   ]
  },
  {
   "cell_type": "code",
   "execution_count": 72,
   "metadata": {},
   "outputs": [
    {
     "data": {
      "text/plain": [
       "[0.091, 0.059, 0.125, 0.118, 0.092, 0.135, 0.125]"
      ]
     },
     "execution_count": 72,
     "metadata": {},
     "output_type": "execute_result"
    }
   ],
   "source": [
    "noattention = [float(c[3][0]) for c in data[:-1]]\n",
    "noattentionstd = [float(c[3][1]) for c in data[:-1]]\n",
    "noattention"
   ]
  },
  {
   "cell_type": "code",
   "execution_count": 73,
   "metadata": {},
   "outputs": [],
   "source": [
    "attention = [float(c[6][0]) for c in data[:-1]]\n",
    "attentionstd = [float(c[6][1]) for c in data[:-1]]"
   ]
  },
  {
   "cell_type": "code",
   "execution_count": 74,
   "metadata": {},
   "outputs": [
    {
     "data": {
      "text/plain": [
       "[0.093, 0.05, 0.112, 0.105, 0.09, 0.127, 0.11]"
      ]
     },
     "execution_count": 74,
     "metadata": {},
     "output_type": "execute_result"
    }
   ],
   "source": [
    "attention"
   ]
  },
  {
   "cell_type": "code",
   "execution_count": 75,
   "metadata": {},
   "outputs": [],
   "source": [
    "xticks = [c[0].replace(', ', '\\n') for c in data[:-1]]"
   ]
  },
  {
   "cell_type": "code",
   "execution_count": 76,
   "metadata": {},
   "outputs": [],
   "source": [
    "from matplotlib import pyplot as plt\n",
    "import numpy"
   ]
  },
  {
   "cell_type": "code",
   "execution_count": 77,
   "metadata": {},
   "outputs": [
    {
     "data": {
      "image/png": "[encoded data removed]",
      "text/plain": [
       "<Figure size 432x288 with 1 Axes>"
      ]
     },
     "metadata": {
      "needs_background": "light"
     },
     "output_type": "display_data"
    }
   ],
   "source": [
    "width = 0.33\n",
    "fig, ax = plt.subplots()\n",
    "x = numpy.arange(7)\n",
    "plt.bar(x - width/2, noattention, width=width, yerr=noattentionstd)\n",
    "plt.bar(x + width/2, attention, width=width, yerr=attentionstd)\n",
    "plt.legend(['Attention disabled', 'Attention enabled'], loc='lower right')\n",
    "plt.xticks(x, xticks)\n",
    "ax.set_yscale('log')\n",
    "plt.savefig('attention.pdf')\n",
    "None"
   ]
  },
  {
   "cell_type": "code",
   "execution_count": 26,
   "metadata": {},
   "outputs": [
    {
     "data": {
      "text/plain": [
       "['21.370', '28.795', '23.040', '32.186', '41.457', '23.794', '34.088']"
      ]
     },
     "execution_count": 26,
     "metadata": {},
     "output_type": "execute_result"
    }
   ],
   "source": [
    "noattention"
   ]
  },
  {
   "cell_type": "code",
   "execution_count": 27,
   "metadata": {},
   "outputs": [
    {
     "data": {
      "text/plain": [
       "['22.260', '28.178', '22.512', '32.024', '39.397', '23.574', '33.010']"
      ]
     },
     "execution_count": 27,
     "metadata": {},
     "output_type": "execute_result"
    }
   ],
   "source": [
    "attention"
   ]
  },
  {
   "cell_type": "code",
   "execution_count": null,
   "metadata": {},
   "outputs": [],
   "source": []
  }
 ],
 "metadata": {
  "kernelspec": {
   "display_name": "Python 3",
   "language": "python",
   "name": "python3"
  },
  "language_info": {
   "codemirror_mode": {
    "name": "ipython",
    "version": 3
   },
   "file_extension": ".py",
   "mimetype": "text/x-python",
   "name": "python",
   "nbconvert_exporter": "python",
   "pygments_lexer": "ipython3",
   "version": "3.6.1"
  }
 },
 "nbformat": 4,
 "nbformat_minor": 2
}
