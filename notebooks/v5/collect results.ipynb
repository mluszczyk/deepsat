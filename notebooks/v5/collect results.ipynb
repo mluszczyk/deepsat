{
 "cells": [
  {
   "cell_type": "code",
   "execution_count": 1,
   "metadata": {},
   "outputs": [],
   "source": [
    "import os\n",
    "import glob\n",
    "import re"
   ]
  },
  {
   "cell_type": "code",
   "execution_count": 24,
   "metadata": {},
   "outputs": [],
   "source": [
    "import numpy as np"
   ]
  },
  {
   "cell_type": "code",
   "execution_count": 2,
   "metadata": {},
   "outputs": [],
   "source": [
    "result_notebooks = glob.glob(\"notebooks/v4/0315*\")"
   ]
  },
  {
   "cell_type": "code",
   "execution_count": 3,
   "metadata": {},
   "outputs": [],
   "source": [
    "read_results = {}\n",
    "for notebook in result_notebooks:\n",
    "    with open(notebook) as f:\n",
    "        t = f.read()\n",
    "        occ = [int(x) for x in re.findall(\"Within 1000 steps solved (\\d+) problems out of 100\", t)]\n",
    "        read_results[notebook] = occ[::3]"
   ]
  },
  {
   "cell_type": "code",
   "execution_count": 4,
   "metadata": {},
   "outputs": [
    {
     "data": {
      "text/plain": [
       "{'notebooks/v4/0315_series5a_sr70_l30_aTrue_tng-tpu-pre-22.ipynb': [100,\n",
       "  100,\n",
       "  100,\n",
       "  100,\n",
       "  100,\n",
       "  100,\n",
       "  100,\n",
       "  100,\n",
       "  100,\n",
       "  97,\n",
       "  70,\n",
       "  52,\n",
       "  29],\n",
       " 'notebooks/v4/0315_series5a_sr30_l30_aTrue_tng-tpu-00.ipynb': [100,\n",
       "  100,\n",
       "  100,\n",
       "  100,\n",
       "  100,\n",
       "  100,\n",
       "  100,\n",
       "  100,\n",
       "  99,\n",
       "  95,\n",
       "  58,\n",
       "  47,\n",
       "  21],\n",
       " 'notebooks/v4/0315_series5a_sr100_l30_aTrue_tng-tpu-pre-29.ipynb': [100,\n",
       "  100,\n",
       "  100,\n",
       "  100,\n",
       "  100,\n",
       "  100,\n",
       "  100,\n",
       "  100,\n",
       "  94,\n",
       "  74,\n",
       "  48,\n",
       "  32,\n",
       "  15],\n",
       " 'notebooks/v4/0315_series5a_sr30_l30_aTrue_tng-tpu-06.ipynb': [100,\n",
       "  100,\n",
       "  100,\n",
       "  100,\n",
       "  100,\n",
       "  100,\n",
       "  100,\n",
       "  100,\n",
       "  96,\n",
       "  82,\n",
       "  54,\n",
       "  31,\n",
       "  18],\n",
       " 'notebooks/v4/0315_series5a_sr50_l40_aTrue_tng-tpu-pre-26.ipynb': [100,\n",
       "  100,\n",
       "  100,\n",
       "  100,\n",
       "  100,\n",
       "  100,\n",
       "  100,\n",
       "  100,\n",
       "  100,\n",
       "  98,\n",
       "  70,\n",
       "  56,\n",
       "  28],\n",
       " 'notebooks/v4/0315_series5a_sr100_l30_aTrue_tng-tpu-pre-11.ipynb': [100,\n",
       "  100,\n",
       "  100,\n",
       "  100,\n",
       "  100,\n",
       "  100,\n",
       "  100,\n",
       "  100,\n",
       "  99,\n",
       "  93,\n",
       "  70,\n",
       "  53,\n",
       "  31],\n",
       " 'notebooks/v4/0315_series5a_sr30_l30_aTrue_tng-tpu-pre-12.ipynb': [100,\n",
       "  100,\n",
       "  100,\n",
       "  100,\n",
       "  100,\n",
       "  100,\n",
       "  100,\n",
       "  100,\n",
       "  94,\n",
       "  84,\n",
       "  49,\n",
       "  41,\n",
       "  15],\n",
       " 'notebooks/v4/0315_series5a_sr100_l30_aTrue_tng-tpu-05.ipynb': [100,\n",
       "  100,\n",
       "  100,\n",
       "  100,\n",
       "  100,\n",
       "  100,\n",
       "  100,\n",
       "  100,\n",
       "  99,\n",
       "  80,\n",
       "  54,\n",
       "  41,\n",
       "  18],\n",
       " 'notebooks/v4/0315_series5a_sr50_l40_aTrue_tng-tpu-pre-14.ipynb': [100,\n",
       "  100,\n",
       "  100,\n",
       "  100,\n",
       "  100,\n",
       "  100,\n",
       "  100,\n",
       "  100,\n",
       "  99,\n",
       "  95,\n",
       "  65,\n",
       "  41,\n",
       "  24],\n",
       " 'notebooks/v4/0315_series5a_sr70_l30_aTrue_tng-tpu-pre-16.ipynb': [100,\n",
       "  100,\n",
       "  100,\n",
       "  100,\n",
       "  100,\n",
       "  100,\n",
       "  100,\n",
       "  100,\n",
       "  98,\n",
       "  83,\n",
       "  52,\n",
       "  41,\n",
       "  26],\n",
       " 'notebooks/v4/0315_series5a_sr50_l40_aTrue_tng-tpu-02.ipynb': [100,\n",
       "  100,\n",
       "  100,\n",
       "  100,\n",
       "  100,\n",
       "  100,\n",
       "  100,\n",
       "  100,\n",
       "  96,\n",
       "  83,\n",
       "  58,\n",
       "  39,\n",
       "  19],\n",
       " 'notebooks/v4/0315_series5a_sr70_l30_aTrue_tng-tpu-pre-10.ipynb': [100,\n",
       "  100,\n",
       "  100,\n",
       "  100,\n",
       "  100,\n",
       "  100,\n",
       "  100,\n",
       "  100,\n",
       "  100,\n",
       "  91,\n",
       "  63,\n",
       "  44,\n",
       "  21],\n",
       " 'notebooks/v4/0315_series5a_sr30_l30_aTrue_tng-tpu-pre-18.ipynb': [100,\n",
       "  100,\n",
       "  100,\n",
       "  100,\n",
       "  100,\n",
       "  100,\n",
       "  100,\n",
       "  100,\n",
       "  98,\n",
       "  87,\n",
       "  56,\n",
       "  38,\n",
       "  11],\n",
       " 'notebooks/v4/0315_series5a_sr70_l30_aTrue_tng-tpu-pre-28.ipynb': [100,\n",
       "  100,\n",
       "  100,\n",
       "  100,\n",
       "  100,\n",
       "  100,\n",
       "  100,\n",
       "  100,\n",
       "  98,\n",
       "  87,\n",
       "  58,\n",
       "  38,\n",
       "  11],\n",
       " 'notebooks/v4/0315_series5a_sr30_l30_aTrue_tng-tpu-pre-24.ipynb': [100,\n",
       "  100,\n",
       "  100,\n",
       "  100,\n",
       "  100,\n",
       "  100,\n",
       "  100,\n",
       "  100,\n",
       "  99,\n",
       "  86,\n",
       "  60,\n",
       "  39,\n",
       "  13]}"
      ]
     },
     "execution_count": 4,
     "metadata": {},
     "output_type": "execute_result"
    }
   ],
   "source": [
    "read_results"
   ]
  },
  {
   "cell_type": "code",
   "execution_count": 5,
   "metadata": {},
   "outputs": [],
   "source": [
    "import numpy\n",
    "\n",
    "def series(num):\n",
    "    x = []\n",
    "    for key, val in read_results.items():\n",
    "        if \"series5a_sr\" + str(num) in key:\n",
    "            x.append(val)\n",
    "    m = numpy.mean(x, axis=0)\n",
    "    s = numpy.std(x, axis=0, ddof=1)\n",
    "    return (m, s)"
   ]
  },
  {
   "cell_type": "code",
   "execution_count": 6,
   "metadata": {},
   "outputs": [
    {
     "data": {
      "text/plain": [
       "(array([100. , 100. , 100. , 100. , 100. , 100. , 100. , 100. ,  97.2,\n",
       "         86.8,  55.4,  39.2,  15.6]),\n",
       " array([0.        , 0.        , 0.        , 0.        , 0.        ,\n",
       "        0.        , 0.        , 0.        , 2.16794834, 4.96990946,\n",
       "        4.21900462, 5.76194412, 3.97492138]))"
      ]
     },
     "execution_count": 6,
     "metadata": {},
     "output_type": "execute_result"
    }
   ],
   "source": [
    "series(30)"
   ]
  },
  {
   "cell_type": "code",
   "execution_count": 7,
   "metadata": {},
   "outputs": [
    {
     "data": {
      "text/plain": [
       "(array([100.        , 100.        , 100.        , 100.        ,\n",
       "        100.        , 100.        , 100.        , 100.        ,\n",
       "         98.33333333,  92.        ,  64.33333333,  45.33333333,\n",
       "         23.66666667]),\n",
       " array([0.        , 0.        , 0.        , 0.        , 0.        ,\n",
       "        0.        , 0.        , 0.        , 2.081666  , 7.93725393,\n",
       "        6.02771377, 9.29157324, 4.50924975]))"
      ]
     },
     "execution_count": 7,
     "metadata": {},
     "output_type": "execute_result"
    }
   ],
   "source": [
    "series(50)"
   ]
  },
  {
   "cell_type": "code",
   "execution_count": 8,
   "metadata": {},
   "outputs": [
    {
     "data": {
      "text/plain": [
       "(array([100.  , 100.  , 100.  , 100.  , 100.  , 100.  , 100.  , 100.  ,\n",
       "         99.  ,  89.5 ,  60.75,  43.75,  21.75]),\n",
       " array([0.        , 0.        , 0.        , 0.        , 0.        ,\n",
       "        0.        , 0.        , 0.        , 1.15470054, 5.97215762,\n",
       "        7.63216876, 6.02079729, 7.88986692]))"
      ]
     },
     "execution_count": 8,
     "metadata": {},
     "output_type": "execute_result"
    }
   ],
   "source": [
    "series(70)"
   ]
  },
  {
   "cell_type": "code",
   "execution_count": 9,
   "metadata": {},
   "outputs": [
    {
     "data": {
      "text/plain": [
       "(array([100.        , 100.        , 100.        , 100.        ,\n",
       "        100.        , 100.        , 100.        , 100.        ,\n",
       "         97.33333333,  82.33333333,  57.33333333,  42.        ,\n",
       "         21.33333333]),\n",
       " array([ 0.        ,  0.        ,  0.        ,  0.        ,  0.        ,\n",
       "         0.        ,  0.        ,  0.        ,  2.88675135,  9.71253486,\n",
       "        11.37248141, 10.53565375,  8.50490055]))"
      ]
     },
     "execution_count": 9,
     "metadata": {},
     "output_type": "execute_result"
    }
   ],
   "source": [
    "series(100)"
   ]
  },
  {
   "cell_type": "code",
   "execution_count": 10,
   "metadata": {},
   "outputs": [],
   "source": [
    "def read_jw():\n",
    "    read_results = {}\n",
    "    for notebook in result_notebooks:\n",
    "        with open(notebook) as f:\n",
    "            t = f.read()\n",
    "            occ = [int(x) for x in re.findall(\"Within 1000 steps solved (\\d+) problems out of 100\", t)]\n",
    "            read_results[notebook] = occ[2::3]\n",
    "    return read_results"
   ]
  },
  {
   "cell_type": "code",
   "execution_count": 11,
   "metadata": {},
   "outputs": [
    {
     "name": "stdout",
     "output_type": "stream",
     "text": [
      "(array([100., 100., 100., 100., 100., 100., 100., 100., 100., 100.,  72.,\n",
      "        36.,  11.]), array([0., 0., 0., 0., 0., 0., 0., 0., 0., 0., 0., 0., 0.]))\n"
     ]
    }
   ],
   "source": [
    "jw = (numpy.mean(list(read_jw().values()), axis=0),\n",
    "      numpy.std(list(read_jw().values()), axis=0, ddof=1))\n",
    "print(jw)"
   ]
  },
  {
   "cell_type": "code",
   "execution_count": 12,
   "metadata": {},
   "outputs": [],
   "source": [
    "def read_dlis():\n",
    "    read_results = {}\n",
    "    for notebook in result_notebooks:\n",
    "        with open(notebook) as f:\n",
    "            t = f.read()\n",
    "            occ = [int(x) for x in re.findall(\"Within 1000 steps solved (\\d+) problems out of 100\", t)]\n",
    "            read_results[notebook] = occ[1::3]\n",
    "    return read_results"
   ]
  },
  {
   "cell_type": "code",
   "execution_count": 13,
   "metadata": {},
   "outputs": [
    {
     "name": "stdout",
     "output_type": "stream",
     "text": [
      "(array([100., 100., 100., 100., 100., 100., 100., 100., 100.,  85.,  26.,\n",
      "         7.,   2.]), array([0., 0., 0., 0., 0., 0., 0., 0., 0., 0., 0., 0., 0.]))\n"
     ]
    }
   ],
   "source": [
    "dlis = ((numpy.mean(list(read_dlis().values()), axis=0)),\n",
    "    (numpy.std(list(read_dlis().values()), axis=0, ddof=1)))\n",
    "print(dlis)"
   ]
  },
  {
   "cell_type": "code",
   "execution_count": 14,
   "metadata": {},
   "outputs": [],
   "source": [
    "from matplotlib import pyplot as plt"
   ]
  },
  {
   "cell_type": "code",
   "execution_count": 15,
   "metadata": {},
   "outputs": [
    {
     "name": "stdout",
     "output_type": "stream",
     "text": [
      "13\n"
     ]
    }
   ],
   "source": [
    "print(len(dlis[0]))"
   ]
  },
  {
   "cell_type": "code",
   "execution_count": 38,
   "metadata": {},
   "outputs": [],
   "source": [
    "ydlis = [dlis[0][0]] + [dlis[0][5]] + list(dlis[0][7:])\n",
    "yjw = [jw[0][0]] + [jw[0][5]] + list(jw[0][7:])\n",
    "ys30 = [series(30)[0][0]] + [100.] + list(series(30)[0][7:])\n",
    "ys50 = [series(50)[0][0]] + [100.] + list(series(50)[0][7:])\n",
    "ys70 = [series(70)[0][0]] + [100.] + list(series(70)[0][7:])\n",
    "ys100 = [series(100)[0][0]] + [100.] + list(series(100)[0][7:])"
   ]
  },
  {
   "cell_type": "code",
   "execution_count": 39,
   "metadata": {},
   "outputs": [
    {
     "data": {
      "text/plain": [
       "[100.0, 100.0, 100.0, 100.0, 85.0, 26.0, 7.0, 2.0]"
      ]
     },
     "execution_count": 39,
     "metadata": {},
     "output_type": "execute_result"
    }
   ],
   "source": [
    "ydlis"
   ]
  },
  {
   "cell_type": "code",
   "execution_count": 41,
   "metadata": {},
   "outputs": [
    {
     "data": {
      "image/png": "[encoded data removed]",
      "text/plain": [
       "<Figure size 360x144 with 1 Axes>"
      ]
     },
     "metadata": {
      "needs_background": "light"
     },
     "output_type": "display_data"
    }
   ],
   "source": [
    "# x = [10, 12, 14, 16, 18, 20, 25, 30, 40, 50, 70, 90, 110]\n",
    "x = np.arange(8)\n",
    "xticks = [\"SR({})\".format(x) for x in [10, 20, 30, 40, 50, 70, 90, 110]]\n",
    "plt.figure(figsize=(5, 2))\n",
    "plt.plot(x, ydlis, '')\n",
    "plt.plot(x, yjw, '')\n",
    "plt.plot(x, ys30, '')\n",
    "#plt.fill_between(x, series(30)[0] - series(30)[1], series(30)[0] + series(30)[1], alpha=0.1)\n",
    "plt.plot(x, ys50, '')\n",
    "#plt.fill_between(x, series(50)[0] - series(50)[1], series(50)[0] + series(50)[1], alpha=0.1)\n",
    "plt.plot(x, ys70, '')\n",
    "#plt.fill_between(x, series(70)[0] - series(70)[1], series(70)[0] + series(30)[1], alpha=0.1)\n",
    "plt.plot(x, ys100, '')\n",
    "#plt.fill_between(x, series(100)[0] - series(100)[1], series(100)[0] + series(30)[1], alpha=0.1)\n",
    "plt.xticks(x, xticks)\n",
    "plt.legend(['DLIS', 'JW-OS', 'Model SR(30)', 'Model SR(50)', 'Model SR(70)', 'Model SR(100)'])\n",
    "plt.ylabel(\"% problems solved\")\n",
    "plt.savefig(\"sr-cutoff.pdf\", bbox_inches = \"tight\")"
   ]
  },
  {
   "cell_type": "code",
   "execution_count": 195,
   "metadata": {},
   "outputs": [
    {
     "data": {
      "text/plain": [
       "(nan, nan)"
      ]
     },
     "execution_count": 195,
     "metadata": {},
     "output_type": "execute_result"
    }
   ],
   "source": [
    "series(40)"
   ]
  },
  {
   "cell_type": "code",
   "execution_count": 196,
   "metadata": {},
   "outputs": [
    {
     "data": {
      "text/plain": [
       "array([100., 100., 100., 100., 100., 100., 100., 100., 100., 100.,  72.,\n",
       "        36.,  11.])"
      ]
     },
     "execution_count": 196,
     "metadata": {},
     "output_type": "execute_result"
    }
   ],
   "source": [
    "jw[0]"
   ]
  },
  {
   "cell_type": "code",
   "execution_count": 197,
   "metadata": {},
   "outputs": [
    {
     "data": {
      "text/plain": [
       "array([100.    , 100.    , 100.    , 100.    , 100.    , 100.    ,\n",
       "       100.    , 100.    ,  97.3333,  82.3333,  57.3333,  42.    ,\n",
       "        21.3333])"
      ]
     },
     "execution_count": 197,
     "metadata": {},
     "output_type": "execute_result"
    }
   ],
   "source": [
    "series(100)[0]"
   ]
  },
  {
   "cell_type": "code",
   "execution_count": 198,
   "metadata": {},
   "outputs": [],
   "source": [
    "def raw_data(num):\n",
    "    x = []\n",
    "    for key, val in read_results.items():\n",
    "        if \"series5a_sr\" + str(num) in key:\n",
    "            x.append(val)\n",
    "    return x"
   ]
  },
  {
   "cell_type": "code",
   "execution_count": 199,
   "metadata": {},
   "outputs": [
    {
     "data": {
      "text/plain": [
       "[[100, 100, 100, 100, 100, 100, 100, 100, 94, 74, 48, 32, 15],\n",
       " [100, 100, 100, 100, 100, 100, 100, 100, 99, 93, 70, 53, 31],\n",
       " [100, 100, 100, 100, 100, 100, 100, 100, 99, 80, 54, 41, 18]]"
      ]
     },
     "execution_count": 199,
     "metadata": {},
     "output_type": "execute_result"
    }
   ],
   "source": [
    "raw_data(100)"
   ]
  },
  {
   "cell_type": "code",
   "execution_count": 200,
   "metadata": {},
   "outputs": [
    {
     "data": {
      "text/plain": [
       "[100.0,\n",
       " 100.0,\n",
       " 100.0,\n",
       " 100.0,\n",
       " 100.0,\n",
       " 100.0,\n",
       " 100.0,\n",
       " 100.0,\n",
       " 100.0,\n",
       " 100.0,\n",
       " 72.0,\n",
       " 36.0,\n",
       " 11.0]"
      ]
     },
     "execution_count": 200,
     "metadata": {},
     "output_type": "execute_result"
    }
   ],
   "source": [
    "list(jw[0])"
   ]
  },
  {
   "cell_type": "code",
   "execution_count": 201,
   "metadata": {},
   "outputs": [
    {
     "data": {
      "text/plain": [
       "array([0.    , 0.    , 0.    , 0.    , 0.    , 0.    , 0.    , 0.    ,\n",
       "       2.1679, 4.9699, 4.219 , 5.7619, 3.9749])"
      ]
     },
     "execution_count": 201,
     "metadata": {},
     "output_type": "execute_result"
    }
   ],
   "source": [
    "series(30)[1]"
   ]
  },
  {
   "cell_type": "code",
   "execution_count": 202,
   "metadata": {},
   "outputs": [
    {
     "data": {
      "text/plain": [
       "array([0.    , 0.    , 0.    , 0.    , 0.    , 0.    , 0.    , 0.    ,\n",
       "       2.0817, 7.9373, 6.0277, 9.2916, 4.5092])"
      ]
     },
     "execution_count": 202,
     "metadata": {},
     "output_type": "execute_result"
    }
   ],
   "source": [
    "series(50)[1]"
   ]
  },
  {
   "cell_type": "code",
   "execution_count": 203,
   "metadata": {},
   "outputs": [
    {
     "data": {
      "text/plain": [
       "array([0.    , 0.    , 0.    , 0.    , 0.    , 0.    , 0.    , 0.    ,\n",
       "       1.1547, 5.9722, 7.6322, 6.0208, 7.8899])"
      ]
     },
     "execution_count": 203,
     "metadata": {},
     "output_type": "execute_result"
    }
   ],
   "source": [
    "series(70)[1]"
   ]
  },
  {
   "cell_type": "code",
   "execution_count": 204,
   "metadata": {},
   "outputs": [
    {
     "data": {
      "text/plain": [
       "array([ 0.    ,  0.    ,  0.    ,  0.    ,  0.    ,  0.    ,  0.    ,\n",
       "        0.    ,  2.8868,  9.7125, 11.3725, 10.5357,  8.5049])"
      ]
     },
     "execution_count": 204,
     "metadata": {},
     "output_type": "execute_result"
    }
   ],
   "source": [
    "series(100)[1]"
   ]
  },
  {
   "cell_type": "code",
   "execution_count": 216,
   "metadata": {},
   "outputs": [
    {
     "data": {
      "text/plain": [
       "array([100. , 100. , 100. , 100. , 100. , 100. , 100. , 100. ,  97.2,\n",
       "        86.8,  55.4,  39.2,  15.6])"
      ]
     },
     "execution_count": 216,
     "metadata": {},
     "output_type": "execute_result"
    }
   ],
   "source": [
    "series(30)[0]"
   ]
  },
  {
   "cell_type": "code",
   "execution_count": null,
   "metadata": {},
   "outputs": [],
   "source": []
  }
 ],
 "metadata": {
  "kernelspec": {
   "display_name": "Python 3",
   "language": "python",
   "name": "python3"
  },
  "language_info": {
   "codemirror_mode": {
    "name": "ipython",
    "version": 3
   },
   "file_extension": ".py",
   "mimetype": "text/x-python",
   "name": "python",
   "nbconvert_exporter": "python",
   "pygments_lexer": "ipython3",
   "version": "3.6.3"
  }
 },
 "nbformat": 4,
 "nbformat_minor": 2
}
