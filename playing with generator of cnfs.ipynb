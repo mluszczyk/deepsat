{
 "cells": [
  {
   "cell_type": "code",
   "execution_count": 1,
   "metadata": {},
   "outputs": [],
   "source": [
    "import pycosat"
   ]
  },
  {
   "cell_type": "code",
   "execution_count": 25,
   "metadata": {},
   "outputs": [],
   "source": [
    "def gen_all_clauses(k, n):\n",
    "    if k == 0:\n",
    "        yield tuple()\n",
    "    else:\n",
    "        for clause in gen_all_clauses(k-1, n):\n",
    "            for var in range(1, n+1):\n",
    "                for svar in [var, -var]:\n",
    "                    yield clause + (svar,)\n",
    "\n",
    "def gen_all_kcnf(k, n, m):\n",
    "    if m == 0:\n",
    "        yield tuple()\n",
    "    else:\n",
    "        for cnf in gen_all_kcnf(k, n, m-1):\n",
    "            for clause in gen_all_clauses(k, n):\n",
    "                yield cnf + (clause,)"
   ]
  },
  {
   "cell_type": "code",
   "execution_count": 28,
   "metadata": {},
   "outputs": [],
   "source": [
    "def filter_satable(cnf_gen):\n",
    "    for cnf in cnf_gen:\n",
    "        if pycosat.solve(cnf) != 'UNSAT':\n",
    "            yield cnf\n",
    "\n",
    "def filter_satable_by(cnf_gen, solution):\n",
    "    # WARNING: it assumes solution is full\n",
    "    solution_clauses = tuple([svar] for svar in solution)\n",
    "    for cnf in cnf_gen:\n",
    "        if pycosat.solve(cnf + solution_clauses) != 'UNSAT':\n",
    "            yield cnf"
   ]
  },
  {
   "cell_type": "code",
   "execution_count": 135,
   "metadata": {},
   "outputs": [],
   "source": [
    "def gen_satable_by_clause(k, n, solution):\n",
    "    if k == 0:\n",
    "        return\n",
    "    else:\n",
    "        for svar in solution:\n",
    "            for clause in gen_all_clauses(k-1, n):\n",
    "                yield clause + (svar,)\n",
    "        for clause in gen_satable_by_clause(k-1, n, solution):\n",
    "            for svar in solution:\n",
    "                yield clause + (-svar,)\n",
    "\n",
    "def gen_satable_by_kcnf(k, n, m, solution):\n",
    "    if m == 0:\n",
    "        yield tuple()\n",
    "    else:\n",
    "        for cnf in gen_satable_by_kcnf(k, n, m-1, solution):\n",
    "            for clause in gen_satable_by_clause(k, n, solution):\n",
    "                yield cnf + (clause,)"
   ]
  },
  {
   "cell_type": "code",
   "execution_count": 150,
   "metadata": {
    "scrolled": true
   },
   "outputs": [
    {
     "name": "stdout",
     "output_type": "stream",
     "text": [
      "Possible: 16\n",
      "Satable: 14\n",
      "Satable by: 9\n",
      "3\n",
      "4\n"
     ]
    }
   ],
   "source": [
    "K = 2\n",
    "VARS = 1\n",
    "CLAUSES = 2\n",
    "SOLUTION = [x for x in range(1, VARS+1)]\n",
    "\n",
    "all_possible = tuple(sorted(list(gen_all_kcnf(K, VARS, CLAUSES))))\n",
    "all_satable = tuple(filter_satable(all_possible))\n",
    "all_satable_by = tuple(filter_satable_by(all_possible, SOLUTION))\n",
    "print(\"Possible:\", len(all_possible))\n",
    "print(\"Satable:\", len(all_satable))\n",
    "print(\"Satable by:\", len(all_satable_by))\n",
    "print((2**K - 1) * VARS**K)\n",
    "print((2**K) * VARS**K)"
   ]
  },
  {
   "cell_type": "code",
   "execution_count": 138,
   "metadata": {
    "scrolled": true
   },
   "outputs": [
    {
     "name": "stdout",
     "output_type": "stream",
     "text": [
      "Satable by: 448\n"
     ]
    }
   ],
   "source": [
    "all_satable_by = tuple(sorted(tuple(gen_satable_by_kcnf(K, VARS, CLAUSES, SOLUTION))))\n",
    "print(\"Satable by:\", len(all_satable_by))"
   ]
  },
  {
   "cell_type": "markdown",
   "metadata": {},
   "source": [
    "# Spam"
   ]
  },
  {
   "cell_type": "code",
   "execution_count": 132,
   "metadata": {},
   "outputs": [
    {
     "name": "stdout",
     "output_type": "stream",
     "text": [
      "Possible: 8\n",
      "Satable: 8\n",
      "\n",
      "8\n",
      "2\n"
     ]
    }
   ],
   "source": [
    "K = 3\n",
    "VARS = 1\n",
    "CLAUSES = 1\n",
    "SOLUTION = [x for x in range(1, VARS+1)]\n",
    "\n",
    "all_possible = tuple(sorted(list(gen_all_kcnf(K, VARS, CLAUSES))))\n",
    "all_satable = tuple(filter_satable(all_possible))\n",
    "print(\"Possible:\", len(all_possible))\n",
    "print(\"Satable:\", len(all_satable))\n",
    "print()\n",
    "print(((2*VARS)**K)**CLAUSES)\n",
    "print(2*VARS)"
   ]
  }
 ],
 "metadata": {
  "kernelspec": {
   "display_name": "Python 3",
   "language": "python",
   "name": "python3"
  },
  "language_info": {
   "codemirror_mode": {
    "name": "ipython",
    "version": 3
   },
   "file_extension": ".py",
   "mimetype": "text/x-python",
   "name": "python",
   "nbconvert_exporter": "python",
   "pygments_lexer": "ipython3",
   "version": "3.5.2"
  }
 },
 "nbformat": 4,
 "nbformat_minor": 2
}
