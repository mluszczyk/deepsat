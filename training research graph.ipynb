{
 "cells": [
  {
   "cell_type": "code",
   "execution_count": 1,
   "metadata": {},
   "outputs": [],
   "source": [
    "from matplotlib import pyplot as plt\n",
    "import numpy as np"
   ]
  },
  {
   "cell_type": "code",
   "execution_count": 2,
   "metadata": {},
   "outputs": [],
   "source": [
    "import graph_policy\n",
    "graph_policy.VARIABLE_NUM = 10"
   ]
  },
  {
   "cell_type": "code",
   "execution_count": 3,
   "metadata": {
    "scrolled": true
   },
   "outputs": [],
   "source": [
    "from graph_policy import clauses_to_matrix\n",
    "from dpll import DPLL, RandomClauseDPLL, MostCommonVarDPLL, RandomVarDPLL\n",
    "from cnf import get_random_kcnf, CNF"
   ]
  },
  {
   "cell_type": "code",
   "execution_count": 4,
   "metadata": {},
   "outputs": [],
   "source": [
    "np.set_printoptions(precision=2, suppress=True)"
   ]
  },
  {
   "cell_type": "code",
   "execution_count": 5,
   "metadata": {
    "scrolled": true
   },
   "outputs": [
    {
     "name": "stdout",
     "output_type": "stream",
     "text": [
      "INFO:tensorflow:Restoring parameters from models/activepolicy-18-03-28-122105/model-10000064\n"
     ]
    }
   ],
   "source": [
    "import tensorflow as tf\n",
    "import os\n",
    "\n",
    "BATCH_SIZE = 64\n",
    "\n",
    "# META_FILE = \"series/18-03-24-020248/var5/models/activepolicy-18-03-24-020450/model-32000000.meta\"  # perfect results\n",
    "META_FILE = \"models/activepolicy-18-03-28-122105/model-10000064.meta\" # ok results, no error > 80% usually, usually better than mostcommon\n",
    "# META_FILE = \"series/18-03-24-020248/var8/models/activepolicy-18-03-24-020450/model-6400000.meta\"  # usually slightly worse than mostcommon\n",
    "\n",
    "sess=tf.Session()    \n",
    "#First let's load meta graph and restore weights\n",
    "saver = tf.train.import_meta_graph(META_FILE)\n",
    "sess.run(tf.global_variables_initializer())\n",
    "saver.restore(sess, tf.train.latest_checkpoint(os.path.dirname(META_FILE)))\n",
    "\n",
    "# Now, let's access and create placeholders variables and\n",
    "# create feed-dict to feed new data\n",
    "\n",
    "graph = tf.get_default_graph()"
   ]
  },
  {
   "cell_type": "code",
   "execution_count": 6,
   "metadata": {
    "scrolled": true
   },
   "outputs": [],
   "source": [
    "g_inputs = graph.get_tensor_by_name(\"inputs:0\")"
   ]
  },
  {
   "cell_type": "code",
   "execution_count": 7,
   "metadata": {
    "scrolled": true
   },
   "outputs": [],
   "source": [
    "#g_policy_probs = graph.get_tensor_by_name('policy_prob:0')\n",
    "#g_sat_probs = graph.get_tensor_by_name('sat_prob:0')"
   ]
  },
  {
   "cell_type": "code",
   "execution_count": 8,
   "metadata": {},
   "outputs": [],
   "source": [
    "LEVEL = 10"
   ]
  },
  {
   "cell_type": "code",
   "execution_count": 9,
   "metadata": {},
   "outputs": [],
   "source": [
    "g_policy_probs = graph.get_tensor_by_name('policy_prob_{}:0'.format(LEVEL))\n",
    "g_sat_probs = graph.get_tensor_by_name('sat_prob_{}:0'.format(LEVEL))"
   ]
  },
  {
   "cell_type": "code",
   "execution_count": 10,
   "metadata": {},
   "outputs": [],
   "source": [
    "np.set_printoptions(precision=3, suppress=True)"
   ]
  },
  {
   "cell_type": "code",
   "execution_count": 11,
   "metadata": {
    "scrolled": false
   },
   "outputs": [
    {
     "data": {
      "text/plain": [
       "'\\ninputs = np.asarray([[[1, 1, 3], [1, -3, 2], [1, 3, 4], [-2, -3, 4]]] * BATCH_SIZE, dtype=np.int32)\\nlengths = np.asarray([inputs.shape[1]] * 64, dtype=np.int32)\\n\\nsat_prob, policy_probs = sess.run([g_sat_probs, g_policy_probs], feed_dict={g_inputs: inputs, g_lengths: lengths})\\n\\nprint(sat_prob[0], policy_probs[0])\\n'"
      ]
     },
     "execution_count": 11,
     "metadata": {},
     "output_type": "execute_result"
    }
   ],
   "source": [
    "'''\n",
    "inputs = np.asarray([[[1, 1, 3], [1, -3, 2], [1, 3, 4], [-2, -3, 4]]] * BATCH_SIZE, dtype=np.int32)\n",
    "lengths = np.asarray([inputs.shape[1]] * 64, dtype=np.int32)\n",
    "\n",
    "sat_prob, policy_probs = sess.run([g_sat_probs, g_policy_probs], feed_dict={g_inputs: inputs, g_lengths: lengths})\n",
    "\n",
    "print(sat_prob[0], policy_probs[0])\n",
    "'''"
   ]
  },
  {
   "cell_type": "code",
   "execution_count": 12,
   "metadata": {},
   "outputs": [],
   "source": [
    "# Because we have to pass full batch\n",
    "\n",
    "logfile = open(\"/tmp/log\", \"w\")\n",
    "#import sys\n",
    "#logfile = sys.stdout\n",
    "\n",
    "class RealDPLL(object):\n",
    "    def __init__(self):\n",
    "        self.number_of_runs = 0\n",
    "        self.number_of_errors = 0\n",
    "\n",
    "    def run(self, cnf: CNF, heur:bool=False):\n",
    "        assert isinstance(cnf, CNF)\n",
    "\n",
    "        if cnf.is_true():\n",
    "            return []\n",
    "        elif cnf.is_false():\n",
    "            return None\n",
    "        \n",
    "        if heur:\n",
    "            for cls in cnf.clauses:\n",
    "                if len(cls) == 1:\n",
    "                    sug_var = cls[0]\n",
    "                    #print(\"for {} unit-clause {}\".format(cnf, sug_var))\n",
    "                    sug_cnf = cnf.set_var(sug_var)\n",
    "                    sug_res = self.run(sug_cnf, heur)\n",
    "                    return None if sug_res is None else [sug_var] + sug_res\n",
    "\n",
    "            c = set(svar for cls in cnf.clauses for svar in cls)\n",
    "            for var in cnf.vars:\n",
    "                if (var in c) != (-var in c):\n",
    "                    sug_var = var if var in c else -var\n",
    "                    #print(\"for {} pure-literal {}\".format(cnf, sug_var))\n",
    "                    sug_cnf = cnf.set_var(sug_var)\n",
    "                    sug_res = self.run(sug_cnf, heur)\n",
    "                    return None if sug_res is None else [sug_var] + sug_res\n",
    "                \n",
    "        \n",
    "        self.number_of_runs += 1\n",
    "        sug_var = self.suggest(cnf)\n",
    "        sug_cnf = cnf.set_var(sug_var)\n",
    "\n",
    "        sug_res = self.run(sug_cnf, heur)\n",
    "        if sug_res is not None:\n",
    "            return [sug_var] + sug_res\n",
    "\n",
    "        not_sug_cnf = cnf.set_var(-sug_var)\n",
    "        not_sug_res = self.run(not_sug_cnf, heur)\n",
    "        if not_sug_res is not None:\n",
    "            self.number_of_errors += 1\n",
    "            return [-sug_var] + not_sug_res\n",
    "        return None\n",
    "\n",
    "    def suggest(self, cnf):\n",
    "        return next(iter(cnf.vars))\n",
    "\n",
    "class GraphBasedRealDPLL(RealDPLL):\n",
    "    def suggest(self, input_cnf: CNF):\n",
    "        clause_num = len(input_cnf.clauses)\n",
    "        var_num = max(input_cnf.vars)\n",
    "        inputs = np.asarray([clauses_to_matrix(input_cnf.clauses, clause_num, var_num)] * BATCH_SIZE)\n",
    "        \n",
    "        policy_probs = sess.run(g_policy_probs, feed_dict={g_inputs: inputs})\n",
    "        \n",
    "        print(\"CNF:\", input_cnf, end=' ', file=logfile)\n",
    "        print('cnf_clauses[0]', input_cnf.clauses, end=' ', file=logfile)\n",
    "        print(\"probs:\\n\",  policy_probs[0], end='\\n', file=logfile)\n",
    "        \n",
    "        best_prob = 0.0\n",
    "        best_svar = None\n",
    "        for var in input_cnf.vars:\n",
    "            for svar in [var, -var]:\n",
    "                svar_prob = policy_probs[0][var-1][0 if svar > 0 else 1]\n",
    "                print(svar, svar_prob, best_prob, file=logfile)\n",
    "                if svar_prob > best_prob:\n",
    "                    best_prob = svar_prob\n",
    "                    best_svar = svar\n",
    "        print(\"best_svar:\", best_svar, file=logfile)\n",
    "        #print(\"for {} suggesting {}\".format(input_cnf, best_svar))\n",
    "        return best_svar"
   ]
  },
  {
   "cell_type": "code",
   "execution_count": 13,
   "metadata": {},
   "outputs": [],
   "source": [
    "def compute_steps(sats, dpll_cls):\n",
    "    steps = []\n",
    "    errors = []\n",
    "    for sat in sats:\n",
    "        dpll = dpll_cls()\n",
    "        res = dpll.run(sat)\n",
    "        assert res is not None\n",
    "        steps.append(dpll.number_of_runs)\n",
    "        errors.append(dpll.number_of_errors)\n",
    "    return steps, errors"
   ]
  },
  {
   "cell_type": "code",
   "execution_count": 14,
   "metadata": {},
   "outputs": [],
   "source": [
    "def compute_and_print_steps(sats, dpll_cls):\n",
    "    steps, errors = compute_steps(sats, dpll_cls)\n",
    "    print(\"#Sats: {}; avg step: {:.2f}; stdev step: {:.2f}; avg error: {:.2f}; stdev error: {:.2f}\".format(\n",
    "        len(steps), np.mean(steps), np.std(steps), np.mean(errors), np.std(errors)))\n",
    "    plt.figure(figsize=(14, 4))\n",
    "    plt.subplot(1, 2, 1)\n",
    "    plt.title(\"Steps of {}\".format(dpll_cls.__name__))\n",
    "    plt.hist(steps, bins=range(2**(N+1)))\n",
    "    plt.ylim((0, len(sats)))\n",
    "    \n",
    "    plt.subplot(1, 2, 2)\n",
    "    plt.title(\"Errors of {}\".format(dpll_cls.__name__))\n",
    "    plt.hist(errors, bins=range(N+1))\n",
    "    plt.ylim((0, len(sats)))\n",
    "    plt.show()"
   ]
  },
  {
   "cell_type": "code",
   "execution_count": 15,
   "metadata": {},
   "outputs": [],
   "source": [
    "def print_all(s, k, n, m):\n",
    "    global S, K, N, M\n",
    "    S = s\n",
    "    K = k\n",
    "    N = n\n",
    "    M = m\n",
    "    \n",
    "    MAX_TRIES = 100000\n",
    "    sats = []\n",
    "    for index in range(MAX_TRIES):\n",
    "        if len(sats) >= S:\n",
    "            break\n",
    "        sat = get_random_kcnf(K, N, M)\n",
    "        if DPLL().run(sat) is not None:\n",
    "            sats.append(sat)\n",
    "    assert len(sats) == S\n",
    "    #compute_and_print_steps(sats, DPLL)\n",
    "    compute_and_print_steps(sats, RandomVarDPLL)\n",
    "    compute_and_print_steps(sats, RandomClauseDPLL)\n",
    "    compute_and_print_steps(sats, GraphBasedDPLL)\n",
    "    compute_and_print_steps(sats, MostCommonVarDPLL)\n",
    "    logfile.flush()"
   ]
  },
  {
   "cell_type": "code",
   "execution_count": 16,
   "metadata": {},
   "outputs": [
    {
     "name": "stdout",
     "output_type": "stream",
     "text": [
      "(~a|a|~b)&(~b|~b|a)&(b|b|a)&(a|~a|~b)&(~a|b|a)&(~a|a|a)&(~b|b|~a)&(a|a|~b)\n",
      "\n",
      "with heur\n",
      "Solution: [2, 1]\n",
      "1\n",
      "\n",
      "without heur\n",
      "Solution: [2, 1]\n",
      "2\n"
     ]
    }
   ],
   "source": [
    "K = 3\n",
    "N = 2\n",
    "M = 8\n",
    "sat = get_random_kcnf(K, N, M)\n",
    "print(sat)\n",
    "\n",
    "dpll = GraphBasedRealDPLL()\n",
    "solution = dpll.run(sat, heur=True)\n",
    "print()\n",
    "print(\"with heur\")\n",
    "print(\"Solution:\", solution)\n",
    "print(dpll.number_of_runs)\n",
    "\n",
    "dpll = GraphBasedRealDPLL()\n",
    "solution = dpll.run(sat, heur=False)\n",
    "print()\n",
    "print(\"without heur\")\n",
    "print(\"Solution:\", solution)\n",
    "print(dpll.number_of_runs)"
   ]
  },
  {
   "cell_type": "code",
   "execution_count": 17,
   "metadata": {},
   "outputs": [],
   "source": [
    "import numpy as np"
   ]
  },
  {
   "cell_type": "code",
   "execution_count": 18,
   "metadata": {},
   "outputs": [],
   "source": [
    "def get_stats(sats, heur):\n",
    "    runs = []\n",
    "    for sat in sats:\n",
    "        dpll = GraphBasedRealDPLL()\n",
    "        solution = dpll.run(sat, heur=heur)\n",
    "        runs.append(dpll.number_of_runs)\n",
    "    return np.mean(runs), np.median(runs)"
   ]
  },
  {
   "cell_type": "code",
   "execution_count": 19,
   "metadata": {},
   "outputs": [
    {
     "name": "stdout",
     "output_type": "stream",
     "text": [
      "(1.0, 1.0)\n",
      "(2.0, 2.0)\n"
     ]
    }
   ],
   "source": [
    "K = 3\n",
    "N = 2\n",
    "M = 8\n",
    "SAMPLE = 1\n",
    "sats = [get_random_kcnf(K, N, M) for i in range(SAMPLE)]\n",
    "\n",
    "print(get_stats(sats, True))\n",
    "\n",
    "print(get_stats(sats, False))"
   ]
  },
  {
   "cell_type": "code",
   "execution_count": 20,
   "metadata": {
    "scrolled": true
   },
   "outputs": [
    {
     "name": "stdout",
     "output_type": "stream",
     "text": [
      "1\n",
      "\t Heur (1.0, 1.0)\n",
      "\t NoHe (1.0, 1.0)\n",
      "2\n",
      "\t Heur (1.3, 1.0)\n",
      "\t NoHe (2.1, 2.0)\n",
      "3\n",
      "\t Heur (1.4, 1.0)\n",
      "\t NoHe (2.9, 3.0)\n",
      "4\n",
      "\t Heur (1.7, 1.5)\n",
      "\t NoHe (4.1, 4.0)\n",
      "5\n",
      "\t Heur (2.3, 2.0)\n",
      "\t NoHe (7.9, 5.0)\n",
      "6\n",
      "\t Heur (2.3, 2.0)\n",
      "\t NoHe (6.6, 6.0)\n",
      "7\n",
      "\t Heur (2.4, 2.0)\n",
      "\t NoHe (8.0, 7.0)\n",
      "8\n",
      "\t Heur (2.5, 2.5)\n",
      "\t NoHe (11.9, 8.0)\n",
      "9\n",
      "\t Heur (4.4, 3.5)\n",
      "\t NoHe (25.1, 9.0)\n"
     ]
    }
   ],
   "source": [
    "K = 3\n",
    "SAMPLE = 10\n",
    "\n",
    "Ns = range(1, 10)\n",
    "Ms = [N*4 for N in Ns]\n",
    "ResWH = []\n",
    "ResNH = []\n",
    "for N, M in zip(Ns, Ms):\n",
    "    sats = [get_random_kcnf(K, N, M) for i in range(SAMPLE)]\n",
    "    resh = get_stats(sats, True)\n",
    "    resn = get_stats(sats, False)\n",
    "    ResWH.append(resh)\n",
    "    ResNH.append(resn)\n",
    "    print(N)\n",
    "    print(\"\\t Heur\", resh)\n",
    "    print(\"\\t NoHe\", resn)"
   ]
  },
  {
   "cell_type": "code",
   "execution_count": 28,
   "metadata": {
    "scrolled": true
   },
   "outputs": [
    {
     "data": {
      "image/png": "[encoded data removed]",
      "text/plain": [
       "<Figure size 432x288 with 1 Axes>"
      ]
     },
     "metadata": {},
     "output_type": "display_data"
    }
   ],
   "source": [
    "plt.plot([el[0] for el in ResWH], \"r+\", label='Avg runs with heurs')\n",
    "plt.plot([el[1] for el in ResWH], \"r\", label='Median runs with heurs')\n",
    "plt.plot([el[0] for el in ResNH], \"b+\", label='Avg runs without heurs')\n",
    "plt.plot([el[1] for el in ResNH], \"b\", label='Median runs without heurs')\n",
    "plt.title(\"Number of NN runs depending on number of variables\")\n",
    "plt.legend()\n",
    "plt.show()"
   ]
  },
  {
   "cell_type": "code",
   "execution_count": 22,
   "metadata": {
    "scrolled": false
   },
   "outputs": [
    {
     "name": "stdout",
     "output_type": "stream",
     "text": [
      "1\n",
      "\t Heur (1.0, 1.0)\n",
      "2\n",
      "\t Heur (1.0, 1.0)\n",
      "3\n",
      "\t Heur (1.3, 1.0)\n",
      "4\n",
      "\t Heur (2.4, 2.5)\n",
      "5\n",
      "\t Heur (2.0, 2.0)\n",
      "6\n",
      "\t Heur (2.4, 2.5)\n",
      "7\n",
      "\t Heur (2.4, 2.5)\n",
      "8\n",
      "\t Heur (2.7, 2.0)\n",
      "9\n",
      "\t Heur (3.9, 4.0)\n",
      "10\n",
      "\t Heur (4.4, 4.0)\n",
      "11\n",
      "\t Heur (4.4, 4.0)\n",
      "12\n",
      "\t Heur (4.9, 5.5)\n",
      "13\n",
      "\t Heur (5.6, 5.0)\n",
      "14\n",
      "\t Heur (4.8, 5.0)\n",
      "15\n",
      "\t Heur (6.6, 5.5)\n",
      "16\n",
      "\t Heur (5.5, 5.0)\n",
      "17\n",
      "\t Heur (8.8, 6.0)\n",
      "18\n",
      "\t Heur (7.3, 6.0)\n",
      "19\n",
      "\t Heur (8.1, 7.5)\n",
      "20\n",
      "\t Heur (7.9, 6.0)\n",
      "21\n",
      "\t Heur (15.5, 13.0)\n",
      "22\n",
      "\t Heur (19.5, 8.5)\n",
      "23\n",
      "\t Heur (14.8, 9.0)\n",
      "24\n",
      "\t Heur (12.2, 9.0)\n",
      "25\n",
      "\t Heur (28.5, 9.5)\n",
      "26\n",
      "\t Heur (18.4, 12.0)\n",
      "27\n",
      "\t Heur (18.6, 10.0)\n",
      "28\n",
      "\t Heur (15.6, 11.5)\n",
      "29\n",
      "\t Heur (38.6, 10.0)\n"
     ]
    }
   ],
   "source": [
    "K = 3\n",
    "SAMPLE = 10\n",
    "\n",
    "Ns = range(1, 30)\n",
    "Ms = [N*4 for N in Ns]\n",
    "ResWH = []\n",
    "for N, M in zip(Ns, Ms):\n",
    "    sats = [get_random_kcnf(K, N, M) for i in range(SAMPLE)]\n",
    "    resh = get_stats(sats, True)\n",
    "    ResWH.append(resh)\n",
    "    print(N)\n",
    "    print(\"\\t Heur\", resh)"
   ]
  },
  {
   "cell_type": "code",
   "execution_count": 23,
   "metadata": {
    "scrolled": true
   },
   "outputs": [
    {
     "data": {
      "image/png": "[encoded data removed]",
      "text/plain": [
       "<Figure size 432x288 with 1 Axes>"
      ]
     },
     "metadata": {},
     "output_type": "display_data"
    }
   ],
   "source": [
    "plt.plot([np.log(el[0]) for el in ResWH], \"r+\", label='Log of avg runs with heurs')\n",
    "plt.plot([np.log(el[1]) for el in ResWH], \"r\", label='Log of median runs with heurs')\n",
    "plt.title(\"Number of NN runs depending on number of variables\")\n",
    "plt.legend()\n",
    "plt.show()"
   ]
  },
  {
   "cell_type": "code",
   "execution_count": 24,
   "metadata": {},
   "outputs": [
    {
     "data": {
      "text/plain": [
       "array([0.251, 0.168])"
      ]
     },
     "execution_count": 24,
     "metadata": {},
     "output_type": "execute_result"
    }
   ],
   "source": [
    "degs = np.polyfit(range(1, 10), [np.log(el[1]) for el in ResNH], deg=1)\n",
    "degs"
   ]
  },
  {
   "cell_type": "code",
   "execution_count": 25,
   "metadata": {
    "scrolled": true
   },
   "outputs": [],
   "source": [
    "def poly(degs, x):\n",
    "    if len(degs) == 0:\n",
    "        return 0.0\n",
    "    else:\n",
    "        return poly(degs[:-1], x) * x + degs[-1]"
   ]
  },
  {
   "cell_type": "code",
   "execution_count": 29,
   "metadata": {},
   "outputs": [
    {
     "data": {
      "text/plain": [
       "[array([1.545]),\n",
       " array([0.083, 0.299]),\n",
       " array([-0.003,  0.168, -0.139]),\n",
       " array([ 0.   , -0.007,  0.216, -0.27 ])]"
      ]
     },
     "execution_count": 29,
     "metadata": {},
     "output_type": "execute_result"
    }
   ],
   "source": [
    "degs = np.polyfit(Ns, [np.log(el[1]) for el in ResWH], deg=2)\n",
    "degs\n",
    "\n",
    "degss = [np.polyfit(Ns, [np.log(el[1]) for el in ResWH], deg=X) for X in range(4)]\n",
    "degss"
   ]
  },
  {
   "cell_type": "code",
   "execution_count": 32,
   "metadata": {},
   "outputs": [
    {
     "data": {
      "image/png": "[encoded data removed]",
      "text/plain": [
       "<Figure size 432x288 with 1 Axes>"
      ]
     },
     "metadata": {},
     "output_type": "display_data"
    }
   ],
   "source": [
    "\n",
    "plt.plot([np.log(el[1]) for el in ResWH], \"r\", label='Log of median runs with heurs')\n",
    "for X in range(1, 4):\n",
    "    plt.plot([poly(degss[X], N) for N in Ns], label='Predicted median of runs with heurs_{}'.format(X))\n",
    "plt.title(\"Number of NN runs depending on number of variables\")\n",
    "plt.legend()\n",
    "plt.show()"
   ]
  }
 ],
 "metadata": {
  "kernelspec": {
   "display_name": "Python 3",
   "language": "python",
   "name": "python3"
  },
  "language_info": {
   "codemirror_mode": {
    "name": "ipython",
    "version": 3
   },
   "file_extension": ".py",
   "mimetype": "text/x-python",
   "name": "python",
   "nbconvert_exporter": "python",
   "pygments_lexer": "ipython3",
   "version": "3.6.5"
  }
 },
 "nbformat": 4,
 "nbformat_minor": 2
}
